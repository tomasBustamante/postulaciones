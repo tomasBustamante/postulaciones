{
 "cells": [
  {
   "cell_type": "code",
   "execution_count": 1,
   "metadata": {},
   "outputs": [],
   "source": [
    "import pandas as pd\n",
    "import numpy as np\n",
    "import datetime\n",
    "import sklearn"
   ]
  },
  {
   "cell_type": "markdown",
   "metadata": {},
   "source": [
    "## Lectura de datos"
   ]
  },
  {
   "cell_type": "markdown",
   "metadata": {},
   "source": [
    "### Datos originales"
   ]
  },
  {
   "cell_type": "code",
   "execution_count": 2,
   "metadata": {},
   "outputs": [],
   "source": [
    "# Postulantes\n",
    "postulantes_educacion = pd.read_csv('./data/datos_navent_fiuba/fiuba_1_postulantes_educacion.csv', low_memory=False)\n",
    "postulantes_sexo_y_edad = pd.read_csv('./data/datos_navent_fiuba/fiuba_2_postulantes_genero_y_edad.csv', low_memory=False)\n",
    "# Avisos\n",
    "avisos_online = pd.read_csv('./data/datos_navent_fiuba/fiuba_5_avisos_online.csv', low_memory=False)\n",
    "avisos_detalle = pd.read_csv('./data/datos_navent_fiuba/fiuba_6_avisos_detalle.csv', low_memory=False)\n",
    "# Transacciones\n",
    "vistas = pd.read_csv('./data/datos_navent_fiuba/fiuba_3_vistas.csv', low_memory=False)\n",
    "postulaciones = pd.read_csv('./data/datos_navent_fiuba/fiuba_4_postulaciones.csv', low_memory=False)"
   ]
  },
  {
   "cell_type": "markdown",
   "metadata": {},
   "source": [
    "### Datos hasta 15 de abril"
   ]
  },
  {
   "cell_type": "code",
   "execution_count": 3,
   "metadata": {},
   "outputs": [],
   "source": [
    "# Postulantes\n",
    "h15_postulantes_educacion = pd.read_csv('./data/fiuba_hasta_15_abril/entrega6/fiuba_1_postulantes_educacion.csv', low_memory=False)\n",
    "h15_postulantes_sexo_y_edad = pd.read_csv('./data/fiuba_hasta_15_abril/entrega6/fiuba_2_postulantes_genero_y_edad.csv', low_memory=False)\n",
    "# Avisos\n",
    "h15_avisos_online = pd.read_csv('./data/fiuba_hasta_15_abril/entrega6/fiuba_5_avisos_online.csv', low_memory=False)\n",
    "h15_avisos_detalle = pd.read_csv('./data/fiuba_hasta_15_abril/entrega6/fiuba_6_avisos_detalle.csv', low_memory=False)\n",
    "# Transacciones\n",
    "h15_vistas = pd.read_csv('./data/fiuba_hasta_15_abril/entrega6/fiuba_3_vistas.csv', low_memory=False)\n",
    "h15_postulaciones = pd.read_csv('./data/fiuba_hasta_15_abril/entrega6/fiuba_4_postulaciones.csv', low_memory=False)"
   ]
  },
  {
   "cell_type": "markdown",
   "metadata": {},
   "source": [
    "### Datos desde el 15 de abril"
   ]
  },
  {
   "cell_type": "code",
   "execution_count": 4,
   "metadata": {},
   "outputs": [],
   "source": [
    "# Postulantes\n",
    "d15_postulantes_educacion = pd.read_csv('./data/fiuba_desde_15_Abril/fiuba_1_postulantes_educacion.csv', low_memory=False)\n",
    "d15_postulantes_sexo_y_edad = pd.read_csv('./data/fiuba_desde_15_Abril/fiuba_2_postulantes_genero_y_edad.csv', low_memory=False)\n",
    "# Avisos\n",
    "d15_avisos_detalle = pd.read_csv('./data/fiuba_desde_15_Abril/fiuba_6_avisos_detalle.csv', low_memory=False)\n",
    "# Transacciones\n",
    "d15_vistas = pd.read_csv('./data/fiuba_desde_15_Abril/fiuba_3_vistas.csv', low_memory=False)"
   ]
  },
  {
   "cell_type": "markdown",
   "metadata": {},
   "source": [
    "### Detalle de avisos faltantes"
   ]
  },
  {
   "cell_type": "code",
   "execution_count": 5,
   "metadata": {},
   "outputs": [],
   "source": [
    "# Avisos\n",
    "m_avisos_detalle = pd.read_csv('./data/fiuba_6_avisos_detalle_missing_nivel_laboral.csv', low_memory=False)"
   ]
  },
  {
   "cell_type": "markdown",
   "metadata": {},
   "source": [
    "## Merge de todos los datos"
   ]
  },
  {
   "cell_type": "markdown",
   "metadata": {},
   "source": [
    "### Merge de los postulantes"
   ]
  },
  {
   "cell_type": "markdown",
   "metadata": {},
   "source": [
    "Agregamos columna con ponderación del nivel de estudios alcanzado."
   ]
  },
  {
   "cell_type": "code",
   "execution_count": 6,
   "metadata": {},
   "outputs": [],
   "source": [
    "def categorizar_estudios(x):\n",
    "    if((x is np.nan) | (x == 'Otro')):\n",
    "        return 0\n",
    "    if(x == 'Secundario'):\n",
    "        return 1\n",
    "    if(x == 'Terciario/Técnico'):\n",
    "        return 2\n",
    "    if(x == 'Universitario'):\n",
    "        return 3\n",
    "    if((x == 'Posgrado') | (x == 'Master') | (x == 'Doctorado')):\n",
    "        return 4\n",
    "\n",
    "postulantes_educacion['nivel_alcanzado'] = postulantes_educacion['nombre']\\\n",
    "    .apply(lambda x: categorizar_estudios(x))\n",
    "h15_postulantes_educacion['nivel_alcanzado'] = h15_postulantes_educacion['nombre']\\\n",
    "    .apply(lambda x: categorizar_estudios(x))\n",
    "d15_postulantes_educacion['nivel_alcanzado'] = d15_postulantes_educacion['nombre']\\\n",
    "    .apply(lambda x: categorizar_estudios(x))\n",
    "#postulantes_educacion.head()"
   ]
  },
  {
   "cell_type": "markdown",
   "metadata": {},
   "source": [
    "Unimos todos los dataframes de la educación de los postulantes y nos quedamos solo con los registros del máximo nivel de estudios alcanzado."
   ]
  },
  {
   "cell_type": "code",
   "execution_count": 7,
   "metadata": {},
   "outputs": [],
   "source": [
    "m_postulantes_educacion = pd.concat([postulantes_educacion, \\\n",
    "                                 h15_postulantes_educacion, \\\n",
    "                                 d15_postulantes_educacion])"
   ]
  },
  {
   "cell_type": "code",
   "execution_count": 8,
   "metadata": {},
   "outputs": [],
   "source": [
    "m_postulantes_educacion = m_postulantes_educacion \\\n",
    "    .sort_values('nivel_alcanzado', ascending = False) \\\n",
    "    .drop_duplicates('idpostulante')"
   ]
  },
  {
   "cell_type": "code",
   "execution_count": 9,
   "metadata": {},
   "outputs": [
    {
     "data": {
      "text/html": [
       "<div>\n",
       "<style scoped>\n",
       "    .dataframe tbody tr th:only-of-type {\n",
       "        vertical-align: middle;\n",
       "    }\n",
       "\n",
       "    .dataframe tbody tr th {\n",
       "        vertical-align: top;\n",
       "    }\n",
       "\n",
       "    .dataframe thead th {\n",
       "        text-align: right;\n",
       "    }\n",
       "</style>\n",
       "<table border=\"1\" class=\"dataframe\">\n",
       "  <thead>\n",
       "    <tr style=\"text-align: right;\">\n",
       "      <th></th>\n",
       "      <th>idpostulante</th>\n",
       "      <th>estado</th>\n",
       "      <th>nivel_alcanzado</th>\n",
       "    </tr>\n",
       "  </thead>\n",
       "  <tbody>\n",
       "    <tr>\n",
       "      <th>0</th>\n",
       "      <td>NdJl</td>\n",
       "      <td>En Curso</td>\n",
       "      <td>4</td>\n",
       "    </tr>\n",
       "    <tr>\n",
       "      <th>237833</th>\n",
       "      <td>e4oaA2</td>\n",
       "      <td>En Curso</td>\n",
       "      <td>4</td>\n",
       "    </tr>\n",
       "  </tbody>\n",
       "</table>\n",
       "</div>"
      ],
      "text/plain": [
       "       idpostulante    estado  nivel_alcanzado\n",
       "0              NdJl  En Curso                4\n",
       "237833       e4oaA2  En Curso                4"
      ]
     },
     "execution_count": 9,
     "metadata": {},
     "output_type": "execute_result"
    }
   ],
   "source": [
    "del m_postulantes_educacion['nombre']\n",
    "m_postulantes_educacion.head(2)"
   ]
  },
  {
   "cell_type": "markdown",
   "metadata": {},
   "source": [
    "Unimos (concat) todos los dataframes de sexo y edad de los postulantes y luego los unimos (outer join) con los dataframes de los niveles de educación de los postulantes previamente tratados."
   ]
  },
  {
   "cell_type": "code",
   "execution_count": 10,
   "metadata": {},
   "outputs": [],
   "source": [
    "m_postulantes_sexo_y_edad = pd.concat([postulantes_sexo_y_edad, \\\n",
    "                                      h15_postulantes_sexo_y_edad, \\\n",
    "                                      d15_postulantes_sexo_y_edad])"
   ]
  },
  {
   "cell_type": "code",
   "execution_count": 11,
   "metadata": {},
   "outputs": [
    {
     "data": {
      "text/plain": [
       "idpostulante       780020\n",
       "fechanacimiento    745747\n",
       "sexo               780020\n",
       "dtype: int64"
      ]
     },
     "execution_count": 11,
     "metadata": {},
     "output_type": "execute_result"
    }
   ],
   "source": [
    "m_postulantes_sexo_y_edad.count()"
   ]
  },
  {
   "cell_type": "code",
   "execution_count": 12,
   "metadata": {},
   "outputs": [
    {
     "data": {
      "text/plain": [
       "idpostulante       505382\n",
       "fechanacimiento    478699\n",
       "sexo               505382\n",
       "dtype: int64"
      ]
     },
     "execution_count": 12,
     "metadata": {},
     "output_type": "execute_result"
    }
   ],
   "source": [
    "m_postulantes_sexo_y_edad = m_postulantes_sexo_y_edad.drop_duplicates()\n",
    "m_postulantes_sexo_y_edad.count()"
   ]
  },
  {
   "cell_type": "code",
   "execution_count": 12,
   "metadata": {},
   "outputs": [],
   "source": [
    "#m_postulantes_sexo_y_edad = m_postulantes_sexo_y_edad.groupby(['idpostulante'])\\\n",
    "#    .apply(lambda x: x.loc[x.sexo != 'NO_DECLARA',:] if len(x)>1 else x)\\\n",
    "#    .reset_index(drop=True)"
   ]
  },
  {
   "cell_type": "code",
   "execution_count": 13,
   "metadata": {},
   "outputs": [
    {
     "data": {
      "text/plain": [
       "idpostulante       505382\n",
       "fechanacimiento    478699\n",
       "sexo               505382\n",
       "dtype: int64"
      ]
     },
     "execution_count": 13,
     "metadata": {},
     "output_type": "execute_result"
    }
   ],
   "source": [
    "m_postulantes_sexo_y_edad.count()"
   ]
  },
  {
   "cell_type": "code",
   "execution_count": 13,
   "metadata": {},
   "outputs": [
    {
     "data": {
      "text/plain": [
       "idpostulante       504407\n",
       "fechanacimiento    477724\n",
       "sexo               504407\n",
       "dtype: int64"
      ]
     },
     "execution_count": 13,
     "metadata": {},
     "output_type": "execute_result"
    }
   ],
   "source": [
    "m_postulantes_sexo_y_edad = m_postulantes_sexo_y_edad.drop_duplicates('idpostulante')\n",
    "m_postulantes_sexo_y_edad.count()"
   ]
  },
  {
   "cell_type": "code",
   "execution_count": 14,
   "metadata": {},
   "outputs": [
    {
     "data": {
      "text/plain": [
       "idpostulante       504407\n",
       "fechanacimiento    384151\n",
       "sexo               504407\n",
       "dtype: int64"
      ]
     },
     "execution_count": 14,
     "metadata": {},
     "output_type": "execute_result"
    }
   ],
   "source": [
    "m_postulantes_sexo_y_edad['fechanacimiento'] = \\\n",
    "    pd.to_datetime(postulantes_sexo_y_edad['fechanacimiento'], errors='coerce')\n",
    "m_postulantes_sexo_y_edad.count()"
   ]
  },
  {
   "cell_type": "code",
   "execution_count": 15,
   "metadata": {},
   "outputs": [
    {
     "data": {
      "text/html": [
       "<div>\n",
       "<style scoped>\n",
       "    .dataframe tbody tr th:only-of-type {\n",
       "        vertical-align: middle;\n",
       "    }\n",
       "\n",
       "    .dataframe tbody tr th {\n",
       "        vertical-align: top;\n",
       "    }\n",
       "\n",
       "    .dataframe thead th {\n",
       "        text-align: right;\n",
       "    }\n",
       "</style>\n",
       "<table border=\"1\" class=\"dataframe\">\n",
       "  <thead>\n",
       "    <tr style=\"text-align: right;\">\n",
       "      <th></th>\n",
       "      <th>idpostulante</th>\n",
       "      <th>fechanacimiento</th>\n",
       "      <th>sexo</th>\n",
       "      <th>edad</th>\n",
       "    </tr>\n",
       "  </thead>\n",
       "  <tbody>\n",
       "    <tr>\n",
       "      <th>0</th>\n",
       "      <td>NM5M</td>\n",
       "      <td>1970-12-03</td>\n",
       "      <td>FEM</td>\n",
       "      <td>47.0</td>\n",
       "    </tr>\n",
       "    <tr>\n",
       "      <th>1</th>\n",
       "      <td>5awk</td>\n",
       "      <td>1962-12-04</td>\n",
       "      <td>FEM</td>\n",
       "      <td>55.0</td>\n",
       "    </tr>\n",
       "    <tr>\n",
       "      <th>2</th>\n",
       "      <td>ZaO5</td>\n",
       "      <td>1978-08-10</td>\n",
       "      <td>FEM</td>\n",
       "      <td>39.0</td>\n",
       "    </tr>\n",
       "    <tr>\n",
       "      <th>3</th>\n",
       "      <td>NdJl</td>\n",
       "      <td>1969-05-09</td>\n",
       "      <td>MASC</td>\n",
       "      <td>49.0</td>\n",
       "    </tr>\n",
       "    <tr>\n",
       "      <th>4</th>\n",
       "      <td>eo2p</td>\n",
       "      <td>1981-02-16</td>\n",
       "      <td>MASC</td>\n",
       "      <td>37.0</td>\n",
       "    </tr>\n",
       "  </tbody>\n",
       "</table>\n",
       "</div>"
      ],
      "text/plain": [
       "  idpostulante fechanacimiento  sexo  edad\n",
       "0         NM5M      1970-12-03   FEM  47.0\n",
       "1         5awk      1962-12-04   FEM  55.0\n",
       "2         ZaO5      1978-08-10   FEM  39.0\n",
       "3         NdJl      1969-05-09  MASC  49.0\n",
       "4         eo2p      1981-02-16  MASC  37.0"
      ]
     },
     "execution_count": 15,
     "metadata": {},
     "output_type": "execute_result"
    }
   ],
   "source": [
    "def calcular_edad(fecha_nacimiento):\n",
    "    hoy = datetime.date.today()\n",
    "    edad = hoy.year - fecha_nacimiento.year - ((hoy.month, hoy.day)\\\n",
    "            < (fecha_nacimiento.month, fecha_nacimiento.day))\n",
    "    return np.NaN if ((edad > 100) | (edad < 16)) else edad\n",
    "\n",
    "m_postulantes_sexo_y_edad['edad'] = \\\n",
    "    m_postulantes_sexo_y_edad['fechanacimiento']\\\n",
    "    .apply(lambda x: calcular_edad(x))\n",
    "m_postulantes_sexo_y_edad.head()"
   ]
  },
  {
   "cell_type": "code",
   "execution_count": 16,
   "metadata": {},
   "outputs": [
    {
     "data": {
      "text/plain": [
       "idpostulante       504407\n",
       "fechanacimiento    384151\n",
       "sexo               504407\n",
       "edad               504407\n",
       "dtype: int64"
      ]
     },
     "execution_count": 16,
     "metadata": {},
     "output_type": "execute_result"
    }
   ],
   "source": [
    "edad_promedio = m_postulantes_sexo_y_edad['edad'].mean()\n",
    "edad_mediana = m_postulantes_sexo_y_edad['edad'].median()\n",
    "m_postulantes_sexo_y_edad['edad'].fillna(edad_mediana, inplace = True)\n",
    "m_postulantes_sexo_y_edad.count()"
   ]
  },
  {
   "cell_type": "code",
   "execution_count": 17,
   "metadata": {},
   "outputs": [
    {
     "data": {
      "text/html": [
       "<div>\n",
       "<style scoped>\n",
       "    .dataframe tbody tr th:only-of-type {\n",
       "        vertical-align: middle;\n",
       "    }\n",
       "\n",
       "    .dataframe tbody tr th {\n",
       "        vertical-align: top;\n",
       "    }\n",
       "\n",
       "    .dataframe thead th {\n",
       "        text-align: right;\n",
       "    }\n",
       "</style>\n",
       "<table border=\"1\" class=\"dataframe\">\n",
       "  <thead>\n",
       "    <tr style=\"text-align: right;\">\n",
       "      <th></th>\n",
       "      <th>idpostulante</th>\n",
       "      <th>sexo</th>\n",
       "      <th>edad</th>\n",
       "    </tr>\n",
       "  </thead>\n",
       "  <tbody>\n",
       "    <tr>\n",
       "      <th>0</th>\n",
       "      <td>NM5M</td>\n",
       "      <td>FEM</td>\n",
       "      <td>47.0</td>\n",
       "    </tr>\n",
       "    <tr>\n",
       "      <th>1</th>\n",
       "      <td>5awk</td>\n",
       "      <td>FEM</td>\n",
       "      <td>55.0</td>\n",
       "    </tr>\n",
       "  </tbody>\n",
       "</table>\n",
       "</div>"
      ],
      "text/plain": [
       "  idpostulante sexo  edad\n",
       "0         NM5M  FEM  47.0\n",
       "1         5awk  FEM  55.0"
      ]
     },
     "execution_count": 17,
     "metadata": {},
     "output_type": "execute_result"
    }
   ],
   "source": [
    "del m_postulantes_sexo_y_edad['fechanacimiento']\n",
    "m_postulantes_sexo_y_edad.head(2)"
   ]
  },
  {
   "cell_type": "code",
   "execution_count": 18,
   "metadata": {},
   "outputs": [
    {
     "data": {
      "text/plain": [
       "idpostulante       504407\n",
       "sexo               504407\n",
       "edad               504407\n",
       "estado             447909\n",
       "nivel_alcanzado    447909\n",
       "dtype: int64"
      ]
     },
     "execution_count": 18,
     "metadata": {},
     "output_type": "execute_result"
    }
   ],
   "source": [
    "m_postulantes = pd.merge(m_postulantes_sexo_y_edad, m_postulantes_educacion, \\\n",
    "                       on = 'idpostulante', how='outer')\n",
    "m_postulantes.count()"
   ]
  },
  {
   "cell_type": "code",
   "execution_count": 19,
   "metadata": {},
   "outputs": [
    {
     "data": {
      "text/plain": [
       "idpostulante       504407\n",
       "sexo               504407\n",
       "edad               504407\n",
       "estado             447909\n",
       "nivel_alcanzado    504407\n",
       "dtype: int64"
      ]
     },
     "execution_count": 19,
     "metadata": {},
     "output_type": "execute_result"
    }
   ],
   "source": [
    "nivel_promedio = int(m_postulantes.nivel_alcanzado.mean())\n",
    "nivel_mediana = int(m_postulantes.nivel_alcanzado.median())\n",
    "m_postulantes['nivel_alcanzado'].fillna(nivel_mediana, inplace = True)\n",
    "m_postulantes.count()"
   ]
  },
  {
   "cell_type": "code",
   "execution_count": 20,
   "metadata": {},
   "outputs": [
    {
     "data": {
      "text/plain": [
       "Graduado      253833\n",
       "En Curso      148072\n",
       "Abandonado     46004\n",
       "Name: estado, dtype: int64"
      ]
     },
     "execution_count": 20,
     "metadata": {},
     "output_type": "execute_result"
    }
   ],
   "source": [
    "m_postulantes.estado.value_counts()"
   ]
  },
  {
   "cell_type": "code",
   "execution_count": 21,
   "metadata": {},
   "outputs": [
    {
     "data": {
      "text/plain": [
       "idpostulante       504407\n",
       "sexo               504407\n",
       "edad               504407\n",
       "estado             447909\n",
       "nivel_alcanzado    504407\n",
       "dtype: int64"
      ]
     },
     "execution_count": 21,
     "metadata": {},
     "output_type": "execute_result"
    }
   ],
   "source": [
    "def categorizar_estados(estado):\n",
    "    if (estado == 'Graduado'):\n",
    "        return 2\n",
    "    if (estado == 'En Curso'):\n",
    "        return 1\n",
    "    if (estado == 'Abandonado'):\n",
    "        return 0\n",
    "m_postulantes['estado'] = m_postulantes['estado'].apply(lambda x : categorizar_estados(x))\n",
    "m_postulantes.count()"
   ]
  },
  {
   "cell_type": "code",
   "execution_count": 22,
   "metadata": {},
   "outputs": [
    {
     "data": {
      "text/plain": [
       "idpostulante       504407\n",
       "sexo               504407\n",
       "edad               504407\n",
       "estado             504407\n",
       "nivel_alcanzado    504407\n",
       "dtype: int64"
      ]
     },
     "execution_count": 22,
     "metadata": {},
     "output_type": "execute_result"
    }
   ],
   "source": [
    "estado_promedio = m_postulantes.estado.mean()\n",
    "m_postulantes['estado'].fillna(estado_promedio, inplace = True)\n",
    "m_postulantes.count()"
   ]
  },
  {
   "cell_type": "code",
   "execution_count": 23,
   "metadata": {},
   "outputs": [
    {
     "data": {
      "text/html": [
       "<div>\n",
       "<style scoped>\n",
       "    .dataframe tbody tr th:only-of-type {\n",
       "        vertical-align: middle;\n",
       "    }\n",
       "\n",
       "    .dataframe tbody tr th {\n",
       "        vertical-align: top;\n",
       "    }\n",
       "\n",
       "    .dataframe thead th {\n",
       "        text-align: right;\n",
       "    }\n",
       "</style>\n",
       "<table border=\"1\" class=\"dataframe\">\n",
       "  <thead>\n",
       "    <tr style=\"text-align: right;\">\n",
       "      <th></th>\n",
       "      <th>idpostulante</th>\n",
       "      <th>sexo</th>\n",
       "      <th>edad</th>\n",
       "      <th>estado</th>\n",
       "      <th>nivel_alcanzado</th>\n",
       "    </tr>\n",
       "  </thead>\n",
       "  <tbody>\n",
       "    <tr>\n",
       "      <th>0</th>\n",
       "      <td>NM5M</td>\n",
       "      <td>FEM</td>\n",
       "      <td>47.0</td>\n",
       "      <td>2.0</td>\n",
       "      <td>1.0</td>\n",
       "    </tr>\n",
       "    <tr>\n",
       "      <th>1</th>\n",
       "      <td>5awk</td>\n",
       "      <td>FEM</td>\n",
       "      <td>55.0</td>\n",
       "      <td>2.0</td>\n",
       "      <td>3.0</td>\n",
       "    </tr>\n",
       "  </tbody>\n",
       "</table>\n",
       "</div>"
      ],
      "text/plain": [
       "  idpostulante sexo  edad  estado  nivel_alcanzado\n",
       "0         NM5M  FEM  47.0     2.0              1.0\n",
       "1         5awk  FEM  55.0     2.0              3.0"
      ]
     },
     "execution_count": 23,
     "metadata": {},
     "output_type": "execute_result"
    }
   ],
   "source": [
    "m_postulantes.head(2)"
   ]
  },
  {
   "cell_type": "markdown",
   "metadata": {},
   "source": [
    "### Merge de los avisos"
   ]
  },
  {
   "cell_type": "code",
   "execution_count": 24,
   "metadata": {},
   "outputs": [],
   "source": [
    "avisos_detalle = avisos_detalle.loc[:,['idaviso', 'titulo', \\\n",
    "    'nombre_zona', 'tipo_de_trabajo', 'nivel_laboral', 'nombre_area',\\\n",
    "    'denominacion_empresa']]\n",
    "h15_avisos_detalle = h15_avisos_detalle.loc[:,['idaviso', 'titulo', \\\n",
    "    'nombre_zona', 'tipo_de_trabajo', 'nivel_laboral', 'nombre_area',\\\n",
    "    'denominacion_empresa']]\n",
    "d15_avisos_detalle = d15_avisos_detalle.loc[:,['idaviso', 'titulo', \\\n",
    "    'nombre_zona', 'tipo_de_trabajo', 'nivel_laboral', 'nombre_area',\\\n",
    "    'denominacion_empresa']]\n",
    "m_avisos_detalle = m_avisos_detalle.loc[:,['idaviso', 'titulo', \\\n",
    "    'nombre_zona', 'tipo_de_trabajo', 'nivel_laboral', 'nombre_area',\\\n",
    "    'denominacion_empresa']]"
   ]
  },
  {
   "cell_type": "code",
   "execution_count": 25,
   "metadata": {},
   "outputs": [],
   "source": [
    "m_avisos = pd.concat([avisos_detalle, h15_avisos_detalle, \\\n",
    "                      d15_avisos_detalle, m_avisos_detalle])"
   ]
  },
  {
   "cell_type": "code",
   "execution_count": 26,
   "metadata": {},
   "outputs": [
    {
     "data": {
      "text/plain": [
       "idaviso                 45969\n",
       "titulo                  45969\n",
       "nombre_zona             45969\n",
       "tipo_de_trabajo         45969\n",
       "nivel_laboral           45634\n",
       "nombre_area             45969\n",
       "denominacion_empresa    45955\n",
       "dtype: int64"
      ]
     },
     "execution_count": 26,
     "metadata": {},
     "output_type": "execute_result"
    }
   ],
   "source": [
    "m_avisos.count()"
   ]
  },
  {
   "cell_type": "code",
   "execution_count": 27,
   "metadata": {},
   "outputs": [
    {
     "data": {
      "text/plain": [
       "idaviso                 25637\n",
       "titulo                  25637\n",
       "nombre_zona             25637\n",
       "tipo_de_trabajo         25637\n",
       "nivel_laboral           25302\n",
       "nombre_area             25637\n",
       "denominacion_empresa    25630\n",
       "dtype: int64"
      ]
     },
     "execution_count": 27,
     "metadata": {},
     "output_type": "execute_result"
    }
   ],
   "source": [
    "m_avisos = m_avisos.drop_duplicates()\n",
    "m_avisos.count()"
   ]
  },
  {
   "cell_type": "code",
   "execution_count": 28,
   "metadata": {},
   "outputs": [
    {
     "data": {
      "text/plain": [
       "idaviso                 25288\n",
       "titulo                  25288\n",
       "nombre_zona             25288\n",
       "tipo_de_trabajo         25288\n",
       "nivel_laboral           24953\n",
       "nombre_area             25288\n",
       "denominacion_empresa    25281\n",
       "dtype: int64"
      ]
     },
     "execution_count": 28,
     "metadata": {},
     "output_type": "execute_result"
    }
   ],
   "source": [
    "m_avisos = m_avisos.drop_duplicates('idaviso')\n",
    "m_avisos.count()"
   ]
  },
  {
   "cell_type": "code",
   "execution_count": 29,
   "metadata": {},
   "outputs": [
    {
     "data": {
      "text/html": [
       "<div>\n",
       "<style scoped>\n",
       "    .dataframe tbody tr th:only-of-type {\n",
       "        vertical-align: middle;\n",
       "    }\n",
       "\n",
       "    .dataframe tbody tr th {\n",
       "        vertical-align: top;\n",
       "    }\n",
       "\n",
       "    .dataframe thead th {\n",
       "        text-align: right;\n",
       "    }\n",
       "</style>\n",
       "<table border=\"1\" class=\"dataframe\">\n",
       "  <thead>\n",
       "    <tr style=\"text-align: right;\">\n",
       "      <th></th>\n",
       "      <th>idaviso</th>\n",
       "      <th>titulo</th>\n",
       "      <th>nombre_zona</th>\n",
       "      <th>tipo_de_trabajo</th>\n",
       "      <th>nivel_laboral</th>\n",
       "      <th>nombre_area</th>\n",
       "      <th>denominacion_empresa</th>\n",
       "    </tr>\n",
       "  </thead>\n",
       "  <tbody>\n",
       "    <tr>\n",
       "      <th>0</th>\n",
       "      <td>8725750</td>\n",
       "      <td>VENDEDOR/A PROVINCIA DE SANTA FE</td>\n",
       "      <td>Gran Buenos Aires</td>\n",
       "      <td>Full-time</td>\n",
       "      <td>Senior / Semi-Senior</td>\n",
       "      <td>Comercial</td>\n",
       "      <td>VENTOR</td>\n",
       "    </tr>\n",
       "    <tr>\n",
       "      <th>1</th>\n",
       "      <td>17903700</td>\n",
       "      <td>Enfermeras</td>\n",
       "      <td>Gran Buenos Aires</td>\n",
       "      <td>Full-time</td>\n",
       "      <td>Senior / Semi-Senior</td>\n",
       "      <td>Salud</td>\n",
       "      <td>Farmacias Central Oeste</td>\n",
       "    </tr>\n",
       "  </tbody>\n",
       "</table>\n",
       "</div>"
      ],
      "text/plain": [
       "    idaviso                            titulo        nombre_zona  \\\n",
       "0   8725750  VENDEDOR/A PROVINCIA DE SANTA FE  Gran Buenos Aires   \n",
       "1  17903700                        Enfermeras  Gran Buenos Aires   \n",
       "\n",
       "  tipo_de_trabajo         nivel_laboral nombre_area     denominacion_empresa  \n",
       "0       Full-time  Senior / Semi-Senior   Comercial                   VENTOR  \n",
       "1       Full-time  Senior / Semi-Senior       Salud  Farmacias Central Oeste  "
      ]
     },
     "execution_count": 29,
     "metadata": {},
     "output_type": "execute_result"
    }
   ],
   "source": [
    "m_avisos.head(2)"
   ]
  },
  {
   "cell_type": "code",
   "execution_count": 30,
   "metadata": {},
   "outputs": [
    {
     "data": {
      "text/plain": [
       "Senior / Semi-Senior                    16983\n",
       "Junior                                   4149\n",
       "Otro                                     1972\n",
       "Jefe / Supervisor / Responsable          1527\n",
       "Gerencia / Alta Gerencia / Dirección      322\n",
       "Name: nivel_laboral, dtype: int64"
      ]
     },
     "execution_count": 30,
     "metadata": {},
     "output_type": "execute_result"
    }
   ],
   "source": [
    "m_avisos.nivel_laboral.value_counts()"
   ]
  },
  {
   "cell_type": "code",
   "execution_count": 31,
   "metadata": {},
   "outputs": [
    {
     "data": {
      "text/plain": [
       "idaviso                 25288\n",
       "titulo                  25288\n",
       "nombre_zona             25288\n",
       "tipo_de_trabajo         25288\n",
       "nivel_laboral           25288\n",
       "nombre_area             25288\n",
       "denominacion_empresa    25281\n",
       "dtype: int64"
      ]
     },
     "execution_count": 31,
     "metadata": {},
     "output_type": "execute_result"
    }
   ],
   "source": [
    "# Completo los NaNs del nivel laboral con \"Senior / Semi-Senior\"\n",
    "m_avisos['nivel_laboral'].fillna('Senior / Semi-Senior', inplace = True)\n",
    "m_avisos.count()"
   ]
  },
  {
   "cell_type": "code",
   "execution_count": 32,
   "metadata": {},
   "outputs": [
    {
     "data": {
      "text/plain": [
       "idaviso                 25288\n",
       "titulo                  25288\n",
       "nombre_zona             25288\n",
       "tipo_de_trabajo         25288\n",
       "nivel_laboral           25288\n",
       "nombre_area             25288\n",
       "denominacion_empresa    25288\n",
       "dtype: int64"
      ]
     },
     "execution_count": 32,
     "metadata": {},
     "output_type": "execute_result"
    }
   ],
   "source": [
    "# Completo los NaNs del nombre de la empresa con \"No declara\"\n",
    "m_avisos['denominacion_empresa'].fillna('No declara', inplace = True)\n",
    "m_avisos.count()"
   ]
  },
  {
   "cell_type": "code",
   "execution_count": 33,
   "metadata": {},
   "outputs": [
    {
     "data": {
      "text/html": [
       "<div>\n",
       "<style scoped>\n",
       "    .dataframe tbody tr th:only-of-type {\n",
       "        vertical-align: middle;\n",
       "    }\n",
       "\n",
       "    .dataframe tbody tr th {\n",
       "        vertical-align: top;\n",
       "    }\n",
       "\n",
       "    .dataframe thead th {\n",
       "        text-align: right;\n",
       "    }\n",
       "</style>\n",
       "<table border=\"1\" class=\"dataframe\">\n",
       "  <thead>\n",
       "    <tr style=\"text-align: right;\">\n",
       "      <th></th>\n",
       "      <th>idaviso</th>\n",
       "      <th>titulo</th>\n",
       "      <th>nombre_zona</th>\n",
       "      <th>tipo_de_trabajo</th>\n",
       "      <th>nivel_laboral</th>\n",
       "      <th>nombre_area</th>\n",
       "      <th>denominacion_empresa</th>\n",
       "    </tr>\n",
       "  </thead>\n",
       "  <tbody>\n",
       "    <tr>\n",
       "      <th>0</th>\n",
       "      <td>8725750</td>\n",
       "      <td>VENDEDOR/A PROVINCIA DE SANTA FE</td>\n",
       "      <td>Gran Buenos Aires</td>\n",
       "      <td>Full-time</td>\n",
       "      <td>Senior / Semi-Senior</td>\n",
       "      <td>Comercial</td>\n",
       "      <td>VENTOR</td>\n",
       "    </tr>\n",
       "    <tr>\n",
       "      <th>1</th>\n",
       "      <td>17903700</td>\n",
       "      <td>Enfermeras</td>\n",
       "      <td>Gran Buenos Aires</td>\n",
       "      <td>Full-time</td>\n",
       "      <td>Senior / Semi-Senior</td>\n",
       "      <td>Salud</td>\n",
       "      <td>Farmacias Central Oeste</td>\n",
       "    </tr>\n",
       "  </tbody>\n",
       "</table>\n",
       "</div>"
      ],
      "text/plain": [
       "    idaviso                            titulo        nombre_zona  \\\n",
       "0   8725750  VENDEDOR/A PROVINCIA DE SANTA FE  Gran Buenos Aires   \n",
       "1  17903700                        Enfermeras  Gran Buenos Aires   \n",
       "\n",
       "  tipo_de_trabajo         nivel_laboral nombre_area     denominacion_empresa  \n",
       "0       Full-time  Senior / Semi-Senior   Comercial                   VENTOR  \n",
       "1       Full-time  Senior / Semi-Senior       Salud  Farmacias Central Oeste  "
      ]
     },
     "execution_count": 33,
     "metadata": {},
     "output_type": "execute_result"
    }
   ],
   "source": [
    "m_avisos.head(2)"
   ]
  },
  {
   "cell_type": "code",
   "execution_count": 34,
   "metadata": {},
   "outputs": [],
   "source": [
    "del m_avisos['titulo']"
   ]
  },
  {
   "cell_type": "markdown",
   "metadata": {},
   "source": [
    "### Label encoding"
   ]
  },
  {
   "cell_type": "code",
   "execution_count": 35,
   "metadata": {},
   "outputs": [],
   "source": [
    "from sklearn.preprocessing import LabelEncoder\n",
    "from sklearn.pipeline import Pipeline\n",
    "\n",
    "class MultiColumnLabelEncoder:\n",
    "    def __init__(self,columns = None):\n",
    "        self.columns = columns # array of column names to encode\n",
    "\n",
    "    def fit(self,X,y=None):\n",
    "        return self # not relevant here\n",
    "\n",
    "    def transform(self,X):\n",
    "        '''\n",
    "        Transforms columns of X specified in self.columns using\n",
    "        LabelEncoder(). If no columns specified, transforms all\n",
    "        columns in X.\n",
    "        '''\n",
    "        output = X.copy()\n",
    "        if self.columns is not None:\n",
    "            for col in self.columns:\n",
    "                output[col] = LabelEncoder().fit_transform(output[col])\n",
    "        else:\n",
    "            for colname,col in output.iteritems():\n",
    "                output[colname] = LabelEncoder().fit_transform(col)\n",
    "        return output\n",
    "\n",
    "    def fit_transform(self,X,y=None):\n",
    "        return self.fit(X,y).transform(X)"
   ]
  },
  {
   "cell_type": "code",
   "execution_count": 36,
   "metadata": {},
   "outputs": [
    {
     "data": {
      "text/html": [
       "<div>\n",
       "<style scoped>\n",
       "    .dataframe tbody tr th:only-of-type {\n",
       "        vertical-align: middle;\n",
       "    }\n",
       "\n",
       "    .dataframe tbody tr th {\n",
       "        vertical-align: top;\n",
       "    }\n",
       "\n",
       "    .dataframe thead th {\n",
       "        text-align: right;\n",
       "    }\n",
       "</style>\n",
       "<table border=\"1\" class=\"dataframe\">\n",
       "  <thead>\n",
       "    <tr style=\"text-align: right;\">\n",
       "      <th></th>\n",
       "      <th>idaviso</th>\n",
       "      <th>nombre_zona</th>\n",
       "      <th>tipo_de_trabajo</th>\n",
       "      <th>nivel_laboral</th>\n",
       "      <th>nombre_area</th>\n",
       "      <th>denominacion_empresa</th>\n",
       "    </tr>\n",
       "  </thead>\n",
       "  <tbody>\n",
       "    <tr>\n",
       "      <th>0</th>\n",
       "      <td>8725750</td>\n",
       "      <td>7</td>\n",
       "      <td>1</td>\n",
       "      <td>4</td>\n",
       "      <td>30</td>\n",
       "      <td>4005</td>\n",
       "    </tr>\n",
       "    <tr>\n",
       "      <th>1</th>\n",
       "      <td>17903700</td>\n",
       "      <td>7</td>\n",
       "      <td>1</td>\n",
       "      <td>4</td>\n",
       "      <td>158</td>\n",
       "      <td>1640</td>\n",
       "    </tr>\n",
       "    <tr>\n",
       "      <th>2</th>\n",
       "      <td>1000150677</td>\n",
       "      <td>1</td>\n",
       "      <td>1</td>\n",
       "      <td>4</td>\n",
       "      <td>181</td>\n",
       "      <td>1561</td>\n",
       "    </tr>\n",
       "    <tr>\n",
       "      <th>3</th>\n",
       "      <td>1000610287</td>\n",
       "      <td>7</td>\n",
       "      <td>1</td>\n",
       "      <td>4</td>\n",
       "      <td>181</td>\n",
       "      <td>4119</td>\n",
       "    </tr>\n",
       "    <tr>\n",
       "      <th>4</th>\n",
       "      <td>1000872556</td>\n",
       "      <td>7</td>\n",
       "      <td>1</td>\n",
       "      <td>4</td>\n",
       "      <td>143</td>\n",
       "      <td>1267</td>\n",
       "    </tr>\n",
       "  </tbody>\n",
       "</table>\n",
       "</div>"
      ],
      "text/plain": [
       "      idaviso  nombre_zona  tipo_de_trabajo  nivel_laboral  nombre_area  \\\n",
       "0     8725750            7                1              4           30   \n",
       "1    17903700            7                1              4          158   \n",
       "2  1000150677            1                1              4          181   \n",
       "3  1000610287            7                1              4          181   \n",
       "4  1000872556            7                1              4          143   \n",
       "\n",
       "   denominacion_empresa  \n",
       "0                  4005  \n",
       "1                  1640  \n",
       "2                  1561  \n",
       "3                  4119  \n",
       "4                  1267  "
      ]
     },
     "execution_count": 36,
     "metadata": {},
     "output_type": "execute_result"
    }
   ],
   "source": [
    "avisos_encoding = MultiColumnLabelEncoder(columns = \\\n",
    "    ['nombre_zona','tipo_de_trabajo', 'nivel_laboral', \\\n",
    "     'nombre_area', 'denominacion_empresa']).fit_transform(m_avisos)\n",
    "avisos_encoding.head()"
   ]
  },
  {
   "cell_type": "code",
   "execution_count": 37,
   "metadata": {},
   "outputs": [
    {
     "data": {
      "text/html": [
       "<div>\n",
       "<style scoped>\n",
       "    .dataframe tbody tr th:only-of-type {\n",
       "        vertical-align: middle;\n",
       "    }\n",
       "\n",
       "    .dataframe tbody tr th {\n",
       "        vertical-align: top;\n",
       "    }\n",
       "\n",
       "    .dataframe thead th {\n",
       "        text-align: right;\n",
       "    }\n",
       "</style>\n",
       "<table border=\"1\" class=\"dataframe\">\n",
       "  <thead>\n",
       "    <tr style=\"text-align: right;\">\n",
       "      <th></th>\n",
       "      <th>idpostulante</th>\n",
       "      <th>sexo</th>\n",
       "      <th>edad</th>\n",
       "      <th>estado</th>\n",
       "      <th>nivel_alcanzado</th>\n",
       "    </tr>\n",
       "  </thead>\n",
       "  <tbody>\n",
       "    <tr>\n",
       "      <th>0</th>\n",
       "      <td>NM5M</td>\n",
       "      <td>1</td>\n",
       "      <td>47.0</td>\n",
       "      <td>2.0</td>\n",
       "      <td>1.0</td>\n",
       "    </tr>\n",
       "    <tr>\n",
       "      <th>1</th>\n",
       "      <td>5awk</td>\n",
       "      <td>1</td>\n",
       "      <td>55.0</td>\n",
       "      <td>2.0</td>\n",
       "      <td>3.0</td>\n",
       "    </tr>\n",
       "    <tr>\n",
       "      <th>2</th>\n",
       "      <td>ZaO5</td>\n",
       "      <td>1</td>\n",
       "      <td>39.0</td>\n",
       "      <td>0.0</td>\n",
       "      <td>3.0</td>\n",
       "    </tr>\n",
       "    <tr>\n",
       "      <th>3</th>\n",
       "      <td>NdJl</td>\n",
       "      <td>2</td>\n",
       "      <td>49.0</td>\n",
       "      <td>1.0</td>\n",
       "      <td>4.0</td>\n",
       "    </tr>\n",
       "    <tr>\n",
       "      <th>4</th>\n",
       "      <td>eo2p</td>\n",
       "      <td>2</td>\n",
       "      <td>37.0</td>\n",
       "      <td>2.0</td>\n",
       "      <td>4.0</td>\n",
       "    </tr>\n",
       "  </tbody>\n",
       "</table>\n",
       "</div>"
      ],
      "text/plain": [
       "  idpostulante  sexo  edad  estado  nivel_alcanzado\n",
       "0         NM5M     1  47.0     2.0              1.0\n",
       "1         5awk     1  55.0     2.0              3.0\n",
       "2         ZaO5     1  39.0     0.0              3.0\n",
       "3         NdJl     2  49.0     1.0              4.0\n",
       "4         eo2p     2  37.0     2.0              4.0"
      ]
     },
     "execution_count": 37,
     "metadata": {},
     "output_type": "execute_result"
    }
   ],
   "source": [
    "postulantes_encoding = MultiColumnLabelEncoder(columns = \\\n",
    "    ['sexo']).fit_transform(m_postulantes)\n",
    "postulantes_encoding.head()"
   ]
  },
  {
   "cell_type": "markdown",
   "metadata": {},
   "source": [
    "### Merge de las postulaciones"
   ]
  },
  {
   "cell_type": "code",
   "execution_count": 38,
   "metadata": {},
   "outputs": [],
   "source": [
    "m_postulaciones = pd.concat([postulaciones, h15_postulaciones])"
   ]
  },
  {
   "cell_type": "code",
   "execution_count": 39,
   "metadata": {},
   "outputs": [
    {
     "data": {
      "text/plain": [
       "idaviso             8311264\n",
       "idpostulante        8311264\n",
       "fechapostulacion    8311264\n",
       "dtype: int64"
      ]
     },
     "execution_count": 39,
     "metadata": {},
     "output_type": "execute_result"
    }
   ],
   "source": [
    "m_postulaciones['fechapostulacion'] = \\\n",
    "    pd.to_datetime(m_postulaciones['fechapostulacion'], errors='coerce')\n",
    "m_postulaciones.count()"
   ]
  },
  {
   "cell_type": "code",
   "execution_count": 40,
   "metadata": {},
   "outputs": [
    {
     "data": {
      "text/html": [
       "<div>\n",
       "<style scoped>\n",
       "    .dataframe tbody tr th:only-of-type {\n",
       "        vertical-align: middle;\n",
       "    }\n",
       "\n",
       "    .dataframe tbody tr th {\n",
       "        vertical-align: top;\n",
       "    }\n",
       "\n",
       "    .dataframe thead th {\n",
       "        text-align: right;\n",
       "    }\n",
       "</style>\n",
       "<table border=\"1\" class=\"dataframe\">\n",
       "  <thead>\n",
       "    <tr style=\"text-align: right;\">\n",
       "      <th></th>\n",
       "      <th>idaviso</th>\n",
       "      <th>idpostulante</th>\n",
       "      <th>dia</th>\n",
       "      <th>hora</th>\n",
       "    </tr>\n",
       "  </thead>\n",
       "  <tbody>\n",
       "    <tr>\n",
       "      <th>0</th>\n",
       "      <td>1112257047</td>\n",
       "      <td>NM5M</td>\n",
       "      <td>0</td>\n",
       "      <td>16</td>\n",
       "    </tr>\n",
       "    <tr>\n",
       "      <th>1</th>\n",
       "      <td>1111920714</td>\n",
       "      <td>NM5M</td>\n",
       "      <td>1</td>\n",
       "      <td>9</td>\n",
       "    </tr>\n",
       "  </tbody>\n",
       "</table>\n",
       "</div>"
      ],
      "text/plain": [
       "      idaviso idpostulante  dia  hora\n",
       "0  1112257047         NM5M    0    16\n",
       "1  1111920714         NM5M    1     9"
      ]
     },
     "execution_count": 40,
     "metadata": {},
     "output_type": "execute_result"
    }
   ],
   "source": [
    "m_postulaciones['dia'] = m_postulaciones['fechapostulacion'].dt.weekday\n",
    "m_postulaciones['hora'] = m_postulaciones['fechapostulacion'].dt.hour\n",
    "del m_postulaciones['fechapostulacion']\n",
    "m_postulaciones.head(2)"
   ]
  },
  {
   "cell_type": "code",
   "execution_count": 41,
   "metadata": {},
   "outputs": [
    {
     "data": {
      "text/plain": [
       "idpostulante       504407\n",
       "sexo               504407\n",
       "edad               504407\n",
       "estado             504407\n",
       "nivel_alcanzado    504407\n",
       "dtype: int64"
      ]
     },
     "execution_count": 41,
     "metadata": {},
     "output_type": "execute_result"
    }
   ],
   "source": [
    "postulantes_encoding.count()"
   ]
  },
  {
   "cell_type": "code",
   "execution_count": 42,
   "metadata": {},
   "outputs": [],
   "source": [
    "merged = pd.merge(m_postulaciones, postulantes_encoding, \\\n",
    "                  on = 'idpostulante', how = 'inner')"
   ]
  },
  {
   "cell_type": "code",
   "execution_count": 43,
   "metadata": {},
   "outputs": [
    {
     "data": {
      "text/plain": [
       "idaviso            8311264\n",
       "idpostulante       8311264\n",
       "dia                8311264\n",
       "hora               8311264\n",
       "sexo               8311264\n",
       "edad               8311264\n",
       "estado             8311264\n",
       "nivel_alcanzado    8311264\n",
       "dtype: int64"
      ]
     },
     "execution_count": 43,
     "metadata": {},
     "output_type": "execute_result"
    }
   ],
   "source": [
    "merged.count()"
   ]
  },
  {
   "cell_type": "code",
   "execution_count": 44,
   "metadata": {},
   "outputs": [
    {
     "data": {
      "text/plain": [
       "idaviso                 25288\n",
       "nombre_zona             25288\n",
       "tipo_de_trabajo         25288\n",
       "nivel_laboral           25288\n",
       "nombre_area             25288\n",
       "denominacion_empresa    25288\n",
       "dtype: int64"
      ]
     },
     "execution_count": 44,
     "metadata": {},
     "output_type": "execute_result"
    }
   ],
   "source": [
    "avisos_encoding.count()"
   ]
  },
  {
   "cell_type": "code",
   "execution_count": 45,
   "metadata": {},
   "outputs": [
    {
     "data": {
      "text/plain": [
       "idaviso                 7742942\n",
       "idpostulante            7742942\n",
       "dia                     7742942\n",
       "hora                    7742942\n",
       "sexo                    7742942\n",
       "edad                    7742942\n",
       "estado                  7742942\n",
       "nivel_alcanzado         7742942\n",
       "nombre_zona             7742942\n",
       "tipo_de_trabajo         7742942\n",
       "nivel_laboral           7742942\n",
       "nombre_area             7742942\n",
       "denominacion_empresa    7742942\n",
       "dtype: int64"
      ]
     },
     "execution_count": 45,
     "metadata": {},
     "output_type": "execute_result"
    }
   ],
   "source": [
    "merged2 = pd.merge(merged, avisos_encoding, on = 'idaviso', how = 'inner')\n",
    "merged2.count()"
   ]
  },
  {
   "cell_type": "code",
   "execution_count": 46,
   "metadata": {},
   "outputs": [
    {
     "data": {
      "text/html": [
       "<div>\n",
       "<style scoped>\n",
       "    .dataframe tbody tr th:only-of-type {\n",
       "        vertical-align: middle;\n",
       "    }\n",
       "\n",
       "    .dataframe tbody tr th {\n",
       "        vertical-align: top;\n",
       "    }\n",
       "\n",
       "    .dataframe thead th {\n",
       "        text-align: right;\n",
       "    }\n",
       "</style>\n",
       "<table border=\"1\" class=\"dataframe\">\n",
       "  <thead>\n",
       "    <tr style=\"text-align: right;\">\n",
       "      <th></th>\n",
       "      <th>idaviso</th>\n",
       "      <th>idpostulante</th>\n",
       "      <th>dia</th>\n",
       "      <th>hora</th>\n",
       "      <th>sexo</th>\n",
       "      <th>edad</th>\n",
       "      <th>estado</th>\n",
       "      <th>nivel_alcanzado</th>\n",
       "      <th>nombre_zona</th>\n",
       "      <th>tipo_de_trabajo</th>\n",
       "      <th>nivel_laboral</th>\n",
       "      <th>nombre_area</th>\n",
       "      <th>denominacion_empresa</th>\n",
       "    </tr>\n",
       "  </thead>\n",
       "  <tbody>\n",
       "    <tr>\n",
       "      <th>0</th>\n",
       "      <td>1112257047</td>\n",
       "      <td>NM5M</td>\n",
       "      <td>0</td>\n",
       "      <td>16</td>\n",
       "      <td>1</td>\n",
       "      <td>47.0</td>\n",
       "      <td>2.0</td>\n",
       "      <td>1.0</td>\n",
       "      <td>7</td>\n",
       "      <td>2</td>\n",
       "      <td>3</td>\n",
       "      <td>14</td>\n",
       "      <td>1369</td>\n",
       "    </tr>\n",
       "    <tr>\n",
       "      <th>1</th>\n",
       "      <td>1112257047</td>\n",
       "      <td>1kJqGb</td>\n",
       "      <td>0</td>\n",
       "      <td>10</td>\n",
       "      <td>1</td>\n",
       "      <td>34.0</td>\n",
       "      <td>1.0</td>\n",
       "      <td>3.0</td>\n",
       "      <td>7</td>\n",
       "      <td>2</td>\n",
       "      <td>3</td>\n",
       "      <td>14</td>\n",
       "      <td>1369</td>\n",
       "    </tr>\n",
       "    <tr>\n",
       "      <th>2</th>\n",
       "      <td>1112257047</td>\n",
       "      <td>eOE9Rr</td>\n",
       "      <td>0</td>\n",
       "      <td>10</td>\n",
       "      <td>1</td>\n",
       "      <td>39.0</td>\n",
       "      <td>0.0</td>\n",
       "      <td>3.0</td>\n",
       "      <td>7</td>\n",
       "      <td>2</td>\n",
       "      <td>3</td>\n",
       "      <td>14</td>\n",
       "      <td>1369</td>\n",
       "    </tr>\n",
       "    <tr>\n",
       "      <th>3</th>\n",
       "      <td>1112257047</td>\n",
       "      <td>Zrx8Xz</td>\n",
       "      <td>1</td>\n",
       "      <td>10</td>\n",
       "      <td>1</td>\n",
       "      <td>39.0</td>\n",
       "      <td>2.0</td>\n",
       "      <td>2.0</td>\n",
       "      <td>7</td>\n",
       "      <td>2</td>\n",
       "      <td>3</td>\n",
       "      <td>14</td>\n",
       "      <td>1369</td>\n",
       "    </tr>\n",
       "    <tr>\n",
       "      <th>4</th>\n",
       "      <td>1112257047</td>\n",
       "      <td>ZrKNQY</td>\n",
       "      <td>1</td>\n",
       "      <td>17</td>\n",
       "      <td>1</td>\n",
       "      <td>33.0</td>\n",
       "      <td>1.0</td>\n",
       "      <td>3.0</td>\n",
       "      <td>7</td>\n",
       "      <td>2</td>\n",
       "      <td>3</td>\n",
       "      <td>14</td>\n",
       "      <td>1369</td>\n",
       "    </tr>\n",
       "  </tbody>\n",
       "</table>\n",
       "</div>"
      ],
      "text/plain": [
       "      idaviso idpostulante  dia  hora  sexo  edad  estado  nivel_alcanzado  \\\n",
       "0  1112257047         NM5M    0    16     1  47.0     2.0              1.0   \n",
       "1  1112257047       1kJqGb    0    10     1  34.0     1.0              3.0   \n",
       "2  1112257047       eOE9Rr    0    10     1  39.0     0.0              3.0   \n",
       "3  1112257047       Zrx8Xz    1    10     1  39.0     2.0              2.0   \n",
       "4  1112257047       ZrKNQY    1    17     1  33.0     1.0              3.0   \n",
       "\n",
       "   nombre_zona  tipo_de_trabajo  nivel_laboral  nombre_area  \\\n",
       "0            7                2              3           14   \n",
       "1            7                2              3           14   \n",
       "2            7                2              3           14   \n",
       "3            7                2              3           14   \n",
       "4            7                2              3           14   \n",
       "\n",
       "   denominacion_empresa  \n",
       "0                  1369  \n",
       "1                  1369  \n",
       "2                  1369  \n",
       "3                  1369  \n",
       "4                  1369  "
      ]
     },
     "execution_count": 46,
     "metadata": {},
     "output_type": "execute_result"
    }
   ],
   "source": [
    "merged2.head()"
   ]
  },
  {
   "cell_type": "code",
   "execution_count": 47,
   "metadata": {},
   "outputs": [],
   "source": [
    "merged2.to_csv('./data/merged_encoding_06.csv', encoding='utf-8')\n",
    "avisos_encoding.to_csv('./data/avisos_encoding_06.csv', encoding='utf-8')\n",
    "postulantes_encoding.to_csv('./data/postulantes_encoding_06.csv', encoding='utf-8')"
   ]
  },
  {
   "cell_type": "markdown",
   "metadata": {},
   "source": [
    "## Predicción"
   ]
  },
  {
   "cell_type": "code",
   "execution_count": 48,
   "metadata": {},
   "outputs": [
    {
     "data": {
      "text/plain": [
       "idaviso                 505760\n",
       "nombre_zona             505760\n",
       "tipo_de_trabajo         505760\n",
       "nivel_laboral           505760\n",
       "nombre_area             505760\n",
       "denominacion_empresa    505760\n",
       "dtype: int64"
      ]
     },
     "execution_count": 48,
     "metadata": {},
     "output_type": "execute_result"
    }
   ],
   "source": [
    "avisos_g = avisos_encoding\n",
    "while len(avisos_g) < 504407:\n",
    "    avisos_g = pd.concat([avisos_g, avisos_encoding])\n",
    "avisos_g.count()"
   ]
  },
  {
   "cell_type": "code",
   "execution_count": 49,
   "metadata": {},
   "outputs": [
    {
     "data": {
      "text/plain": [
       "idaviso                 504407\n",
       "nombre_zona             504407\n",
       "tipo_de_trabajo         504407\n",
       "nivel_laboral           504407\n",
       "nombre_area             504407\n",
       "denominacion_empresa    504407\n",
       "dtype: int64"
      ]
     },
     "execution_count": 49,
     "metadata": {},
     "output_type": "execute_result"
    }
   ],
   "source": [
    "avisos_g = avisos_g[:504407]\n",
    "avisos_g = sklearn.utils.shuffle(avisos_g)\n",
    "avisos_g.count()"
   ]
  },
  {
   "cell_type": "code",
   "execution_count": 50,
   "metadata": {},
   "outputs": [],
   "source": [
    "avisos_g = avisos_g.reset_index().drop('index',axis=1)"
   ]
  },
  {
   "cell_type": "code",
   "execution_count": 52,
   "metadata": {},
   "outputs": [
    {
     "data": {
      "text/html": [
       "<div>\n",
       "<style scoped>\n",
       "    .dataframe tbody tr th:only-of-type {\n",
       "        vertical-align: middle;\n",
       "    }\n",
       "\n",
       "    .dataframe tbody tr th {\n",
       "        vertical-align: top;\n",
       "    }\n",
       "\n",
       "    .dataframe thead th {\n",
       "        text-align: right;\n",
       "    }\n",
       "</style>\n",
       "<table border=\"1\" class=\"dataframe\">\n",
       "  <thead>\n",
       "    <tr style=\"text-align: right;\">\n",
       "      <th></th>\n",
       "      <th>idpostulante</th>\n",
       "      <th>sexo</th>\n",
       "      <th>edad</th>\n",
       "      <th>estado</th>\n",
       "      <th>nivel_alcanzado</th>\n",
       "      <th>idaviso</th>\n",
       "      <th>nombre_zona</th>\n",
       "      <th>tipo_de_trabajo</th>\n",
       "      <th>nivel_laboral</th>\n",
       "      <th>nombre_area</th>\n",
       "      <th>denominacion_empresa</th>\n",
       "    </tr>\n",
       "  </thead>\n",
       "  <tbody>\n",
       "    <tr>\n",
       "      <th>0</th>\n",
       "      <td>NM5M</td>\n",
       "      <td>1</td>\n",
       "      <td>47.0</td>\n",
       "      <td>2.0</td>\n",
       "      <td>1.0</td>\n",
       "      <td>1112368327</td>\n",
       "      <td>7</td>\n",
       "      <td>1</td>\n",
       "      <td>4</td>\n",
       "      <td>34</td>\n",
       "      <td>3286</td>\n",
       "    </tr>\n",
       "    <tr>\n",
       "      <th>1</th>\n",
       "      <td>5awk</td>\n",
       "      <td>1</td>\n",
       "      <td>55.0</td>\n",
       "      <td>2.0</td>\n",
       "      <td>3.0</td>\n",
       "      <td>1112269274</td>\n",
       "      <td>7</td>\n",
       "      <td>1</td>\n",
       "      <td>0</td>\n",
       "      <td>30</td>\n",
       "      <td>2513</td>\n",
       "    </tr>\n",
       "    <tr>\n",
       "      <th>2</th>\n",
       "      <td>ZaO5</td>\n",
       "      <td>1</td>\n",
       "      <td>39.0</td>\n",
       "      <td>0.0</td>\n",
       "      <td>3.0</td>\n",
       "      <td>1112223112</td>\n",
       "      <td>7</td>\n",
       "      <td>1</td>\n",
       "      <td>4</td>\n",
       "      <td>2</td>\n",
       "      <td>3748</td>\n",
       "    </tr>\n",
       "    <tr>\n",
       "      <th>3</th>\n",
       "      <td>NdJl</td>\n",
       "      <td>2</td>\n",
       "      <td>49.0</td>\n",
       "      <td>1.0</td>\n",
       "      <td>4.0</td>\n",
       "      <td>1112513844</td>\n",
       "      <td>7</td>\n",
       "      <td>1</td>\n",
       "      <td>4</td>\n",
       "      <td>2</td>\n",
       "      <td>3198</td>\n",
       "    </tr>\n",
       "    <tr>\n",
       "      <th>4</th>\n",
       "      <td>eo2p</td>\n",
       "      <td>2</td>\n",
       "      <td>37.0</td>\n",
       "      <td>2.0</td>\n",
       "      <td>4.0</td>\n",
       "      <td>1111312880</td>\n",
       "      <td>7</td>\n",
       "      <td>2</td>\n",
       "      <td>4</td>\n",
       "      <td>26</td>\n",
       "      <td>3713</td>\n",
       "    </tr>\n",
       "  </tbody>\n",
       "</table>\n",
       "</div>"
      ],
      "text/plain": [
       "  idpostulante  sexo  edad  estado  nivel_alcanzado     idaviso  nombre_zona  \\\n",
       "0         NM5M     1  47.0     2.0              1.0  1112368327            7   \n",
       "1         5awk     1  55.0     2.0              3.0  1112269274            7   \n",
       "2         ZaO5     1  39.0     0.0              3.0  1112223112            7   \n",
       "3         NdJl     2  49.0     1.0              4.0  1112513844            7   \n",
       "4         eo2p     2  37.0     2.0              4.0  1111312880            7   \n",
       "\n",
       "   tipo_de_trabajo  nivel_laboral  nombre_area  denominacion_empresa  \n",
       "0                1              4           34                  3286  \n",
       "1                1              0           30                  2513  \n",
       "2                1              4            2                  3748  \n",
       "3                1              4            2                  3198  \n",
       "4                2              4           26                  3713  "
      ]
     },
     "execution_count": 52,
     "metadata": {},
     "output_type": "execute_result"
    }
   ],
   "source": [
    "a_y_p = pd.concat([postulantes_encoding, avisos_g], axis = 1)\n",
    "a_y_p.head()"
   ]
  },
  {
   "cell_type": "code",
   "execution_count": 53,
   "metadata": {},
   "outputs": [
    {
     "data": {
      "text/plain": [
       "idpostulante            504113\n",
       "sexo                    504113\n",
       "edad                    504113\n",
       "estado                  504113\n",
       "nivel_alcanzado         504113\n",
       "idaviso                 504113\n",
       "nombre_zona             504113\n",
       "tipo_de_trabajo         504113\n",
       "nivel_laboral           504113\n",
       "nombre_area             504113\n",
       "denominacion_empresa    504113\n",
       "dtype: int64"
      ]
     },
     "execution_count": 53,
     "metadata": {},
     "output_type": "execute_result"
    }
   ],
   "source": [
    "no_postulaciones = a_y_p.drop(pd.merge(a_y_p,merged2,\\\n",
    "    how='inner',on=['idpostulante','idaviso']).index,axis=0)\n",
    "no_postulaciones.count()"
   ]
  },
  {
   "cell_type": "code",
   "execution_count": 54,
   "metadata": {},
   "outputs": [
    {
     "data": {
      "text/html": [
       "<div>\n",
       "<style scoped>\n",
       "    .dataframe tbody tr th:only-of-type {\n",
       "        vertical-align: middle;\n",
       "    }\n",
       "\n",
       "    .dataframe tbody tr th {\n",
       "        vertical-align: top;\n",
       "    }\n",
       "\n",
       "    .dataframe thead th {\n",
       "        text-align: right;\n",
       "    }\n",
       "</style>\n",
       "<table border=\"1\" class=\"dataframe\">\n",
       "  <thead>\n",
       "    <tr style=\"text-align: right;\">\n",
       "      <th></th>\n",
       "      <th>idpostulante</th>\n",
       "      <th>sexo</th>\n",
       "      <th>edad</th>\n",
       "      <th>estado</th>\n",
       "      <th>nivel_alcanzado</th>\n",
       "      <th>idaviso</th>\n",
       "      <th>nombre_zona</th>\n",
       "      <th>tipo_de_trabajo</th>\n",
       "      <th>nivel_laboral</th>\n",
       "      <th>nombre_area</th>\n",
       "      <th>denominacion_empresa</th>\n",
       "      <th>sepostulo</th>\n",
       "    </tr>\n",
       "  </thead>\n",
       "  <tbody>\n",
       "    <tr>\n",
       "      <th>294</th>\n",
       "      <td>1RZMR</td>\n",
       "      <td>1</td>\n",
       "      <td>46.0</td>\n",
       "      <td>2.0</td>\n",
       "      <td>4.0</td>\n",
       "      <td>1112134240</td>\n",
       "      <td>7</td>\n",
       "      <td>5</td>\n",
       "      <td>4</td>\n",
       "      <td>123</td>\n",
       "      <td>3278</td>\n",
       "      <td>0</td>\n",
       "    </tr>\n",
       "    <tr>\n",
       "      <th>295</th>\n",
       "      <td>a8Xe9</td>\n",
       "      <td>2</td>\n",
       "      <td>47.0</td>\n",
       "      <td>0.0</td>\n",
       "      <td>3.0</td>\n",
       "      <td>1112389250</td>\n",
       "      <td>7</td>\n",
       "      <td>1</td>\n",
       "      <td>4</td>\n",
       "      <td>146</td>\n",
       "      <td>2682</td>\n",
       "      <td>0</td>\n",
       "    </tr>\n",
       "    <tr>\n",
       "      <th>296</th>\n",
       "      <td>1ROrb</td>\n",
       "      <td>2</td>\n",
       "      <td>44.0</td>\n",
       "      <td>2.0</td>\n",
       "      <td>3.0</td>\n",
       "      <td>1111753636</td>\n",
       "      <td>7</td>\n",
       "      <td>1</td>\n",
       "      <td>4</td>\n",
       "      <td>185</td>\n",
       "      <td>1100</td>\n",
       "      <td>0</td>\n",
       "    </tr>\n",
       "  </tbody>\n",
       "</table>\n",
       "</div>"
      ],
      "text/plain": [
       "    idpostulante  sexo  edad  estado  nivel_alcanzado     idaviso  \\\n",
       "294        1RZMR     1  46.0     2.0              4.0  1112134240   \n",
       "295        a8Xe9     2  47.0     0.0              3.0  1112389250   \n",
       "296        1ROrb     2  44.0     2.0              3.0  1111753636   \n",
       "\n",
       "     nombre_zona  tipo_de_trabajo  nivel_laboral  nombre_area  \\\n",
       "294            7                5              4          123   \n",
       "295            7                1              4          146   \n",
       "296            7                1              4          185   \n",
       "\n",
       "     denominacion_empresa  sepostulo  \n",
       "294                  3278          0  \n",
       "295                  2682          0  \n",
       "296                  1100          0  "
      ]
     },
     "execution_count": 54,
     "metadata": {},
     "output_type": "execute_result"
    }
   ],
   "source": [
    "no_postulaciones['sepostulo'] = 0\n",
    "no_postulaciones.head(3)"
   ]
  },
  {
   "cell_type": "code",
   "execution_count": 55,
   "metadata": {},
   "outputs": [
    {
     "data": {
      "text/plain": [
       "idaviso                 7742942\n",
       "idpostulante            7742942\n",
       "dia                     7742942\n",
       "hora                    7742942\n",
       "sexo                    7742942\n",
       "edad                    7742942\n",
       "estado                  7742942\n",
       "nivel_alcanzado         7742942\n",
       "nombre_zona             7742942\n",
       "tipo_de_trabajo         7742942\n",
       "nivel_laboral           7742942\n",
       "nombre_area             7742942\n",
       "denominacion_empresa    7742942\n",
       "sepostulo               7742942\n",
       "dtype: int64"
      ]
     },
     "execution_count": 55,
     "metadata": {},
     "output_type": "execute_result"
    }
   ],
   "source": [
    "merged2['sepostulo'] = 1\n",
    "merged2.count()"
   ]
  },
  {
   "cell_type": "code",
   "execution_count": 74,
   "metadata": {},
   "outputs": [
    {
     "data": {
      "text/plain": [
       "denominacion_empresa    8247055\n",
       "edad                    8247055\n",
       "estado                  8247055\n",
       "idaviso                 8247055\n",
       "idpostulante            8247055\n",
       "nivel_alcanzado         8247055\n",
       "nivel_laboral           8247055\n",
       "nombre_area             8247055\n",
       "nombre_zona             8247055\n",
       "sepostulo               8247055\n",
       "sexo                    8247055\n",
       "tipo_de_trabajo         8247055\n",
       "dtype: int64"
      ]
     },
     "execution_count": 74,
     "metadata": {},
     "output_type": "execute_result"
    }
   ],
   "source": [
    "train_data = pd.concat([no_postulaciones, merged2])\n",
    "train_data.count()\n",
    "del train_data['dia']\n",
    "del train_data['hora']\n",
    "train_data.count()"
   ]
  },
  {
   "cell_type": "code",
   "execution_count": 75,
   "metadata": {},
   "outputs": [
    {
     "data": {
      "text/html": [
       "<div>\n",
       "<style scoped>\n",
       "    .dataframe tbody tr th:only-of-type {\n",
       "        vertical-align: middle;\n",
       "    }\n",
       "\n",
       "    .dataframe tbody tr th {\n",
       "        vertical-align: top;\n",
       "    }\n",
       "\n",
       "    .dataframe thead th {\n",
       "        text-align: right;\n",
       "    }\n",
       "</style>\n",
       "<table border=\"1\" class=\"dataframe\">\n",
       "  <thead>\n",
       "    <tr style=\"text-align: right;\">\n",
       "      <th></th>\n",
       "      <th>denominacion_empresa</th>\n",
       "      <th>edad</th>\n",
       "      <th>estado</th>\n",
       "      <th>idaviso</th>\n",
       "      <th>idpostulante</th>\n",
       "      <th>nivel_alcanzado</th>\n",
       "      <th>nivel_laboral</th>\n",
       "      <th>nombre_area</th>\n",
       "      <th>nombre_zona</th>\n",
       "      <th>sepostulo</th>\n",
       "      <th>sexo</th>\n",
       "      <th>tipo_de_trabajo</th>\n",
       "    </tr>\n",
       "  </thead>\n",
       "  <tbody>\n",
       "    <tr>\n",
       "      <th>294</th>\n",
       "      <td>3278</td>\n",
       "      <td>46.0</td>\n",
       "      <td>2.0</td>\n",
       "      <td>1112134240</td>\n",
       "      <td>1RZMR</td>\n",
       "      <td>4.0</td>\n",
       "      <td>4</td>\n",
       "      <td>123</td>\n",
       "      <td>7</td>\n",
       "      <td>0</td>\n",
       "      <td>1</td>\n",
       "      <td>5</td>\n",
       "    </tr>\n",
       "    <tr>\n",
       "      <th>295</th>\n",
       "      <td>2682</td>\n",
       "      <td>47.0</td>\n",
       "      <td>0.0</td>\n",
       "      <td>1112389250</td>\n",
       "      <td>a8Xe9</td>\n",
       "      <td>3.0</td>\n",
       "      <td>4</td>\n",
       "      <td>146</td>\n",
       "      <td>7</td>\n",
       "      <td>0</td>\n",
       "      <td>2</td>\n",
       "      <td>1</td>\n",
       "    </tr>\n",
       "    <tr>\n",
       "      <th>296</th>\n",
       "      <td>1100</td>\n",
       "      <td>44.0</td>\n",
       "      <td>2.0</td>\n",
       "      <td>1111753636</td>\n",
       "      <td>1ROrb</td>\n",
       "      <td>3.0</td>\n",
       "      <td>4</td>\n",
       "      <td>185</td>\n",
       "      <td>7</td>\n",
       "      <td>0</td>\n",
       "      <td>2</td>\n",
       "      <td>1</td>\n",
       "    </tr>\n",
       "    <tr>\n",
       "      <th>297</th>\n",
       "      <td>169</td>\n",
       "      <td>61.0</td>\n",
       "      <td>0.0</td>\n",
       "      <td>1112494092</td>\n",
       "      <td>Eb2Yo</td>\n",
       "      <td>3.0</td>\n",
       "      <td>1</td>\n",
       "      <td>30</td>\n",
       "      <td>1</td>\n",
       "      <td>0</td>\n",
       "      <td>2</td>\n",
       "      <td>1</td>\n",
       "    </tr>\n",
       "    <tr>\n",
       "      <th>298</th>\n",
       "      <td>1969</td>\n",
       "      <td>44.0</td>\n",
       "      <td>1.0</td>\n",
       "      <td>1112468890</td>\n",
       "      <td>5R3kq</td>\n",
       "      <td>4.0</td>\n",
       "      <td>4</td>\n",
       "      <td>2</td>\n",
       "      <td>1</td>\n",
       "      <td>0</td>\n",
       "      <td>2</td>\n",
       "      <td>1</td>\n",
       "    </tr>\n",
       "  </tbody>\n",
       "</table>\n",
       "</div>"
      ],
      "text/plain": [
       "     denominacion_empresa  edad  estado     idaviso idpostulante  \\\n",
       "294                  3278  46.0     2.0  1112134240        1RZMR   \n",
       "295                  2682  47.0     0.0  1112389250        a8Xe9   \n",
       "296                  1100  44.0     2.0  1111753636        1ROrb   \n",
       "297                   169  61.0     0.0  1112494092        Eb2Yo   \n",
       "298                  1969  44.0     1.0  1112468890        5R3kq   \n",
       "\n",
       "     nivel_alcanzado  nivel_laboral  nombre_area  nombre_zona  sepostulo  \\\n",
       "294              4.0              4          123            7          0   \n",
       "295              3.0              4          146            7          0   \n",
       "296              3.0              4          185            7          0   \n",
       "297              3.0              1           30            1          0   \n",
       "298              4.0              4            2            1          0   \n",
       "\n",
       "     sexo  tipo_de_trabajo  \n",
       "294     1                5  \n",
       "295     2                1  \n",
       "296     2                1  \n",
       "297     2                1  \n",
       "298     2                1  "
      ]
     },
     "execution_count": 75,
     "metadata": {},
     "output_type": "execute_result"
    }
   ],
   "source": [
    "train_data.head()"
   ]
  },
  {
   "cell_type": "code",
   "execution_count": 58,
   "metadata": {},
   "outputs": [
    {
     "data": {
      "text/html": [
       "<div>\n",
       "<style scoped>\n",
       "    .dataframe tbody tr th:only-of-type {\n",
       "        vertical-align: middle;\n",
       "    }\n",
       "\n",
       "    .dataframe tbody tr th {\n",
       "        vertical-align: top;\n",
       "    }\n",
       "\n",
       "    .dataframe thead th {\n",
       "        text-align: right;\n",
       "    }\n",
       "</style>\n",
       "<table border=\"1\" class=\"dataframe\">\n",
       "  <thead>\n",
       "    <tr style=\"text-align: right;\">\n",
       "      <th></th>\n",
       "      <th>id</th>\n",
       "      <th>idaviso</th>\n",
       "      <th>idpostulante</th>\n",
       "    </tr>\n",
       "  </thead>\n",
       "  <tbody>\n",
       "    <tr>\n",
       "      <th>0</th>\n",
       "      <td>0</td>\n",
       "      <td>739260</td>\n",
       "      <td>6M9ZQR</td>\n",
       "    </tr>\n",
       "    <tr>\n",
       "      <th>1</th>\n",
       "      <td>1</td>\n",
       "      <td>739260</td>\n",
       "      <td>6v1xdL</td>\n",
       "    </tr>\n",
       "    <tr>\n",
       "      <th>2</th>\n",
       "      <td>2</td>\n",
       "      <td>739260</td>\n",
       "      <td>ezRKm9</td>\n",
       "    </tr>\n",
       "    <tr>\n",
       "      <th>3</th>\n",
       "      <td>3</td>\n",
       "      <td>758580</td>\n",
       "      <td>1Q35ej</td>\n",
       "    </tr>\n",
       "    <tr>\n",
       "      <th>4</th>\n",
       "      <td>4</td>\n",
       "      <td>758580</td>\n",
       "      <td>EAN4J6</td>\n",
       "    </tr>\n",
       "  </tbody>\n",
       "</table>\n",
       "</div>"
      ],
      "text/plain": [
       "   id  idaviso idpostulante\n",
       "0   0   739260       6M9ZQR\n",
       "1   1   739260       6v1xdL\n",
       "2   2   739260       ezRKm9\n",
       "3   3   758580       1Q35ej\n",
       "4   4   758580       EAN4J6"
      ]
     },
     "execution_count": 58,
     "metadata": {},
     "output_type": "execute_result"
    }
   ],
   "source": [
    "test_final = pd.read_csv('./data/test_final_100k.csv', low_memory=False)\n",
    "test_final.head()"
   ]
  },
  {
   "cell_type": "code",
   "execution_count": 60,
   "metadata": {},
   "outputs": [
    {
     "data": {
      "text/plain": [
       "id                 100000\n",
       "idaviso            100000\n",
       "idpostulante       100000\n",
       "sexo               100000\n",
       "edad               100000\n",
       "estado             100000\n",
       "nivel_alcanzado    100000\n",
       "dtype: int64"
      ]
     },
     "execution_count": 60,
     "metadata": {},
     "output_type": "execute_result"
    }
   ],
   "source": [
    "a_predecir = pd.merge(test_final, postulantes_encoding, on = 'idpostulante', how = 'left')\n",
    "a_predecir.count()"
   ]
  },
  {
   "cell_type": "code",
   "execution_count": 62,
   "metadata": {},
   "outputs": [
    {
     "data": {
      "text/plain": [
       "id                      100000\n",
       "idaviso                 100000\n",
       "idpostulante            100000\n",
       "sexo                    100000\n",
       "edad                    100000\n",
       "estado                  100000\n",
       "nivel_alcanzado         100000\n",
       "nombre_zona             100000\n",
       "tipo_de_trabajo         100000\n",
       "nivel_laboral           100000\n",
       "nombre_area             100000\n",
       "denominacion_empresa    100000\n",
       "dtype: int64"
      ]
     },
     "execution_count": 62,
     "metadata": {},
     "output_type": "execute_result"
    }
   ],
   "source": [
    "a_predecir = pd.merge(a_predecir, avisos_encoding, on = 'idaviso', how = 'left')\n",
    "a_predecir.count()"
   ]
  },
  {
   "cell_type": "code",
   "execution_count": 63,
   "metadata": {},
   "outputs": [
    {
     "data": {
      "text/html": [
       "<div>\n",
       "<style scoped>\n",
       "    .dataframe tbody tr th:only-of-type {\n",
       "        vertical-align: middle;\n",
       "    }\n",
       "\n",
       "    .dataframe tbody tr th {\n",
       "        vertical-align: top;\n",
       "    }\n",
       "\n",
       "    .dataframe thead th {\n",
       "        text-align: right;\n",
       "    }\n",
       "</style>\n",
       "<table border=\"1\" class=\"dataframe\">\n",
       "  <thead>\n",
       "    <tr style=\"text-align: right;\">\n",
       "      <th></th>\n",
       "      <th>id</th>\n",
       "      <th>idaviso</th>\n",
       "      <th>idpostulante</th>\n",
       "      <th>sexo</th>\n",
       "      <th>edad</th>\n",
       "      <th>estado</th>\n",
       "      <th>nivel_alcanzado</th>\n",
       "      <th>nombre_zona</th>\n",
       "      <th>tipo_de_trabajo</th>\n",
       "      <th>nivel_laboral</th>\n",
       "      <th>nombre_area</th>\n",
       "      <th>denominacion_empresa</th>\n",
       "    </tr>\n",
       "  </thead>\n",
       "  <tbody>\n",
       "    <tr>\n",
       "      <th>0</th>\n",
       "      <td>0</td>\n",
       "      <td>739260</td>\n",
       "      <td>6M9ZQR</td>\n",
       "      <td>1</td>\n",
       "      <td>34.0</td>\n",
       "      <td>2.0</td>\n",
       "      <td>4.0</td>\n",
       "      <td>1</td>\n",
       "      <td>1</td>\n",
       "      <td>1</td>\n",
       "      <td>30</td>\n",
       "      <td>465</td>\n",
       "    </tr>\n",
       "    <tr>\n",
       "      <th>1</th>\n",
       "      <td>1</td>\n",
       "      <td>739260</td>\n",
       "      <td>6v1xdL</td>\n",
       "      <td>2</td>\n",
       "      <td>31.0</td>\n",
       "      <td>2.0</td>\n",
       "      <td>2.0</td>\n",
       "      <td>1</td>\n",
       "      <td>1</td>\n",
       "      <td>1</td>\n",
       "      <td>30</td>\n",
       "      <td>465</td>\n",
       "    </tr>\n",
       "    <tr>\n",
       "      <th>2</th>\n",
       "      <td>2</td>\n",
       "      <td>739260</td>\n",
       "      <td>ezRKm9</td>\n",
       "      <td>1</td>\n",
       "      <td>26.0</td>\n",
       "      <td>2.0</td>\n",
       "      <td>3.0</td>\n",
       "      <td>1</td>\n",
       "      <td>1</td>\n",
       "      <td>1</td>\n",
       "      <td>30</td>\n",
       "      <td>465</td>\n",
       "    </tr>\n",
       "    <tr>\n",
       "      <th>3</th>\n",
       "      <td>3</td>\n",
       "      <td>758580</td>\n",
       "      <td>1Q35ej</td>\n",
       "      <td>2</td>\n",
       "      <td>31.0</td>\n",
       "      <td>2.0</td>\n",
       "      <td>4.0</td>\n",
       "      <td>1</td>\n",
       "      <td>1</td>\n",
       "      <td>3</td>\n",
       "      <td>170</td>\n",
       "      <td>3895</td>\n",
       "    </tr>\n",
       "    <tr>\n",
       "      <th>4</th>\n",
       "      <td>4</td>\n",
       "      <td>758580</td>\n",
       "      <td>EAN4J6</td>\n",
       "      <td>1</td>\n",
       "      <td>53.0</td>\n",
       "      <td>0.0</td>\n",
       "      <td>3.0</td>\n",
       "      <td>1</td>\n",
       "      <td>1</td>\n",
       "      <td>3</td>\n",
       "      <td>170</td>\n",
       "      <td>3895</td>\n",
       "    </tr>\n",
       "  </tbody>\n",
       "</table>\n",
       "</div>"
      ],
      "text/plain": [
       "   id  idaviso idpostulante  sexo  edad  estado  nivel_alcanzado  nombre_zona  \\\n",
       "0   0   739260       6M9ZQR     1  34.0     2.0              4.0            1   \n",
       "1   1   739260       6v1xdL     2  31.0     2.0              2.0            1   \n",
       "2   2   739260       ezRKm9     1  26.0     2.0              3.0            1   \n",
       "3   3   758580       1Q35ej     2  31.0     2.0              4.0            1   \n",
       "4   4   758580       EAN4J6     1  53.0     0.0              3.0            1   \n",
       "\n",
       "   tipo_de_trabajo  nivel_laboral  nombre_area  denominacion_empresa  \n",
       "0                1              1           30                   465  \n",
       "1                1              1           30                   465  \n",
       "2                1              1           30                   465  \n",
       "3                1              3          170                  3895  \n",
       "4                1              3          170                  3895  "
      ]
     },
     "execution_count": 63,
     "metadata": {},
     "output_type": "execute_result"
    }
   ],
   "source": [
    "a_predecir.head()"
   ]
  },
  {
   "cell_type": "code",
   "execution_count": 64,
   "metadata": {},
   "outputs": [
    {
     "name": "stdout",
     "output_type": "stream",
     "text": [
      "<class 'pandas.core.frame.DataFrame'>\n",
      "Int64Index: 34511 entries, 0 to 34510\n",
      "Data columns (total 12 columns):\n",
      "denominacion_empresa    2 non-null float64\n",
      "edad                    34511 non-null float64\n",
      "estado                  34511 non-null float64\n",
      "idaviso                 34511 non-null int64\n",
      "idpostulante            34511 non-null object\n",
      "nivel_alcanzado         34511 non-null float64\n",
      "nivel_laboral           2 non-null float64\n",
      "nombre_area             2 non-null float64\n",
      "nombre_zona             2 non-null float64\n",
      "sexo                    34511 non-null int64\n",
      "tipo_de_trabajo         2 non-null float64\n",
      "id                      34511 non-null int64\n",
      "dtypes: float64(8), int64(3), object(1)\n",
      "memory usage: 3.4+ MB\n"
     ]
    }
   ],
   "source": [
    "repetidos = pd.merge(train_data, test_final, on=['idaviso','idpostulante'],how='inner')\n",
    "repetidos.info()"
   ]
  },
  {
   "cell_type": "code",
   "execution_count": 71,
   "metadata": {},
   "outputs": [
    {
     "data": {
      "text/html": [
       "<div>\n",
       "<style scoped>\n",
       "    .dataframe tbody tr th:only-of-type {\n",
       "        vertical-align: middle;\n",
       "    }\n",
       "\n",
       "    .dataframe tbody tr th {\n",
       "        vertical-align: top;\n",
       "    }\n",
       "\n",
       "    .dataframe thead th {\n",
       "        text-align: right;\n",
       "    }\n",
       "</style>\n",
       "<table border=\"1\" class=\"dataframe\">\n",
       "  <thead>\n",
       "    <tr style=\"text-align: right;\">\n",
       "      <th></th>\n",
       "      <th>id</th>\n",
       "      <th>idaviso</th>\n",
       "      <th>idpostulante</th>\n",
       "      <th>sepostulo</th>\n",
       "    </tr>\n",
       "  </thead>\n",
       "  <tbody>\n",
       "    <tr>\n",
       "      <th>0</th>\n",
       "      <td>89554</td>\n",
       "      <td>1112467029</td>\n",
       "      <td>6arWVx</td>\n",
       "      <td>1</td>\n",
       "    </tr>\n",
       "    <tr>\n",
       "      <th>1</th>\n",
       "      <td>69746</td>\n",
       "      <td>1112461553</td>\n",
       "      <td>5mPJ5Zp</td>\n",
       "      <td>1</td>\n",
       "    </tr>\n",
       "    <tr>\n",
       "      <th>3</th>\n",
       "      <td>67216</td>\n",
       "      <td>1112460187</td>\n",
       "      <td>ZaaBeR</td>\n",
       "      <td>1</td>\n",
       "    </tr>\n",
       "    <tr>\n",
       "      <th>4</th>\n",
       "      <td>67195</td>\n",
       "      <td>1112460186</td>\n",
       "      <td>ZaaBeR</td>\n",
       "      <td>1</td>\n",
       "    </tr>\n",
       "    <tr>\n",
       "      <th>5</th>\n",
       "      <td>51674</td>\n",
       "      <td>1112441945</td>\n",
       "      <td>Nerv94</td>\n",
       "      <td>1</td>\n",
       "    </tr>\n",
       "  </tbody>\n",
       "</table>\n",
       "</div>"
      ],
      "text/plain": [
       "      id     idaviso idpostulante  sepostulo\n",
       "0  89554  1112467029       6arWVx          1\n",
       "1  69746  1112461553      5mPJ5Zp          1\n",
       "3  67216  1112460187       ZaaBeR          1\n",
       "4  67195  1112460186       ZaaBeR          1\n",
       "5  51674  1112441945       Nerv94          1"
      ]
     },
     "execution_count": 71,
     "metadata": {},
     "output_type": "execute_result"
    }
   ],
   "source": [
    "repetidos['sepostulo'] = 1\n",
    "rep = repetidos[['id','idaviso','idpostulante','sepostulo']]\n",
    "rep = rep.drop_duplicates()\n",
    "rep.head()"
   ]
  },
  {
   "cell_type": "code",
   "execution_count": 76,
   "metadata": {},
   "outputs": [
    {
     "data": {
      "text/html": [
       "<div>\n",
       "<style scoped>\n",
       "    .dataframe tbody tr th:only-of-type {\n",
       "        vertical-align: middle;\n",
       "    }\n",
       "\n",
       "    .dataframe tbody tr th {\n",
       "        vertical-align: top;\n",
       "    }\n",
       "\n",
       "    .dataframe thead th {\n",
       "        text-align: right;\n",
       "    }\n",
       "</style>\n",
       "<table border=\"1\" class=\"dataframe\">\n",
       "  <thead>\n",
       "    <tr style=\"text-align: right;\">\n",
       "      <th></th>\n",
       "      <th>denominacion_empresa</th>\n",
       "      <th>edad</th>\n",
       "      <th>estado</th>\n",
       "      <th>idaviso</th>\n",
       "      <th>idpostulante</th>\n",
       "      <th>nivel_alcanzado</th>\n",
       "      <th>nivel_laboral</th>\n",
       "      <th>nombre_area</th>\n",
       "      <th>nombre_zona</th>\n",
       "      <th>sepostulo_x</th>\n",
       "      <th>sexo</th>\n",
       "      <th>tipo_de_trabajo</th>\n",
       "      <th>id</th>\n",
       "      <th>sepostulo_y</th>\n",
       "    </tr>\n",
       "  </thead>\n",
       "  <tbody>\n",
       "    <tr>\n",
       "      <th>0</th>\n",
       "      <td>3278</td>\n",
       "      <td>46.0</td>\n",
       "      <td>2.0</td>\n",
       "      <td>1112134240</td>\n",
       "      <td>1RZMR</td>\n",
       "      <td>4.0</td>\n",
       "      <td>4</td>\n",
       "      <td>123</td>\n",
       "      <td>7</td>\n",
       "      <td>0</td>\n",
       "      <td>1</td>\n",
       "      <td>5</td>\n",
       "      <td>NaN</td>\n",
       "      <td>NaN</td>\n",
       "    </tr>\n",
       "    <tr>\n",
       "      <th>1</th>\n",
       "      <td>2682</td>\n",
       "      <td>47.0</td>\n",
       "      <td>0.0</td>\n",
       "      <td>1112389250</td>\n",
       "      <td>a8Xe9</td>\n",
       "      <td>3.0</td>\n",
       "      <td>4</td>\n",
       "      <td>146</td>\n",
       "      <td>7</td>\n",
       "      <td>0</td>\n",
       "      <td>2</td>\n",
       "      <td>1</td>\n",
       "      <td>NaN</td>\n",
       "      <td>NaN</td>\n",
       "    </tr>\n",
       "    <tr>\n",
       "      <th>2</th>\n",
       "      <td>1100</td>\n",
       "      <td>44.0</td>\n",
       "      <td>2.0</td>\n",
       "      <td>1111753636</td>\n",
       "      <td>1ROrb</td>\n",
       "      <td>3.0</td>\n",
       "      <td>4</td>\n",
       "      <td>185</td>\n",
       "      <td>7</td>\n",
       "      <td>0</td>\n",
       "      <td>2</td>\n",
       "      <td>1</td>\n",
       "      <td>NaN</td>\n",
       "      <td>NaN</td>\n",
       "    </tr>\n",
       "    <tr>\n",
       "      <th>3</th>\n",
       "      <td>169</td>\n",
       "      <td>61.0</td>\n",
       "      <td>0.0</td>\n",
       "      <td>1112494092</td>\n",
       "      <td>Eb2Yo</td>\n",
       "      <td>3.0</td>\n",
       "      <td>1</td>\n",
       "      <td>30</td>\n",
       "      <td>1</td>\n",
       "      <td>0</td>\n",
       "      <td>2</td>\n",
       "      <td>1</td>\n",
       "      <td>NaN</td>\n",
       "      <td>NaN</td>\n",
       "    </tr>\n",
       "    <tr>\n",
       "      <th>4</th>\n",
       "      <td>1969</td>\n",
       "      <td>44.0</td>\n",
       "      <td>1.0</td>\n",
       "      <td>1112468890</td>\n",
       "      <td>5R3kq</td>\n",
       "      <td>4.0</td>\n",
       "      <td>4</td>\n",
       "      <td>2</td>\n",
       "      <td>1</td>\n",
       "      <td>0</td>\n",
       "      <td>2</td>\n",
       "      <td>1</td>\n",
       "      <td>NaN</td>\n",
       "      <td>NaN</td>\n",
       "    </tr>\n",
       "  </tbody>\n",
       "</table>\n",
       "</div>"
      ],
      "text/plain": [
       "   denominacion_empresa  edad  estado     idaviso idpostulante  \\\n",
       "0                  3278  46.0     2.0  1112134240        1RZMR   \n",
       "1                  2682  47.0     0.0  1112389250        a8Xe9   \n",
       "2                  1100  44.0     2.0  1111753636        1ROrb   \n",
       "3                   169  61.0     0.0  1112494092        Eb2Yo   \n",
       "4                  1969  44.0     1.0  1112468890        5R3kq   \n",
       "\n",
       "   nivel_alcanzado  nivel_laboral  nombre_area  nombre_zona  sepostulo_x  \\\n",
       "0              4.0              4          123            7            0   \n",
       "1              3.0              4          146            7            0   \n",
       "2              3.0              4          185            7            0   \n",
       "3              3.0              1           30            1            0   \n",
       "4              4.0              4            2            1            0   \n",
       "\n",
       "   sexo  tipo_de_trabajo  id  sepostulo_y  \n",
       "0     1                5 NaN          NaN  \n",
       "1     2                1 NaN          NaN  \n",
       "2     2                1 NaN          NaN  \n",
       "3     2                1 NaN          NaN  \n",
       "4     2                1 NaN          NaN  "
      ]
     },
     "execution_count": 76,
     "metadata": {},
     "output_type": "execute_result"
    }
   ],
   "source": [
    "entrenamiento = pd.merge(train_data, rep, on=['idaviso','idpostulante'],how='left')\n",
    "entrenamiento.head()"
   ]
  },
  {
   "cell_type": "code",
   "execution_count": 82,
   "metadata": {},
   "outputs": [],
   "source": [
    "entrenamiento['sepostulo_y'].fillna(0, inplace = True)\n",
    "entrenamiento['sepostulo'] = (entrenamiento['sepostulo_x'] |\\\n",
    "                              entrenamiento['sepostulo_y']).astype(int)"
   ]
  },
  {
   "cell_type": "code",
   "execution_count": 85,
   "metadata": {},
   "outputs": [
    {
     "data": {
      "text/html": [
       "<div>\n",
       "<style scoped>\n",
       "    .dataframe tbody tr th:only-of-type {\n",
       "        vertical-align: middle;\n",
       "    }\n",
       "\n",
       "    .dataframe tbody tr th {\n",
       "        vertical-align: top;\n",
       "    }\n",
       "\n",
       "    .dataframe thead th {\n",
       "        text-align: right;\n",
       "    }\n",
       "</style>\n",
       "<table border=\"1\" class=\"dataframe\">\n",
       "  <thead>\n",
       "    <tr style=\"text-align: right;\">\n",
       "      <th></th>\n",
       "      <th>denominacion_empresa</th>\n",
       "      <th>edad</th>\n",
       "      <th>estado</th>\n",
       "      <th>idaviso</th>\n",
       "      <th>idpostulante</th>\n",
       "      <th>nivel_alcanzado</th>\n",
       "      <th>nivel_laboral</th>\n",
       "      <th>nombre_area</th>\n",
       "      <th>nombre_zona</th>\n",
       "      <th>sexo</th>\n",
       "      <th>tipo_de_trabajo</th>\n",
       "      <th>sepostulo</th>\n",
       "    </tr>\n",
       "  </thead>\n",
       "  <tbody>\n",
       "    <tr>\n",
       "      <th>0</th>\n",
       "      <td>3278</td>\n",
       "      <td>46.0</td>\n",
       "      <td>2.0</td>\n",
       "      <td>1112134240</td>\n",
       "      <td>1RZMR</td>\n",
       "      <td>4.0</td>\n",
       "      <td>4</td>\n",
       "      <td>123</td>\n",
       "      <td>7</td>\n",
       "      <td>1</td>\n",
       "      <td>5</td>\n",
       "      <td>0</td>\n",
       "    </tr>\n",
       "    <tr>\n",
       "      <th>1</th>\n",
       "      <td>2682</td>\n",
       "      <td>47.0</td>\n",
       "      <td>0.0</td>\n",
       "      <td>1112389250</td>\n",
       "      <td>a8Xe9</td>\n",
       "      <td>3.0</td>\n",
       "      <td>4</td>\n",
       "      <td>146</td>\n",
       "      <td>7</td>\n",
       "      <td>2</td>\n",
       "      <td>1</td>\n",
       "      <td>0</td>\n",
       "    </tr>\n",
       "    <tr>\n",
       "      <th>2</th>\n",
       "      <td>1100</td>\n",
       "      <td>44.0</td>\n",
       "      <td>2.0</td>\n",
       "      <td>1111753636</td>\n",
       "      <td>1ROrb</td>\n",
       "      <td>3.0</td>\n",
       "      <td>4</td>\n",
       "      <td>185</td>\n",
       "      <td>7</td>\n",
       "      <td>2</td>\n",
       "      <td>1</td>\n",
       "      <td>0</td>\n",
       "    </tr>\n",
       "    <tr>\n",
       "      <th>3</th>\n",
       "      <td>169</td>\n",
       "      <td>61.0</td>\n",
       "      <td>0.0</td>\n",
       "      <td>1112494092</td>\n",
       "      <td>Eb2Yo</td>\n",
       "      <td>3.0</td>\n",
       "      <td>1</td>\n",
       "      <td>30</td>\n",
       "      <td>1</td>\n",
       "      <td>2</td>\n",
       "      <td>1</td>\n",
       "      <td>0</td>\n",
       "    </tr>\n",
       "    <tr>\n",
       "      <th>4</th>\n",
       "      <td>1969</td>\n",
       "      <td>44.0</td>\n",
       "      <td>1.0</td>\n",
       "      <td>1112468890</td>\n",
       "      <td>5R3kq</td>\n",
       "      <td>4.0</td>\n",
       "      <td>4</td>\n",
       "      <td>2</td>\n",
       "      <td>1</td>\n",
       "      <td>2</td>\n",
       "      <td>1</td>\n",
       "      <td>0</td>\n",
       "    </tr>\n",
       "  </tbody>\n",
       "</table>\n",
       "</div>"
      ],
      "text/plain": [
       "   denominacion_empresa  edad  estado     idaviso idpostulante  \\\n",
       "0                  3278  46.0     2.0  1112134240        1RZMR   \n",
       "1                  2682  47.0     0.0  1112389250        a8Xe9   \n",
       "2                  1100  44.0     2.0  1111753636        1ROrb   \n",
       "3                   169  61.0     0.0  1112494092        Eb2Yo   \n",
       "4                  1969  44.0     1.0  1112468890        5R3kq   \n",
       "\n",
       "   nivel_alcanzado  nivel_laboral  nombre_area  nombre_zona  sexo  \\\n",
       "0              4.0              4          123            7     1   \n",
       "1              3.0              4          146            7     2   \n",
       "2              3.0              4          185            7     2   \n",
       "3              3.0              1           30            1     2   \n",
       "4              4.0              4            2            1     2   \n",
       "\n",
       "   tipo_de_trabajo  sepostulo  \n",
       "0                5          0  \n",
       "1                1          0  \n",
       "2                1          0  \n",
       "3                1          0  \n",
       "4                1          0  "
      ]
     },
     "execution_count": 85,
     "metadata": {},
     "output_type": "execute_result"
    }
   ],
   "source": [
    "del entrenamiento['sepostulo_x']\n",
    "del entrenamiento['sepostulo_y']\n",
    "del entrenamiento['id']\n",
    "entrenamiento.head()"
   ]
  },
  {
   "cell_type": "markdown",
   "metadata": {},
   "source": [
    "### Gradient Boost"
   ]
  },
  {
   "cell_type": "code",
   "execution_count": 87,
   "metadata": {},
   "outputs": [],
   "source": [
    "from sklearn.model_selection import train_test_split\n",
    "from sklearn.metrics import accuracy_score\n",
    "from sklearn import preprocessing\n",
    "from collections import defaultdict\n",
    "from sklearn.ensemble import RandomForestClassifier, \\\n",
    "    GradientBoostingClassifier, AdaBoostClassifier, ExtraTreesClassifier"
   ]
  },
  {
   "cell_type": "code",
   "execution_count": 88,
   "metadata": {},
   "outputs": [],
   "source": [
    "import winsound\n",
    "def play_beep():\n",
    "    duration = 500  # millisecond\n",
    "    freq = 480  # Hz\n",
    "    winsound.Beep(freq, duration)\n",
    "play_beep()"
   ]
  },
  {
   "cell_type": "code",
   "execution_count": 116,
   "metadata": {},
   "outputs": [],
   "source": [
    "X = entrenamiento[['denominacion_empresa','edad','estado','nivel_alcanzado',\\\n",
    "                'nivel_laboral','nombre_area','nombre_zona','sexo','tipo_de_trabajo']]\n",
    "Y = entrenamiento['sepostulo']"
   ]
  },
  {
   "cell_type": "code",
   "execution_count": 117,
   "metadata": {},
   "outputs": [],
   "source": [
    "X_train, X_test, y_train, y_test = train_test_split(X, Y, test_size=0.10, random_state=7506)"
   ]
  },
  {
   "cell_type": "code",
   "execution_count": 118,
   "metadata": {},
   "outputs": [
    {
     "name": "stdout",
     "output_type": "stream",
     "text": [
      "Tamaño de X:\t\t 8247055 \n",
      "Tamaño de X_train:\t 7422349 \n",
      "Tamaño de X_test:\t 824706 \n",
      "\n",
      "Tamaño de y:\t\t 8247055 \n",
      "Tamaño de y_train:\t 7422349 \n",
      "Tamaño de y_test:\t 824706\n"
     ]
    }
   ],
   "source": [
    "print(\"Tamaño de X:\\t\\t\", len(X), \"\\nTamaño de X_train:\\t\", len(X_train), \"\\nTamaño de X_test:\\t\", len(X_test), \\\n",
    "      \"\\n\\nTamaño de y:\\t\\t\", len(Y), \"\\nTamaño de y_train:\\t\", len(y_train), \"\\nTamaño de y_test:\\t\", len(y_test))"
   ]
  },
  {
   "cell_type": "code",
   "execution_count": 119,
   "metadata": {},
   "outputs": [],
   "source": [
    "params = {'n_estimators': 220, 'learning_rate': 0.001 }\n",
    "\n",
    "xgbclassifier = GradientBoostingClassifier(**params)\n",
    "xgbclassifier.fit(X, Y.values.ravel())\n",
    "play_beep()"
   ]
  },
  {
   "cell_type": "code",
   "execution_count": 120,
   "metadata": {},
   "outputs": [
    {
     "name": "stdout",
     "output_type": "stream",
     "text": [
      "93.85\n"
     ]
    }
   ],
   "source": [
    "precision = round(xgbclassifier.score(X_test, y_test) * 100, 2)\n",
    "print(precision)"
   ]
  },
  {
   "cell_type": "code",
   "execution_count": 94,
   "metadata": {},
   "outputs": [],
   "source": [
    "del a_predecir['id']\n",
    "del a_predecir['idaviso']\n",
    "del a_predecir['idpostulante']\n",
    "array_a_predecir = a_predecir.values"
   ]
  },
  {
   "cell_type": "code",
   "execution_count": 121,
   "metadata": {},
   "outputs": [],
   "source": [
    "probabilidades = []\n",
    "predicciones = []\n",
    "for x in array_a_predecir:\n",
    "    y_pred = xgbclassifier.predict([x])\n",
    "    predicciones.append(y_pred)\n",
    "    #print(\"Prediccion: \" + str(y_pred))\n",
    "    y_proba = xgbclassifier.predict_proba([x])\n",
    "    #print(\"Probabilidad de Acierto: \" + str(round(y_proba[0][y_pred][0]* 100, 2))+\"%\")\n",
    "    probabilidades.append(y_proba)\n",
    "play_beep()"
   ]
  },
  {
   "cell_type": "code",
   "execution_count": 122,
   "metadata": {},
   "outputs": [],
   "source": [
    "prob_post = []\n",
    "for p in probabilidades:\n",
    "    prob_post.append(p[0][1])"
   ]
  },
  {
   "cell_type": "code",
   "execution_count": 123,
   "metadata": {},
   "outputs": [
    {
     "data": {
      "text/html": [
       "<div>\n",
       "<style scoped>\n",
       "    .dataframe tbody tr th:only-of-type {\n",
       "        vertical-align: middle;\n",
       "    }\n",
       "\n",
       "    .dataframe tbody tr th {\n",
       "        vertical-align: top;\n",
       "    }\n",
       "\n",
       "    .dataframe thead th {\n",
       "        text-align: right;\n",
       "    }\n",
       "</style>\n",
       "<table border=\"1\" class=\"dataframe\">\n",
       "  <thead>\n",
       "    <tr style=\"text-align: right;\">\n",
       "      <th></th>\n",
       "      <th>id</th>\n",
       "      <th>idaviso</th>\n",
       "      <th>idpostulante</th>\n",
       "      <th>sepostulo</th>\n",
       "    </tr>\n",
       "  </thead>\n",
       "  <tbody>\n",
       "    <tr>\n",
       "      <th>0</th>\n",
       "      <td>0</td>\n",
       "      <td>739260</td>\n",
       "      <td>6M9ZQR</td>\n",
       "      <td>0.903555</td>\n",
       "    </tr>\n",
       "    <tr>\n",
       "      <th>1</th>\n",
       "      <td>1</td>\n",
       "      <td>739260</td>\n",
       "      <td>6v1xdL</td>\n",
       "      <td>0.903470</td>\n",
       "    </tr>\n",
       "    <tr>\n",
       "      <th>2</th>\n",
       "      <td>2</td>\n",
       "      <td>739260</td>\n",
       "      <td>ezRKm9</td>\n",
       "      <td>0.905053</td>\n",
       "    </tr>\n",
       "    <tr>\n",
       "      <th>3</th>\n",
       "      <td>3</td>\n",
       "      <td>758580</td>\n",
       "      <td>1Q35ej</td>\n",
       "      <td>0.903555</td>\n",
       "    </tr>\n",
       "    <tr>\n",
       "      <th>4</th>\n",
       "      <td>4</td>\n",
       "      <td>758580</td>\n",
       "      <td>EAN4J6</td>\n",
       "      <td>0.845195</td>\n",
       "    </tr>\n",
       "  </tbody>\n",
       "</table>\n",
       "</div>"
      ],
      "text/plain": [
       "   id  idaviso idpostulante  sepostulo\n",
       "0   0   739260       6M9ZQR   0.903555\n",
       "1   1   739260       6v1xdL   0.903470\n",
       "2   2   739260       ezRKm9   0.905053\n",
       "3   3   758580       1Q35ej   0.903555\n",
       "4   4   758580       EAN4J6   0.845195"
      ]
     },
     "execution_count": 123,
     "metadata": {},
     "output_type": "execute_result"
    }
   ],
   "source": [
    "submit = pd.concat([test_final, pd.DataFrame(data = prob_post, \\\n",
    "                                             columns = ['sepostulo'])],axis=1)\n",
    "submit.head()"
   ]
  },
  {
   "cell_type": "code",
   "execution_count": 124,
   "metadata": {},
   "outputs": [
    {
     "name": "stdout",
     "output_type": "stream",
     "text": [
      "<class 'pandas.core.frame.DataFrame'>\n",
      "RangeIndex: 100000 entries, 0 to 99999\n",
      "Data columns (total 4 columns):\n",
      "id              100000 non-null int64\n",
      "idaviso         100000 non-null int64\n",
      "idpostulante    100000 non-null object\n",
      "sepostulo       100000 non-null float64\n",
      "dtypes: float64(1), int64(2), object(1)\n",
      "memory usage: 3.1+ MB\n"
     ]
    }
   ],
   "source": [
    "submit.info()"
   ]
  },
  {
   "cell_type": "code",
   "execution_count": 125,
   "metadata": {},
   "outputs": [
    {
     "data": {
      "text/plain": [
       "0.903555    18875\n",
       "0.845195    17775\n",
       "0.917650    12375\n",
       "0.930711    10916\n",
       "0.911345     9843\n",
       "0.905053     7891\n",
       "0.831064     3657\n",
       "0.933987     3034\n",
       "0.941030     3007\n",
       "0.843696     2967\n",
       "0.942858     2261\n",
       "0.924414     1356\n",
       "0.943378     1354\n",
       "0.903470     1236\n",
       "0.941565     1108\n",
       "0.939993      640\n",
       "0.941851      556\n",
       "0.830927      382\n",
       "0.927965      376\n",
       "0.941848      216\n",
       "0.939989      175\n",
       "Name: sepostulo, dtype: int64"
      ]
     },
     "execution_count": 125,
     "metadata": {},
     "output_type": "execute_result"
    }
   ],
   "source": [
    "submit.sepostulo.value_counts()"
   ]
  },
  {
   "cell_type": "code",
   "execution_count": 126,
   "metadata": {},
   "outputs": [
    {
     "name": "stdout",
     "output_type": "stream",
     "text": [
      "<class 'pandas.core.frame.DataFrame'>\n",
      "Int64Index: 100000 entries, 0 to 99999\n",
      "Data columns (total 6 columns):\n",
      "id_x            100000 non-null int64\n",
      "idaviso         100000 non-null int64\n",
      "idpostulante    100000 non-null object\n",
      "sepostulo_x     100000 non-null float64\n",
      "id_y            34501 non-null float64\n",
      "sepostulo_y     34501 non-null float64\n",
      "dtypes: float64(3), int64(2), object(1)\n",
      "memory usage: 5.3+ MB\n"
     ]
    }
   ],
   "source": [
    "submit2 = pd.merge(submit, rep, on=['idaviso','idpostulante'],how='left')\n",
    "submit2.info()"
   ]
  },
  {
   "cell_type": "code",
   "execution_count": 127,
   "metadata": {},
   "outputs": [
    {
     "data": {
      "text/html": [
       "<div>\n",
       "<style scoped>\n",
       "    .dataframe tbody tr th:only-of-type {\n",
       "        vertical-align: middle;\n",
       "    }\n",
       "\n",
       "    .dataframe tbody tr th {\n",
       "        vertical-align: top;\n",
       "    }\n",
       "\n",
       "    .dataframe thead th {\n",
       "        text-align: right;\n",
       "    }\n",
       "</style>\n",
       "<table border=\"1\" class=\"dataframe\">\n",
       "  <thead>\n",
       "    <tr style=\"text-align: right;\">\n",
       "      <th></th>\n",
       "      <th>id_x</th>\n",
       "      <th>idaviso</th>\n",
       "      <th>idpostulante</th>\n",
       "      <th>sepostulo_x</th>\n",
       "      <th>id_y</th>\n",
       "      <th>sepostulo_y</th>\n",
       "      <th>sepostulo</th>\n",
       "    </tr>\n",
       "  </thead>\n",
       "  <tbody>\n",
       "    <tr>\n",
       "      <th>0</th>\n",
       "      <td>0</td>\n",
       "      <td>739260</td>\n",
       "      <td>6M9ZQR</td>\n",
       "      <td>0.903555</td>\n",
       "      <td>NaN</td>\n",
       "      <td>NaN</td>\n",
       "      <td>0.903555</td>\n",
       "    </tr>\n",
       "    <tr>\n",
       "      <th>1</th>\n",
       "      <td>1</td>\n",
       "      <td>739260</td>\n",
       "      <td>6v1xdL</td>\n",
       "      <td>0.903470</td>\n",
       "      <td>NaN</td>\n",
       "      <td>NaN</td>\n",
       "      <td>0.903470</td>\n",
       "    </tr>\n",
       "    <tr>\n",
       "      <th>2</th>\n",
       "      <td>2</td>\n",
       "      <td>739260</td>\n",
       "      <td>ezRKm9</td>\n",
       "      <td>0.905053</td>\n",
       "      <td>NaN</td>\n",
       "      <td>NaN</td>\n",
       "      <td>0.905053</td>\n",
       "    </tr>\n",
       "    <tr>\n",
       "      <th>3</th>\n",
       "      <td>3</td>\n",
       "      <td>758580</td>\n",
       "      <td>1Q35ej</td>\n",
       "      <td>0.903555</td>\n",
       "      <td>NaN</td>\n",
       "      <td>NaN</td>\n",
       "      <td>0.903555</td>\n",
       "    </tr>\n",
       "    <tr>\n",
       "      <th>4</th>\n",
       "      <td>4</td>\n",
       "      <td>758580</td>\n",
       "      <td>EAN4J6</td>\n",
       "      <td>0.845195</td>\n",
       "      <td>NaN</td>\n",
       "      <td>NaN</td>\n",
       "      <td>0.845195</td>\n",
       "    </tr>\n",
       "  </tbody>\n",
       "</table>\n",
       "</div>"
      ],
      "text/plain": [
       "   id_x  idaviso idpostulante  sepostulo_x  id_y  sepostulo_y  sepostulo\n",
       "0     0   739260       6M9ZQR     0.903555   NaN          NaN   0.903555\n",
       "1     1   739260       6v1xdL     0.903470   NaN          NaN   0.903470\n",
       "2     2   739260       ezRKm9     0.905053   NaN          NaN   0.905053\n",
       "3     3   758580       1Q35ej     0.903555   NaN          NaN   0.903555\n",
       "4     4   758580       EAN4J6     0.845195   NaN          NaN   0.845195"
      ]
     },
     "execution_count": 127,
     "metadata": {},
     "output_type": "execute_result"
    }
   ],
   "source": [
    "def corregir_sepostulo(row):\n",
    "    if (row.sepostulo_y == 1):\n",
    "        return 1\n",
    "    return row.sepostulo_x\n",
    "\n",
    "submit2['sepostulo'] = submit2.apply(corregir_sepostulo, axis = 1)\n",
    "submit2.head()"
   ]
  },
  {
   "cell_type": "code",
   "execution_count": 128,
   "metadata": {},
   "outputs": [
    {
     "name": "stdout",
     "output_type": "stream",
     "text": [
      "<class 'pandas.core.frame.DataFrame'>\n",
      "Int64Index: 100000 entries, 0 to 99999\n",
      "Data columns (total 7 columns):\n",
      "id              100000 non-null int64\n",
      "idaviso         100000 non-null int64\n",
      "idpostulante    100000 non-null object\n",
      "sepostulo_x     100000 non-null float64\n",
      "id_y            34501 non-null float64\n",
      "sepostulo_y     34501 non-null float64\n",
      "sepostulo       100000 non-null float64\n",
      "dtypes: float64(4), int64(2), object(1)\n",
      "memory usage: 6.1+ MB\n"
     ]
    }
   ],
   "source": [
    "submit2.rename(columns={'id_x':'id'},inplace=True)\n",
    "submit2.info()"
   ]
  },
  {
   "cell_type": "code",
   "execution_count": 129,
   "metadata": {},
   "outputs": [
    {
     "data": {
      "text/html": [
       "<div>\n",
       "<style scoped>\n",
       "    .dataframe tbody tr th:only-of-type {\n",
       "        vertical-align: middle;\n",
       "    }\n",
       "\n",
       "    .dataframe tbody tr th {\n",
       "        vertical-align: top;\n",
       "    }\n",
       "\n",
       "    .dataframe thead th {\n",
       "        text-align: right;\n",
       "    }\n",
       "</style>\n",
       "<table border=\"1\" class=\"dataframe\">\n",
       "  <thead>\n",
       "    <tr style=\"text-align: right;\">\n",
       "      <th></th>\n",
       "      <th>sepostulo</th>\n",
       "    </tr>\n",
       "    <tr>\n",
       "      <th>id</th>\n",
       "      <th></th>\n",
       "    </tr>\n",
       "  </thead>\n",
       "  <tbody>\n",
       "    <tr>\n",
       "      <th>0</th>\n",
       "      <td>0.903555</td>\n",
       "    </tr>\n",
       "    <tr>\n",
       "      <th>1</th>\n",
       "      <td>0.903470</td>\n",
       "    </tr>\n",
       "    <tr>\n",
       "      <th>2</th>\n",
       "      <td>0.905053</td>\n",
       "    </tr>\n",
       "    <tr>\n",
       "      <th>3</th>\n",
       "      <td>0.903555</td>\n",
       "    </tr>\n",
       "    <tr>\n",
       "      <th>4</th>\n",
       "      <td>0.845195</td>\n",
       "    </tr>\n",
       "  </tbody>\n",
       "</table>\n",
       "</div>"
      ],
      "text/plain": [
       "    sepostulo\n",
       "id           \n",
       "0    0.903555\n",
       "1    0.903470\n",
       "2    0.905053\n",
       "3    0.903555\n",
       "4    0.845195"
      ]
     },
     "execution_count": 129,
     "metadata": {},
     "output_type": "execute_result"
    }
   ],
   "source": [
    "del submit2['idaviso']\n",
    "del submit2['idpostulante']\n",
    "del submit2['sepostulo_x']\n",
    "del submit2['sepostulo_y']\n",
    "del submit2['id_y']\n",
    "submit2.set_index('id', inplace = True)\n",
    "submit2.head()"
   ]
  },
  {
   "cell_type": "code",
   "execution_count": 130,
   "metadata": {},
   "outputs": [],
   "source": [
    "submit2.to_csv('./data/submit_gboost2.csv', encoding='utf-8')"
   ]
  }
 ],
 "metadata": {
  "kernelspec": {
   "display_name": "Python 3",
   "language": "python",
   "name": "python3"
  },
  "language_info": {
   "codemirror_mode": {
    "name": "ipython",
    "version": 3
   },
   "file_extension": ".py",
   "mimetype": "text/x-python",
   "name": "python",
   "nbconvert_exporter": "python",
   "pygments_lexer": "ipython3",
   "version": "3.6.5"
  }
 },
 "nbformat": 4,
 "nbformat_minor": 2
}
