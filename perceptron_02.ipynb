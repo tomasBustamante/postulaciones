{
 "cells": [
  {
   "cell_type": "code",
   "execution_count": 1,
   "metadata": {},
   "outputs": [],
   "source": [
    "import pandas as pd\n",
    "import numpy as np\n",
    "import datetime\n",
    "import sklearn"
   ]
  },
  {
   "cell_type": "code",
   "execution_count": 2,
   "metadata": {},
   "outputs": [],
   "source": [
    "# Postulantes\n",
    "postulantes = pd.read_csv('./data/postulantes_encoding_01.csv',\\\n",
    "                          low_memory=False)\n",
    "\n",
    "# Avisos\n",
    "avisos = pd.read_csv('./data/avisos_encoding_01.csv', \\\n",
    "                     low_memory=False)\n",
    "\n",
    "# Transacciones\n",
    "merged = pd.read_csv('./data/merged_encoding_01.csv', \\\n",
    "                     low_memory=False)"
   ]
  },
  {
   "cell_type": "code",
   "execution_count": 3,
   "metadata": {},
   "outputs": [
    {
     "data": {
      "text/plain": [
       "Unnamed: 0         504407\n",
       "idpostulante       504407\n",
       "sexo               504407\n",
       "edad               504407\n",
       "estado             504407\n",
       "nivel_alcanzado    504407\n",
       "dtype: int64"
      ]
     },
     "execution_count": 3,
     "metadata": {},
     "output_type": "execute_result"
    }
   ],
   "source": [
    "postulantes.count()"
   ]
  },
  {
   "cell_type": "code",
   "execution_count": 4,
   "metadata": {},
   "outputs": [],
   "source": [
    "del postulantes['Unnamed: 0']"
   ]
  },
  {
   "cell_type": "code",
   "execution_count": 8,
   "metadata": {},
   "outputs": [
    {
     "data": {
      "text/html": [
       "<div>\n",
       "<style scoped>\n",
       "    .dataframe tbody tr th:only-of-type {\n",
       "        vertical-align: middle;\n",
       "    }\n",
       "\n",
       "    .dataframe tbody tr th {\n",
       "        vertical-align: top;\n",
       "    }\n",
       "\n",
       "    .dataframe thead th {\n",
       "        text-align: right;\n",
       "    }\n",
       "</style>\n",
       "<table border=\"1\" class=\"dataframe\">\n",
       "  <thead>\n",
       "    <tr style=\"text-align: right;\">\n",
       "      <th></th>\n",
       "      <th>idpostulante</th>\n",
       "      <th>sexo</th>\n",
       "      <th>edad</th>\n",
       "      <th>estado</th>\n",
       "      <th>nivel_alcanzado</th>\n",
       "    </tr>\n",
       "  </thead>\n",
       "  <tbody>\n",
       "    <tr>\n",
       "      <th>0</th>\n",
       "      <td>NM5M</td>\n",
       "      <td>1</td>\n",
       "      <td>47.0</td>\n",
       "      <td>2.0</td>\n",
       "      <td>1.0</td>\n",
       "    </tr>\n",
       "    <tr>\n",
       "      <th>1</th>\n",
       "      <td>5awk</td>\n",
       "      <td>1</td>\n",
       "      <td>55.0</td>\n",
       "      <td>2.0</td>\n",
       "      <td>3.0</td>\n",
       "    </tr>\n",
       "    <tr>\n",
       "      <th>2</th>\n",
       "      <td>ZaO5</td>\n",
       "      <td>1</td>\n",
       "      <td>39.0</td>\n",
       "      <td>0.0</td>\n",
       "      <td>3.0</td>\n",
       "    </tr>\n",
       "    <tr>\n",
       "      <th>3</th>\n",
       "      <td>NdJl</td>\n",
       "      <td>2</td>\n",
       "      <td>49.0</td>\n",
       "      <td>1.0</td>\n",
       "      <td>4.0</td>\n",
       "    </tr>\n",
       "    <tr>\n",
       "      <th>4</th>\n",
       "      <td>eo2p</td>\n",
       "      <td>2</td>\n",
       "      <td>37.0</td>\n",
       "      <td>2.0</td>\n",
       "      <td>4.0</td>\n",
       "    </tr>\n",
       "  </tbody>\n",
       "</table>\n",
       "</div>"
      ],
      "text/plain": [
       "  idpostulante  sexo  edad  estado  nivel_alcanzado\n",
       "0         NM5M     1  47.0     2.0              1.0\n",
       "1         5awk     1  55.0     2.0              3.0\n",
       "2         ZaO5     1  39.0     0.0              3.0\n",
       "3         NdJl     2  49.0     1.0              4.0\n",
       "4         eo2p     2  37.0     2.0              4.0"
      ]
     },
     "execution_count": 8,
     "metadata": {},
     "output_type": "execute_result"
    }
   ],
   "source": [
    "postulantes.head()"
   ]
  },
  {
   "cell_type": "code",
   "execution_count": 9,
   "metadata": {},
   "outputs": [
    {
     "data": {
      "text/plain": [
       "idaviso                 25288\n",
       "nombre_zona             25288\n",
       "tipo_de_trabajo         25288\n",
       "nivel_laboral           25288\n",
       "nombre_area             25288\n",
       "denominacion_empresa    25288\n",
       "dtype: int64"
      ]
     },
     "execution_count": 9,
     "metadata": {},
     "output_type": "execute_result"
    }
   ],
   "source": [
    "avisos.count()"
   ]
  },
  {
   "cell_type": "code",
   "execution_count": 11,
   "metadata": {},
   "outputs": [
    {
     "data": {
      "text/html": [
       "<div>\n",
       "<style scoped>\n",
       "    .dataframe tbody tr th:only-of-type {\n",
       "        vertical-align: middle;\n",
       "    }\n",
       "\n",
       "    .dataframe tbody tr th {\n",
       "        vertical-align: top;\n",
       "    }\n",
       "\n",
       "    .dataframe thead th {\n",
       "        text-align: right;\n",
       "    }\n",
       "</style>\n",
       "<table border=\"1\" class=\"dataframe\">\n",
       "  <thead>\n",
       "    <tr style=\"text-align: right;\">\n",
       "      <th></th>\n",
       "      <th>idaviso</th>\n",
       "      <th>nombre_zona</th>\n",
       "      <th>tipo_de_trabajo</th>\n",
       "      <th>nivel_laboral</th>\n",
       "      <th>nombre_area</th>\n",
       "      <th>denominacion_empresa</th>\n",
       "    </tr>\n",
       "  </thead>\n",
       "  <tbody>\n",
       "    <tr>\n",
       "      <th>0</th>\n",
       "      <td>8725750</td>\n",
       "      <td>1</td>\n",
       "      <td>1</td>\n",
       "      <td>1</td>\n",
       "      <td>0</td>\n",
       "      <td>4005</td>\n",
       "    </tr>\n",
       "    <tr>\n",
       "      <th>1</th>\n",
       "      <td>17903700</td>\n",
       "      <td>1</td>\n",
       "      <td>1</td>\n",
       "      <td>1</td>\n",
       "      <td>7</td>\n",
       "      <td>1640</td>\n",
       "    </tr>\n",
       "    <tr>\n",
       "      <th>2</th>\n",
       "      <td>1000150677</td>\n",
       "      <td>0</td>\n",
       "      <td>1</td>\n",
       "      <td>1</td>\n",
       "      <td>4</td>\n",
       "      <td>1561</td>\n",
       "    </tr>\n",
       "    <tr>\n",
       "      <th>3</th>\n",
       "      <td>1000610287</td>\n",
       "      <td>1</td>\n",
       "      <td>1</td>\n",
       "      <td>1</td>\n",
       "      <td>4</td>\n",
       "      <td>4119</td>\n",
       "    </tr>\n",
       "    <tr>\n",
       "      <th>4</th>\n",
       "      <td>1000872556</td>\n",
       "      <td>1</td>\n",
       "      <td>1</td>\n",
       "      <td>1</td>\n",
       "      <td>5</td>\n",
       "      <td>1267</td>\n",
       "    </tr>\n",
       "  </tbody>\n",
       "</table>\n",
       "</div>"
      ],
      "text/plain": [
       "      idaviso  nombre_zona  tipo_de_trabajo  nivel_laboral  nombre_area  \\\n",
       "0     8725750            1                1              1            0   \n",
       "1    17903700            1                1              1            7   \n",
       "2  1000150677            0                1              1            4   \n",
       "3  1000610287            1                1              1            4   \n",
       "4  1000872556            1                1              1            5   \n",
       "\n",
       "   denominacion_empresa  \n",
       "0                  4005  \n",
       "1                  1640  \n",
       "2                  1561  \n",
       "3                  4119  \n",
       "4                  1267  "
      ]
     },
     "execution_count": 11,
     "metadata": {},
     "output_type": "execute_result"
    }
   ],
   "source": [
    "del avisos['Unnamed: 0']\n",
    "avisos.head()"
   ]
  },
  {
   "cell_type": "code",
   "execution_count": 12,
   "metadata": {},
   "outputs": [],
   "source": [
    "avisos_g = avisos\n",
    "while len(avisos_g) < 504407:\n",
    "    avisos_g = pd.concat([avisos_g, avisos])"
   ]
  },
  {
   "cell_type": "code",
   "execution_count": 13,
   "metadata": {},
   "outputs": [
    {
     "data": {
      "text/plain": [
       "idaviso                 505760\n",
       "nombre_zona             505760\n",
       "tipo_de_trabajo         505760\n",
       "nivel_laboral           505760\n",
       "nombre_area             505760\n",
       "denominacion_empresa    505760\n",
       "dtype: int64"
      ]
     },
     "execution_count": 13,
     "metadata": {},
     "output_type": "execute_result"
    }
   ],
   "source": [
    "avisos_g.count()"
   ]
  },
  {
   "cell_type": "code",
   "execution_count": 14,
   "metadata": {},
   "outputs": [
    {
     "data": {
      "text/plain": [
       "idaviso                 504407\n",
       "nombre_zona             504407\n",
       "tipo_de_trabajo         504407\n",
       "nivel_laboral           504407\n",
       "nombre_area             504407\n",
       "denominacion_empresa    504407\n",
       "dtype: int64"
      ]
     },
     "execution_count": 14,
     "metadata": {},
     "output_type": "execute_result"
    }
   ],
   "source": [
    "avisos_g = avisos_g[:504407]\n",
    "avisos_g = sklearn.utils.shuffle(avisos_g)\n",
    "avisos_g.count()"
   ]
  },
  {
   "cell_type": "code",
   "execution_count": 15,
   "metadata": {},
   "outputs": [],
   "source": [
    "avisos_g = avisos_g.reset_index().drop('index',axis=1)"
   ]
  },
  {
   "cell_type": "code",
   "execution_count": 16,
   "metadata": {},
   "outputs": [
    {
     "data": {
      "text/html": [
       "<div>\n",
       "<style scoped>\n",
       "    .dataframe tbody tr th:only-of-type {\n",
       "        vertical-align: middle;\n",
       "    }\n",
       "\n",
       "    .dataframe tbody tr th {\n",
       "        vertical-align: top;\n",
       "    }\n",
       "\n",
       "    .dataframe thead th {\n",
       "        text-align: right;\n",
       "    }\n",
       "</style>\n",
       "<table border=\"1\" class=\"dataframe\">\n",
       "  <thead>\n",
       "    <tr style=\"text-align: right;\">\n",
       "      <th></th>\n",
       "      <th>idpostulante</th>\n",
       "      <th>sexo</th>\n",
       "      <th>edad</th>\n",
       "      <th>estado</th>\n",
       "      <th>nivel_alcanzado</th>\n",
       "      <th>idaviso</th>\n",
       "      <th>nombre_zona</th>\n",
       "      <th>tipo_de_trabajo</th>\n",
       "      <th>nivel_laboral</th>\n",
       "      <th>nombre_area</th>\n",
       "      <th>denominacion_empresa</th>\n",
       "    </tr>\n",
       "  </thead>\n",
       "  <tbody>\n",
       "    <tr>\n",
       "      <th>0</th>\n",
       "      <td>NM5M</td>\n",
       "      <td>1</td>\n",
       "      <td>47.0</td>\n",
       "      <td>2.0</td>\n",
       "      <td>1.0</td>\n",
       "      <td>1112486615</td>\n",
       "      <td>1</td>\n",
       "      <td>1</td>\n",
       "      <td>2</td>\n",
       "      <td>5</td>\n",
       "      <td>756</td>\n",
       "    </tr>\n",
       "    <tr>\n",
       "      <th>1</th>\n",
       "      <td>5awk</td>\n",
       "      <td>1</td>\n",
       "      <td>55.0</td>\n",
       "      <td>2.0</td>\n",
       "      <td>3.0</td>\n",
       "      <td>1111208753</td>\n",
       "      <td>1</td>\n",
       "      <td>1</td>\n",
       "      <td>2</td>\n",
       "      <td>7</td>\n",
       "      <td>1779</td>\n",
       "    </tr>\n",
       "    <tr>\n",
       "      <th>2</th>\n",
       "      <td>ZaO5</td>\n",
       "      <td>1</td>\n",
       "      <td>39.0</td>\n",
       "      <td>0.0</td>\n",
       "      <td>3.0</td>\n",
       "      <td>1112340083</td>\n",
       "      <td>1</td>\n",
       "      <td>1</td>\n",
       "      <td>0</td>\n",
       "      <td>6</td>\n",
       "      <td>198</td>\n",
       "    </tr>\n",
       "    <tr>\n",
       "      <th>3</th>\n",
       "      <td>NdJl</td>\n",
       "      <td>2</td>\n",
       "      <td>49.0</td>\n",
       "      <td>1.0</td>\n",
       "      <td>4.0</td>\n",
       "      <td>1112513581</td>\n",
       "      <td>0</td>\n",
       "      <td>1</td>\n",
       "      <td>1</td>\n",
       "      <td>0</td>\n",
       "      <td>172</td>\n",
       "    </tr>\n",
       "    <tr>\n",
       "      <th>4</th>\n",
       "      <td>eo2p</td>\n",
       "      <td>2</td>\n",
       "      <td>37.0</td>\n",
       "      <td>2.0</td>\n",
       "      <td>4.0</td>\n",
       "      <td>1112503347</td>\n",
       "      <td>1</td>\n",
       "      <td>1</td>\n",
       "      <td>1</td>\n",
       "      <td>0</td>\n",
       "      <td>2043</td>\n",
       "    </tr>\n",
       "  </tbody>\n",
       "</table>\n",
       "</div>"
      ],
      "text/plain": [
       "  idpostulante  sexo  edad  estado  nivel_alcanzado     idaviso  nombre_zona  \\\n",
       "0         NM5M     1  47.0     2.0              1.0  1112486615            1   \n",
       "1         5awk     1  55.0     2.0              3.0  1111208753            1   \n",
       "2         ZaO5     1  39.0     0.0              3.0  1112340083            1   \n",
       "3         NdJl     2  49.0     1.0              4.0  1112513581            0   \n",
       "4         eo2p     2  37.0     2.0              4.0  1112503347            1   \n",
       "\n",
       "   tipo_de_trabajo  nivel_laboral  nombre_area  denominacion_empresa  \n",
       "0                1              2            5                   756  \n",
       "1                1              2            7                  1779  \n",
       "2                1              0            6                   198  \n",
       "3                1              1            0                   172  \n",
       "4                1              1            0                  2043  "
      ]
     },
     "execution_count": 16,
     "metadata": {},
     "output_type": "execute_result"
    }
   ],
   "source": [
    "a_y_p = pd.concat([postulantes, avisos_g], axis = 1)\n",
    "a_y_p.head()"
   ]
  },
  {
   "cell_type": "code",
   "execution_count": 17,
   "metadata": {},
   "outputs": [
    {
     "data": {
      "text/html": [
       "<div>\n",
       "<style scoped>\n",
       "    .dataframe tbody tr th:only-of-type {\n",
       "        vertical-align: middle;\n",
       "    }\n",
       "\n",
       "    .dataframe tbody tr th {\n",
       "        vertical-align: top;\n",
       "    }\n",
       "\n",
       "    .dataframe thead th {\n",
       "        text-align: right;\n",
       "    }\n",
       "</style>\n",
       "<table border=\"1\" class=\"dataframe\">\n",
       "  <thead>\n",
       "    <tr style=\"text-align: right;\">\n",
       "      <th></th>\n",
       "      <th>idaviso</th>\n",
       "      <th>idpostulante</th>\n",
       "      <th>sexo</th>\n",
       "      <th>edad</th>\n",
       "      <th>estado</th>\n",
       "      <th>nivel_alcanzado</th>\n",
       "      <th>nombre_zona</th>\n",
       "      <th>tipo_de_trabajo</th>\n",
       "      <th>nivel_laboral</th>\n",
       "      <th>nombre_area</th>\n",
       "      <th>denominacion_empresa</th>\n",
       "    </tr>\n",
       "  </thead>\n",
       "  <tbody>\n",
       "    <tr>\n",
       "      <th>0</th>\n",
       "      <td>1112257047</td>\n",
       "      <td>NM5M</td>\n",
       "      <td>1</td>\n",
       "      <td>47.0</td>\n",
       "      <td>2.0</td>\n",
       "      <td>1.0</td>\n",
       "      <td>1</td>\n",
       "      <td>0</td>\n",
       "      <td>3</td>\n",
       "      <td>3</td>\n",
       "      <td>1369</td>\n",
       "    </tr>\n",
       "    <tr>\n",
       "      <th>1</th>\n",
       "      <td>1112257047</td>\n",
       "      <td>1kJqGb</td>\n",
       "      <td>1</td>\n",
       "      <td>34.0</td>\n",
       "      <td>1.0</td>\n",
       "      <td>3.0</td>\n",
       "      <td>1</td>\n",
       "      <td>0</td>\n",
       "      <td>3</td>\n",
       "      <td>3</td>\n",
       "      <td>1369</td>\n",
       "    </tr>\n",
       "    <tr>\n",
       "      <th>2</th>\n",
       "      <td>1112257047</td>\n",
       "      <td>eOE9Rr</td>\n",
       "      <td>1</td>\n",
       "      <td>39.0</td>\n",
       "      <td>0.0</td>\n",
       "      <td>3.0</td>\n",
       "      <td>1</td>\n",
       "      <td>0</td>\n",
       "      <td>3</td>\n",
       "      <td>3</td>\n",
       "      <td>1369</td>\n",
       "    </tr>\n",
       "    <tr>\n",
       "      <th>3</th>\n",
       "      <td>1112257047</td>\n",
       "      <td>Zrx8Xz</td>\n",
       "      <td>1</td>\n",
       "      <td>39.0</td>\n",
       "      <td>2.0</td>\n",
       "      <td>2.0</td>\n",
       "      <td>1</td>\n",
       "      <td>0</td>\n",
       "      <td>3</td>\n",
       "      <td>3</td>\n",
       "      <td>1369</td>\n",
       "    </tr>\n",
       "    <tr>\n",
       "      <th>4</th>\n",
       "      <td>1112257047</td>\n",
       "      <td>ZrKNQY</td>\n",
       "      <td>1</td>\n",
       "      <td>32.0</td>\n",
       "      <td>1.0</td>\n",
       "      <td>3.0</td>\n",
       "      <td>1</td>\n",
       "      <td>0</td>\n",
       "      <td>3</td>\n",
       "      <td>3</td>\n",
       "      <td>1369</td>\n",
       "    </tr>\n",
       "  </tbody>\n",
       "</table>\n",
       "</div>"
      ],
      "text/plain": [
       "      idaviso idpostulante  sexo  edad  estado  nivel_alcanzado  nombre_zona  \\\n",
       "0  1112257047         NM5M     1  47.0     2.0              1.0            1   \n",
       "1  1112257047       1kJqGb     1  34.0     1.0              3.0            1   \n",
       "2  1112257047       eOE9Rr     1  39.0     0.0              3.0            1   \n",
       "3  1112257047       Zrx8Xz     1  39.0     2.0              2.0            1   \n",
       "4  1112257047       ZrKNQY     1  32.0     1.0              3.0            1   \n",
       "\n",
       "   tipo_de_trabajo  nivel_laboral  nombre_area  denominacion_empresa  \n",
       "0                0              3            3                  1369  \n",
       "1                0              3            3                  1369  \n",
       "2                0              3            3                  1369  \n",
       "3                0              3            3                  1369  \n",
       "4                0              3            3                  1369  "
      ]
     },
     "execution_count": 17,
     "metadata": {},
     "output_type": "execute_result"
    }
   ],
   "source": [
    "del merged['Unnamed: 0']\n",
    "merged.head()"
   ]
  },
  {
   "cell_type": "markdown",
   "metadata": {},
   "source": [
    "Excluimos las combinaciones de avisos y postulantes que estén en el data frame de postulaciones, de manera tal que nos queden las \"no postulaciones\"."
   ]
  },
  {
   "cell_type": "code",
   "execution_count": 18,
   "metadata": {},
   "outputs": [
    {
     "data": {
      "text/plain": [
       "idpostulante            504122\n",
       "sexo                    504122\n",
       "edad                    504122\n",
       "estado                  504122\n",
       "nivel_alcanzado         504122\n",
       "idaviso                 504122\n",
       "nombre_zona             504122\n",
       "tipo_de_trabajo         504122\n",
       "nivel_laboral           504122\n",
       "nombre_area             504122\n",
       "denominacion_empresa    504122\n",
       "dtype: int64"
      ]
     },
     "execution_count": 18,
     "metadata": {},
     "output_type": "execute_result"
    }
   ],
   "source": [
    "a_y_p = a_y_p.drop(pd.merge(a_y_p,merged,\\\n",
    "    how='inner',on=['idpostulante','idaviso']).index,axis=0)\n",
    "a_y_p.count()"
   ]
  },
  {
   "cell_type": "code",
   "execution_count": 19,
   "metadata": {},
   "outputs": [
    {
     "data": {
      "text/html": [
       "<div>\n",
       "<style scoped>\n",
       "    .dataframe tbody tr th:only-of-type {\n",
       "        vertical-align: middle;\n",
       "    }\n",
       "\n",
       "    .dataframe tbody tr th {\n",
       "        vertical-align: top;\n",
       "    }\n",
       "\n",
       "    .dataframe thead th {\n",
       "        text-align: right;\n",
       "    }\n",
       "</style>\n",
       "<table border=\"1\" class=\"dataframe\">\n",
       "  <thead>\n",
       "    <tr style=\"text-align: right;\">\n",
       "      <th></th>\n",
       "      <th>idpostulante</th>\n",
       "      <th>sexo</th>\n",
       "      <th>edad</th>\n",
       "      <th>estado</th>\n",
       "      <th>nivel_alcanzado</th>\n",
       "      <th>idaviso</th>\n",
       "      <th>nombre_zona</th>\n",
       "      <th>tipo_de_trabajo</th>\n",
       "      <th>nivel_laboral</th>\n",
       "      <th>nombre_area</th>\n",
       "      <th>denominacion_empresa</th>\n",
       "      <th>sepostulo</th>\n",
       "    </tr>\n",
       "  </thead>\n",
       "  <tbody>\n",
       "    <tr>\n",
       "      <th>285</th>\n",
       "      <td>1v6vO</td>\n",
       "      <td>2</td>\n",
       "      <td>36.0</td>\n",
       "      <td>2.0</td>\n",
       "      <td>4.0</td>\n",
       "      <td>1112440455</td>\n",
       "      <td>1</td>\n",
       "      <td>1</td>\n",
       "      <td>2</td>\n",
       "      <td>3</td>\n",
       "      <td>211</td>\n",
       "      <td>0</td>\n",
       "    </tr>\n",
       "    <tr>\n",
       "      <th>286</th>\n",
       "      <td>85AMz</td>\n",
       "      <td>2</td>\n",
       "      <td>38.0</td>\n",
       "      <td>1.0</td>\n",
       "      <td>3.0</td>\n",
       "      <td>1112099355</td>\n",
       "      <td>1</td>\n",
       "      <td>1</td>\n",
       "      <td>1</td>\n",
       "      <td>0</td>\n",
       "      <td>4002</td>\n",
       "      <td>0</td>\n",
       "    </tr>\n",
       "  </tbody>\n",
       "</table>\n",
       "</div>"
      ],
      "text/plain": [
       "    idpostulante  sexo  edad  estado  nivel_alcanzado     idaviso  \\\n",
       "285        1v6vO     2  36.0     2.0              4.0  1112440455   \n",
       "286        85AMz     2  38.0     1.0              3.0  1112099355   \n",
       "\n",
       "     nombre_zona  tipo_de_trabajo  nivel_laboral  nombre_area  \\\n",
       "285            1                1              2            3   \n",
       "286            1                1              1            0   \n",
       "\n",
       "     denominacion_empresa  sepostulo  \n",
       "285                   211          0  \n",
       "286                  4002          0  "
      ]
     },
     "execution_count": 19,
     "metadata": {},
     "output_type": "execute_result"
    }
   ],
   "source": [
    "a_y_p['sepostulo'] = 0\n",
    "a_y_p.head(2)"
   ]
  },
  {
   "cell_type": "code",
   "execution_count": 20,
   "metadata": {},
   "outputs": [
    {
     "data": {
      "text/plain": [
       "idaviso                 7742942\n",
       "idpostulante            7742942\n",
       "sexo                    7742942\n",
       "edad                    7742942\n",
       "estado                  7742942\n",
       "nivel_alcanzado         7742942\n",
       "nombre_zona             7742942\n",
       "tipo_de_trabajo         7742942\n",
       "nivel_laboral           7742942\n",
       "nombre_area             7742942\n",
       "denominacion_empresa    7742942\n",
       "sepostulo               7742942\n",
       "dtype: int64"
      ]
     },
     "execution_count": 20,
     "metadata": {},
     "output_type": "execute_result"
    }
   ],
   "source": [
    "merged['sepostulo'] = 1\n",
    "merged.count()"
   ]
  },
  {
   "cell_type": "code",
   "execution_count": 21,
   "metadata": {},
   "outputs": [
    {
     "data": {
      "text/plain": [
       "denominacion_empresa    8247064\n",
       "edad                    8247064\n",
       "estado                  8247064\n",
       "idaviso                 8247064\n",
       "idpostulante            8247064\n",
       "nivel_alcanzado         8247064\n",
       "nivel_laboral           8247064\n",
       "nombre_area             8247064\n",
       "nombre_zona             8247064\n",
       "sepostulo               8247064\n",
       "sexo                    8247064\n",
       "tipo_de_trabajo         8247064\n",
       "dtype: int64"
      ]
     },
     "execution_count": 21,
     "metadata": {},
     "output_type": "execute_result"
    }
   ],
   "source": [
    "train_data = pd.concat([a_y_p, merged])\n",
    "train_data.count()"
   ]
  },
  {
   "cell_type": "code",
   "execution_count": 22,
   "metadata": {},
   "outputs": [
    {
     "data": {
      "text/html": [
       "<div>\n",
       "<style scoped>\n",
       "    .dataframe tbody tr th:only-of-type {\n",
       "        vertical-align: middle;\n",
       "    }\n",
       "\n",
       "    .dataframe tbody tr th {\n",
       "        vertical-align: top;\n",
       "    }\n",
       "\n",
       "    .dataframe thead th {\n",
       "        text-align: right;\n",
       "    }\n",
       "</style>\n",
       "<table border=\"1\" class=\"dataframe\">\n",
       "  <thead>\n",
       "    <tr style=\"text-align: right;\">\n",
       "      <th></th>\n",
       "      <th>denominacion_empresa</th>\n",
       "      <th>edad</th>\n",
       "      <th>estado</th>\n",
       "      <th>idaviso</th>\n",
       "      <th>idpostulante</th>\n",
       "      <th>nivel_alcanzado</th>\n",
       "      <th>nivel_laboral</th>\n",
       "      <th>nombre_area</th>\n",
       "      <th>nombre_zona</th>\n",
       "      <th>sepostulo</th>\n",
       "      <th>sexo</th>\n",
       "      <th>tipo_de_trabajo</th>\n",
       "    </tr>\n",
       "  </thead>\n",
       "  <tbody>\n",
       "    <tr>\n",
       "      <th>285</th>\n",
       "      <td>211</td>\n",
       "      <td>36.0</td>\n",
       "      <td>2.0</td>\n",
       "      <td>1112440455</td>\n",
       "      <td>1v6vO</td>\n",
       "      <td>4.0</td>\n",
       "      <td>2</td>\n",
       "      <td>3</td>\n",
       "      <td>1</td>\n",
       "      <td>0</td>\n",
       "      <td>2</td>\n",
       "      <td>1</td>\n",
       "    </tr>\n",
       "    <tr>\n",
       "      <th>286</th>\n",
       "      <td>4002</td>\n",
       "      <td>38.0</td>\n",
       "      <td>1.0</td>\n",
       "      <td>1112099355</td>\n",
       "      <td>85AMz</td>\n",
       "      <td>3.0</td>\n",
       "      <td>1</td>\n",
       "      <td>0</td>\n",
       "      <td>1</td>\n",
       "      <td>0</td>\n",
       "      <td>2</td>\n",
       "      <td>1</td>\n",
       "    </tr>\n",
       "    <tr>\n",
       "      <th>287</th>\n",
       "      <td>3737</td>\n",
       "      <td>66.0</td>\n",
       "      <td>0.0</td>\n",
       "      <td>1112212047</td>\n",
       "      <td>aXm1J</td>\n",
       "      <td>3.0</td>\n",
       "      <td>0</td>\n",
       "      <td>3</td>\n",
       "      <td>1</td>\n",
       "      <td>0</td>\n",
       "      <td>2</td>\n",
       "      <td>1</td>\n",
       "    </tr>\n",
       "    <tr>\n",
       "      <th>288</th>\n",
       "      <td>3714</td>\n",
       "      <td>38.0</td>\n",
       "      <td>1.0</td>\n",
       "      <td>1112397254</td>\n",
       "      <td>6VEEO</td>\n",
       "      <td>4.0</td>\n",
       "      <td>1</td>\n",
       "      <td>3</td>\n",
       "      <td>1</td>\n",
       "      <td>0</td>\n",
       "      <td>2</td>\n",
       "      <td>1</td>\n",
       "    </tr>\n",
       "    <tr>\n",
       "      <th>289</th>\n",
       "      <td>2159</td>\n",
       "      <td>42.0</td>\n",
       "      <td>2.0</td>\n",
       "      <td>1111772230</td>\n",
       "      <td>ezqvj</td>\n",
       "      <td>4.0</td>\n",
       "      <td>3</td>\n",
       "      <td>0</td>\n",
       "      <td>0</td>\n",
       "      <td>0</td>\n",
       "      <td>2</td>\n",
       "      <td>1</td>\n",
       "    </tr>\n",
       "  </tbody>\n",
       "</table>\n",
       "</div>"
      ],
      "text/plain": [
       "     denominacion_empresa  edad  estado     idaviso idpostulante  \\\n",
       "285                   211  36.0     2.0  1112440455        1v6vO   \n",
       "286                  4002  38.0     1.0  1112099355        85AMz   \n",
       "287                  3737  66.0     0.0  1112212047        aXm1J   \n",
       "288                  3714  38.0     1.0  1112397254        6VEEO   \n",
       "289                  2159  42.0     2.0  1111772230        ezqvj   \n",
       "\n",
       "     nivel_alcanzado  nivel_laboral  nombre_area  nombre_zona  sepostulo  \\\n",
       "285              4.0              2            3            1          0   \n",
       "286              3.0              1            0            1          0   \n",
       "287              3.0              0            3            1          0   \n",
       "288              4.0              1            3            1          0   \n",
       "289              4.0              3            0            0          0   \n",
       "\n",
       "     sexo  tipo_de_trabajo  \n",
       "285     2                1  \n",
       "286     2                1  \n",
       "287     2                1  \n",
       "288     2                1  \n",
       "289     2                1  "
      ]
     },
     "execution_count": 22,
     "metadata": {},
     "output_type": "execute_result"
    }
   ],
   "source": [
    "train_data.head()"
   ]
  },
  {
   "cell_type": "code",
   "execution_count": 23,
   "metadata": {},
   "outputs": [],
   "source": [
    "from sklearn.model_selection import train_test_split\n",
    "from sklearn.metrics import accuracy_score\n",
    "from sklearn import preprocessing\n",
    "from sklearn.preprocessing import LabelEncoder\n",
    "from collections import defaultdict"
   ]
  },
  {
   "cell_type": "code",
   "execution_count": 24,
   "metadata": {},
   "outputs": [],
   "source": [
    "X = train_data[['denominacion_empresa','edad','estado','nivel_alcanzado'\\\n",
    "                ,'nivel_laboral','nombre_area','nombre_zona','sexo','tipo_de_trabajo']]\n",
    "Y = train_data['sepostulo']"
   ]
  },
  {
   "cell_type": "code",
   "execution_count": 25,
   "metadata": {},
   "outputs": [],
   "source": [
    "X_train, X_test, y_train, y_test = \\\n",
    "    train_test_split(X, Y, test_size=0.10, random_state=7506)"
   ]
  },
  {
   "cell_type": "code",
   "execution_count": 26,
   "metadata": {},
   "outputs": [
    {
     "name": "stdout",
     "output_type": "stream",
     "text": [
      "Tamaño de X:\t\t 8247064 \n",
      "Tamaño de X_train:\t 7422357 \n",
      "Tamaño de X_test:\t 824707 \n",
      "\n",
      "Tamaño de y:\t\t 8247064 \n",
      "Tamaño de y_train:\t 7422357 \n",
      "Tamaño de y_test:\t 824707\n"
     ]
    }
   ],
   "source": [
    "print(\"Tamaño de X:\\t\\t\", len(X), \"\\nTamaño de X_train:\\t\", \\\n",
    "      len(X_train), \"\\nTamaño de X_test:\\t\", len(X_test), \\\n",
    "      \"\\n\\nTamaño de y:\\t\\t\", len(Y), \"\\nTamaño de y_train:\\t\",\\\n",
    "      len(y_train), \"\\nTamaño de y_test:\\t\", len(y_test))"
   ]
  },
  {
   "cell_type": "code",
   "execution_count": 27,
   "metadata": {},
   "outputs": [],
   "source": [
    "import winsound\n",
    "def play_beep():\n",
    "    duration = 500  # millisecond\n",
    "    freq = 480  # Hz\n",
    "    winsound.Beep(freq, duration)\n",
    "play_beep()"
   ]
  },
  {
   "cell_type": "code",
   "execution_count": 28,
   "metadata": {},
   "outputs": [],
   "source": [
    "from sklearn.preprocessing import StandardScaler\n",
    "sc = StandardScaler()\n",
    "sc.fit(X_train)\n",
    "\n",
    "datos_train_std = sc.transform(X_train)\n",
    "datos_test_std = sc.transform(X_test)"
   ]
  },
  {
   "cell_type": "code",
   "execution_count": 29,
   "metadata": {},
   "outputs": [
    {
     "name": "stderr",
     "output_type": "stream",
     "text": [
      "c:\\users\\i860341\\appdata\\local\\programs\\python\\python36\\lib\\site-packages\\sklearn\\linear_model\\stochastic_gradient.py:117: DeprecationWarning: n_iter parameter is deprecated in 0.19 and will be removed in 0.21. Use max_iter and tol instead.\n",
      "  DeprecationWarning)\n"
     ]
    }
   ],
   "source": [
    "from sklearn.linear_model import Perceptron\n",
    "\n",
    "ppn = Perceptron(n_iter = 40,\n",
    "                 eta0 = 0.1,\n",
    "                 random_state = 0)\n",
    "\n",
    "ppn.fit(datos_train_std, y_train)\n",
    "play_beep()"
   ]
  },
  {
   "cell_type": "code",
   "execution_count": 30,
   "metadata": {},
   "outputs": [
    {
     "name": "stdout",
     "output_type": "stream",
     "text": [
      "92.82\n"
     ]
    }
   ],
   "source": [
    "from sklearn.metrics import accuracy_score\n",
    "# Probamos la precisión con el set de prueba\n",
    "\n",
    "pred = ppn.predict(datos_test_std)\n",
    "play_beep()\n",
    "precision = round(accuracy_score(y_test, pred) * 100, 2)\n",
    "print(precision)"
   ]
  },
  {
   "cell_type": "code",
   "execution_count": 31,
   "metadata": {},
   "outputs": [
    {
     "data": {
      "text/html": [
       "<div>\n",
       "<style scoped>\n",
       "    .dataframe tbody tr th:only-of-type {\n",
       "        vertical-align: middle;\n",
       "    }\n",
       "\n",
       "    .dataframe tbody tr th {\n",
       "        vertical-align: top;\n",
       "    }\n",
       "\n",
       "    .dataframe thead th {\n",
       "        text-align: right;\n",
       "    }\n",
       "</style>\n",
       "<table border=\"1\" class=\"dataframe\">\n",
       "  <thead>\n",
       "    <tr style=\"text-align: right;\">\n",
       "      <th></th>\n",
       "      <th>id</th>\n",
       "      <th>idaviso</th>\n",
       "      <th>idpostulante</th>\n",
       "    </tr>\n",
       "  </thead>\n",
       "  <tbody>\n",
       "    <tr>\n",
       "      <th>0</th>\n",
       "      <td>0</td>\n",
       "      <td>739260</td>\n",
       "      <td>6M9ZQR</td>\n",
       "    </tr>\n",
       "    <tr>\n",
       "      <th>1</th>\n",
       "      <td>1</td>\n",
       "      <td>739260</td>\n",
       "      <td>6v1xdL</td>\n",
       "    </tr>\n",
       "    <tr>\n",
       "      <th>2</th>\n",
       "      <td>2</td>\n",
       "      <td>739260</td>\n",
       "      <td>ezRKm9</td>\n",
       "    </tr>\n",
       "    <tr>\n",
       "      <th>3</th>\n",
       "      <td>3</td>\n",
       "      <td>758580</td>\n",
       "      <td>1Q35ej</td>\n",
       "    </tr>\n",
       "    <tr>\n",
       "      <th>4</th>\n",
       "      <td>4</td>\n",
       "      <td>758580</td>\n",
       "      <td>EAN4J6</td>\n",
       "    </tr>\n",
       "  </tbody>\n",
       "</table>\n",
       "</div>"
      ],
      "text/plain": [
       "   id  idaviso idpostulante\n",
       "0   0   739260       6M9ZQR\n",
       "1   1   739260       6v1xdL\n",
       "2   2   739260       ezRKm9\n",
       "3   3   758580       1Q35ej\n",
       "4   4   758580       EAN4J6"
      ]
     },
     "execution_count": 31,
     "metadata": {},
     "output_type": "execute_result"
    }
   ],
   "source": [
    "test_final = pd.read_csv('./data/test_final_100k.csv', low_memory=False)\n",
    "test_final.head()"
   ]
  },
  {
   "cell_type": "code",
   "execution_count": 32,
   "metadata": {},
   "outputs": [
    {
     "data": {
      "text/plain": [
       "id                 100000\n",
       "idaviso            100000\n",
       "idpostulante       100000\n",
       "sexo               100000\n",
       "edad               100000\n",
       "estado             100000\n",
       "nivel_alcanzado    100000\n",
       "dtype: int64"
      ]
     },
     "execution_count": 32,
     "metadata": {},
     "output_type": "execute_result"
    }
   ],
   "source": [
    "a_predecir = pd.merge(test_final, postulantes, on = 'idpostulante', how = 'left')\n",
    "a_predecir.count()"
   ]
  },
  {
   "cell_type": "code",
   "execution_count": 33,
   "metadata": {},
   "outputs": [
    {
     "data": {
      "text/plain": [
       "id                      100000\n",
       "idaviso                 100000\n",
       "idpostulante            100000\n",
       "sexo                    100000\n",
       "edad                    100000\n",
       "estado                  100000\n",
       "nivel_alcanzado         100000\n",
       "nombre_zona             100000\n",
       "tipo_de_trabajo         100000\n",
       "nivel_laboral           100000\n",
       "nombre_area             100000\n",
       "denominacion_empresa    100000\n",
       "dtype: int64"
      ]
     },
     "execution_count": 33,
     "metadata": {},
     "output_type": "execute_result"
    }
   ],
   "source": [
    "a_predecir = pd.merge(a_predecir, avisos, on = 'idaviso', how = 'left')\n",
    "a_predecir.count()"
   ]
  },
  {
   "cell_type": "code",
   "execution_count": 34,
   "metadata": {},
   "outputs": [
    {
     "data": {
      "text/html": [
       "<div>\n",
       "<style scoped>\n",
       "    .dataframe tbody tr th:only-of-type {\n",
       "        vertical-align: middle;\n",
       "    }\n",
       "\n",
       "    .dataframe tbody tr th {\n",
       "        vertical-align: top;\n",
       "    }\n",
       "\n",
       "    .dataframe thead th {\n",
       "        text-align: right;\n",
       "    }\n",
       "</style>\n",
       "<table border=\"1\" class=\"dataframe\">\n",
       "  <thead>\n",
       "    <tr style=\"text-align: right;\">\n",
       "      <th></th>\n",
       "      <th>id</th>\n",
       "      <th>idaviso</th>\n",
       "      <th>idpostulante</th>\n",
       "      <th>sexo</th>\n",
       "      <th>edad</th>\n",
       "      <th>estado</th>\n",
       "      <th>nivel_alcanzado</th>\n",
       "      <th>nombre_zona</th>\n",
       "      <th>tipo_de_trabajo</th>\n",
       "      <th>nivel_laboral</th>\n",
       "      <th>nombre_area</th>\n",
       "      <th>denominacion_empresa</th>\n",
       "    </tr>\n",
       "  </thead>\n",
       "  <tbody>\n",
       "    <tr>\n",
       "      <th>0</th>\n",
       "      <td>0</td>\n",
       "      <td>739260</td>\n",
       "      <td>6M9ZQR</td>\n",
       "      <td>1</td>\n",
       "      <td>34.0</td>\n",
       "      <td>2.0</td>\n",
       "      <td>4.0</td>\n",
       "      <td>0</td>\n",
       "      <td>1</td>\n",
       "      <td>2</td>\n",
       "      <td>0</td>\n",
       "      <td>465</td>\n",
       "    </tr>\n",
       "    <tr>\n",
       "      <th>1</th>\n",
       "      <td>1</td>\n",
       "      <td>739260</td>\n",
       "      <td>6v1xdL</td>\n",
       "      <td>2</td>\n",
       "      <td>30.0</td>\n",
       "      <td>2.0</td>\n",
       "      <td>2.0</td>\n",
       "      <td>0</td>\n",
       "      <td>1</td>\n",
       "      <td>2</td>\n",
       "      <td>0</td>\n",
       "      <td>465</td>\n",
       "    </tr>\n",
       "    <tr>\n",
       "      <th>2</th>\n",
       "      <td>2</td>\n",
       "      <td>739260</td>\n",
       "      <td>ezRKm9</td>\n",
       "      <td>1</td>\n",
       "      <td>26.0</td>\n",
       "      <td>2.0</td>\n",
       "      <td>3.0</td>\n",
       "      <td>0</td>\n",
       "      <td>1</td>\n",
       "      <td>2</td>\n",
       "      <td>0</td>\n",
       "      <td>465</td>\n",
       "    </tr>\n",
       "    <tr>\n",
       "      <th>3</th>\n",
       "      <td>3</td>\n",
       "      <td>758580</td>\n",
       "      <td>1Q35ej</td>\n",
       "      <td>2</td>\n",
       "      <td>31.0</td>\n",
       "      <td>2.0</td>\n",
       "      <td>4.0</td>\n",
       "      <td>0</td>\n",
       "      <td>1</td>\n",
       "      <td>3</td>\n",
       "      <td>8</td>\n",
       "      <td>3895</td>\n",
       "    </tr>\n",
       "    <tr>\n",
       "      <th>4</th>\n",
       "      <td>4</td>\n",
       "      <td>758580</td>\n",
       "      <td>EAN4J6</td>\n",
       "      <td>1</td>\n",
       "      <td>53.0</td>\n",
       "      <td>0.0</td>\n",
       "      <td>3.0</td>\n",
       "      <td>0</td>\n",
       "      <td>1</td>\n",
       "      <td>3</td>\n",
       "      <td>8</td>\n",
       "      <td>3895</td>\n",
       "    </tr>\n",
       "  </tbody>\n",
       "</table>\n",
       "</div>"
      ],
      "text/plain": [
       "   id  idaviso idpostulante  sexo  edad  estado  nivel_alcanzado  nombre_zona  \\\n",
       "0   0   739260       6M9ZQR     1  34.0     2.0              4.0            0   \n",
       "1   1   739260       6v1xdL     2  30.0     2.0              2.0            0   \n",
       "2   2   739260       ezRKm9     1  26.0     2.0              3.0            0   \n",
       "3   3   758580       1Q35ej     2  31.0     2.0              4.0            0   \n",
       "4   4   758580       EAN4J6     1  53.0     0.0              3.0            0   \n",
       "\n",
       "   tipo_de_trabajo  nivel_laboral  nombre_area  denominacion_empresa  \n",
       "0                1              2            0                   465  \n",
       "1                1              2            0                   465  \n",
       "2                1              2            0                   465  \n",
       "3                1              3            8                  3895  \n",
       "4                1              3            8                  3895  "
      ]
     },
     "execution_count": 34,
     "metadata": {},
     "output_type": "execute_result"
    }
   ],
   "source": [
    "a_predecir.head()"
   ]
  },
  {
   "cell_type": "code",
   "execution_count": 35,
   "metadata": {},
   "outputs": [],
   "source": [
    "del a_predecir['id']\n",
    "del a_predecir['idaviso']\n",
    "del a_predecir['idpostulante']\n",
    "array_a_predecir = a_predecir.values"
   ]
  },
  {
   "cell_type": "code",
   "execution_count": 36,
   "metadata": {},
   "outputs": [],
   "source": [
    "prediccion = ppn.predict(a_predecir)"
   ]
  },
  {
   "cell_type": "code",
   "execution_count": 37,
   "metadata": {},
   "outputs": [
    {
     "data": {
      "text/html": [
       "<div>\n",
       "<style scoped>\n",
       "    .dataframe tbody tr th:only-of-type {\n",
       "        vertical-align: middle;\n",
       "    }\n",
       "\n",
       "    .dataframe tbody tr th {\n",
       "        vertical-align: top;\n",
       "    }\n",
       "\n",
       "    .dataframe thead th {\n",
       "        text-align: right;\n",
       "    }\n",
       "</style>\n",
       "<table border=\"1\" class=\"dataframe\">\n",
       "  <thead>\n",
       "    <tr style=\"text-align: right;\">\n",
       "      <th></th>\n",
       "      <th>id</th>\n",
       "      <th>idaviso</th>\n",
       "      <th>idpostulante</th>\n",
       "      <th>sepostulo</th>\n",
       "    </tr>\n",
       "  </thead>\n",
       "  <tbody>\n",
       "    <tr>\n",
       "      <th>0</th>\n",
       "      <td>0</td>\n",
       "      <td>739260</td>\n",
       "      <td>6M9ZQR</td>\n",
       "      <td>1</td>\n",
       "    </tr>\n",
       "    <tr>\n",
       "      <th>1</th>\n",
       "      <td>1</td>\n",
       "      <td>739260</td>\n",
       "      <td>6v1xdL</td>\n",
       "      <td>1</td>\n",
       "    </tr>\n",
       "    <tr>\n",
       "      <th>2</th>\n",
       "      <td>2</td>\n",
       "      <td>739260</td>\n",
       "      <td>ezRKm9</td>\n",
       "      <td>1</td>\n",
       "    </tr>\n",
       "    <tr>\n",
       "      <th>3</th>\n",
       "      <td>3</td>\n",
       "      <td>758580</td>\n",
       "      <td>1Q35ej</td>\n",
       "      <td>1</td>\n",
       "    </tr>\n",
       "    <tr>\n",
       "      <th>4</th>\n",
       "      <td>4</td>\n",
       "      <td>758580</td>\n",
       "      <td>EAN4J6</td>\n",
       "      <td>1</td>\n",
       "    </tr>\n",
       "  </tbody>\n",
       "</table>\n",
       "</div>"
      ],
      "text/plain": [
       "   id  idaviso idpostulante  sepostulo\n",
       "0   0   739260       6M9ZQR          1\n",
       "1   1   739260       6v1xdL          1\n",
       "2   2   739260       ezRKm9          1\n",
       "3   3   758580       1Q35ej          1\n",
       "4   4   758580       EAN4J6          1"
      ]
     },
     "execution_count": 37,
     "metadata": {},
     "output_type": "execute_result"
    }
   ],
   "source": [
    "test_final['sepostulo'] = prediccion\n",
    "test_final.head()"
   ]
  },
  {
   "cell_type": "code",
   "execution_count": 38,
   "metadata": {},
   "outputs": [
    {
     "data": {
      "text/plain": [
       "1    100000\n",
       "Name: sepostulo, dtype: int64"
      ]
     },
     "execution_count": 38,
     "metadata": {},
     "output_type": "execute_result"
    }
   ],
   "source": [
    "test_final.sepostulo.value_counts()"
   ]
  },
  {
   "cell_type": "code",
   "execution_count": 52,
   "metadata": {},
   "outputs": [],
   "source": [
    "del test_final['idaviso']\n",
    "del test_final['idpostulante']\n",
    "test_final.set_index('id', inplace = True)\n",
    "test_final.to_csv('./submits/submit_perceptron2.csv', encoding='utf-8')"
   ]
  }
 ],
 "metadata": {
  "kernelspec": {
   "display_name": "Python 3",
   "language": "python",
   "name": "python3"
  },
  "language_info": {
   "codemirror_mode": {
    "name": "ipython",
    "version": 3
   },
   "file_extension": ".py",
   "mimetype": "text/x-python",
   "name": "python",
   "nbconvert_exporter": "python",
   "pygments_lexer": "ipython3",
   "version": "3.6.5"
  }
 },
 "nbformat": 4,
 "nbformat_minor": 2
}
