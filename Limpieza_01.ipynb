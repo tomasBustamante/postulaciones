{
 "cells": [
  {
   "cell_type": "code",
   "execution_count": 1,
   "metadata": {},
   "outputs": [],
   "source": [
    "import pandas as pd\n",
    "import numpy as np\n",
    "import datetime\n",
    "import sklearn"
   ]
  },
  {
   "cell_type": "markdown",
   "metadata": {},
   "source": [
    "## Lectura de datos"
   ]
  },
  {
   "cell_type": "markdown",
   "metadata": {},
   "source": [
    "### Datos originales"
   ]
  },
  {
   "cell_type": "code",
   "execution_count": 2,
   "metadata": {},
   "outputs": [],
   "source": [
    "# Postulantes\n",
    "postulantes_educacion = pd.read_csv(\\\n",
    "    './data/fiuba_1_postulantes_educacion.csv', low_memory=False)\n",
    "postulantes_sexo_y_edad = pd.read_csv(\\\n",
    "    './data/fiuba_2_postulantes_genero_y_edad.csv', low_memory=False)\n",
    "\n",
    "# Avisos\n",
    "avisos_online = pd.read_csv(\\\n",
    "    './data/fiuba_5_avisos_online.csv', low_memory=False)\n",
    "avisos_detalle = pd.read_csv(\\\n",
    "    './data/fiuba_6_avisos_detalle.csv', low_memory=False)\n",
    "\n",
    "# Transacciones\n",
    "vistas = pd.read_csv(\\\n",
    "    './data/fiuba_3_vistas.csv', low_memory=False)\n",
    "postulaciones = pd.read_csv(\\\n",
    "    './data/fiuba_4_postulaciones.csv', low_memory=False)"
   ]
  },
  {
   "cell_type": "markdown",
   "metadata": {},
   "source": [
    "### Datos hasta 15 de abril"
   ]
  },
  {
   "cell_type": "code",
   "execution_count": 3,
   "metadata": {},
   "outputs": [],
   "source": [
    "# Postulantes\n",
    "h15_postulantes_educacion = pd.read_csv(\\\n",
    "    './data/fiuba_hasta_15_abril/entrega6/fiuba_1_postulantes_educacion.csv',\\\n",
    "    low_memory=False)\n",
    "h15_postulantes_sexo_y_edad = pd.read_csv(\\\n",
    "    './data/fiuba_hasta_15_abril/entrega6/fiuba_2_postulantes_genero_y_edad.csv',\\\n",
    "    low_memory=False)\n",
    "\n",
    "# Avisos\n",
    "h15_avisos_online = pd.read_csv(\\\n",
    "    './data/fiuba_hasta_15_abril/entrega6/fiuba_5_avisos_online.csv',\\\n",
    "    low_memory=False)\n",
    "h15_avisos_detalle = pd.read_csv(\\\n",
    "    './data/fiuba_hasta_15_abril/entrega6/fiuba_6_avisos_detalle.csv',\\\n",
    "    low_memory=False)\n",
    "\n",
    "# Transacciones\n",
    "h15_vistas = pd.read_csv(\\\n",
    "    './data/fiuba_hasta_15_abril/entrega6/fiuba_3_vistas.csv',\\\n",
    "    low_memory=False)\n",
    "h15_postulaciones = pd.read_csv(\\\n",
    "    './data/fiuba_hasta_15_abril/entrega6/fiuba_4_postulaciones.csv',\\\n",
    "    low_memory=False)"
   ]
  },
  {
   "cell_type": "markdown",
   "metadata": {},
   "source": [
    "### Datos desde el 15 de abril"
   ]
  },
  {
   "cell_type": "code",
   "execution_count": 4,
   "metadata": {},
   "outputs": [],
   "source": [
    "# Postulantes\n",
    "d15_postulantes_educacion = pd.read_csv(\\\n",
    "    './data/fiuba_desde_15_Abril/fiuba_1_postulantes_educacion.csv',\\\n",
    "    low_memory=False)\n",
    "d15_postulantes_sexo_y_edad = pd.read_csv(\\\n",
    "    './data/fiuba_desde_15_Abril/fiuba_2_postulantes_genero_y_edad.csv',\\\n",
    "    low_memory=False)\n",
    "\n",
    "# Avisos\n",
    "d15_avisos_detalle = pd.read_csv(\\\n",
    "    './data/fiuba_desde_15_Abril/fiuba_6_avisos_detalle.csv',\\\n",
    "    low_memory=False)\n",
    "\n",
    "# Transacciones\n",
    "d15_vistas = pd.read_csv(\\\n",
    "    './data/fiuba_desde_15_Abril/fiuba_3_vistas.csv',\\\n",
    "    low_memory=False)"
   ]
  },
  {
   "cell_type": "markdown",
   "metadata": {},
   "source": [
    "### Detalle de avisos faltantes"
   ]
  },
  {
   "cell_type": "code",
   "execution_count": 5,
   "metadata": {},
   "outputs": [],
   "source": [
    "# Avisos\n",
    "m_avisos_detalle = pd.read_csv(\\\n",
    "    './data/fiuba_6_avisos_detalle_missing_nivel_laboral.csv',\\\n",
    "    low_memory=False)"
   ]
  },
  {
   "cell_type": "markdown",
   "metadata": {},
   "source": [
    "## Merge de todos los datos"
   ]
  },
  {
   "cell_type": "markdown",
   "metadata": {},
   "source": [
    "### Merge de los postulantes"
   ]
  },
  {
   "cell_type": "markdown",
   "metadata": {},
   "source": [
    "Agregamos columna con ponderación del nivel de estudios alcanzado."
   ]
  },
  {
   "cell_type": "code",
   "execution_count": 6,
   "metadata": {},
   "outputs": [],
   "source": [
    "def categorizar_estudios(x):\n",
    "    if((x is np.nan) | (x == 'Otro')):\n",
    "        return 0\n",
    "    if(x == 'Secundario'):\n",
    "        return 1\n",
    "    if(x == 'Terciario/Técnico'):\n",
    "        return 2\n",
    "    if(x == 'Universitario'):\n",
    "        return 3\n",
    "    if((x == 'Posgrado') | (x == 'Master') | (x == 'Doctorado')):\n",
    "        return 4\n",
    "\n",
    "postulantes_educacion['nivel_alcanzado'] = postulantes_educacion['nombre']\\\n",
    "    .apply(lambda x: categorizar_estudios(x))\n",
    "h15_postulantes_educacion['nivel_alcanzado'] = h15_postulantes_educacion['nombre']\\\n",
    "    .apply(lambda x: categorizar_estudios(x))\n",
    "d15_postulantes_educacion['nivel_alcanzado'] = d15_postulantes_educacion['nombre']\\\n",
    "    .apply(lambda x: categorizar_estudios(x))\n",
    "#postulantes_educacion.head()"
   ]
  },
  {
   "cell_type": "markdown",
   "metadata": {},
   "source": [
    "Unimos todos los dataframes de la educación de los postulantes y nos quedamos solo con los registros del máximo nivel de estudios alcanzado."
   ]
  },
  {
   "cell_type": "code",
   "execution_count": 7,
   "metadata": {},
   "outputs": [],
   "source": [
    "m_postulantes_educacion = pd.concat([postulantes_educacion, \\\n",
    "                                 h15_postulantes_educacion, \\\n",
    "                                 d15_postulantes_educacion])"
   ]
  },
  {
   "cell_type": "code",
   "execution_count": 8,
   "metadata": {},
   "outputs": [],
   "source": [
    "m_postulantes_educacion = m_postulantes_educacion \\\n",
    "    .sort_values('nivel_alcanzado', ascending = False) \\\n",
    "    .drop_duplicates('idpostulante')"
   ]
  },
  {
   "cell_type": "code",
   "execution_count": 9,
   "metadata": {},
   "outputs": [
    {
     "data": {
      "text/html": [
       "<div>\n",
       "<style scoped>\n",
       "    .dataframe tbody tr th:only-of-type {\n",
       "        vertical-align: middle;\n",
       "    }\n",
       "\n",
       "    .dataframe tbody tr th {\n",
       "        vertical-align: top;\n",
       "    }\n",
       "\n",
       "    .dataframe thead th {\n",
       "        text-align: right;\n",
       "    }\n",
       "</style>\n",
       "<table border=\"1\" class=\"dataframe\">\n",
       "  <thead>\n",
       "    <tr style=\"text-align: right;\">\n",
       "      <th></th>\n",
       "      <th>idpostulante</th>\n",
       "      <th>estado</th>\n",
       "      <th>nivel_alcanzado</th>\n",
       "    </tr>\n",
       "  </thead>\n",
       "  <tbody>\n",
       "    <tr>\n",
       "      <th>0</th>\n",
       "      <td>NdJl</td>\n",
       "      <td>En Curso</td>\n",
       "      <td>4</td>\n",
       "    </tr>\n",
       "    <tr>\n",
       "      <th>237833</th>\n",
       "      <td>e4oaA2</td>\n",
       "      <td>En Curso</td>\n",
       "      <td>4</td>\n",
       "    </tr>\n",
       "  </tbody>\n",
       "</table>\n",
       "</div>"
      ],
      "text/plain": [
       "       idpostulante    estado  nivel_alcanzado\n",
       "0              NdJl  En Curso                4\n",
       "237833       e4oaA2  En Curso                4"
      ]
     },
     "execution_count": 9,
     "metadata": {},
     "output_type": "execute_result"
    }
   ],
   "source": [
    "del m_postulantes_educacion['nombre']\n",
    "m_postulantes_educacion.head(2)"
   ]
  },
  {
   "cell_type": "markdown",
   "metadata": {},
   "source": [
    "Unimos (concat) todos los dataframes de sexo y edad de los postulantes y luego los unimos (outer join) con los dataframes de los niveles de educación de los postulantes previamente tratados."
   ]
  },
  {
   "cell_type": "code",
   "execution_count": 10,
   "metadata": {},
   "outputs": [],
   "source": [
    "m_postulantes_sexo_y_edad = pd.concat([postulantes_sexo_y_edad, \\\n",
    "                                      h15_postulantes_sexo_y_edad, \\\n",
    "                                      d15_postulantes_sexo_y_edad])"
   ]
  },
  {
   "cell_type": "code",
   "execution_count": 11,
   "metadata": {},
   "outputs": [
    {
     "data": {
      "text/plain": [
       "idpostulante       780020\n",
       "fechanacimiento    745747\n",
       "sexo               780020\n",
       "dtype: int64"
      ]
     },
     "execution_count": 11,
     "metadata": {},
     "output_type": "execute_result"
    }
   ],
   "source": [
    "m_postulantes_sexo_y_edad.count()"
   ]
  },
  {
   "cell_type": "code",
   "execution_count": 12,
   "metadata": {},
   "outputs": [
    {
     "data": {
      "text/plain": [
       "idpostulante       505382\n",
       "fechanacimiento    478699\n",
       "sexo               505382\n",
       "dtype: int64"
      ]
     },
     "execution_count": 12,
     "metadata": {},
     "output_type": "execute_result"
    }
   ],
   "source": [
    "m_postulantes_sexo_y_edad = m_postulantes_sexo_y_edad.drop_duplicates()\n",
    "m_postulantes_sexo_y_edad.count()"
   ]
  },
  {
   "cell_type": "code",
   "execution_count": 12,
   "metadata": {},
   "outputs": [],
   "source": [
    "#m_postulantes_sexo_y_edad = m_postulantes_sexo_y_edad.groupby(['idpostulante'])\\\n",
    "#    .apply(lambda x: x.loc[x.sexo != 'NO_DECLARA',:] if len(x)>1 else x)\\\n",
    "#    .reset_index(drop=True)"
   ]
  },
  {
   "cell_type": "code",
   "execution_count": 13,
   "metadata": {},
   "outputs": [
    {
     "data": {
      "text/plain": [
       "idpostulante       505382\n",
       "fechanacimiento    478699\n",
       "sexo               505382\n",
       "dtype: int64"
      ]
     },
     "execution_count": 13,
     "metadata": {},
     "output_type": "execute_result"
    }
   ],
   "source": [
    "m_postulantes_sexo_y_edad.count()"
   ]
  },
  {
   "cell_type": "code",
   "execution_count": 14,
   "metadata": {},
   "outputs": [
    {
     "data": {
      "text/plain": [
       "idpostulante       504407\n",
       "fechanacimiento    477724\n",
       "sexo               504407\n",
       "dtype: int64"
      ]
     },
     "execution_count": 14,
     "metadata": {},
     "output_type": "execute_result"
    }
   ],
   "source": [
    "m_postulantes_sexo_y_edad = m_postulantes_sexo_y_edad.drop_duplicates('idpostulante')\n",
    "m_postulantes_sexo_y_edad.count()"
   ]
  },
  {
   "cell_type": "code",
   "execution_count": 15,
   "metadata": {},
   "outputs": [
    {
     "data": {
      "text/plain": [
       "idpostulante       504407\n",
       "fechanacimiento    384151\n",
       "sexo               504407\n",
       "dtype: int64"
      ]
     },
     "execution_count": 15,
     "metadata": {},
     "output_type": "execute_result"
    }
   ],
   "source": [
    "m_postulantes_sexo_y_edad['fechanacimiento'] = \\\n",
    "    pd.to_datetime(postulantes_sexo_y_edad['fechanacimiento'], errors='coerce')\n",
    "m_postulantes_sexo_y_edad.count()"
   ]
  },
  {
   "cell_type": "code",
   "execution_count": 16,
   "metadata": {},
   "outputs": [
    {
     "data": {
      "text/html": [
       "<div>\n",
       "<style scoped>\n",
       "    .dataframe tbody tr th:only-of-type {\n",
       "        vertical-align: middle;\n",
       "    }\n",
       "\n",
       "    .dataframe tbody tr th {\n",
       "        vertical-align: top;\n",
       "    }\n",
       "\n",
       "    .dataframe thead th {\n",
       "        text-align: right;\n",
       "    }\n",
       "</style>\n",
       "<table border=\"1\" class=\"dataframe\">\n",
       "  <thead>\n",
       "    <tr style=\"text-align: right;\">\n",
       "      <th></th>\n",
       "      <th>idpostulante</th>\n",
       "      <th>fechanacimiento</th>\n",
       "      <th>sexo</th>\n",
       "      <th>edad</th>\n",
       "    </tr>\n",
       "  </thead>\n",
       "  <tbody>\n",
       "    <tr>\n",
       "      <th>0</th>\n",
       "      <td>NM5M</td>\n",
       "      <td>1970-12-03</td>\n",
       "      <td>FEM</td>\n",
       "      <td>47.0</td>\n",
       "    </tr>\n",
       "    <tr>\n",
       "      <th>1</th>\n",
       "      <td>5awk</td>\n",
       "      <td>1962-12-04</td>\n",
       "      <td>FEM</td>\n",
       "      <td>55.0</td>\n",
       "    </tr>\n",
       "    <tr>\n",
       "      <th>2</th>\n",
       "      <td>ZaO5</td>\n",
       "      <td>1978-08-10</td>\n",
       "      <td>FEM</td>\n",
       "      <td>39.0</td>\n",
       "    </tr>\n",
       "    <tr>\n",
       "      <th>3</th>\n",
       "      <td>NdJl</td>\n",
       "      <td>1969-05-09</td>\n",
       "      <td>MASC</td>\n",
       "      <td>49.0</td>\n",
       "    </tr>\n",
       "    <tr>\n",
       "      <th>4</th>\n",
       "      <td>eo2p</td>\n",
       "      <td>1981-02-16</td>\n",
       "      <td>MASC</td>\n",
       "      <td>37.0</td>\n",
       "    </tr>\n",
       "  </tbody>\n",
       "</table>\n",
       "</div>"
      ],
      "text/plain": [
       "  idpostulante fechanacimiento  sexo  edad\n",
       "0         NM5M      1970-12-03   FEM  47.0\n",
       "1         5awk      1962-12-04   FEM  55.0\n",
       "2         ZaO5      1978-08-10   FEM  39.0\n",
       "3         NdJl      1969-05-09  MASC  49.0\n",
       "4         eo2p      1981-02-16  MASC  37.0"
      ]
     },
     "execution_count": 16,
     "metadata": {},
     "output_type": "execute_result"
    }
   ],
   "source": [
    "def calcular_edad(fecha_nacimiento):\n",
    "    hoy = datetime.date.today()\n",
    "    edad = hoy.year - fecha_nacimiento.year - ((hoy.month, hoy.day)\\\n",
    "            < (fecha_nacimiento.month, fecha_nacimiento.day))\n",
    "    return np.NaN if ((edad > 100) | (edad < 16)) else edad\n",
    "\n",
    "m_postulantes_sexo_y_edad['edad'] = \\\n",
    "    m_postulantes_sexo_y_edad['fechanacimiento']\\\n",
    "    .apply(lambda x: calcular_edad(x))\n",
    "m_postulantes_sexo_y_edad.head()"
   ]
  },
  {
   "cell_type": "code",
   "execution_count": 17,
   "metadata": {},
   "outputs": [
    {
     "data": {
      "text/html": [
       "<div>\n",
       "<style scoped>\n",
       "    .dataframe tbody tr th:only-of-type {\n",
       "        vertical-align: middle;\n",
       "    }\n",
       "\n",
       "    .dataframe tbody tr th {\n",
       "        vertical-align: top;\n",
       "    }\n",
       "\n",
       "    .dataframe thead th {\n",
       "        text-align: right;\n",
       "    }\n",
       "</style>\n",
       "<table border=\"1\" class=\"dataframe\">\n",
       "  <thead>\n",
       "    <tr style=\"text-align: right;\">\n",
       "      <th></th>\n",
       "      <th>idpostulante</th>\n",
       "      <th>sexo</th>\n",
       "      <th>edad</th>\n",
       "    </tr>\n",
       "  </thead>\n",
       "  <tbody>\n",
       "    <tr>\n",
       "      <th>0</th>\n",
       "      <td>NM5M</td>\n",
       "      <td>FEM</td>\n",
       "      <td>47.0</td>\n",
       "    </tr>\n",
       "    <tr>\n",
       "      <th>1</th>\n",
       "      <td>5awk</td>\n",
       "      <td>FEM</td>\n",
       "      <td>55.0</td>\n",
       "    </tr>\n",
       "  </tbody>\n",
       "</table>\n",
       "</div>"
      ],
      "text/plain": [
       "  idpostulante sexo  edad\n",
       "0         NM5M  FEM  47.0\n",
       "1         5awk  FEM  55.0"
      ]
     },
     "execution_count": 17,
     "metadata": {},
     "output_type": "execute_result"
    }
   ],
   "source": [
    "edad_promedio = m_postulantes_sexo_y_edad['edad'].mean()\n",
    "m_postulantes_sexo_y_edad['edad'].fillna(edad_promedio, inplace = True)\n",
    "m_postulantes_sexo_y_edad.drop(['fechanacimiento'], axis=1, inplace=True)\n",
    "m_postulantes_sexo_y_edad.head(2)"
   ]
  },
  {
   "cell_type": "code",
   "execution_count": 18,
   "metadata": {},
   "outputs": [
    {
     "data": {
      "text/plain": [
       "idpostulante       504407\n",
       "sexo               504407\n",
       "edad               504407\n",
       "estado             447909\n",
       "nivel_alcanzado    447909\n",
       "dtype: int64"
      ]
     },
     "execution_count": 18,
     "metadata": {},
     "output_type": "execute_result"
    }
   ],
   "source": [
    "m_postulantes = pd.merge(m_postulantes_sexo_y_edad, m_postulantes_educacion, \\\n",
    "                       on = 'idpostulante', how='outer')\n",
    "m_postulantes.count()"
   ]
  },
  {
   "cell_type": "code",
   "execution_count": 19,
   "metadata": {},
   "outputs": [
    {
     "data": {
      "text/plain": [
       "idpostulante       504407\n",
       "sexo               504407\n",
       "edad               504407\n",
       "estado             447909\n",
       "nivel_alcanzado    504407\n",
       "dtype: int64"
      ]
     },
     "execution_count": 19,
     "metadata": {},
     "output_type": "execute_result"
    }
   ],
   "source": [
    "nivel_promedio = int(m_postulantes.nivel_alcanzado.mean())\n",
    "m_postulantes['nivel_alcanzado'].fillna(nivel_promedio, inplace = True)\n",
    "m_postulantes.count()"
   ]
  },
  {
   "cell_type": "code",
   "execution_count": 20,
   "metadata": {},
   "outputs": [
    {
     "data": {
      "text/plain": [
       "Graduado      253833\n",
       "En Curso      148072\n",
       "Abandonado     46004\n",
       "Name: estado, dtype: int64"
      ]
     },
     "execution_count": 20,
     "metadata": {},
     "output_type": "execute_result"
    }
   ],
   "source": [
    "m_postulantes.estado.value_counts()"
   ]
  },
  {
   "cell_type": "code",
   "execution_count": 21,
   "metadata": {},
   "outputs": [
    {
     "data": {
      "text/plain": [
       "idpostulante       504407\n",
       "sexo               504407\n",
       "edad               504407\n",
       "estado             447909\n",
       "nivel_alcanzado    504407\n",
       "dtype: int64"
      ]
     },
     "execution_count": 21,
     "metadata": {},
     "output_type": "execute_result"
    }
   ],
   "source": [
    "def categorizar_estados(estado):\n",
    "    if (estado == 'Graduado'):\n",
    "        return 2\n",
    "    if (estado == 'En Curso'):\n",
    "        return 1\n",
    "    if (estado == 'Abandonado'):\n",
    "        return 0\n",
    "m_postulantes['estado'] = m_postulantes['estado'].apply(lambda x : categorizar_estados(x))\n",
    "m_postulantes.count()"
   ]
  },
  {
   "cell_type": "code",
   "execution_count": 22,
   "metadata": {},
   "outputs": [
    {
     "data": {
      "text/plain": [
       "idpostulante       504407\n",
       "sexo               504407\n",
       "edad               504407\n",
       "estado             504407\n",
       "nivel_alcanzado    504407\n",
       "dtype: int64"
      ]
     },
     "execution_count": 22,
     "metadata": {},
     "output_type": "execute_result"
    }
   ],
   "source": [
    "estado_promedio = m_postulantes.estado.median()\n",
    "m_postulantes['estado'].fillna(estado_promedio, inplace = True)\n",
    "m_postulantes.count()"
   ]
  },
  {
   "cell_type": "code",
   "execution_count": 23,
   "metadata": {},
   "outputs": [
    {
     "data": {
      "text/html": [
       "<div>\n",
       "<style scoped>\n",
       "    .dataframe tbody tr th:only-of-type {\n",
       "        vertical-align: middle;\n",
       "    }\n",
       "\n",
       "    .dataframe tbody tr th {\n",
       "        vertical-align: top;\n",
       "    }\n",
       "\n",
       "    .dataframe thead th {\n",
       "        text-align: right;\n",
       "    }\n",
       "</style>\n",
       "<table border=\"1\" class=\"dataframe\">\n",
       "  <thead>\n",
       "    <tr style=\"text-align: right;\">\n",
       "      <th></th>\n",
       "      <th>idpostulante</th>\n",
       "      <th>sexo</th>\n",
       "      <th>edad</th>\n",
       "      <th>estado</th>\n",
       "      <th>nivel_alcanzado</th>\n",
       "    </tr>\n",
       "  </thead>\n",
       "  <tbody>\n",
       "    <tr>\n",
       "      <th>0</th>\n",
       "      <td>NM5M</td>\n",
       "      <td>FEM</td>\n",
       "      <td>47.0</td>\n",
       "      <td>2.0</td>\n",
       "      <td>1.0</td>\n",
       "    </tr>\n",
       "    <tr>\n",
       "      <th>1</th>\n",
       "      <td>5awk</td>\n",
       "      <td>FEM</td>\n",
       "      <td>55.0</td>\n",
       "      <td>2.0</td>\n",
       "      <td>3.0</td>\n",
       "    </tr>\n",
       "  </tbody>\n",
       "</table>\n",
       "</div>"
      ],
      "text/plain": [
       "  idpostulante sexo  edad  estado  nivel_alcanzado\n",
       "0         NM5M  FEM  47.0     2.0              1.0\n",
       "1         5awk  FEM  55.0     2.0              3.0"
      ]
     },
     "execution_count": 23,
     "metadata": {},
     "output_type": "execute_result"
    }
   ],
   "source": [
    "m_postulantes.head(2)"
   ]
  },
  {
   "cell_type": "markdown",
   "metadata": {},
   "source": [
    "### Merge de los avisos"
   ]
  },
  {
   "cell_type": "code",
   "execution_count": 24,
   "metadata": {},
   "outputs": [],
   "source": [
    "avisos_detalle = avisos_detalle.loc[:,['idaviso', 'titulo', \\\n",
    "    'nombre_zona', 'tipo_de_trabajo', 'nivel_laboral', 'nombre_area',\\\n",
    "    'denominacion_empresa']]\n",
    "h15_avisos_detalle = h15_avisos_detalle.loc[:,['idaviso', 'titulo', \\\n",
    "    'nombre_zona', 'tipo_de_trabajo', 'nivel_laboral', 'nombre_area',\\\n",
    "    'denominacion_empresa']]\n",
    "d15_avisos_detalle = d15_avisos_detalle.loc[:,['idaviso', 'titulo', \\\n",
    "    'nombre_zona', 'tipo_de_trabajo', 'nivel_laboral', 'nombre_area',\\\n",
    "    'denominacion_empresa']]\n",
    "m_avisos_detalle = m_avisos_detalle.loc[:,['idaviso', 'titulo', \\\n",
    "    'nombre_zona', 'tipo_de_trabajo', 'nivel_laboral', 'nombre_area',\\\n",
    "    'denominacion_empresa']]"
   ]
  },
  {
   "cell_type": "code",
   "execution_count": 25,
   "metadata": {},
   "outputs": [],
   "source": [
    "m_avisos = pd.concat([avisos_detalle, h15_avisos_detalle, \\\n",
    "                      d15_avisos_detalle, m_avisos_detalle])"
   ]
  },
  {
   "cell_type": "code",
   "execution_count": 26,
   "metadata": {},
   "outputs": [
    {
     "data": {
      "text/plain": [
       "idaviso                 45969\n",
       "titulo                  45969\n",
       "nombre_zona             45969\n",
       "tipo_de_trabajo         45969\n",
       "nivel_laboral           45634\n",
       "nombre_area             45969\n",
       "denominacion_empresa    45955\n",
       "dtype: int64"
      ]
     },
     "execution_count": 26,
     "metadata": {},
     "output_type": "execute_result"
    }
   ],
   "source": [
    "m_avisos.count()"
   ]
  },
  {
   "cell_type": "code",
   "execution_count": 27,
   "metadata": {},
   "outputs": [
    {
     "data": {
      "text/plain": [
       "idaviso                 25637\n",
       "titulo                  25637\n",
       "nombre_zona             25637\n",
       "tipo_de_trabajo         25637\n",
       "nivel_laboral           25302\n",
       "nombre_area             25637\n",
       "denominacion_empresa    25630\n",
       "dtype: int64"
      ]
     },
     "execution_count": 27,
     "metadata": {},
     "output_type": "execute_result"
    }
   ],
   "source": [
    "m_avisos = m_avisos.drop_duplicates()\n",
    "m_avisos.count()"
   ]
  },
  {
   "cell_type": "code",
   "execution_count": 28,
   "metadata": {},
   "outputs": [
    {
     "data": {
      "text/plain": [
       "idaviso                 25288\n",
       "titulo                  25288\n",
       "nombre_zona             25288\n",
       "tipo_de_trabajo         25288\n",
       "nivel_laboral           24953\n",
       "nombre_area             25288\n",
       "denominacion_empresa    25281\n",
       "dtype: int64"
      ]
     },
     "execution_count": 28,
     "metadata": {},
     "output_type": "execute_result"
    }
   ],
   "source": [
    "m_avisos = m_avisos.drop_duplicates('idaviso')\n",
    "m_avisos.count()"
   ]
  },
  {
   "cell_type": "code",
   "execution_count": 29,
   "metadata": {},
   "outputs": [
    {
     "data": {
      "text/html": [
       "<div>\n",
       "<style scoped>\n",
       "    .dataframe tbody tr th:only-of-type {\n",
       "        vertical-align: middle;\n",
       "    }\n",
       "\n",
       "    .dataframe tbody tr th {\n",
       "        vertical-align: top;\n",
       "    }\n",
       "\n",
       "    .dataframe thead th {\n",
       "        text-align: right;\n",
       "    }\n",
       "</style>\n",
       "<table border=\"1\" class=\"dataframe\">\n",
       "  <thead>\n",
       "    <tr style=\"text-align: right;\">\n",
       "      <th></th>\n",
       "      <th>idaviso</th>\n",
       "      <th>titulo</th>\n",
       "      <th>nombre_zona</th>\n",
       "      <th>tipo_de_trabajo</th>\n",
       "      <th>nivel_laboral</th>\n",
       "      <th>nombre_area</th>\n",
       "      <th>denominacion_empresa</th>\n",
       "    </tr>\n",
       "  </thead>\n",
       "  <tbody>\n",
       "    <tr>\n",
       "      <th>0</th>\n",
       "      <td>8725750</td>\n",
       "      <td>VENDEDOR/A PROVINCIA DE SANTA FE</td>\n",
       "      <td>Gran Buenos Aires</td>\n",
       "      <td>Full-time</td>\n",
       "      <td>Senior / Semi-Senior</td>\n",
       "      <td>Comercial</td>\n",
       "      <td>VENTOR</td>\n",
       "    </tr>\n",
       "    <tr>\n",
       "      <th>1</th>\n",
       "      <td>17903700</td>\n",
       "      <td>Enfermeras</td>\n",
       "      <td>Gran Buenos Aires</td>\n",
       "      <td>Full-time</td>\n",
       "      <td>Senior / Semi-Senior</td>\n",
       "      <td>Salud</td>\n",
       "      <td>Farmacias Central Oeste</td>\n",
       "    </tr>\n",
       "  </tbody>\n",
       "</table>\n",
       "</div>"
      ],
      "text/plain": [
       "    idaviso                            titulo        nombre_zona  \\\n",
       "0   8725750  VENDEDOR/A PROVINCIA DE SANTA FE  Gran Buenos Aires   \n",
       "1  17903700                        Enfermeras  Gran Buenos Aires   \n",
       "\n",
       "  tipo_de_trabajo         nivel_laboral nombre_area     denominacion_empresa  \n",
       "0       Full-time  Senior / Semi-Senior   Comercial                   VENTOR  \n",
       "1       Full-time  Senior / Semi-Senior       Salud  Farmacias Central Oeste  "
      ]
     },
     "execution_count": 29,
     "metadata": {},
     "output_type": "execute_result"
    }
   ],
   "source": [
    "m_avisos.head(2)"
   ]
  },
  {
   "cell_type": "code",
   "execution_count": 30,
   "metadata": {},
   "outputs": [
    {
     "data": {
      "text/plain": [
       "Senior / Semi-Senior                    16983\n",
       "Junior                                   4149\n",
       "Otro                                     1972\n",
       "Jefe / Supervisor / Responsable          1527\n",
       "Gerencia / Alta Gerencia / Dirección      322\n",
       "Name: nivel_laboral, dtype: int64"
      ]
     },
     "execution_count": 30,
     "metadata": {},
     "output_type": "execute_result"
    }
   ],
   "source": [
    "m_avisos.nivel_laboral.value_counts()"
   ]
  },
  {
   "cell_type": "code",
   "execution_count": 31,
   "metadata": {},
   "outputs": [
    {
     "data": {
      "text/plain": [
       "idaviso                 25288\n",
       "titulo                  25288\n",
       "nombre_zona             25288\n",
       "tipo_de_trabajo         25288\n",
       "nivel_laboral           25288\n",
       "nombre_area             25288\n",
       "denominacion_empresa    25281\n",
       "dtype: int64"
      ]
     },
     "execution_count": 31,
     "metadata": {},
     "output_type": "execute_result"
    }
   ],
   "source": [
    "# Completo los NaNs del nivel laboral con \"Senior / Semi-Senior\"\n",
    "m_avisos['nivel_laboral'].fillna('Senior / Semi-Senior', inplace = True)\n",
    "m_avisos.count()"
   ]
  },
  {
   "cell_type": "code",
   "execution_count": 32,
   "metadata": {},
   "outputs": [],
   "source": [
    "def categorizar_nivel_laboral(x):\n",
    "    if(x == 'Junior'):\n",
    "        return 0\n",
    "    if(x == 'Senior / Semi-Senior'):\n",
    "        return 1\n",
    "    if((x == 'Jefe / Supervisor / Responsable') |\n",
    "      (x == 'Gerencia / Alta Gerencia / Dirección')):\n",
    "        return 2\n",
    "    return 3\n",
    "\n",
    "m_avisos['nivel_laboral'] = m_avisos['nivel_laboral']\\\n",
    "    .apply(lambda x: categorizar_nivel_laboral(x))"
   ]
  },
  {
   "cell_type": "code",
   "execution_count": 33,
   "metadata": {},
   "outputs": [
    {
     "data": {
      "text/plain": [
       "idaviso                 25288\n",
       "titulo                  25288\n",
       "nombre_zona             25288\n",
       "tipo_de_trabajo         25288\n",
       "nivel_laboral           25288\n",
       "nombre_area             25288\n",
       "denominacion_empresa    25288\n",
       "dtype: int64"
      ]
     },
     "execution_count": 33,
     "metadata": {},
     "output_type": "execute_result"
    }
   ],
   "source": [
    "# Completo los NaNs del nombre de la empresa con \"No declara\"\n",
    "m_avisos['denominacion_empresa'].fillna('No declara', inplace = True)\n",
    "m_avisos.count()"
   ]
  },
  {
   "cell_type": "code",
   "execution_count": 34,
   "metadata": {},
   "outputs": [
    {
     "data": {
      "text/html": [
       "<div>\n",
       "<style scoped>\n",
       "    .dataframe tbody tr th:only-of-type {\n",
       "        vertical-align: middle;\n",
       "    }\n",
       "\n",
       "    .dataframe tbody tr th {\n",
       "        vertical-align: top;\n",
       "    }\n",
       "\n",
       "    .dataframe thead th {\n",
       "        text-align: right;\n",
       "    }\n",
       "</style>\n",
       "<table border=\"1\" class=\"dataframe\">\n",
       "  <thead>\n",
       "    <tr style=\"text-align: right;\">\n",
       "      <th></th>\n",
       "      <th>idaviso</th>\n",
       "      <th>titulo</th>\n",
       "      <th>nombre_zona</th>\n",
       "      <th>tipo_de_trabajo</th>\n",
       "      <th>nivel_laboral</th>\n",
       "      <th>nombre_area</th>\n",
       "      <th>denominacion_empresa</th>\n",
       "    </tr>\n",
       "  </thead>\n",
       "  <tbody>\n",
       "    <tr>\n",
       "      <th>0</th>\n",
       "      <td>8725750</td>\n",
       "      <td>VENDEDOR/A PROVINCIA DE SANTA FE</td>\n",
       "      <td>Gran Buenos Aires</td>\n",
       "      <td>Full-time</td>\n",
       "      <td>1</td>\n",
       "      <td>Comercial</td>\n",
       "      <td>VENTOR</td>\n",
       "    </tr>\n",
       "    <tr>\n",
       "      <th>1</th>\n",
       "      <td>17903700</td>\n",
       "      <td>Enfermeras</td>\n",
       "      <td>Gran Buenos Aires</td>\n",
       "      <td>Full-time</td>\n",
       "      <td>1</td>\n",
       "      <td>Salud</td>\n",
       "      <td>Farmacias Central Oeste</td>\n",
       "    </tr>\n",
       "  </tbody>\n",
       "</table>\n",
       "</div>"
      ],
      "text/plain": [
       "    idaviso                            titulo        nombre_zona  \\\n",
       "0   8725750  VENDEDOR/A PROVINCIA DE SANTA FE  Gran Buenos Aires   \n",
       "1  17903700                        Enfermeras  Gran Buenos Aires   \n",
       "\n",
       "  tipo_de_trabajo  nivel_laboral nombre_area     denominacion_empresa  \n",
       "0       Full-time              1   Comercial                   VENTOR  \n",
       "1       Full-time              1       Salud  Farmacias Central Oeste  "
      ]
     },
     "execution_count": 34,
     "metadata": {},
     "output_type": "execute_result"
    }
   ],
   "source": [
    "m_avisos.head(2)"
   ]
  },
  {
   "cell_type": "code",
   "execution_count": 35,
   "metadata": {},
   "outputs": [
    {
     "data": {
      "text/plain": [
       "Full-time          22830\n",
       "Part-time           1746\n",
       "Teletrabajo          248\n",
       "Por Horas            127\n",
       "Pasantia             119\n",
       "Temporario            95\n",
       "Por Contrato          88\n",
       "Fines de Semana       28\n",
       "Primer empleo          6\n",
       "Voluntario             1\n",
       "Name: tipo_de_trabajo, dtype: int64"
      ]
     },
     "execution_count": 35,
     "metadata": {},
     "output_type": "execute_result"
    }
   ],
   "source": [
    "m_avisos.tipo_de_trabajo.value_counts()"
   ]
  },
  {
   "cell_type": "code",
   "execution_count": 36,
   "metadata": {},
   "outputs": [],
   "source": [
    "def categorizar_tipo_de_trabajo(x):\n",
    "    if(x == 'Full-time'):\n",
    "        return 1\n",
    "    return 0\n",
    "\n",
    "m_avisos['tipo_de_trabajo'] = m_avisos['tipo_de_trabajo']\\\n",
    "    .apply(lambda x: categorizar_tipo_de_trabajo(x))"
   ]
  },
  {
   "cell_type": "code",
   "execution_count": 37,
   "metadata": {},
   "outputs": [
    {
     "data": {
      "text/plain": [
       "pandas.core.series.Series"
      ]
     },
     "execution_count": 37,
     "metadata": {},
     "output_type": "execute_result"
    }
   ],
   "source": [
    "type(m_avisos.nombre_area)"
   ]
  },
  {
   "cell_type": "code",
   "execution_count": 48,
   "metadata": {},
   "outputs": [
    {
     "data": {
      "text/plain": [
       "Comercial / Negocios       10350\n",
       "No calificado               3936\n",
       "Produccion / Ingenieria     3930\n",
       "Sistemas                    2938\n",
       "Otros                       2099\n",
       "RRHH                         944\n",
       "Salud                        598\n",
       "Disenio                      242\n",
       "Educacion                    139\n",
       "Turismo                      112\n",
       "Name: nombre_area, dtype: int64"
      ]
     },
     "execution_count": 48,
     "metadata": {},
     "output_type": "execute_result"
    }
   ],
   "source": [
    "def categorizar_area(x):\n",
    "    if ((type(x) is str) == False):\n",
    "        return 'Otros'\n",
    "    if ((x == 'Programación') | (x == 'Soporte Técnico') |\n",
    "        (x == 'Tecnologia / Sistemas') |\n",
    "        (x == 'Sistemas') | (x == 'Redes') |\n",
    "        (x == 'Business Intelligence') | (x == 'Telecomunicaciones') |\n",
    "        (x == 'Tecnologías de la Información') |\n",
    "        (x == 'Seguridad Informática') | (x == 'Análisis Funcional') |\n",
    "        (x == 'Internet') | (x == 'Diseño Web') |\n",
    "        (x == 'Diseño Multimedia') | (x == 'Testing / QA / QC') |\n",
    "        (x == 'Data Warehousing') | (x == 'Multimedia') |\n",
    "        (x == 'Administración de Base de Datos')):\n",
    "        return 'Sistemas'\n",
    "    if ((x == 'Ventas') | (x == 'Comercial') | (x == 'Compras') |\n",
    "        (x == 'Administración') | (x == 'Contabilidad') |\n",
    "        (x == 'Marketing') | (x == 'Finanzas') | (x == 'Tesorería') |\n",
    "        (x == 'Créditos y Cobranzas') | (x == 'Legal') |\n",
    "        (x == 'Desarrollo de Negocios') | (x == 'Impuestos') |\n",
    "        (x == 'Auditoría') | (x == 'Control de Gestión') |\n",
    "        (x == 'Planeamiento comercial') | (x == 'Facturación') |\n",
    "        (x == 'Compras Internacionales/Importación') |\n",
    "        (x == 'Consultorías Comercio Exterior') | (x == 'Consultoria') |\n",
    "        (x == 'Análisis de Riesgos') | (x == 'E-commerce') |\n",
    "        (x == 'Ventas Internacionales/Exportación') |\n",
    "        (x == 'Comercio Exterior') | (x == 'Evaluación Económica') |\n",
    "        (x == 'Mercadotecnia Internacional') | \n",
    "        (x == 'Relaciones Institucionales/Publicas') |\n",
    "        (x == 'Planeamiento económico-financiero ') |\n",
    "        (x == 'Corporate Finance / Banca Inversión') |\n",
    "        (x == 'Cuentas Corrientes')):\n",
    "        return 'Comercial / Negocios'\n",
    "    if ((x == 'Salud') | (x == 'Medicina') | (x == 'Farmacéutica') |\n",
    "        (x == 'Medicina Laboral') | (x == 'Otras áreas técnicas en salud') |\n",
    "        (x == 'Fonoaudiología') | (x == 'Farmacia hospitalaria') |\n",
    "        (x == 'Prácticas cardiológicas') | (x == 'Odontología') |\n",
    "        (x == 'Otras Especialidades médicas') | (x == 'Clínica Médica') |\n",
    "        (x == 'Kinesiología / terapia ocupacional') |\n",
    "        (x == 'Auditoría Médica') | (x == 'Instrumentación quirúrgica') |\n",
    "        (x == 'Enfermería (ver Enfermería)') | (x == 'Psicología')):\n",
    "        return 'Salud'\n",
    "    if ((x == 'Producción') | (x == 'Logística') | (x == 'Construcción') |\n",
    "        (x == 'Ingeniería  Industrial') | (x == 'Ingeniería  Mecánica') |\n",
    "        (x == 'Ingeniería  Eléctrica y Electrónica ') |\n",
    "        (x == 'Distribución') | (x == 'Programación de producción') |\n",
    "        (x == 'Producto') | (x == 'Otras Ingenierias') | \n",
    "        (x == 'Mineria/Petroleo/Gas') | (x == 'Ingeniería Civil') |\n",
    "        (x == 'Ingeniería Oficina Técnica / Proyecto') |\n",
    "        (x == 'Dirección de Obra') | (x == 'Ingeniería Química') |\n",
    "        (x == 'Ingeniería Electromecánica') | (x == 'Seguridad e Higiene') |\n",
    "        (x == 'Ingeniería de Procesos') | (x == 'Organización y Métodos') |\n",
    "        (x == 'Ingeniería en Alimentos') | (x == 'Ingeniería  Automotriz') |\n",
    "        (x == 'Ingeniería Agrónoma') | (x == 'Operaciones') |\n",
    "        (x == 'Ingeniería de Producto ') | (x == 'Ingeniería  Metalurgica') |\n",
    "        (x == 'Planeamiento') | (x == 'Farmacia industrial') |\n",
    "        (x == 'Seguridad Industrial') | (x == 'Quimica') |\n",
    "        (x == 'Química') | (x == 'Ingeniería en Petróleo y Petroquímica') |\n",
    "        (x == 'Ingeniería Geológica') | (x == 'Instrumentación Minera') |\n",
    "        (x == 'Exploración Minera y Petroquimica') | (x == 'Infraestructura') |\n",
    "        (x == 'Ingeniería en Minas') | (x == 'Calidad') |\n",
    "        (x == 'Abastecimiento') | (x == 'Ingeniería de Ventas ') |\n",
    "        (x == 'Diseño Industrial')):\n",
    "        return 'Produccion / Ingenieria'\n",
    "    if ((x == 'Atención al Cliente') | (x == 'Mantenimiento') |\n",
    "        (x == 'Mantenimiento y Limpieza') | (x == 'Call Center') |\n",
    "        (x == 'Recepcionista') | (x == 'Oficios y Profesiones') |\n",
    "        (x == 'Almacén / Depósito / Expedición') | (x == 'Telemarketing') |\n",
    "        (x == 'Seguridad') | (x == 'Secretaria') | (x == 'Camareros') |\n",
    "        (x == 'Cadetería') | (x == 'Asistente') | (x == 'Data Entry') |\n",
    "        (x == 'Pasantía / Trainee') | (x == 'Caja') | (x == 'Back Office') |\n",
    "        (x == 'Promotoras/es') | (x == 'Telefonista')):\n",
    "        return 'No calificado'\n",
    "    if ((x == 'Recursos Humanos') | (x == 'Selección') |\n",
    "        (x == 'Administración de Personal') |\n",
    "        (x == 'Compensación y Planilla')):\n",
    "        return 'RRHH'\n",
    "    if ((x == 'Turismo') | (x == 'Hotelería')):\n",
    "        return 'Turismo'\n",
    "    if ((x == 'Educación/ Docentes') | (x == 'Educación') |\n",
    "        (x == 'Educación especial') | (x == 'Capacitación') |\n",
    "        (x == 'Bienestar Estudiantil')):\n",
    "        return 'Educacion'\n",
    "    if ((x == 'Arquitectura') | (x == 'Diseño Gráfico') |\n",
    "        (x == 'Diseño Textil e Indumentaria') | (x == 'Diseño') |\n",
    "        (x == 'Diseño de Interiores / Decoración') | (x == 'Urbanismo') |\n",
    "        (x == 'Diseño 3D')):\n",
    "        return 'Disenio'\n",
    "    return 'Otros'\n",
    "\n",
    "m_avisos['nombre_area'] = m_avisos['nombre_area']\\\n",
    "    .apply(lambda x: categorizar_area(x))\n",
    "m_avisos.nombre_area.value_counts()"
   ]
  },
  {
   "cell_type": "code",
   "execution_count": 49,
   "metadata": {},
   "outputs": [
    {
     "data": {
      "text/html": [
       "<div>\n",
       "<style scoped>\n",
       "    .dataframe tbody tr th:only-of-type {\n",
       "        vertical-align: middle;\n",
       "    }\n",
       "\n",
       "    .dataframe tbody tr th {\n",
       "        vertical-align: top;\n",
       "    }\n",
       "\n",
       "    .dataframe thead th {\n",
       "        text-align: right;\n",
       "    }\n",
       "</style>\n",
       "<table border=\"1\" class=\"dataframe\">\n",
       "  <thead>\n",
       "    <tr style=\"text-align: right;\">\n",
       "      <th></th>\n",
       "      <th>idaviso</th>\n",
       "      <th>titulo</th>\n",
       "      <th>nombre_zona</th>\n",
       "      <th>tipo_de_trabajo</th>\n",
       "      <th>nivel_laboral</th>\n",
       "      <th>nombre_area</th>\n",
       "      <th>denominacion_empresa</th>\n",
       "    </tr>\n",
       "  </thead>\n",
       "  <tbody>\n",
       "    <tr>\n",
       "      <th>0</th>\n",
       "      <td>8725750</td>\n",
       "      <td>VENDEDOR/A PROVINCIA DE SANTA FE</td>\n",
       "      <td>Gran Buenos Aires</td>\n",
       "      <td>1</td>\n",
       "      <td>1</td>\n",
       "      <td>Comercial / Negocios</td>\n",
       "      <td>VENTOR</td>\n",
       "    </tr>\n",
       "    <tr>\n",
       "      <th>1</th>\n",
       "      <td>17903700</td>\n",
       "      <td>Enfermeras</td>\n",
       "      <td>Gran Buenos Aires</td>\n",
       "      <td>1</td>\n",
       "      <td>1</td>\n",
       "      <td>Salud</td>\n",
       "      <td>Farmacias Central Oeste</td>\n",
       "    </tr>\n",
       "    <tr>\n",
       "      <th>2</th>\n",
       "      <td>1000150677</td>\n",
       "      <td>Chofer de taxi</td>\n",
       "      <td>Capital Federal</td>\n",
       "      <td>1</td>\n",
       "      <td>1</td>\n",
       "      <td>Otros</td>\n",
       "      <td>FAMITAX SRL</td>\n",
       "    </tr>\n",
       "    <tr>\n",
       "      <th>3</th>\n",
       "      <td>1000610287</td>\n",
       "      <td>CHOFER DE CAMIONETA BAHIA BLANCA - PUNTA ALTA</td>\n",
       "      <td>Gran Buenos Aires</td>\n",
       "      <td>1</td>\n",
       "      <td>1</td>\n",
       "      <td>Otros</td>\n",
       "      <td>Wurth Argentina S.A</td>\n",
       "    </tr>\n",
       "    <tr>\n",
       "      <th>4</th>\n",
       "      <td>1000872556</td>\n",
       "      <td>Operarios de Planta - Rubro Electrodomésticos</td>\n",
       "      <td>Gran Buenos Aires</td>\n",
       "      <td>1</td>\n",
       "      <td>1</td>\n",
       "      <td>Produccion / Ingenieria</td>\n",
       "      <td>ELECTRO OUTLET SRL</td>\n",
       "    </tr>\n",
       "  </tbody>\n",
       "</table>\n",
       "</div>"
      ],
      "text/plain": [
       "      idaviso                                         titulo  \\\n",
       "0     8725750               VENDEDOR/A PROVINCIA DE SANTA FE   \n",
       "1    17903700                                     Enfermeras   \n",
       "2  1000150677                                 Chofer de taxi   \n",
       "3  1000610287  CHOFER DE CAMIONETA BAHIA BLANCA - PUNTA ALTA   \n",
       "4  1000872556  Operarios de Planta - Rubro Electrodomésticos   \n",
       "\n",
       "         nombre_zona  tipo_de_trabajo  nivel_laboral              nombre_area  \\\n",
       "0  Gran Buenos Aires                1              1     Comercial / Negocios   \n",
       "1  Gran Buenos Aires                1              1                    Salud   \n",
       "2    Capital Federal                1              1                    Otros   \n",
       "3  Gran Buenos Aires                1              1                    Otros   \n",
       "4  Gran Buenos Aires                1              1  Produccion / Ingenieria   \n",
       "\n",
       "      denominacion_empresa  \n",
       "0                   VENTOR  \n",
       "1  Farmacias Central Oeste  \n",
       "2              FAMITAX SRL  \n",
       "3      Wurth Argentina S.A  \n",
       "4       ELECTRO OUTLET SRL  "
      ]
     },
     "execution_count": 49,
     "metadata": {},
     "output_type": "execute_result"
    }
   ],
   "source": [
    "m_avisos.head()"
   ]
  },
  {
   "cell_type": "code",
   "execution_count": 50,
   "metadata": {},
   "outputs": [],
   "source": [
    "del m_avisos['titulo']"
   ]
  },
  {
   "cell_type": "code",
   "execution_count": 52,
   "metadata": {},
   "outputs": [
    {
     "data": {
      "text/plain": [
       "Gran Buenos Aires              23015\n",
       "Capital Federal                 2185\n",
       "Buenos Aires (fuera de GBA)       57\n",
       "GBA Oeste                         10\n",
       "La Plata                           4\n",
       "Mendoza                            3\n",
       "Ciudad de Mendoza                  3\n",
       "Cordoba                            2\n",
       "Rosario                            2\n",
       "Catamarca                          1\n",
       "Corrientes                         1\n",
       "Tucuman                            1\n",
       "Santa Fe                           1\n",
       "San Juan                           1\n",
       "Neuquen                            1\n",
       "Santa Cruz                         1\n",
       "Name: nombre_zona, dtype: int64"
      ]
     },
     "execution_count": 52,
     "metadata": {},
     "output_type": "execute_result"
    }
   ],
   "source": [
    "m_avisos.nombre_zona.value_counts()"
   ]
  },
  {
   "cell_type": "code",
   "execution_count": 53,
   "metadata": {},
   "outputs": [
    {
     "data": {
      "text/plain": [
       "1    23025\n",
       "0     2185\n",
       "2       78\n",
       "Name: nombre_zona, dtype: int64"
      ]
     },
     "execution_count": 53,
     "metadata": {},
     "output_type": "execute_result"
    }
   ],
   "source": [
    "def categorizar_zona(x):\n",
    "    if (x == 'Capital Federal'):\n",
    "        return 0\n",
    "    if ((x == 'Gran Buenos Aires') | (x == 'GBA Oeste')):\n",
    "        return 1\n",
    "    return 2\n",
    "\n",
    "m_avisos['nombre_zona'] = m_avisos['nombre_zona']\\\n",
    "    .apply(lambda x: categorizar_zona(x))\n",
    "m_avisos.nombre_zona.value_counts()"
   ]
  },
  {
   "cell_type": "markdown",
   "metadata": {},
   "source": [
    "### Label encoding"
   ]
  },
  {
   "cell_type": "code",
   "execution_count": 51,
   "metadata": {},
   "outputs": [],
   "source": [
    "from sklearn.preprocessing import LabelEncoder\n",
    "from sklearn.pipeline import Pipeline\n",
    "\n",
    "class MultiColumnLabelEncoder:\n",
    "    def __init__(self,columns = None):\n",
    "        self.columns = columns # array of column names to encode\n",
    "\n",
    "    def fit(self,X,y=None):\n",
    "        return self # not relevant here\n",
    "\n",
    "    def transform(self,X):\n",
    "        '''\n",
    "        Transforms columns of X specified in self.columns using\n",
    "        LabelEncoder(). If no columns specified, transforms all\n",
    "        columns in X.\n",
    "        '''\n",
    "        output = X.copy()\n",
    "        if self.columns is not None:\n",
    "            for col in self.columns:\n",
    "                output[col] = LabelEncoder().fit_transform(output[col])\n",
    "        else:\n",
    "            for colname,col in output.iteritems():\n",
    "                output[colname] = LabelEncoder().fit_transform(col)\n",
    "        return output\n",
    "\n",
    "    def fit_transform(self,X,y=None):\n",
    "        return self.fit(X,y).transform(X)"
   ]
  },
  {
   "cell_type": "code",
   "execution_count": null,
   "metadata": {},
   "outputs": [],
   "source": [
    "#del m_avisos['denominacion_empresa']"
   ]
  },
  {
   "cell_type": "code",
   "execution_count": 55,
   "metadata": {},
   "outputs": [
    {
     "data": {
      "text/html": [
       "<div>\n",
       "<style scoped>\n",
       "    .dataframe tbody tr th:only-of-type {\n",
       "        vertical-align: middle;\n",
       "    }\n",
       "\n",
       "    .dataframe tbody tr th {\n",
       "        vertical-align: top;\n",
       "    }\n",
       "\n",
       "    .dataframe thead th {\n",
       "        text-align: right;\n",
       "    }\n",
       "</style>\n",
       "<table border=\"1\" class=\"dataframe\">\n",
       "  <thead>\n",
       "    <tr style=\"text-align: right;\">\n",
       "      <th></th>\n",
       "      <th>idaviso</th>\n",
       "      <th>nombre_zona</th>\n",
       "      <th>tipo_de_trabajo</th>\n",
       "      <th>nivel_laboral</th>\n",
       "      <th>nombre_area</th>\n",
       "      <th>denominacion_empresa</th>\n",
       "    </tr>\n",
       "  </thead>\n",
       "  <tbody>\n",
       "    <tr>\n",
       "      <th>0</th>\n",
       "      <td>8725750</td>\n",
       "      <td>1</td>\n",
       "      <td>1</td>\n",
       "      <td>1</td>\n",
       "      <td>0</td>\n",
       "      <td>4005</td>\n",
       "    </tr>\n",
       "    <tr>\n",
       "      <th>1</th>\n",
       "      <td>17903700</td>\n",
       "      <td>1</td>\n",
       "      <td>1</td>\n",
       "      <td>1</td>\n",
       "      <td>7</td>\n",
       "      <td>1640</td>\n",
       "    </tr>\n",
       "    <tr>\n",
       "      <th>2</th>\n",
       "      <td>1000150677</td>\n",
       "      <td>0</td>\n",
       "      <td>1</td>\n",
       "      <td>1</td>\n",
       "      <td>4</td>\n",
       "      <td>1561</td>\n",
       "    </tr>\n",
       "    <tr>\n",
       "      <th>3</th>\n",
       "      <td>1000610287</td>\n",
       "      <td>1</td>\n",
       "      <td>1</td>\n",
       "      <td>1</td>\n",
       "      <td>4</td>\n",
       "      <td>4119</td>\n",
       "    </tr>\n",
       "    <tr>\n",
       "      <th>4</th>\n",
       "      <td>1000872556</td>\n",
       "      <td>1</td>\n",
       "      <td>1</td>\n",
       "      <td>1</td>\n",
       "      <td>5</td>\n",
       "      <td>1267</td>\n",
       "    </tr>\n",
       "  </tbody>\n",
       "</table>\n",
       "</div>"
      ],
      "text/plain": [
       "      idaviso  nombre_zona  tipo_de_trabajo  nivel_laboral  nombre_area  \\\n",
       "0     8725750            1                1              1            0   \n",
       "1    17903700            1                1              1            7   \n",
       "2  1000150677            0                1              1            4   \n",
       "3  1000610287            1                1              1            4   \n",
       "4  1000872556            1                1              1            5   \n",
       "\n",
       "   denominacion_empresa  \n",
       "0                  4005  \n",
       "1                  1640  \n",
       "2                  1561  \n",
       "3                  4119  \n",
       "4                  1267  "
      ]
     },
     "execution_count": 55,
     "metadata": {},
     "output_type": "execute_result"
    }
   ],
   "source": [
    "avisos_encoding = MultiColumnLabelEncoder(columns = \\\n",
    "    ['nombre_area','denominacion_empresa']).fit_transform(m_avisos)\n",
    "avisos_encoding.head()"
   ]
  },
  {
   "cell_type": "code",
   "execution_count": 56,
   "metadata": {},
   "outputs": [
    {
     "data": {
      "text/html": [
       "<div>\n",
       "<style scoped>\n",
       "    .dataframe tbody tr th:only-of-type {\n",
       "        vertical-align: middle;\n",
       "    }\n",
       "\n",
       "    .dataframe tbody tr th {\n",
       "        vertical-align: top;\n",
       "    }\n",
       "\n",
       "    .dataframe thead th {\n",
       "        text-align: right;\n",
       "    }\n",
       "</style>\n",
       "<table border=\"1\" class=\"dataframe\">\n",
       "  <thead>\n",
       "    <tr style=\"text-align: right;\">\n",
       "      <th></th>\n",
       "      <th>idpostulante</th>\n",
       "      <th>sexo</th>\n",
       "      <th>edad</th>\n",
       "      <th>estado</th>\n",
       "      <th>nivel_alcanzado</th>\n",
       "    </tr>\n",
       "  </thead>\n",
       "  <tbody>\n",
       "    <tr>\n",
       "      <th>0</th>\n",
       "      <td>NM5M</td>\n",
       "      <td>1</td>\n",
       "      <td>47.0</td>\n",
       "      <td>2.0</td>\n",
       "      <td>1.0</td>\n",
       "    </tr>\n",
       "    <tr>\n",
       "      <th>1</th>\n",
       "      <td>5awk</td>\n",
       "      <td>1</td>\n",
       "      <td>55.0</td>\n",
       "      <td>2.0</td>\n",
       "      <td>3.0</td>\n",
       "    </tr>\n",
       "    <tr>\n",
       "      <th>2</th>\n",
       "      <td>ZaO5</td>\n",
       "      <td>1</td>\n",
       "      <td>39.0</td>\n",
       "      <td>0.0</td>\n",
       "      <td>3.0</td>\n",
       "    </tr>\n",
       "    <tr>\n",
       "      <th>3</th>\n",
       "      <td>NdJl</td>\n",
       "      <td>2</td>\n",
       "      <td>49.0</td>\n",
       "      <td>1.0</td>\n",
       "      <td>4.0</td>\n",
       "    </tr>\n",
       "    <tr>\n",
       "      <th>4</th>\n",
       "      <td>eo2p</td>\n",
       "      <td>2</td>\n",
       "      <td>37.0</td>\n",
       "      <td>2.0</td>\n",
       "      <td>4.0</td>\n",
       "    </tr>\n",
       "  </tbody>\n",
       "</table>\n",
       "</div>"
      ],
      "text/plain": [
       "  idpostulante  sexo  edad  estado  nivel_alcanzado\n",
       "0         NM5M     1  47.0     2.0              1.0\n",
       "1         5awk     1  55.0     2.0              3.0\n",
       "2         ZaO5     1  39.0     0.0              3.0\n",
       "3         NdJl     2  49.0     1.0              4.0\n",
       "4         eo2p     2  37.0     2.0              4.0"
      ]
     },
     "execution_count": 56,
     "metadata": {},
     "output_type": "execute_result"
    }
   ],
   "source": [
    "postulantes_encoding = MultiColumnLabelEncoder(columns = \\\n",
    "    ['sexo']).fit_transform(m_postulantes)\n",
    "postulantes_encoding.head()"
   ]
  },
  {
   "cell_type": "markdown",
   "metadata": {},
   "source": [
    "### Merge de las postulaciones"
   ]
  },
  {
   "cell_type": "code",
   "execution_count": 57,
   "metadata": {},
   "outputs": [],
   "source": [
    "m_postulaciones = pd.concat([postulaciones, h15_postulaciones])"
   ]
  },
  {
   "cell_type": "code",
   "execution_count": 58,
   "metadata": {},
   "outputs": [
    {
     "data": {
      "text/plain": [
       "idaviso             8311264\n",
       "idpostulante        8311264\n",
       "fechapostulacion    8311264\n",
       "dtype: int64"
      ]
     },
     "execution_count": 58,
     "metadata": {},
     "output_type": "execute_result"
    }
   ],
   "source": [
    "m_postulaciones['fechapostulacion'] = \\\n",
    "    pd.to_datetime(m_postulaciones['fechapostulacion'], errors='coerce')\n",
    "m_postulaciones.count()"
   ]
  },
  {
   "cell_type": "code",
   "execution_count": 62,
   "metadata": {},
   "outputs": [
    {
     "data": {
      "text/html": [
       "<div>\n",
       "<style scoped>\n",
       "    .dataframe tbody tr th:only-of-type {\n",
       "        vertical-align: middle;\n",
       "    }\n",
       "\n",
       "    .dataframe tbody tr th {\n",
       "        vertical-align: top;\n",
       "    }\n",
       "\n",
       "    .dataframe thead th {\n",
       "        text-align: right;\n",
       "    }\n",
       "</style>\n",
       "<table border=\"1\" class=\"dataframe\">\n",
       "  <thead>\n",
       "    <tr style=\"text-align: right;\">\n",
       "      <th></th>\n",
       "      <th>idaviso</th>\n",
       "      <th>idpostulante</th>\n",
       "    </tr>\n",
       "  </thead>\n",
       "  <tbody>\n",
       "    <tr>\n",
       "      <th>0</th>\n",
       "      <td>1112257047</td>\n",
       "      <td>NM5M</td>\n",
       "    </tr>\n",
       "    <tr>\n",
       "      <th>1</th>\n",
       "      <td>1111920714</td>\n",
       "      <td>NM5M</td>\n",
       "    </tr>\n",
       "  </tbody>\n",
       "</table>\n",
       "</div>"
      ],
      "text/plain": [
       "      idaviso idpostulante\n",
       "0  1112257047         NM5M\n",
       "1  1111920714         NM5M"
      ]
     },
     "execution_count": 62,
     "metadata": {},
     "output_type": "execute_result"
    }
   ],
   "source": [
    "del m_postulaciones['fechapostulacion']\n",
    "m_postulaciones.head(2)"
   ]
  },
  {
   "cell_type": "code",
   "execution_count": 63,
   "metadata": {},
   "outputs": [
    {
     "data": {
      "text/plain": [
       "idpostulante       504407\n",
       "sexo               504407\n",
       "edad               504407\n",
       "estado             504407\n",
       "nivel_alcanzado    504407\n",
       "dtype: int64"
      ]
     },
     "execution_count": 63,
     "metadata": {},
     "output_type": "execute_result"
    }
   ],
   "source": [
    "postulantes_encoding.count()"
   ]
  },
  {
   "cell_type": "code",
   "execution_count": 64,
   "metadata": {},
   "outputs": [],
   "source": [
    "merged = pd.merge(m_postulaciones, postulantes_encoding, \\\n",
    "                  on = 'idpostulante', how = 'inner')"
   ]
  },
  {
   "cell_type": "code",
   "execution_count": 65,
   "metadata": {},
   "outputs": [
    {
     "data": {
      "text/plain": [
       "idaviso            8311264\n",
       "idpostulante       8311264\n",
       "sexo               8311264\n",
       "edad               8311264\n",
       "estado             8311264\n",
       "nivel_alcanzado    8311264\n",
       "dtype: int64"
      ]
     },
     "execution_count": 65,
     "metadata": {},
     "output_type": "execute_result"
    }
   ],
   "source": [
    "merged.count()"
   ]
  },
  {
   "cell_type": "code",
   "execution_count": 66,
   "metadata": {},
   "outputs": [
    {
     "data": {
      "text/plain": [
       "idaviso                 25288\n",
       "nombre_zona             25288\n",
       "tipo_de_trabajo         25288\n",
       "nivel_laboral           25288\n",
       "nombre_area             25288\n",
       "denominacion_empresa    25288\n",
       "dtype: int64"
      ]
     },
     "execution_count": 66,
     "metadata": {},
     "output_type": "execute_result"
    }
   ],
   "source": [
    "avisos_encoding.count()"
   ]
  },
  {
   "cell_type": "code",
   "execution_count": 67,
   "metadata": {},
   "outputs": [
    {
     "data": {
      "text/plain": [
       "idaviso                 7742942\n",
       "idpostulante            7742942\n",
       "sexo                    7742942\n",
       "edad                    7742942\n",
       "estado                  7742942\n",
       "nivel_alcanzado         7742942\n",
       "nombre_zona             7742942\n",
       "tipo_de_trabajo         7742942\n",
       "nivel_laboral           7742942\n",
       "nombre_area             7742942\n",
       "denominacion_empresa    7742942\n",
       "dtype: int64"
      ]
     },
     "execution_count": 67,
     "metadata": {},
     "output_type": "execute_result"
    }
   ],
   "source": [
    "merged2 = pd.merge(merged, avisos_encoding, on = 'idaviso', how = 'inner')\n",
    "merged2.count()"
   ]
  },
  {
   "cell_type": "code",
   "execution_count": 68,
   "metadata": {},
   "outputs": [
    {
     "data": {
      "text/html": [
       "<div>\n",
       "<style scoped>\n",
       "    .dataframe tbody tr th:only-of-type {\n",
       "        vertical-align: middle;\n",
       "    }\n",
       "\n",
       "    .dataframe tbody tr th {\n",
       "        vertical-align: top;\n",
       "    }\n",
       "\n",
       "    .dataframe thead th {\n",
       "        text-align: right;\n",
       "    }\n",
       "</style>\n",
       "<table border=\"1\" class=\"dataframe\">\n",
       "  <thead>\n",
       "    <tr style=\"text-align: right;\">\n",
       "      <th></th>\n",
       "      <th>idaviso</th>\n",
       "      <th>idpostulante</th>\n",
       "      <th>sexo</th>\n",
       "      <th>edad</th>\n",
       "      <th>estado</th>\n",
       "      <th>nivel_alcanzado</th>\n",
       "      <th>nombre_zona</th>\n",
       "      <th>tipo_de_trabajo</th>\n",
       "      <th>nivel_laboral</th>\n",
       "      <th>nombre_area</th>\n",
       "      <th>denominacion_empresa</th>\n",
       "    </tr>\n",
       "  </thead>\n",
       "  <tbody>\n",
       "    <tr>\n",
       "      <th>0</th>\n",
       "      <td>1112257047</td>\n",
       "      <td>NM5M</td>\n",
       "      <td>1</td>\n",
       "      <td>47.0</td>\n",
       "      <td>2.0</td>\n",
       "      <td>1.0</td>\n",
       "      <td>1</td>\n",
       "      <td>0</td>\n",
       "      <td>3</td>\n",
       "      <td>3</td>\n",
       "      <td>1369</td>\n",
       "    </tr>\n",
       "    <tr>\n",
       "      <th>1</th>\n",
       "      <td>1112257047</td>\n",
       "      <td>1kJqGb</td>\n",
       "      <td>1</td>\n",
       "      <td>34.0</td>\n",
       "      <td>1.0</td>\n",
       "      <td>3.0</td>\n",
       "      <td>1</td>\n",
       "      <td>0</td>\n",
       "      <td>3</td>\n",
       "      <td>3</td>\n",
       "      <td>1369</td>\n",
       "    </tr>\n",
       "    <tr>\n",
       "      <th>2</th>\n",
       "      <td>1112257047</td>\n",
       "      <td>eOE9Rr</td>\n",
       "      <td>1</td>\n",
       "      <td>39.0</td>\n",
       "      <td>0.0</td>\n",
       "      <td>3.0</td>\n",
       "      <td>1</td>\n",
       "      <td>0</td>\n",
       "      <td>3</td>\n",
       "      <td>3</td>\n",
       "      <td>1369</td>\n",
       "    </tr>\n",
       "    <tr>\n",
       "      <th>3</th>\n",
       "      <td>1112257047</td>\n",
       "      <td>Zrx8Xz</td>\n",
       "      <td>1</td>\n",
       "      <td>39.0</td>\n",
       "      <td>2.0</td>\n",
       "      <td>2.0</td>\n",
       "      <td>1</td>\n",
       "      <td>0</td>\n",
       "      <td>3</td>\n",
       "      <td>3</td>\n",
       "      <td>1369</td>\n",
       "    </tr>\n",
       "    <tr>\n",
       "      <th>4</th>\n",
       "      <td>1112257047</td>\n",
       "      <td>ZrKNQY</td>\n",
       "      <td>1</td>\n",
       "      <td>32.0</td>\n",
       "      <td>1.0</td>\n",
       "      <td>3.0</td>\n",
       "      <td>1</td>\n",
       "      <td>0</td>\n",
       "      <td>3</td>\n",
       "      <td>3</td>\n",
       "      <td>1369</td>\n",
       "    </tr>\n",
       "  </tbody>\n",
       "</table>\n",
       "</div>"
      ],
      "text/plain": [
       "      idaviso idpostulante  sexo  edad  estado  nivel_alcanzado  nombre_zona  \\\n",
       "0  1112257047         NM5M     1  47.0     2.0              1.0            1   \n",
       "1  1112257047       1kJqGb     1  34.0     1.0              3.0            1   \n",
       "2  1112257047       eOE9Rr     1  39.0     0.0              3.0            1   \n",
       "3  1112257047       Zrx8Xz     1  39.0     2.0              2.0            1   \n",
       "4  1112257047       ZrKNQY     1  32.0     1.0              3.0            1   \n",
       "\n",
       "   tipo_de_trabajo  nivel_laboral  nombre_area  denominacion_empresa  \n",
       "0                0              3            3                  1369  \n",
       "1                0              3            3                  1369  \n",
       "2                0              3            3                  1369  \n",
       "3                0              3            3                  1369  \n",
       "4                0              3            3                  1369  "
      ]
     },
     "execution_count": 68,
     "metadata": {},
     "output_type": "execute_result"
    }
   ],
   "source": [
    "merged2.head()"
   ]
  },
  {
   "cell_type": "code",
   "execution_count": 69,
   "metadata": {},
   "outputs": [
    {
     "data": {
      "text/plain": [
       "idaviso                 7742942\n",
       "idpostulante            7742942\n",
       "sexo                    7742942\n",
       "edad                    7742942\n",
       "estado                  7742942\n",
       "nivel_alcanzado         7742942\n",
       "nombre_zona             7742942\n",
       "tipo_de_trabajo         7742942\n",
       "nivel_laboral           7742942\n",
       "nombre_area             7742942\n",
       "denominacion_empresa    7742942\n",
       "dtype: int64"
      ]
     },
     "execution_count": 69,
     "metadata": {},
     "output_type": "execute_result"
    }
   ],
   "source": [
    "merged2.drop_duplicates()\n",
    "merged2.count()"
   ]
  },
  {
   "cell_type": "code",
   "execution_count": 70,
   "metadata": {},
   "outputs": [],
   "source": [
    "merged2.to_csv('./data/merged_encoding_01.csv', encoding='utf-8')\n",
    "avisos_encoding.to_csv('./data/avisos_encoding_01.csv', encoding='utf-8')\n",
    "postulantes_encoding.to_csv('./data/postulantes_encoding_01.csv', encoding='utf-8')"
   ]
  }
 ],
 "metadata": {
  "kernelspec": {
   "display_name": "Python 3",
   "language": "python",
   "name": "python3"
  },
  "language_info": {
   "codemirror_mode": {
    "name": "ipython",
    "version": 3
   },
   "file_extension": ".py",
   "mimetype": "text/x-python",
   "name": "python",
   "nbconvert_exporter": "python",
   "pygments_lexer": "ipython3",
   "version": "3.6.5"
  }
 },
 "nbformat": 4,
 "nbformat_minor": 2
}
