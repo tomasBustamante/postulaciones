{
 "cells": [
  {
   "cell_type": "markdown",
   "metadata": {},
   "source": [
    "# Limpieza de datos sobre avisos laborales, postulantes y postulaciones"
   ]
  },
  {
   "cell_type": "code",
   "execution_count": 1,
   "metadata": {},
   "outputs": [],
   "source": [
    "import pandas as pd\n",
    "import numpy as np\n",
    "import datetime\n",
    "import sklearn"
   ]
  },
  {
   "cell_type": "markdown",
   "metadata": {},
   "source": [
    "## Lectura de datos"
   ]
  },
  {
   "cell_type": "markdown",
   "metadata": {},
   "source": [
    "### Datos originales"
   ]
  },
  {
   "cell_type": "code",
   "execution_count": 47,
   "metadata": {},
   "outputs": [],
   "source": [
    "# Postulantes\n",
    "postulantes_educacion = pd.read_csv(\\\n",
    "    './data/fiuba_1_postulantes_educacion.csv', low_memory=False)\n",
    "postulantes_sexo_y_edad = pd.read_csv(\\\n",
    "    './data/fiuba_2_postulantes_genero_y_edad.csv', low_memory=False)\n",
    "\n",
    "# Avisos\n",
    "avisos_online = pd.read_csv(\\\n",
    "    './data/fiuba_5_avisos_online.csv', low_memory=False)\n",
    "avisos_detalle = pd.read_csv(\\\n",
    "    './data/fiuba_6_avisos_detalle.csv', low_memory=False)\n",
    "\n",
    "# Transacciones\n",
    "vistas = pd.read_csv(\\\n",
    "    './data/fiuba_3_vistas.csv', low_memory=False)\n",
    "postulaciones = pd.read_csv(\\\n",
    "    './data/fiuba_4_postulaciones.csv', low_memory=False)"
   ]
  },
  {
   "cell_type": "markdown",
   "metadata": {},
   "source": [
    "### Datos hasta el 15 de abril"
   ]
  },
  {
   "cell_type": "code",
   "execution_count": 48,
   "metadata": {},
   "outputs": [],
   "source": [
    "# Postulantes\n",
    "h15_postulantes_educacion = pd.read_csv(\\\n",
    "    './data/fiuba_hasta_15_abril/entrega6/fiuba_1_postulantes_educacion.csv',\\\n",
    "    low_memory=False)\n",
    "h15_postulantes_sexo_y_edad = pd.read_csv(\\\n",
    "    './data/fiuba_hasta_15_abril/entrega6/fiuba_2_postulantes_genero_y_edad.csv',\\\n",
    "    low_memory=False)\n",
    "\n",
    "# Avisos\n",
    "h15_avisos_online = pd.read_csv(\\\n",
    "    './data/fiuba_hasta_15_abril/entrega6/fiuba_5_avisos_online.csv',\\\n",
    "    low_memory=False)\n",
    "h15_avisos_detalle = pd.read_csv(\\\n",
    "    './data/fiuba_hasta_15_abril/entrega6/fiuba_6_avisos_detalle.csv',\\\n",
    "    low_memory=False)\n",
    "\n",
    "# Transacciones\n",
    "h15_vistas = pd.read_csv(\\\n",
    "    './data/fiuba_hasta_15_abril/entrega6/fiuba_3_vistas.csv',\\\n",
    "    low_memory=False)\n",
    "h15_postulaciones = pd.read_csv(\\\n",
    "    './data/fiuba_hasta_15_abril/entrega6/fiuba_4_postulaciones.csv',\\\n",
    "    low_memory=False)"
   ]
  },
  {
   "cell_type": "markdown",
   "metadata": {},
   "source": [
    "### Datos desde el 15 de abril"
   ]
  },
  {
   "cell_type": "code",
   "execution_count": 49,
   "metadata": {},
   "outputs": [],
   "source": [
    "# Postulantes\n",
    "d15_postulantes_educacion = pd.read_csv(\\\n",
    "    './data/fiuba_desde_15_Abril/fiuba_1_postulantes_educacion.csv',\\\n",
    "    low_memory=False)\n",
    "d15_postulantes_sexo_y_edad = pd.read_csv(\\\n",
    "    './data/fiuba_desde_15_Abril/fiuba_2_postulantes_genero_y_edad.csv',\\\n",
    "    low_memory=False)\n",
    "\n",
    "# Avisos\n",
    "d15_avisos_detalle = pd.read_csv(\\\n",
    "    './data/fiuba_desde_15_Abril/fiuba_6_avisos_detalle.csv',\\\n",
    "    low_memory=False)\n",
    "\n",
    "# Transacciones\n",
    "d15_vistas = pd.read_csv(\\\n",
    "    './data/fiuba_desde_15_Abril/fiuba_3_vistas.csv',\\\n",
    "    low_memory=False)"
   ]
  },
  {
   "cell_type": "markdown",
   "metadata": {},
   "source": [
    "### Datos de avisos faltantes"
   ]
  },
  {
   "cell_type": "code",
   "execution_count": 50,
   "metadata": {},
   "outputs": [],
   "source": [
    "# Avisos\n",
    "m_avisos_detalle = pd.read_csv(\\\n",
    "    './data/fiuba_6_avisos_detalle_missing_nivel_laboral.csv',\\\n",
    "    low_memory=False)"
   ]
  },
  {
   "cell_type": "markdown",
   "metadata": {},
   "source": [
    "## Procesamiento de los datos de postulantes"
   ]
  },
  {
   "cell_type": "markdown",
   "metadata": {},
   "source": [
    "Agregamos columna con ponderación del nivel de estudios alcanzado."
   ]
  },
  {
   "cell_type": "code",
   "execution_count": 6,
   "metadata": {},
   "outputs": [],
   "source": [
    "def categorizar_estudios(x):\n",
    "    if((x.nombre is np.nan) | (x.nombre == 'Otro')):\n",
    "        return 0\n",
    "    if(x.nombre == 'Secundario'):\n",
    "        nivel = 1\n",
    "    if(x.nombre == 'Terciario/Técnico'):\n",
    "        nivel = 2\n",
    "    if(x.nombre == 'Universitario'):\n",
    "        nivel = 3\n",
    "    if((x.nombre == 'Posgrado') | (x.nombre == 'Master') |\\\n",
    "       (x.nombre == 'Doctorado')):\n",
    "        nivel = 4\n",
    "    if(x.estado == 'Graduado'):\n",
    "        return nivel + 1\n",
    "    if(x.estado == 'En Curso'):\n",
    "        return nivel + 0.5\n",
    "    return nivel\n",
    "\n",
    "postulantes_educacion['nivel_estudios'] = postulantes_educacion\\\n",
    "    .apply(categorizar_estudios, axis=1)\n",
    "h15_postulantes_educacion['nivel_estudios'] = h15_postulantes_educacion\\\n",
    "    .apply(categorizar_estudios, axis=1)\n",
    "d15_postulantes_educacion['nivel_estudios'] = d15_postulantes_educacion\\\n",
    "    .apply(categorizar_estudios, axis=1)"
   ]
  },
  {
   "cell_type": "markdown",
   "metadata": {},
   "source": [
    "Eliminamos las columnas ```nombre``` y ```estado``` dejando solamente la nueva columna   ```nivel_estudios``` con valores numéricos jerarquizados."
   ]
  },
  {
   "cell_type": "code",
   "execution_count": 7,
   "metadata": {},
   "outputs": [],
   "source": [
    "postulantes_educacion.drop(['nombre','estado'], axis=1, inplace=True)\n",
    "h15_postulantes_educacion.drop(['nombre','estado'], axis=1, inplace=True)\n",
    "d15_postulantes_educacion.drop(['nombre','estado'], axis=1, inplace=True)"
   ]
  },
  {
   "cell_type": "markdown",
   "metadata": {},
   "source": [
    "Unimos todos los dataframes de la educación de los postulantes y nos quedamos solo con los registros del máximo nivel de estudios alcanzado."
   ]
  },
  {
   "cell_type": "code",
   "execution_count": 8,
   "metadata": {},
   "outputs": [
    {
     "data": {
      "text/html": [
       "<div>\n",
       "<style scoped>\n",
       "    .dataframe tbody tr th:only-of-type {\n",
       "        vertical-align: middle;\n",
       "    }\n",
       "\n",
       "    .dataframe tbody tr th {\n",
       "        vertical-align: top;\n",
       "    }\n",
       "\n",
       "    .dataframe thead th {\n",
       "        text-align: right;\n",
       "    }\n",
       "</style>\n",
       "<table border=\"1\" class=\"dataframe\">\n",
       "  <thead>\n",
       "    <tr style=\"text-align: right;\">\n",
       "      <th></th>\n",
       "      <th>idpostulante</th>\n",
       "      <th>nivel_estudios</th>\n",
       "    </tr>\n",
       "  </thead>\n",
       "  <tbody>\n",
       "    <tr>\n",
       "      <th>182965</th>\n",
       "      <td>61M19R</td>\n",
       "      <td>5.0</td>\n",
       "    </tr>\n",
       "    <tr>\n",
       "      <th>163713</th>\n",
       "      <td>Eze1oeN</td>\n",
       "      <td>5.0</td>\n",
       "    </tr>\n",
       "  </tbody>\n",
       "</table>\n",
       "</div>"
      ],
      "text/plain": [
       "       idpostulante  nivel_estudios\n",
       "182965       61M19R             5.0\n",
       "163713      Eze1oeN             5.0"
      ]
     },
     "execution_count": 8,
     "metadata": {},
     "output_type": "execute_result"
    }
   ],
   "source": [
    "m_postulantes_educacion = pd.concat([postulantes_educacion, \\\n",
    "                                 h15_postulantes_educacion, \\\n",
    "                                 d15_postulantes_educacion])\n",
    "\n",
    "m_postulantes_educacion = m_postulantes_educacion \\\n",
    "    .sort_values('nivel_estudios', ascending = False) \\\n",
    "    .drop_duplicates('idpostulante')\n",
    "\n",
    "m_postulantes_educacion.head(2)"
   ]
  },
  {
   "cell_type": "code",
   "execution_count": 10,
   "metadata": {},
   "outputs": [
    {
     "name": "stdout",
     "output_type": "stream",
     "text": [
      "<class 'pandas.core.frame.DataFrame'>\n",
      "Int64Index: 447909 entries, 182965 to 179134\n",
      "Data columns (total 2 columns):\n",
      "idpostulante      447909 non-null object\n",
      "nivel_estudios    447909 non-null float64\n",
      "dtypes: float64(1), object(1)\n",
      "memory usage: 10.3+ MB\n"
     ]
    }
   ],
   "source": [
    "m_postulantes_educacion.info()"
   ]
  },
  {
   "cell_type": "markdown",
   "metadata": {},
   "source": [
    "Unión de los dataframes de sexo y edad de los postulantes"
   ]
  },
  {
   "cell_type": "code",
   "execution_count": 11,
   "metadata": {},
   "outputs": [],
   "source": [
    "m_postulantes_sexo_y_edad = pd.concat([postulantes_sexo_y_edad, \\\n",
    "                                      h15_postulantes_sexo_y_edad, \\\n",
    "                                      d15_postulantes_sexo_y_edad])"
   ]
  },
  {
   "cell_type": "markdown",
   "metadata": {},
   "source": [
    "Eliminamos las filas completamente iguales."
   ]
  },
  {
   "cell_type": "code",
   "execution_count": 12,
   "metadata": {},
   "outputs": [
    {
     "data": {
      "text/plain": [
       "idpostulante       505382\n",
       "fechanacimiento    478699\n",
       "sexo               505382\n",
       "dtype: int64"
      ]
     },
     "execution_count": 12,
     "metadata": {},
     "output_type": "execute_result"
    }
   ],
   "source": [
    "m_postulantes_sexo_y_edad = m_postulantes_sexo_y_edad.drop_duplicates()\n",
    "m_postulantes_sexo_y_edad.count()"
   ]
  },
  {
   "cell_type": "markdown",
   "metadata": {},
   "source": [
    "Pasamos el formato de la columna ```fechanacimiento``` a datetime convirtiendo los valores inválidos a ```NaN```."
   ]
  },
  {
   "cell_type": "code",
   "execution_count": 13,
   "metadata": {},
   "outputs": [
    {
     "name": "stdout",
     "output_type": "stream",
     "text": [
      "<class 'pandas.core.frame.DataFrame'>\n",
      "Int64Index: 505382 entries, 0 to 281384\n",
      "Data columns (total 3 columns):\n",
      "idpostulante       505382 non-null object\n",
      "fechanacimiento    384817 non-null datetime64[ns]\n",
      "sexo               505382 non-null object\n",
      "dtypes: datetime64[ns](1), object(2)\n",
      "memory usage: 15.4+ MB\n"
     ]
    }
   ],
   "source": [
    "m_postulantes_sexo_y_edad['fechanacimiento'] = \\\n",
    "    pd.to_datetime(postulantes_sexo_y_edad['fechanacimiento']\\\n",
    "                   , errors='coerce')\n",
    "m_postulantes_sexo_y_edad.info()"
   ]
  },
  {
   "cell_type": "markdown",
   "metadata": {},
   "source": [
    "Agregamos una columna calculando la edad a partir de la fecha de nacimiento y la fecha actual. Si la edad resultante es menor a 16 o mayor a 100 no la tenemos en cuenta."
   ]
  },
  {
   "cell_type": "code",
   "execution_count": 14,
   "metadata": {},
   "outputs": [],
   "source": [
    "def calcular_edad(fecha_nacimiento):\n",
    "    hoy = datetime.date.today()\n",
    "    edad = hoy.year - fecha_nacimiento.year - ((hoy.month, hoy.day)\\\n",
    "            < (fecha_nacimiento.month, fecha_nacimiento.day))\n",
    "    return np.NaN if ((edad > 100) | (edad < 16)) else edad\n",
    "\n",
    "m_postulantes_sexo_y_edad['edad'] = \\\n",
    "    m_postulantes_sexo_y_edad['fechanacimiento']\\\n",
    "    .apply(lambda x: calcular_edad(x))"
   ]
  },
  {
   "cell_type": "markdown",
   "metadata": {},
   "source": [
    "Llenamos las edades nulas con el valor de la edad promedio de las demás y borramos la columna ```fechanacimiento```."
   ]
  },
  {
   "cell_type": "code",
   "execution_count": 15,
   "metadata": {},
   "outputs": [
    {
     "data": {
      "text/html": [
       "<div>\n",
       "<style scoped>\n",
       "    .dataframe tbody tr th:only-of-type {\n",
       "        vertical-align: middle;\n",
       "    }\n",
       "\n",
       "    .dataframe tbody tr th {\n",
       "        vertical-align: top;\n",
       "    }\n",
       "\n",
       "    .dataframe thead th {\n",
       "        text-align: right;\n",
       "    }\n",
       "</style>\n",
       "<table border=\"1\" class=\"dataframe\">\n",
       "  <thead>\n",
       "    <tr style=\"text-align: right;\">\n",
       "      <th></th>\n",
       "      <th>idpostulante</th>\n",
       "      <th>sexo</th>\n",
       "      <th>edad</th>\n",
       "    </tr>\n",
       "  </thead>\n",
       "  <tbody>\n",
       "    <tr>\n",
       "      <th>0</th>\n",
       "      <td>NM5M</td>\n",
       "      <td>FEM</td>\n",
       "      <td>47.0</td>\n",
       "    </tr>\n",
       "    <tr>\n",
       "      <th>1</th>\n",
       "      <td>5awk</td>\n",
       "      <td>FEM</td>\n",
       "      <td>55.0</td>\n",
       "    </tr>\n",
       "  </tbody>\n",
       "</table>\n",
       "</div>"
      ],
      "text/plain": [
       "  idpostulante sexo  edad\n",
       "0         NM5M  FEM  47.0\n",
       "1         5awk  FEM  55.0"
      ]
     },
     "execution_count": 15,
     "metadata": {},
     "output_type": "execute_result"
    }
   ],
   "source": [
    "edad_promedio = m_postulantes_sexo_y_edad['edad'].mean()\n",
    "m_postulantes_sexo_y_edad['edad'].fillna(edad_promedio, inplace = True)\n",
    "m_postulantes_sexo_y_edad.drop(['fechanacimiento'], axis=1, inplace=True)\n",
    "m_postulantes_sexo_y_edad.head(2)"
   ]
  },
  {
   "cell_type": "markdown",
   "metadata": {},
   "source": [
    "Como existen postulantes repetidos con distintos sexos, nos quedamos arbitrariamente con alguno de ellos solamente."
   ]
  },
  {
   "cell_type": "code",
   "execution_count": 16,
   "metadata": {},
   "outputs": [],
   "source": [
    "m_postulantes_sexo_y_edad = \\\n",
    "    sklearn.utils.shuffle(m_postulantes_sexo_y_edad)\n",
    "m_postulantes_sexo_y_edad.drop_duplicates('idpostulante', inplace=True)"
   ]
  },
  {
   "cell_type": "markdown",
   "metadata": {},
   "source": [
    "One Hot Encoding para el sexo de los postulantes."
   ]
  },
  {
   "cell_type": "code",
   "execution_count": 17,
   "metadata": {},
   "outputs": [
    {
     "data": {
      "text/html": [
       "<div>\n",
       "<style scoped>\n",
       "    .dataframe tbody tr th:only-of-type {\n",
       "        vertical-align: middle;\n",
       "    }\n",
       "\n",
       "    .dataframe tbody tr th {\n",
       "        vertical-align: top;\n",
       "    }\n",
       "\n",
       "    .dataframe thead th {\n",
       "        text-align: right;\n",
       "    }\n",
       "</style>\n",
       "<table border=\"1\" class=\"dataframe\">\n",
       "  <thead>\n",
       "    <tr style=\"text-align: right;\">\n",
       "      <th></th>\n",
       "      <th>idpostulante</th>\n",
       "      <th>edad</th>\n",
       "      <th>femenino</th>\n",
       "      <th>masculino</th>\n",
       "      <th>no_declara_sexo</th>\n",
       "    </tr>\n",
       "  </thead>\n",
       "  <tbody>\n",
       "    <tr>\n",
       "      <th>255044</th>\n",
       "      <td>akD8QZ0</td>\n",
       "      <td>29.966324</td>\n",
       "      <td>0</td>\n",
       "      <td>1</td>\n",
       "      <td>0</td>\n",
       "    </tr>\n",
       "    <tr>\n",
       "      <th>158448</th>\n",
       "      <td>bOjGl2b</td>\n",
       "      <td>22.000000</td>\n",
       "      <td>0</td>\n",
       "      <td>1</td>\n",
       "      <td>0</td>\n",
       "    </tr>\n",
       "  </tbody>\n",
       "</table>\n",
       "</div>"
      ],
      "text/plain": [
       "       idpostulante       edad  femenino  masculino  no_declara_sexo\n",
       "255044      akD8QZ0  29.966324         0          1                0\n",
       "158448      bOjGl2b  22.000000         0          1                0"
      ]
     },
     "execution_count": 17,
     "metadata": {},
     "output_type": "execute_result"
    }
   ],
   "source": [
    "m_postulantes_sexo_y_edad['femenino'] = m_postulantes_sexo_y_edad['sexo']\\\n",
    "    .apply(lambda x: 1 if x == 'FEM' else 0)\n",
    "m_postulantes_sexo_y_edad['masculino'] = m_postulantes_sexo_y_edad['sexo']\\\n",
    "    .apply(lambda x: 1 if x == 'MASC' else 0)\n",
    "m_postulantes_sexo_y_edad['no_declara_sexo'] = m_postulantes_sexo_y_edad['sexo']\\\n",
    "    .apply(lambda x: 1 if x == 'NO_DECLARA' else 0)\n",
    "\n",
    "# Eliminamos la columna sexo\n",
    "m_postulantes_sexo_y_edad.drop(['sexo'], axis=1, inplace=True)\n",
    "m_postulantes_sexo_y_edad.head(2)"
   ]
  },
  {
   "cell_type": "code",
   "execution_count": 18,
   "metadata": {},
   "outputs": [
    {
     "name": "stdout",
     "output_type": "stream",
     "text": [
      "<class 'pandas.core.frame.DataFrame'>\n",
      "Int64Index: 504407 entries, 255044 to 124854\n",
      "Data columns (total 5 columns):\n",
      "idpostulante       504407 non-null object\n",
      "edad               504407 non-null float64\n",
      "femenino           504407 non-null int64\n",
      "masculino          504407 non-null int64\n",
      "no_declara_sexo    504407 non-null int64\n",
      "dtypes: float64(1), int64(3), object(1)\n",
      "memory usage: 23.1+ MB\n"
     ]
    }
   ],
   "source": [
    "m_postulantes_sexo_y_edad.info()"
   ]
  },
  {
   "cell_type": "markdown",
   "metadata": {},
   "source": [
    "Unimos ambos dataframes de los postulantes."
   ]
  },
  {
   "cell_type": "code",
   "execution_count": 19,
   "metadata": {},
   "outputs": [
    {
     "name": "stdout",
     "output_type": "stream",
     "text": [
      "<class 'pandas.core.frame.DataFrame'>\n",
      "Int64Index: 504407 entries, 0 to 504406\n",
      "Data columns (total 6 columns):\n",
      "idpostulante       504407 non-null object\n",
      "edad               504407 non-null float64\n",
      "femenino           504407 non-null int64\n",
      "masculino          504407 non-null int64\n",
      "no_declara_sexo    504407 non-null int64\n",
      "nivel_estudios     447909 non-null float64\n",
      "dtypes: float64(2), int64(3), object(1)\n",
      "memory usage: 26.9+ MB\n"
     ]
    }
   ],
   "source": [
    "m_postulantes = pd.merge(m_postulantes_sexo_y_edad, m_postulantes_educacion, \\\n",
    "                       on = 'idpostulante', how='outer')\n",
    "m_postulantes.info()"
   ]
  },
  {
   "cell_type": "markdown",
   "metadata": {},
   "source": [
    "Como existen postulantes sin nivel de estudios declarados, completamos con la mediana."
   ]
  },
  {
   "cell_type": "code",
   "execution_count": 20,
   "metadata": {},
   "outputs": [
    {
     "name": "stdout",
     "output_type": "stream",
     "text": [
      "Mediana del nivel de estudios:  3.0\n"
     ]
    }
   ],
   "source": [
    "mediana_estudios = m_postulantes['nivel_estudios'].median()\n",
    "print('Mediana del nivel de estudios: ', mediana_estudios)"
   ]
  },
  {
   "cell_type": "code",
   "execution_count": 21,
   "metadata": {},
   "outputs": [
    {
     "name": "stdout",
     "output_type": "stream",
     "text": [
      "<class 'pandas.core.frame.DataFrame'>\n",
      "Int64Index: 504407 entries, 0 to 504406\n",
      "Data columns (total 6 columns):\n",
      "idpostulante       504407 non-null object\n",
      "edad               504407 non-null float64\n",
      "femenino           504407 non-null int64\n",
      "masculino          504407 non-null int64\n",
      "no_declara_sexo    504407 non-null int64\n",
      "nivel_estudios     504407 non-null float64\n",
      "dtypes: float64(2), int64(3), object(1)\n",
      "memory usage: 26.9+ MB\n"
     ]
    }
   ],
   "source": [
    "m_postulantes['nivel_estudios'].fillna(mediana_estudios, inplace=True)\n",
    "m_postulantes.info()"
   ]
  },
  {
   "cell_type": "code",
   "execution_count": 22,
   "metadata": {},
   "outputs": [],
   "source": [
    "m_postulantes.to_csv('./postulantes_encoding.csv', encoding='utf-8')"
   ]
  },
  {
   "cell_type": "markdown",
   "metadata": {},
   "source": [
    "## Procesamiento de los datos de los avisos"
   ]
  },
  {
   "cell_type": "code",
   "execution_count": 51,
   "metadata": {},
   "outputs": [
    {
     "data": {
      "text/html": [
       "<div>\n",
       "<style scoped>\n",
       "    .dataframe tbody tr th:only-of-type {\n",
       "        vertical-align: middle;\n",
       "    }\n",
       "\n",
       "    .dataframe tbody tr th {\n",
       "        vertical-align: top;\n",
       "    }\n",
       "\n",
       "    .dataframe thead th {\n",
       "        text-align: right;\n",
       "    }\n",
       "</style>\n",
       "<table border=\"1\" class=\"dataframe\">\n",
       "  <thead>\n",
       "    <tr style=\"text-align: right;\">\n",
       "      <th></th>\n",
       "      <th>idaviso</th>\n",
       "      <th>idpais</th>\n",
       "      <th>titulo</th>\n",
       "      <th>descripcion</th>\n",
       "      <th>nombre_zona</th>\n",
       "      <th>ciudad</th>\n",
       "      <th>mapacalle</th>\n",
       "      <th>tipo_de_trabajo</th>\n",
       "      <th>nivel_laboral</th>\n",
       "      <th>nombre_area</th>\n",
       "      <th>denominacion_empresa</th>\n",
       "    </tr>\n",
       "  </thead>\n",
       "  <tbody>\n",
       "    <tr>\n",
       "      <th>0</th>\n",
       "      <td>8725750</td>\n",
       "      <td>1</td>\n",
       "      <td>VENDEDOR/A PROVINCIA DE SANTA FE</td>\n",
       "      <td>&lt;p&gt;&lt;strong&gt;&lt;strong&gt;Empresa:&lt;/strong&gt;&lt;/strong&gt; ...</td>\n",
       "      <td>Gran Buenos Aires</td>\n",
       "      <td>NaN</td>\n",
       "      <td>NaN</td>\n",
       "      <td>Full-time</td>\n",
       "      <td>Senior / Semi-Senior</td>\n",
       "      <td>Comercial</td>\n",
       "      <td>VENTOR</td>\n",
       "    </tr>\n",
       "    <tr>\n",
       "      <th>1</th>\n",
       "      <td>17903700</td>\n",
       "      <td>1</td>\n",
       "      <td>Enfermeras</td>\n",
       "      <td>&lt;p&gt;Solicitamos para importante cadena de farma...</td>\n",
       "      <td>Gran Buenos Aires</td>\n",
       "      <td>NaN</td>\n",
       "      <td>NaN</td>\n",
       "      <td>Full-time</td>\n",
       "      <td>Senior / Semi-Senior</td>\n",
       "      <td>Salud</td>\n",
       "      <td>Farmacias Central Oeste</td>\n",
       "    </tr>\n",
       "  </tbody>\n",
       "</table>\n",
       "</div>"
      ],
      "text/plain": [
       "    idaviso  idpais                            titulo  \\\n",
       "0   8725750       1  VENDEDOR/A PROVINCIA DE SANTA FE   \n",
       "1  17903700       1                        Enfermeras   \n",
       "\n",
       "                                         descripcion        nombre_zona  \\\n",
       "0  <p><strong><strong>Empresa:</strong></strong> ...  Gran Buenos Aires   \n",
       "1  <p>Solicitamos para importante cadena de farma...  Gran Buenos Aires   \n",
       "\n",
       "  ciudad mapacalle tipo_de_trabajo         nivel_laboral nombre_area  \\\n",
       "0    NaN       NaN       Full-time  Senior / Semi-Senior   Comercial   \n",
       "1    NaN       NaN       Full-time  Senior / Semi-Senior       Salud   \n",
       "\n",
       "      denominacion_empresa  \n",
       "0                   VENTOR  \n",
       "1  Farmacias Central Oeste  "
      ]
     },
     "execution_count": 51,
     "metadata": {},
     "output_type": "execute_result"
    }
   ],
   "source": [
    "avisos_detalle.head(2)"
   ]
  },
  {
   "cell_type": "markdown",
   "metadata": {},
   "source": [
    "Descartamos las columnas ```idpais```, porque es 1 para todos los avisos (Argentina); ```descripcion``` (por ahora, pero habría que procesarlo luego), ```nombre_zona``` ya que casi todos son de Buenos Aires y alrededores y ```ciudad``` y ```mapacalle``` que no agregan información relevante."
   ]
  },
  {
   "cell_type": "code",
   "execution_count": 52,
   "metadata": {},
   "outputs": [],
   "source": [
    "avisos_detalle.drop(['idpais','descripcion','nombre_zona',\\\n",
    "                     'ciudad','mapacalle'], axis=1, inplace=True)\n",
    "h15_avisos_detalle.drop(['idpais','descripcion','nombre_zona',\\\n",
    "                     'ciudad','mapacalle'], axis=1, inplace=True)\n",
    "d15_avisos_detalle.drop(['idpais','descripcion','nombre_zona',\\\n",
    "                     'ciudad','mapacalle'], axis=1, inplace=True)\n",
    "m_avisos_detalle.drop(['idpais','descripcion','nombre_zona',\\\n",
    "                     'ciudad','mapacalle'], axis=1, inplace=True)"
   ]
  },
  {
   "cell_type": "markdown",
   "metadata": {},
   "source": [
    "Unimos todos los avisos y eliminamos los duplicados."
   ]
  },
  {
   "cell_type": "code",
   "execution_count": 53,
   "metadata": {},
   "outputs": [
    {
     "name": "stdout",
     "output_type": "stream",
     "text": [
      "<class 'pandas.core.frame.DataFrame'>\n",
      "Int64Index: 45969 entries, 0 to 337\n",
      "Data columns (total 6 columns):\n",
      "idaviso                 45969 non-null int64\n",
      "titulo                  45969 non-null object\n",
      "tipo_de_trabajo         45969 non-null object\n",
      "nivel_laboral           45634 non-null object\n",
      "nombre_area             45969 non-null object\n",
      "denominacion_empresa    45955 non-null object\n",
      "dtypes: int64(1), object(5)\n",
      "memory usage: 2.5+ MB\n"
     ]
    }
   ],
   "source": [
    "m_avisos = pd.concat([avisos_detalle, h15_avisos_detalle, \\\n",
    "                      d15_avisos_detalle, m_avisos_detalle])\n",
    "\n",
    "m_avisos.info()"
   ]
  },
  {
   "cell_type": "code",
   "execution_count": 54,
   "metadata": {},
   "outputs": [
    {
     "name": "stdout",
     "output_type": "stream",
     "text": [
      "<class 'pandas.core.frame.DataFrame'>\n",
      "Int64Index: 25288 entries, 0 to 337\n",
      "Data columns (total 6 columns):\n",
      "idaviso                 25288 non-null int64\n",
      "titulo                  25288 non-null object\n",
      "tipo_de_trabajo         25288 non-null object\n",
      "nivel_laboral           24953 non-null object\n",
      "nombre_area             25288 non-null object\n",
      "denominacion_empresa    25281 non-null object\n",
      "dtypes: int64(1), object(5)\n",
      "memory usage: 1.4+ MB\n"
     ]
    }
   ],
   "source": [
    "m_avisos = m_avisos.drop_duplicates()\n",
    "m_avisos = m_avisos.drop_duplicates('idaviso')\n",
    "m_avisos.info()"
   ]
  },
  {
   "cell_type": "markdown",
   "metadata": {},
   "source": [
    "Codificamos la columna de nivel laboral."
   ]
  },
  {
   "cell_type": "code",
   "execution_count": 55,
   "metadata": {},
   "outputs": [
    {
     "data": {
      "text/plain": [
       "Senior / Semi-Senior                    16983\n",
       "Junior                                   4149\n",
       "Otro                                     1972\n",
       "Jefe / Supervisor / Responsable          1527\n",
       "Gerencia / Alta Gerencia / Dirección      322\n",
       "Name: nivel_laboral, dtype: int64"
      ]
     },
     "execution_count": 55,
     "metadata": {},
     "output_type": "execute_result"
    }
   ],
   "source": [
    "m_avisos.nivel_laboral.value_counts()"
   ]
  },
  {
   "cell_type": "markdown",
   "metadata": {},
   "source": [
    "Como la mayoría son \"Senior / Semi-Senior\", le asignaremos ese valor a los que tienen el valor \"Otro\"."
   ]
  },
  {
   "cell_type": "code",
   "execution_count": 56,
   "metadata": {},
   "outputs": [],
   "source": [
    "def categorizar_nivel_laboral(x):\n",
    "    if(x == 'Junior'):\n",
    "        return 1\n",
    "    if(x == 'Senior / Semi-Senior'):\n",
    "        return 2\n",
    "    if(x == 'Jefe / Supervisor / Responsable'):\n",
    "        return 3\n",
    "    if(x == 'Gerencia / Alta Gerencia / Dirección'):\n",
    "        return 4\n",
    "    return 0\n",
    "\n",
    "m_avisos['nivel_laboral'] = m_avisos['nivel_laboral']\\\n",
    "    .apply(lambda x: categorizar_nivel_laboral(x))"
   ]
  },
  {
   "cell_type": "code",
   "execution_count": 57,
   "metadata": {},
   "outputs": [
    {
     "data": {
      "text/plain": [
       "Full-time          22830\n",
       "Part-time           1746\n",
       "Teletrabajo          248\n",
       "Por Horas            127\n",
       "Pasantia             119\n",
       "Temporario            95\n",
       "Por Contrato          88\n",
       "Fines de Semana       28\n",
       "Primer empleo          6\n",
       "Voluntario             1\n",
       "Name: tipo_de_trabajo, dtype: int64"
      ]
     },
     "execution_count": 57,
     "metadata": {},
     "output_type": "execute_result"
    }
   ],
   "source": [
    "m_avisos.tipo_de_trabajo.value_counts()"
   ]
  },
  {
   "cell_type": "code",
   "execution_count": 58,
   "metadata": {},
   "outputs": [],
   "source": [
    "def categorizar_tipo_de_trabajo(x):\n",
    "    if((x == 'Primer empleo') | (x == 'Pasantia') | (x == 'Voluntario')):\n",
    "        return 0\n",
    "    if((x == 'Teletrabajo') | (x == 'Por Horas') | (x == 'Temporario')\\\n",
    "      | (x == 'Por Contrato') | (x == 'Fines de Semana')):\n",
    "        return 1\n",
    "    if(x == 'Part-time'):\n",
    "        return 2\n",
    "    if(x == 'Full-time'):\n",
    "        return 3\n",
    "\n",
    "m_avisos['tipo_de_trabajo'] = m_avisos['tipo_de_trabajo']\\\n",
    "    .apply(lambda x: categorizar_tipo_de_trabajo(x))"
   ]
  },
  {
   "cell_type": "code",
   "execution_count": 59,
   "metadata": {},
   "outputs": [],
   "source": [
    "from nltk import word_tokenize\n",
    "from nltk.stem import SnowballStemmer\n",
    "stemmer = SnowballStemmer('spanish')"
   ]
  },
  {
   "cell_type": "code",
   "execution_count": 60,
   "metadata": {},
   "outputs": [],
   "source": [
    "m_avisos['titulo'] = m_avisos.titulo\\\n",
    "    .apply(lambda x: stemmer.stem(x.split()[0]))"
   ]
  },
  {
   "cell_type": "code",
   "execution_count": 61,
   "metadata": {},
   "outputs": [
    {
     "data": {
      "text/html": [
       "<div>\n",
       "<style scoped>\n",
       "    .dataframe tbody tr th:only-of-type {\n",
       "        vertical-align: middle;\n",
       "    }\n",
       "\n",
       "    .dataframe tbody tr th {\n",
       "        vertical-align: top;\n",
       "    }\n",
       "\n",
       "    .dataframe thead th {\n",
       "        text-align: right;\n",
       "    }\n",
       "</style>\n",
       "<table border=\"1\" class=\"dataframe\">\n",
       "  <thead>\n",
       "    <tr style=\"text-align: right;\">\n",
       "      <th></th>\n",
       "      <th>idaviso</th>\n",
       "      <th>titulo</th>\n",
       "      <th>tipo_de_trabajo</th>\n",
       "      <th>nivel_laboral</th>\n",
       "      <th>nombre_area</th>\n",
       "    </tr>\n",
       "  </thead>\n",
       "  <tbody>\n",
       "    <tr>\n",
       "      <th>0</th>\n",
       "      <td>8725750</td>\n",
       "      <td>vendedor/</td>\n",
       "      <td>3</td>\n",
       "      <td>2</td>\n",
       "      <td>Comercial</td>\n",
       "    </tr>\n",
       "    <tr>\n",
       "      <th>1</th>\n",
       "      <td>17903700</td>\n",
       "      <td>enfermer</td>\n",
       "      <td>3</td>\n",
       "      <td>2</td>\n",
       "      <td>Salud</td>\n",
       "    </tr>\n",
       "  </tbody>\n",
       "</table>\n",
       "</div>"
      ],
      "text/plain": [
       "    idaviso     titulo  tipo_de_trabajo  nivel_laboral nombre_area\n",
       "0   8725750  vendedor/                3              2   Comercial\n",
       "1  17903700   enfermer                3              2       Salud"
      ]
     },
     "execution_count": 61,
     "metadata": {},
     "output_type": "execute_result"
    }
   ],
   "source": [
    "del m_avisos['denominacion_empresa']\n",
    "m_avisos.head(2)"
   ]
  },
  {
   "cell_type": "code",
   "execution_count": 62,
   "metadata": {},
   "outputs": [
    {
     "name": "stdout",
     "output_type": "stream",
     "text": [
      "<class 'pandas.core.frame.DataFrame'>\n",
      "Int64Index: 25288 entries, 0 to 337\n",
      "Data columns (total 5 columns):\n",
      "idaviso            25288 non-null int64\n",
      "titulo             25288 non-null object\n",
      "tipo_de_trabajo    25288 non-null int64\n",
      "nivel_laboral      25288 non-null int64\n",
      "nombre_area        25288 non-null object\n",
      "dtypes: int64(3), object(2)\n",
      "memory usage: 1.2+ MB\n"
     ]
    }
   ],
   "source": [
    "m_avisos.info()"
   ]
  },
  {
   "cell_type": "markdown",
   "metadata": {},
   "source": [
    "Unimos los dos archivos de avisos online y se lo agregamos como columna binaria al dataframe de avisos."
   ]
  },
  {
   "cell_type": "code",
   "execution_count": 33,
   "metadata": {},
   "outputs": [
    {
     "data": {
      "text/plain": [
       "\"\\navisos_online = pd.concat([avisos_online,                            h15_avisos_online])\\n\\navisos_online.drop_duplicates()\\n\\navisos_online['online'] = 1\\navisos_online.info()\\n\""
      ]
     },
     "execution_count": 33,
     "metadata": {},
     "output_type": "execute_result"
    }
   ],
   "source": [
    "'''\n",
    "avisos_online = pd.concat([avisos_online, \\\n",
    "                           h15_avisos_online])\n",
    "\n",
    "avisos_online.drop_duplicates()\n",
    "\n",
    "avisos_online['online'] = 1\n",
    "avisos_online.info()\n",
    "'''"
   ]
  },
  {
   "cell_type": "code",
   "execution_count": 94,
   "metadata": {},
   "outputs": [],
   "source": [
    "'''\n",
    "m_avisos = pd.merge(m_avisos, avisos_online, \\\n",
    "                    on = 'idaviso', how = 'left')\n",
    "# Agrego 0 para los avisos que no están online\n",
    "m_avisos['online'].fillna(0, inplace = True)\n",
    "'''"
   ]
  },
  {
   "cell_type": "markdown",
   "metadata": {},
   "source": [
    "Label encoding para los títulos, nombres de área y de empresa."
   ]
  },
  {
   "cell_type": "code",
   "execution_count": 64,
   "metadata": {},
   "outputs": [],
   "source": [
    "from sklearn.preprocessing import LabelEncoder\n",
    "from sklearn.pipeline import Pipeline\n",
    "\n",
    "class MultiColumnLabelEncoder:\n",
    "    def __init__(self,columns = None):\n",
    "        self.columns = columns # array of column names to encode\n",
    "\n",
    "    def fit(self,X,y=None):\n",
    "        return self # not relevant here\n",
    "\n",
    "    def transform(self,X):\n",
    "        '''\n",
    "        Transforms columns of X specified in self.columns using\n",
    "        LabelEncoder(). If no columns specified, transforms all\n",
    "        columns in X.\n",
    "        '''\n",
    "        output = X.copy()\n",
    "        if self.columns is not None:\n",
    "            for col in self.columns:\n",
    "                output[col] = LabelEncoder().fit_transform(output[col])\n",
    "        else:\n",
    "            for colname,col in output.iteritems():\n",
    "                output[colname] = LabelEncoder().fit_transform(col)\n",
    "        return output\n",
    "\n",
    "    def fit_transform(self,X,y=None):\n",
    "        return self.fit(X,y).transform(X)"
   ]
  },
  {
   "cell_type": "code",
   "execution_count": 65,
   "metadata": {},
   "outputs": [
    {
     "data": {
      "text/html": [
       "<div>\n",
       "<style scoped>\n",
       "    .dataframe tbody tr th:only-of-type {\n",
       "        vertical-align: middle;\n",
       "    }\n",
       "\n",
       "    .dataframe tbody tr th {\n",
       "        vertical-align: top;\n",
       "    }\n",
       "\n",
       "    .dataframe thead th {\n",
       "        text-align: right;\n",
       "    }\n",
       "</style>\n",
       "<table border=\"1\" class=\"dataframe\">\n",
       "  <thead>\n",
       "    <tr style=\"text-align: right;\">\n",
       "      <th></th>\n",
       "      <th>idaviso</th>\n",
       "      <th>titulo</th>\n",
       "      <th>tipo_de_trabajo</th>\n",
       "      <th>nivel_laboral</th>\n",
       "      <th>nombre_area</th>\n",
       "    </tr>\n",
       "  </thead>\n",
       "  <tbody>\n",
       "    <tr>\n",
       "      <th>0</th>\n",
       "      <td>8725750</td>\n",
       "      <td>1551</td>\n",
       "      <td>3</td>\n",
       "      <td>2</td>\n",
       "      <td>30</td>\n",
       "    </tr>\n",
       "    <tr>\n",
       "      <th>1</th>\n",
       "      <td>17903700</td>\n",
       "      <td>608</td>\n",
       "      <td>3</td>\n",
       "      <td>2</td>\n",
       "      <td>158</td>\n",
       "    </tr>\n",
       "  </tbody>\n",
       "</table>\n",
       "</div>"
      ],
      "text/plain": [
       "    idaviso  titulo  tipo_de_trabajo  nivel_laboral  nombre_area\n",
       "0   8725750    1551                3              2           30\n",
       "1  17903700     608                3              2          158"
      ]
     },
     "execution_count": 65,
     "metadata": {},
     "output_type": "execute_result"
    }
   ],
   "source": [
    "avisos_encoding = MultiColumnLabelEncoder(columns = \\\n",
    "    ['titulo','nombre_area'])\\\n",
    "    .fit_transform(m_avisos)\n",
    "avisos_encoding.head(2)"
   ]
  },
  {
   "cell_type": "code",
   "execution_count": 66,
   "metadata": {},
   "outputs": [
    {
     "name": "stdout",
     "output_type": "stream",
     "text": [
      "<class 'pandas.core.frame.DataFrame'>\n",
      "Int64Index: 25288 entries, 0 to 337\n",
      "Data columns (total 5 columns):\n",
      "idaviso            25288 non-null int64\n",
      "titulo             25288 non-null int64\n",
      "tipo_de_trabajo    25288 non-null int64\n",
      "nivel_laboral      25288 non-null int64\n",
      "nombre_area        25288 non-null int64\n",
      "dtypes: int64(5)\n",
      "memory usage: 1.2 MB\n"
     ]
    }
   ],
   "source": [
    "avisos_encoding.info()"
   ]
  },
  {
   "cell_type": "code",
   "execution_count": 67,
   "metadata": {},
   "outputs": [],
   "source": [
    "avisos_encoding.to_csv('./avisos_encoding.csv', encoding='utf-8')"
   ]
  },
  {
   "cell_type": "markdown",
   "metadata": {},
   "source": [
    "## Unión de las postulaciones"
   ]
  },
  {
   "cell_type": "code",
   "execution_count": 68,
   "metadata": {},
   "outputs": [],
   "source": [
    "m_postulaciones = pd.concat([postulaciones, h15_postulaciones])"
   ]
  },
  {
   "cell_type": "code",
   "execution_count": 69,
   "metadata": {},
   "outputs": [
    {
     "name": "stdout",
     "output_type": "stream",
     "text": [
      "<class 'pandas.core.frame.DataFrame'>\n",
      "Int64Index: 8311264 entries, 0 to 4909640\n",
      "Data columns (total 3 columns):\n",
      "idaviso             int64\n",
      "idpostulante        object\n",
      "fechapostulacion    object\n",
      "dtypes: int64(1), object(2)\n",
      "memory usage: 253.6+ MB\n"
     ]
    }
   ],
   "source": [
    "m_postulaciones.info()"
   ]
  },
  {
   "cell_type": "code",
   "execution_count": 70,
   "metadata": {},
   "outputs": [
    {
     "data": {
      "text/plain": [
       "idaviso             6604534\n",
       "idpostulante        6604534\n",
       "fechapostulacion    6604534\n",
       "dtype: int64"
      ]
     },
     "execution_count": 70,
     "metadata": {},
     "output_type": "execute_result"
    }
   ],
   "source": [
    "m_postulaciones = m_postulaciones.drop_duplicates()\n",
    "m_postulaciones.count()"
   ]
  },
  {
   "cell_type": "code",
   "execution_count": 71,
   "metadata": {},
   "outputs": [
    {
     "name": "stdout",
     "output_type": "stream",
     "text": [
      "<class 'pandas.core.frame.DataFrame'>\n",
      "Int64Index: 6604534 entries, 0 to 4909640\n",
      "Data columns (total 3 columns):\n",
      "idaviso             int64\n",
      "idpostulante        object\n",
      "fechapostulacion    datetime64[ns]\n",
      "dtypes: datetime64[ns](1), int64(1), object(1)\n",
      "memory usage: 201.6+ MB\n"
     ]
    }
   ],
   "source": [
    "m_postulaciones['fechapostulacion'] = \\\n",
    "    pd.to_datetime(m_postulaciones['fechapostulacion'], errors='coerce')\n",
    "m_postulaciones.info()"
   ]
  },
  {
   "cell_type": "code",
   "execution_count": 72,
   "metadata": {},
   "outputs": [
    {
     "data": {
      "text/plain": [
       "idaviso             6604534\n",
       "idpostulante        6604534\n",
       "fechapostulacion    6604534\n",
       "dtype: int64"
      ]
     },
     "execution_count": 72,
     "metadata": {},
     "output_type": "execute_result"
    }
   ],
   "source": [
    "m_postulaciones.count()"
   ]
  },
  {
   "cell_type": "code",
   "execution_count": 73,
   "metadata": {},
   "outputs": [
    {
     "name": "stdout",
     "output_type": "stream",
     "text": [
      "<class 'pandas.core.frame.DataFrame'>\n",
      "Int64Index: 6604534 entries, 0 to 6604533\n",
      "Data columns (total 8 columns):\n",
      "idaviso             int64\n",
      "idpostulante        object\n",
      "fechapostulacion    datetime64[ns]\n",
      "edad                float64\n",
      "femenino            int64\n",
      "masculino           int64\n",
      "no_declara_sexo     int64\n",
      "nivel_estudios      float64\n",
      "dtypes: datetime64[ns](1), float64(2), int64(4), object(1)\n",
      "memory usage: 453.5+ MB\n"
     ]
    }
   ],
   "source": [
    "m_postulaciones = pd.merge(m_postulaciones, m_postulantes, \\\n",
    "                  on = 'idpostulante', how = 'inner')\n",
    "m_postulaciones.info()"
   ]
  },
  {
   "cell_type": "code",
   "execution_count": 74,
   "metadata": {},
   "outputs": [
    {
     "data": {
      "text/html": [
       "<div>\n",
       "<style scoped>\n",
       "    .dataframe tbody tr th:only-of-type {\n",
       "        vertical-align: middle;\n",
       "    }\n",
       "\n",
       "    .dataframe tbody tr th {\n",
       "        vertical-align: top;\n",
       "    }\n",
       "\n",
       "    .dataframe thead th {\n",
       "        text-align: right;\n",
       "    }\n",
       "</style>\n",
       "<table border=\"1\" class=\"dataframe\">\n",
       "  <thead>\n",
       "    <tr style=\"text-align: right;\">\n",
       "      <th></th>\n",
       "      <th>idaviso</th>\n",
       "      <th>idpostulante</th>\n",
       "      <th>fechapostulacion</th>\n",
       "      <th>edad</th>\n",
       "      <th>femenino</th>\n",
       "      <th>masculino</th>\n",
       "      <th>no_declara_sexo</th>\n",
       "      <th>nivel_estudios</th>\n",
       "      <th>titulo</th>\n",
       "      <th>tipo_de_trabajo</th>\n",
       "      <th>nivel_laboral</th>\n",
       "      <th>nombre_area</th>\n",
       "    </tr>\n",
       "  </thead>\n",
       "  <tbody>\n",
       "    <tr>\n",
       "      <th>0</th>\n",
       "      <td>1112257047</td>\n",
       "      <td>NM5M</td>\n",
       "      <td>2018-01-15 16:22:34</td>\n",
       "      <td>47.0</td>\n",
       "      <td>1</td>\n",
       "      <td>0</td>\n",
       "      <td>0</td>\n",
       "      <td>2.0</td>\n",
       "      <td>1312</td>\n",
       "      <td>2</td>\n",
       "      <td>0</td>\n",
       "      <td>14</td>\n",
       "    </tr>\n",
       "    <tr>\n",
       "      <th>1</th>\n",
       "      <td>1112257047</td>\n",
       "      <td>1kJqGb</td>\n",
       "      <td>2018-01-15 10:23:11</td>\n",
       "      <td>34.0</td>\n",
       "      <td>1</td>\n",
       "      <td>0</td>\n",
       "      <td>0</td>\n",
       "      <td>3.5</td>\n",
       "      <td>1312</td>\n",
       "      <td>2</td>\n",
       "      <td>0</td>\n",
       "      <td>14</td>\n",
       "    </tr>\n",
       "  </tbody>\n",
       "</table>\n",
       "</div>"
      ],
      "text/plain": [
       "      idaviso idpostulante    fechapostulacion  edad  femenino  masculino  \\\n",
       "0  1112257047         NM5M 2018-01-15 16:22:34  47.0         1          0   \n",
       "1  1112257047       1kJqGb 2018-01-15 10:23:11  34.0         1          0   \n",
       "\n",
       "   no_declara_sexo  nivel_estudios  titulo  tipo_de_trabajo  nivel_laboral  \\\n",
       "0                0             2.0    1312                2              0   \n",
       "1                0             3.5    1312                2              0   \n",
       "\n",
       "   nombre_area  \n",
       "0           14  \n",
       "1           14  "
      ]
     },
     "execution_count": 74,
     "metadata": {},
     "output_type": "execute_result"
    }
   ],
   "source": [
    "m_postulaciones = pd.merge(m_postulaciones, avisos_encoding, on = 'idaviso', how = 'inner')\n",
    "m_postulaciones.head(2)"
   ]
  },
  {
   "cell_type": "code",
   "execution_count": 75,
   "metadata": {},
   "outputs": [
    {
     "data": {
      "text/plain": [
       "idaviso             6188634\n",
       "idpostulante        6188634\n",
       "fechapostulacion    6188634\n",
       "edad                6188634\n",
       "femenino            6188634\n",
       "masculino           6188634\n",
       "no_declara_sexo     6188634\n",
       "nivel_estudios      6188634\n",
       "titulo              6188634\n",
       "tipo_de_trabajo     6188634\n",
       "nivel_laboral       6188634\n",
       "nombre_area         6188634\n",
       "dtype: int64"
      ]
     },
     "execution_count": 75,
     "metadata": {},
     "output_type": "execute_result"
    }
   ],
   "source": [
    "m_postulaciones.count()"
   ]
  },
  {
   "cell_type": "code",
   "execution_count": 76,
   "metadata": {},
   "outputs": [],
   "source": [
    "m_postulaciones.to_csv('./postulaciones_encoding.csv', encoding='utf-8')"
   ]
  },
  {
   "cell_type": "markdown",
   "metadata": {},
   "source": [
    "## Postulaciones y no postulaciones"
   ]
  },
  {
   "cell_type": "code",
   "execution_count": 77,
   "metadata": {},
   "outputs": [
    {
     "name": "stdout",
     "output_type": "stream",
     "text": [
      "<class 'pandas.core.frame.DataFrame'>\n",
      "Int64Index: 25288 entries, 0 to 337\n",
      "Data columns (total 5 columns):\n",
      "idaviso            25288 non-null int64\n",
      "titulo             25288 non-null int64\n",
      "tipo_de_trabajo    25288 non-null int64\n",
      "nivel_laboral      25288 non-null int64\n",
      "nombre_area        25288 non-null int64\n",
      "dtypes: int64(5)\n",
      "memory usage: 1.2 MB\n"
     ]
    }
   ],
   "source": [
    "avisos_encoding.info()"
   ]
  },
  {
   "cell_type": "code",
   "execution_count": 78,
   "metadata": {},
   "outputs": [
    {
     "name": "stdout",
     "output_type": "stream",
     "text": [
      "<class 'pandas.core.frame.DataFrame'>\n",
      "Int64Index: 505760 entries, 0 to 337\n",
      "Data columns (total 5 columns):\n",
      "idaviso            505760 non-null int64\n",
      "titulo             505760 non-null int64\n",
      "tipo_de_trabajo    505760 non-null int64\n",
      "nivel_laboral      505760 non-null int64\n",
      "nombre_area        505760 non-null int64\n",
      "dtypes: int64(5)\n",
      "memory usage: 23.2 MB\n"
     ]
    }
   ],
   "source": [
    "avisos_g = avisos_encoding\n",
    "while len(avisos_g) < 504407:\n",
    "    avisos_g = pd.concat([avisos_g, avisos_encoding])\n",
    "avisos_g.info()"
   ]
  },
  {
   "cell_type": "code",
   "execution_count": 79,
   "metadata": {},
   "outputs": [
    {
     "data": {
      "text/plain": [
       "idaviso            504407\n",
       "titulo             504407\n",
       "tipo_de_trabajo    504407\n",
       "nivel_laboral      504407\n",
       "nombre_area        504407\n",
       "dtype: int64"
      ]
     },
     "execution_count": 79,
     "metadata": {},
     "output_type": "execute_result"
    }
   ],
   "source": [
    "avisos_g = avisos_g[:504407]\n",
    "avisos_g = sklearn.utils.shuffle(avisos_g)\n",
    "avisos_g.count()"
   ]
  },
  {
   "cell_type": "code",
   "execution_count": 80,
   "metadata": {},
   "outputs": [],
   "source": [
    "avisos_g = avisos_g.reset_index().drop('index',axis=1)"
   ]
  },
  {
   "cell_type": "code",
   "execution_count": 82,
   "metadata": {},
   "outputs": [
    {
     "data": {
      "text/html": [
       "<div>\n",
       "<style scoped>\n",
       "    .dataframe tbody tr th:only-of-type {\n",
       "        vertical-align: middle;\n",
       "    }\n",
       "\n",
       "    .dataframe tbody tr th {\n",
       "        vertical-align: top;\n",
       "    }\n",
       "\n",
       "    .dataframe thead th {\n",
       "        text-align: right;\n",
       "    }\n",
       "</style>\n",
       "<table border=\"1\" class=\"dataframe\">\n",
       "  <thead>\n",
       "    <tr style=\"text-align: right;\">\n",
       "      <th></th>\n",
       "      <th>idpostulante</th>\n",
       "      <th>edad</th>\n",
       "      <th>femenino</th>\n",
       "      <th>masculino</th>\n",
       "      <th>no_declara_sexo</th>\n",
       "      <th>nivel_estudios</th>\n",
       "      <th>idaviso</th>\n",
       "      <th>titulo</th>\n",
       "      <th>tipo_de_trabajo</th>\n",
       "      <th>nivel_laboral</th>\n",
       "      <th>nombre_area</th>\n",
       "    </tr>\n",
       "  </thead>\n",
       "  <tbody>\n",
       "    <tr>\n",
       "      <th>0</th>\n",
       "      <td>akD8QZ0</td>\n",
       "      <td>29.966324</td>\n",
       "      <td>0</td>\n",
       "      <td>1</td>\n",
       "      <td>0</td>\n",
       "      <td>3.0</td>\n",
       "      <td>1111946901</td>\n",
       "      <td>1548</td>\n",
       "      <td>3</td>\n",
       "      <td>0</td>\n",
       "      <td>185</td>\n",
       "    </tr>\n",
       "    <tr>\n",
       "      <th>1</th>\n",
       "      <td>bOjGl2b</td>\n",
       "      <td>22.000000</td>\n",
       "      <td>0</td>\n",
       "      <td>1</td>\n",
       "      <td>0</td>\n",
       "      <td>2.0</td>\n",
       "      <td>1111199358</td>\n",
       "      <td>787</td>\n",
       "      <td>3</td>\n",
       "      <td>2</td>\n",
       "      <td>90</td>\n",
       "    </tr>\n",
       "  </tbody>\n",
       "</table>\n",
       "</div>"
      ],
      "text/plain": [
       "  idpostulante       edad  femenino  masculino  no_declara_sexo  \\\n",
       "0      akD8QZ0  29.966324         0          1                0   \n",
       "1      bOjGl2b  22.000000         0          1                0   \n",
       "\n",
       "   nivel_estudios     idaviso  titulo  tipo_de_trabajo  nivel_laboral  \\\n",
       "0             3.0  1111946901    1548                3              0   \n",
       "1             2.0  1111199358     787                3              2   \n",
       "\n",
       "   nombre_area  \n",
       "0          185  \n",
       "1           90  "
      ]
     },
     "execution_count": 82,
     "metadata": {},
     "output_type": "execute_result"
    }
   ],
   "source": [
    "no_postulaciones = pd.concat([m_postulantes, avisos_g], axis = 1)\n",
    "no_postulaciones.head(2)"
   ]
  },
  {
   "cell_type": "code",
   "execution_count": 83,
   "metadata": {},
   "outputs": [
    {
     "name": "stdout",
     "output_type": "stream",
     "text": [
      "<class 'pandas.core.frame.DataFrame'>\n",
      "Int64Index: 504407 entries, 0 to 504406\n",
      "Data columns (total 11 columns):\n",
      "idpostulante       504407 non-null object\n",
      "edad               504407 non-null float64\n",
      "femenino           504407 non-null int64\n",
      "masculino          504407 non-null int64\n",
      "no_declara_sexo    504407 non-null int64\n",
      "nivel_estudios     504407 non-null float64\n",
      "idaviso            504407 non-null int64\n",
      "titulo             504407 non-null int64\n",
      "tipo_de_trabajo    504407 non-null int64\n",
      "nivel_laboral      504407 non-null int64\n",
      "nombre_area        504407 non-null int64\n",
      "dtypes: float64(2), int64(8), object(1)\n",
      "memory usage: 46.2+ MB\n"
     ]
    }
   ],
   "source": [
    "no_postulaciones.info()"
   ]
  },
  {
   "cell_type": "code",
   "execution_count": 84,
   "metadata": {},
   "outputs": [
    {
     "name": "stdout",
     "output_type": "stream",
     "text": [
      "<class 'pandas.core.frame.DataFrame'>\n",
      "Int64Index: 504407 entries, 0 to 504406\n",
      "Data columns (total 11 columns):\n",
      "idpostulante       504407 non-null object\n",
      "edad               504407 non-null float64\n",
      "femenino           504407 non-null int64\n",
      "masculino          504407 non-null int64\n",
      "no_declara_sexo    504407 non-null int64\n",
      "nivel_estudios     504407 non-null float64\n",
      "idaviso            504407 non-null int64\n",
      "titulo             504407 non-null int64\n",
      "tipo_de_trabajo    504407 non-null int64\n",
      "nivel_laboral      504407 non-null int64\n",
      "nombre_area        504407 non-null int64\n",
      "dtypes: float64(2), int64(8), object(1)\n",
      "memory usage: 46.2+ MB\n"
     ]
    }
   ],
   "source": [
    "no_postulaciones = no_postulaciones.drop_duplicates()\n",
    "no_postulaciones.info()"
   ]
  },
  {
   "cell_type": "code",
   "execution_count": 85,
   "metadata": {},
   "outputs": [],
   "source": [
    "no_postulaciones['sepostulo'] = 0\n",
    "m_postulaciones['sepostulo'] = 1"
   ]
  },
  {
   "cell_type": "code",
   "execution_count": 86,
   "metadata": {},
   "outputs": [
    {
     "name": "stdout",
     "output_type": "stream",
     "text": [
      "<class 'pandas.core.frame.DataFrame'>\n",
      "Int64Index: 6187929 entries, 0 to 6188633\n",
      "Data columns (total 13 columns):\n",
      "idaviso             int64\n",
      "idpostulante        object\n",
      "fechapostulacion    datetime64[ns]\n",
      "edad                float64\n",
      "femenino            int64\n",
      "masculino           int64\n",
      "no_declara_sexo     int64\n",
      "nivel_estudios      float64\n",
      "titulo              int64\n",
      "tipo_de_trabajo     int64\n",
      "nivel_laboral       int64\n",
      "nombre_area         int64\n",
      "sepostulo           int64\n",
      "dtypes: datetime64[ns](1), float64(2), int64(9), object(1)\n",
      "memory usage: 660.9+ MB\n"
     ]
    }
   ],
   "source": [
    "m_postulaciones = m_postulaciones.drop_duplicates(['idpostulante','idaviso'])\n",
    "m_postulaciones.info()"
   ]
  },
  {
   "cell_type": "code",
   "execution_count": 87,
   "metadata": {},
   "outputs": [
    {
     "data": {
      "text/html": [
       "<div>\n",
       "<style scoped>\n",
       "    .dataframe tbody tr th:only-of-type {\n",
       "        vertical-align: middle;\n",
       "    }\n",
       "\n",
       "    .dataframe tbody tr th {\n",
       "        vertical-align: top;\n",
       "    }\n",
       "\n",
       "    .dataframe thead th {\n",
       "        text-align: right;\n",
       "    }\n",
       "</style>\n",
       "<table border=\"1\" class=\"dataframe\">\n",
       "  <thead>\n",
       "    <tr style=\"text-align: right;\">\n",
       "      <th></th>\n",
       "      <th>idaviso</th>\n",
       "      <th>idpostulante</th>\n",
       "      <th>edad</th>\n",
       "      <th>femenino</th>\n",
       "      <th>masculino</th>\n",
       "      <th>no_declara_sexo</th>\n",
       "      <th>nivel_estudios</th>\n",
       "      <th>titulo</th>\n",
       "      <th>tipo_de_trabajo</th>\n",
       "      <th>nivel_laboral</th>\n",
       "      <th>nombre_area</th>\n",
       "      <th>sepostulo</th>\n",
       "    </tr>\n",
       "  </thead>\n",
       "  <tbody>\n",
       "    <tr>\n",
       "      <th>0</th>\n",
       "      <td>1112257047</td>\n",
       "      <td>NM5M</td>\n",
       "      <td>47.0</td>\n",
       "      <td>1</td>\n",
       "      <td>0</td>\n",
       "      <td>0</td>\n",
       "      <td>2.0</td>\n",
       "      <td>1312</td>\n",
       "      <td>2</td>\n",
       "      <td>0</td>\n",
       "      <td>14</td>\n",
       "      <td>1</td>\n",
       "    </tr>\n",
       "    <tr>\n",
       "      <th>1</th>\n",
       "      <td>1112257047</td>\n",
       "      <td>1kJqGb</td>\n",
       "      <td>34.0</td>\n",
       "      <td>1</td>\n",
       "      <td>0</td>\n",
       "      <td>0</td>\n",
       "      <td>3.5</td>\n",
       "      <td>1312</td>\n",
       "      <td>2</td>\n",
       "      <td>0</td>\n",
       "      <td>14</td>\n",
       "      <td>1</td>\n",
       "    </tr>\n",
       "  </tbody>\n",
       "</table>\n",
       "</div>"
      ],
      "text/plain": [
       "      idaviso idpostulante  edad  femenino  masculino  no_declara_sexo  \\\n",
       "0  1112257047         NM5M  47.0         1          0                0   \n",
       "1  1112257047       1kJqGb  34.0         1          0                0   \n",
       "\n",
       "   nivel_estudios  titulo  tipo_de_trabajo  nivel_laboral  nombre_area  \\\n",
       "0             2.0    1312                2              0           14   \n",
       "1             3.5    1312                2              0           14   \n",
       "\n",
       "   sepostulo  \n",
       "0          1  \n",
       "1          1  "
      ]
     },
     "execution_count": 87,
     "metadata": {},
     "output_type": "execute_result"
    }
   ],
   "source": [
    "del m_postulaciones['fechapostulacion']\n",
    "m_postulaciones.head(2)"
   ]
  },
  {
   "cell_type": "code",
   "execution_count": 88,
   "metadata": {},
   "outputs": [
    {
     "data": {
      "text/plain": [
       "edad               6692336\n",
       "femenino           6692336\n",
       "idaviso            6692336\n",
       "idpostulante       6692336\n",
       "masculino          6692336\n",
       "nivel_estudios     6692336\n",
       "nivel_laboral      6692336\n",
       "no_declara_sexo    6692336\n",
       "nombre_area        6692336\n",
       "sepostulo          6692336\n",
       "tipo_de_trabajo    6692336\n",
       "titulo             6692336\n",
       "dtype: int64"
      ]
     },
     "execution_count": 88,
     "metadata": {},
     "output_type": "execute_result"
    }
   ],
   "source": [
    "entrenamiento = pd.concat([no_postulaciones, m_postulaciones])\n",
    "entrenamiento.count()"
   ]
  },
  {
   "cell_type": "code",
   "execution_count": 89,
   "metadata": {},
   "outputs": [
    {
     "data": {
      "text/html": [
       "<div>\n",
       "<style scoped>\n",
       "    .dataframe tbody tr th:only-of-type {\n",
       "        vertical-align: middle;\n",
       "    }\n",
       "\n",
       "    .dataframe tbody tr th {\n",
       "        vertical-align: top;\n",
       "    }\n",
       "\n",
       "    .dataframe thead th {\n",
       "        text-align: right;\n",
       "    }\n",
       "</style>\n",
       "<table border=\"1\" class=\"dataframe\">\n",
       "  <thead>\n",
       "    <tr style=\"text-align: right;\">\n",
       "      <th></th>\n",
       "      <th>edad</th>\n",
       "      <th>femenino</th>\n",
       "      <th>idaviso</th>\n",
       "      <th>idpostulante</th>\n",
       "      <th>masculino</th>\n",
       "      <th>nivel_estudios</th>\n",
       "      <th>nivel_laboral</th>\n",
       "      <th>no_declara_sexo</th>\n",
       "      <th>nombre_area</th>\n",
       "      <th>sepostulo</th>\n",
       "      <th>tipo_de_trabajo</th>\n",
       "      <th>titulo</th>\n",
       "    </tr>\n",
       "  </thead>\n",
       "  <tbody>\n",
       "    <tr>\n",
       "      <th>0</th>\n",
       "      <td>29.966324</td>\n",
       "      <td>0</td>\n",
       "      <td>1111946901</td>\n",
       "      <td>akD8QZ0</td>\n",
       "      <td>1</td>\n",
       "      <td>3.0</td>\n",
       "      <td>0</td>\n",
       "      <td>0</td>\n",
       "      <td>185</td>\n",
       "      <td>0</td>\n",
       "      <td>3</td>\n",
       "      <td>1548</td>\n",
       "    </tr>\n",
       "    <tr>\n",
       "      <th>1</th>\n",
       "      <td>22.000000</td>\n",
       "      <td>0</td>\n",
       "      <td>1111199358</td>\n",
       "      <td>bOjGl2b</td>\n",
       "      <td>1</td>\n",
       "      <td>2.0</td>\n",
       "      <td>2</td>\n",
       "      <td>0</td>\n",
       "      <td>90</td>\n",
       "      <td>0</td>\n",
       "      <td>3</td>\n",
       "      <td>787</td>\n",
       "    </tr>\n",
       "  </tbody>\n",
       "</table>\n",
       "</div>"
      ],
      "text/plain": [
       "        edad  femenino     idaviso idpostulante  masculino  nivel_estudios  \\\n",
       "0  29.966324         0  1111946901      akD8QZ0          1             3.0   \n",
       "1  22.000000         0  1111199358      bOjGl2b          1             2.0   \n",
       "\n",
       "   nivel_laboral  no_declara_sexo  nombre_area  sepostulo  tipo_de_trabajo  \\\n",
       "0              0                0          185          0                3   \n",
       "1              2                0           90          0                3   \n",
       "\n",
       "   titulo  \n",
       "0    1548  \n",
       "1     787  "
      ]
     },
     "execution_count": 89,
     "metadata": {},
     "output_type": "execute_result"
    }
   ],
   "source": [
    "entrenamiento.head(2)"
   ]
  },
  {
   "cell_type": "code",
   "execution_count": 90,
   "metadata": {},
   "outputs": [
    {
     "data": {
      "text/html": [
       "<div>\n",
       "<style scoped>\n",
       "    .dataframe tbody tr th:only-of-type {\n",
       "        vertical-align: middle;\n",
       "    }\n",
       "\n",
       "    .dataframe tbody tr th {\n",
       "        vertical-align: top;\n",
       "    }\n",
       "\n",
       "    .dataframe thead th {\n",
       "        text-align: right;\n",
       "    }\n",
       "</style>\n",
       "<table border=\"1\" class=\"dataframe\">\n",
       "  <thead>\n",
       "    <tr style=\"text-align: right;\">\n",
       "      <th></th>\n",
       "      <th></th>\n",
       "      <th>edad</th>\n",
       "      <th>femenino</th>\n",
       "      <th>masculino</th>\n",
       "      <th>nivel_estudios</th>\n",
       "      <th>nivel_laboral</th>\n",
       "      <th>no_declara_sexo</th>\n",
       "      <th>nombre_area</th>\n",
       "      <th>sepostulo</th>\n",
       "      <th>tipo_de_trabajo</th>\n",
       "      <th>titulo</th>\n",
       "    </tr>\n",
       "    <tr>\n",
       "      <th>idpostulante</th>\n",
       "      <th>idaviso</th>\n",
       "      <th></th>\n",
       "      <th></th>\n",
       "      <th></th>\n",
       "      <th></th>\n",
       "      <th></th>\n",
       "      <th></th>\n",
       "      <th></th>\n",
       "      <th></th>\n",
       "      <th></th>\n",
       "      <th></th>\n",
       "    </tr>\n",
       "  </thead>\n",
       "  <tbody>\n",
       "    <tr>\n",
       "      <th>0z5Dmrd</th>\n",
       "      <th>1111815087</th>\n",
       "      <td>1</td>\n",
       "      <td>1</td>\n",
       "      <td>1</td>\n",
       "      <td>1</td>\n",
       "      <td>1</td>\n",
       "      <td>1</td>\n",
       "      <td>1</td>\n",
       "      <td>1</td>\n",
       "      <td>1</td>\n",
       "      <td>1</td>\n",
       "    </tr>\n",
       "    <tr>\n",
       "      <th rowspan=\"4\" valign=\"top\">aE4GbW</th>\n",
       "      <th>1112264349</th>\n",
       "      <td>1</td>\n",
       "      <td>1</td>\n",
       "      <td>1</td>\n",
       "      <td>1</td>\n",
       "      <td>1</td>\n",
       "      <td>1</td>\n",
       "      <td>1</td>\n",
       "      <td>1</td>\n",
       "      <td>1</td>\n",
       "      <td>1</td>\n",
       "    </tr>\n",
       "    <tr>\n",
       "      <th>1112266777</th>\n",
       "      <td>1</td>\n",
       "      <td>1</td>\n",
       "      <td>1</td>\n",
       "      <td>1</td>\n",
       "      <td>1</td>\n",
       "      <td>1</td>\n",
       "      <td>1</td>\n",
       "      <td>1</td>\n",
       "      <td>1</td>\n",
       "      <td>1</td>\n",
       "    </tr>\n",
       "    <tr>\n",
       "      <th>1112266524</th>\n",
       "      <td>1</td>\n",
       "      <td>1</td>\n",
       "      <td>1</td>\n",
       "      <td>1</td>\n",
       "      <td>1</td>\n",
       "      <td>1</td>\n",
       "      <td>1</td>\n",
       "      <td>1</td>\n",
       "      <td>1</td>\n",
       "      <td>1</td>\n",
       "    </tr>\n",
       "    <tr>\n",
       "      <th>1112265973</th>\n",
       "      <td>1</td>\n",
       "      <td>1</td>\n",
       "      <td>1</td>\n",
       "      <td>1</td>\n",
       "      <td>1</td>\n",
       "      <td>1</td>\n",
       "      <td>1</td>\n",
       "      <td>1</td>\n",
       "      <td>1</td>\n",
       "      <td>1</td>\n",
       "    </tr>\n",
       "  </tbody>\n",
       "</table>\n",
       "</div>"
      ],
      "text/plain": [
       "                         edad  femenino  masculino  nivel_estudios  \\\n",
       "idpostulante idaviso                                                 \n",
       "0z5Dmrd      1111815087     1         1          1               1   \n",
       "aE4GbW       1112264349     1         1          1               1   \n",
       "             1112266777     1         1          1               1   \n",
       "             1112266524     1         1          1               1   \n",
       "             1112265973     1         1          1               1   \n",
       "\n",
       "                         nivel_laboral  no_declara_sexo  nombre_area  \\\n",
       "idpostulante idaviso                                                   \n",
       "0z5Dmrd      1111815087              1                1            1   \n",
       "aE4GbW       1112264349              1                1            1   \n",
       "             1112266777              1                1            1   \n",
       "             1112266524              1                1            1   \n",
       "             1112265973              1                1            1   \n",
       "\n",
       "                         sepostulo  tipo_de_trabajo  titulo  \n",
       "idpostulante idaviso                                         \n",
       "0z5Dmrd      1111815087          1                1       1  \n",
       "aE4GbW       1112264349          1                1       1  \n",
       "             1112266777          1                1       1  \n",
       "             1112266524          1                1       1  \n",
       "             1112265973          1                1       1  "
      ]
     },
     "execution_count": 90,
     "metadata": {},
     "output_type": "execute_result"
    }
   ],
   "source": [
    "train = entrenamiento.sort_values('sepostulo', ascending=False)\\\n",
    "    .drop_duplicates(['idpostulante','idaviso'])\n",
    "\n",
    "train.groupby(['idpostulante','idaviso'])\\\n",
    "    .count().sort_values(by='edad',ascending=False).head()"
   ]
  },
  {
   "cell_type": "code",
   "execution_count": 91,
   "metadata": {},
   "outputs": [
    {
     "data": {
      "text/html": [
       "<div>\n",
       "<style scoped>\n",
       "    .dataframe tbody tr th:only-of-type {\n",
       "        vertical-align: middle;\n",
       "    }\n",
       "\n",
       "    .dataframe tbody tr th {\n",
       "        vertical-align: top;\n",
       "    }\n",
       "\n",
       "    .dataframe thead th {\n",
       "        text-align: right;\n",
       "    }\n",
       "</style>\n",
       "<table border=\"1\" class=\"dataframe\">\n",
       "  <thead>\n",
       "    <tr style=\"text-align: right;\">\n",
       "      <th></th>\n",
       "      <th>edad</th>\n",
       "      <th>femenino</th>\n",
       "      <th>idaviso</th>\n",
       "      <th>idpostulante</th>\n",
       "      <th>masculino</th>\n",
       "      <th>nivel_estudios</th>\n",
       "      <th>nivel_laboral</th>\n",
       "      <th>no_declara_sexo</th>\n",
       "      <th>nombre_area</th>\n",
       "      <th>sepostulo</th>\n",
       "      <th>tipo_de_trabajo</th>\n",
       "      <th>titulo</th>\n",
       "    </tr>\n",
       "  </thead>\n",
       "  <tbody>\n",
       "    <tr>\n",
       "      <th>2233446</th>\n",
       "      <td>24.0</td>\n",
       "      <td>0</td>\n",
       "      <td>1112384041</td>\n",
       "      <td>0z5Dmrd</td>\n",
       "      <td>1</td>\n",
       "      <td>4.0</td>\n",
       "      <td>2</td>\n",
       "      <td>0</td>\n",
       "      <td>154</td>\n",
       "      <td>1</td>\n",
       "      <td>3</td>\n",
       "      <td>714</td>\n",
       "    </tr>\n",
       "    <tr>\n",
       "      <th>1639945</th>\n",
       "      <td>24.0</td>\n",
       "      <td>0</td>\n",
       "      <td>1112420060</td>\n",
       "      <td>0z5Dmrd</td>\n",
       "      <td>1</td>\n",
       "      <td>4.0</td>\n",
       "      <td>2</td>\n",
       "      <td>0</td>\n",
       "      <td>154</td>\n",
       "      <td>1</td>\n",
       "      <td>3</td>\n",
       "      <td>480</td>\n",
       "    </tr>\n",
       "    <tr>\n",
       "      <th>391386</th>\n",
       "      <td>24.0</td>\n",
       "      <td>0</td>\n",
       "      <td>1111815087</td>\n",
       "      <td>0z5Dmrd</td>\n",
       "      <td>1</td>\n",
       "      <td>4.0</td>\n",
       "      <td>2</td>\n",
       "      <td>0</td>\n",
       "      <td>181</td>\n",
       "      <td>0</td>\n",
       "      <td>3</td>\n",
       "      <td>394</td>\n",
       "    </tr>\n",
       "  </tbody>\n",
       "</table>\n",
       "</div>"
      ],
      "text/plain": [
       "         edad  femenino     idaviso idpostulante  masculino  nivel_estudios  \\\n",
       "2233446  24.0         0  1112384041      0z5Dmrd          1             4.0   \n",
       "1639945  24.0         0  1112420060      0z5Dmrd          1             4.0   \n",
       "391386   24.0         0  1111815087      0z5Dmrd          1             4.0   \n",
       "\n",
       "         nivel_laboral  no_declara_sexo  nombre_area  sepostulo  \\\n",
       "2233446              2                0          154          1   \n",
       "1639945              2                0          154          1   \n",
       "391386               2                0          181          0   \n",
       "\n",
       "         tipo_de_trabajo  titulo  \n",
       "2233446                3     714  \n",
       "1639945                3     480  \n",
       "391386                 3     394  "
      ]
     },
     "execution_count": 91,
     "metadata": {},
     "output_type": "execute_result"
    }
   ],
   "source": [
    "train.loc[(train.idpostulante == '0z5Dmrd'),:]"
   ]
  },
  {
   "cell_type": "code",
   "execution_count": 92,
   "metadata": {},
   "outputs": [],
   "source": [
    "train.to_csv('./entrenamiento_05.csv', encoding='utf-8')"
   ]
  },
  {
   "cell_type": "code",
   "execution_count": 87,
   "metadata": {},
   "outputs": [
    {
     "name": "stdout",
     "output_type": "stream",
     "text": [
      "<class 'pandas.core.frame.DataFrame'>\n",
      "Int64Index: 12758097 entries, 6188633 to 6382083\n",
      "Data columns (total 14 columns):\n",
      "denominacion_empresa    int64\n",
      "edad                    float64\n",
      "estado_estudios         float64\n",
      "femenino                int64\n",
      "idaviso                 int64\n",
      "idpostulante            object\n",
      "masculino               int64\n",
      "nivel_estudios          float64\n",
      "nivel_laboral           int64\n",
      "no_declara_sexo         int64\n",
      "nombre_area             int64\n",
      "sepostulo               int64\n",
      "tipo_de_trabajo         int64\n",
      "titulo                  int64\n",
      "dtypes: float64(3), int64(10), object(1)\n",
      "memory usage: 1.4+ GB\n"
     ]
    }
   ],
   "source": [
    "train.info()"
   ]
  }
 ],
 "metadata": {
  "kernelspec": {
   "display_name": "Python 3",
   "language": "python",
   "name": "python3"
  },
  "language_info": {
   "codemirror_mode": {
    "name": "ipython",
    "version": 3
   },
   "file_extension": ".py",
   "mimetype": "text/x-python",
   "name": "python",
   "nbconvert_exporter": "python",
   "pygments_lexer": "ipython3",
   "version": "3.6.5"
  }
 },
 "nbformat": 4,
 "nbformat_minor": 2
}
