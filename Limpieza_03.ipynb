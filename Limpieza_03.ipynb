{
 "cells": [
  {
   "cell_type": "code",
   "execution_count": 1,
   "metadata": {},
   "outputs": [],
   "source": [
    "import pandas as pd\n",
    "import numpy as np\n",
    "import datetime\n",
    "import sklearn"
   ]
  },
  {
   "cell_type": "markdown",
   "metadata": {},
   "source": [
    "## Lectura de datos"
   ]
  },
  {
   "cell_type": "markdown",
   "metadata": {},
   "source": [
    "### Datos originales"
   ]
  },
  {
   "cell_type": "code",
   "execution_count": 2,
   "metadata": {},
   "outputs": [],
   "source": [
    "# Postulantes\n",
    "postulantes_educacion = pd.read_csv(\\\n",
    "    './data/fiuba_1_postulantes_educacion.csv', low_memory=False)\n",
    "postulantes_sexo_y_edad = pd.read_csv(\\\n",
    "    './data/fiuba_2_postulantes_genero_y_edad.csv', low_memory=False)\n",
    "\n",
    "# Avisos\n",
    "avisos_online = pd.read_csv(\\\n",
    "    './data/fiuba_5_avisos_online.csv', low_memory=False)\n",
    "avisos_detalle = pd.read_csv(\\\n",
    "    './data/fiuba_6_avisos_detalle.csv', low_memory=False)\n",
    "\n",
    "# Transacciones\n",
    "vistas = pd.read_csv(\\\n",
    "    './data/fiuba_3_vistas.csv', low_memory=False)\n",
    "postulaciones = pd.read_csv(\\\n",
    "    './data/fiuba_4_postulaciones.csv', low_memory=False)"
   ]
  },
  {
   "cell_type": "markdown",
   "metadata": {},
   "source": [
    "### Datos hasta 15 de abril"
   ]
  },
  {
   "cell_type": "code",
   "execution_count": 3,
   "metadata": {},
   "outputs": [],
   "source": [
    "# Postulantes\n",
    "h15_postulantes_educacion = pd.read_csv(\\\n",
    "    './data/fiuba_hasta_15_abril/entrega6/fiuba_1_postulantes_educacion.csv',\\\n",
    "    low_memory=False)\n",
    "h15_postulantes_sexo_y_edad = pd.read_csv(\\\n",
    "    './data/fiuba_hasta_15_abril/entrega6/fiuba_2_postulantes_genero_y_edad.csv',\\\n",
    "    low_memory=False)\n",
    "\n",
    "# Avisos\n",
    "h15_avisos_online = pd.read_csv(\\\n",
    "    './data/fiuba_hasta_15_abril/entrega6/fiuba_5_avisos_online.csv',\\\n",
    "    low_memory=False)\n",
    "h15_avisos_detalle = pd.read_csv(\\\n",
    "    './data/fiuba_hasta_15_abril/entrega6/fiuba_6_avisos_detalle.csv',\\\n",
    "    low_memory=False)\n",
    "\n",
    "# Transacciones\n",
    "h15_vistas = pd.read_csv(\\\n",
    "    './data/fiuba_hasta_15_abril/entrega6/fiuba_3_vistas.csv',\\\n",
    "    low_memory=False)\n",
    "h15_postulaciones = pd.read_csv(\\\n",
    "    './data/fiuba_hasta_15_abril/entrega6/fiuba_4_postulaciones.csv',\\\n",
    "    low_memory=False)"
   ]
  },
  {
   "cell_type": "markdown",
   "metadata": {},
   "source": [
    "### Datos desde el 15 de abril"
   ]
  },
  {
   "cell_type": "code",
   "execution_count": 4,
   "metadata": {},
   "outputs": [],
   "source": [
    "# Postulantes\n",
    "d15_postulantes_educacion = pd.read_csv(\\\n",
    "    './data/fiuba_desde_15_Abril/fiuba_1_postulantes_educacion.csv',\\\n",
    "    low_memory=False)\n",
    "d15_postulantes_sexo_y_edad = pd.read_csv(\\\n",
    "    './data/fiuba_desde_15_Abril/fiuba_2_postulantes_genero_y_edad.csv',\\\n",
    "    low_memory=False)\n",
    "\n",
    "# Avisos\n",
    "d15_avisos_detalle = pd.read_csv(\\\n",
    "    './data/fiuba_desde_15_Abril/fiuba_6_avisos_detalle.csv',\\\n",
    "    low_memory=False)\n",
    "\n",
    "# Transacciones\n",
    "d15_vistas = pd.read_csv(\\\n",
    "    './data/fiuba_desde_15_Abril/fiuba_3_vistas.csv',\\\n",
    "    low_memory=False)"
   ]
  },
  {
   "cell_type": "markdown",
   "metadata": {},
   "source": [
    "### Detalle de avisos faltantes"
   ]
  },
  {
   "cell_type": "code",
   "execution_count": 5,
   "metadata": {},
   "outputs": [],
   "source": [
    "# Avisos\n",
    "m_avisos_detalle = pd.read_csv(\\\n",
    "    './data/fiuba_6_avisos_detalle_missing_nivel_laboral.csv',\\\n",
    "    low_memory=False)"
   ]
  },
  {
   "cell_type": "markdown",
   "metadata": {},
   "source": [
    "## Merge de todos los datos"
   ]
  },
  {
   "cell_type": "markdown",
   "metadata": {},
   "source": [
    "### Merge de los postulantes"
   ]
  },
  {
   "cell_type": "markdown",
   "metadata": {},
   "source": [
    "Agregamos columna con ponderación del nivel de estudios alcanzado."
   ]
  },
  {
   "cell_type": "code",
   "execution_count": 41,
   "metadata": {},
   "outputs": [],
   "source": [
    "m_postulantes_educacion = pd.concat([postulantes_educacion, \\\n",
    "                                 h15_postulantes_educacion, \\\n",
    "                                 d15_postulantes_educacion])"
   ]
  },
  {
   "cell_type": "code",
   "execution_count": 42,
   "metadata": {},
   "outputs": [
    {
     "data": {
      "text/html": [
       "<div>\n",
       "<style scoped>\n",
       "    .dataframe tbody tr th:only-of-type {\n",
       "        vertical-align: middle;\n",
       "    }\n",
       "\n",
       "    .dataframe tbody tr th {\n",
       "        vertical-align: top;\n",
       "    }\n",
       "\n",
       "    .dataframe thead th {\n",
       "        text-align: right;\n",
       "    }\n",
       "</style>\n",
       "<table border=\"1\" class=\"dataframe\">\n",
       "  <thead>\n",
       "    <tr style=\"text-align: right;\">\n",
       "      <th></th>\n",
       "      <th>idpostulante</th>\n",
       "      <th>nombre</th>\n",
       "      <th>estado</th>\n",
       "    </tr>\n",
       "  </thead>\n",
       "  <tbody>\n",
       "    <tr>\n",
       "      <th>0</th>\n",
       "      <td>NdJl</td>\n",
       "      <td>Posgrado</td>\n",
       "      <td>En Curso</td>\n",
       "    </tr>\n",
       "    <tr>\n",
       "      <th>1</th>\n",
       "      <td>8BkL</td>\n",
       "      <td>Universitario</td>\n",
       "      <td>En Curso</td>\n",
       "    </tr>\n",
       "    <tr>\n",
       "      <th>2</th>\n",
       "      <td>1d2B</td>\n",
       "      <td>Universitario</td>\n",
       "      <td>En Curso</td>\n",
       "    </tr>\n",
       "    <tr>\n",
       "      <th>3</th>\n",
       "      <td>NPBx</td>\n",
       "      <td>Universitario</td>\n",
       "      <td>En Curso</td>\n",
       "    </tr>\n",
       "    <tr>\n",
       "      <th>4</th>\n",
       "      <td>NPBx</td>\n",
       "      <td>Master</td>\n",
       "      <td>En Curso</td>\n",
       "    </tr>\n",
       "  </tbody>\n",
       "</table>\n",
       "</div>"
      ],
      "text/plain": [
       "  idpostulante         nombre    estado\n",
       "0         NdJl       Posgrado  En Curso\n",
       "1         8BkL  Universitario  En Curso\n",
       "2         1d2B  Universitario  En Curso\n",
       "3         NPBx  Universitario  En Curso\n",
       "4         NPBx         Master  En Curso"
      ]
     },
     "execution_count": 42,
     "metadata": {},
     "output_type": "execute_result"
    }
   ],
   "source": [
    "m_postulantes_educacion.head()"
   ]
  },
  {
   "cell_type": "code",
   "execution_count": 43,
   "metadata": {},
   "outputs": [
    {
     "name": "stdout",
     "output_type": "stream",
     "text": [
      "<class 'pandas.core.frame.DataFrame'>\n",
      "Int64Index: 1103193 entries, 0 to 397508\n",
      "Data columns (total 3 columns):\n",
      "idpostulante    1103193 non-null object\n",
      "nombre          1103193 non-null object\n",
      "estado          1103193 non-null object\n",
      "dtypes: object(3)\n",
      "memory usage: 33.7+ MB\n"
     ]
    }
   ],
   "source": [
    "m_postulantes_educacion.info()"
   ]
  },
  {
   "cell_type": "code",
   "execution_count": 44,
   "metadata": {},
   "outputs": [
    {
     "name": "stdout",
     "output_type": "stream",
     "text": [
      "<class 'pandas.core.frame.DataFrame'>\n",
      "Int64Index: 1103193 entries, 0 to 397508\n",
      "Data columns (total 3 columns):\n",
      "idpostulante    1103193 non-null object\n",
      "nombre          1103193 non-null object\n",
      "estado          1103193 non-null object\n",
      "dtypes: object(3)\n",
      "memory usage: 33.7+ MB\n"
     ]
    }
   ],
   "source": [
    "# Verificamos que no haya filas repetidas\n",
    "m_postulantes_educacion.drop_duplicates()\n",
    "m_postulantes_educacion.info()"
   ]
  },
  {
   "cell_type": "code",
   "execution_count": 45,
   "metadata": {},
   "outputs": [
    {
     "data": {
      "text/plain": [
       "Universitario        404619\n",
       "Secundario           382927\n",
       "Terciario/Técnico    180091\n",
       "Otro                  84674\n",
       "Posgrado              33484\n",
       "Master                16436\n",
       "Doctorado               962\n",
       "Name: nombre, dtype: int64"
      ]
     },
     "execution_count": 45,
     "metadata": {},
     "output_type": "execute_result"
    }
   ],
   "source": [
    "m_postulantes_educacion.nombre.value_counts()"
   ]
  },
  {
   "cell_type": "code",
   "execution_count": 46,
   "metadata": {},
   "outputs": [
    {
     "data": {
      "text/html": [
       "<div>\n",
       "<style scoped>\n",
       "    .dataframe tbody tr th:only-of-type {\n",
       "        vertical-align: middle;\n",
       "    }\n",
       "\n",
       "    .dataframe tbody tr th {\n",
       "        vertical-align: top;\n",
       "    }\n",
       "\n",
       "    .dataframe thead th {\n",
       "        text-align: right;\n",
       "    }\n",
       "</style>\n",
       "<table border=\"1\" class=\"dataframe\">\n",
       "  <thead>\n",
       "    <tr style=\"text-align: right;\">\n",
       "      <th></th>\n",
       "      <th>idpostulante</th>\n",
       "      <th>nombre</th>\n",
       "      <th>estado</th>\n",
       "      <th>secundario</th>\n",
       "      <th>terciario</th>\n",
       "      <th>universitario</th>\n",
       "      <th>Posgrado</th>\n",
       "    </tr>\n",
       "  </thead>\n",
       "  <tbody>\n",
       "    <tr>\n",
       "      <th>0</th>\n",
       "      <td>NdJl</td>\n",
       "      <td>Posgrado</td>\n",
       "      <td>En Curso</td>\n",
       "      <td>0</td>\n",
       "      <td>0</td>\n",
       "      <td>0</td>\n",
       "      <td>1</td>\n",
       "    </tr>\n",
       "    <tr>\n",
       "      <th>1</th>\n",
       "      <td>8BkL</td>\n",
       "      <td>Universitario</td>\n",
       "      <td>En Curso</td>\n",
       "      <td>0</td>\n",
       "      <td>0</td>\n",
       "      <td>1</td>\n",
       "      <td>0</td>\n",
       "    </tr>\n",
       "    <tr>\n",
       "      <th>2</th>\n",
       "      <td>1d2B</td>\n",
       "      <td>Universitario</td>\n",
       "      <td>En Curso</td>\n",
       "      <td>0</td>\n",
       "      <td>0</td>\n",
       "      <td>1</td>\n",
       "      <td>0</td>\n",
       "    </tr>\n",
       "    <tr>\n",
       "      <th>3</th>\n",
       "      <td>NPBx</td>\n",
       "      <td>Universitario</td>\n",
       "      <td>En Curso</td>\n",
       "      <td>0</td>\n",
       "      <td>0</td>\n",
       "      <td>1</td>\n",
       "      <td>0</td>\n",
       "    </tr>\n",
       "    <tr>\n",
       "      <th>4</th>\n",
       "      <td>NPBx</td>\n",
       "      <td>Master</td>\n",
       "      <td>En Curso</td>\n",
       "      <td>0</td>\n",
       "      <td>0</td>\n",
       "      <td>0</td>\n",
       "      <td>1</td>\n",
       "    </tr>\n",
       "  </tbody>\n",
       "</table>\n",
       "</div>"
      ],
      "text/plain": [
       "  idpostulante         nombre    estado  secundario  terciario  universitario  \\\n",
       "0         NdJl       Posgrado  En Curso           0          0              0   \n",
       "1         8BkL  Universitario  En Curso           0          0              1   \n",
       "2         1d2B  Universitario  En Curso           0          0              1   \n",
       "3         NPBx  Universitario  En Curso           0          0              1   \n",
       "4         NPBx         Master  En Curso           0          0              0   \n",
       "\n",
       "   Posgrado  \n",
       "0         1  \n",
       "1         0  \n",
       "2         0  \n",
       "3         0  \n",
       "4         1  "
      ]
     },
     "execution_count": 46,
     "metadata": {},
     "output_type": "execute_result"
    }
   ],
   "source": [
    "m_postulantes_educacion['secundario'] = \\\n",
    "    m_postulantes_educacion['nombre'].apply(\\\n",
    "    lambda x: 1 if (x == 'Secundario') else 0)\n",
    "\n",
    "m_postulantes_educacion['terciario'] = \\\n",
    "    m_postulantes_educacion['nombre'].apply(\\\n",
    "    lambda x: 1 if (x == 'Terciario/Técnico') else 0)\n",
    "\n",
    "m_postulantes_educacion['universitario'] = \\\n",
    "    m_postulantes_educacion['nombre'].apply(\\\n",
    "    lambda x: 1 if (x == 'Universitario') else 0)\n",
    "\n",
    "m_postulantes_educacion['Posgrado'] = \\\n",
    "    m_postulantes_educacion['nombre'].apply(\\\n",
    "    lambda x: 1 if ((x == 'Posgrado') | (x == 'Master')\\\n",
    "                    | (x == 'Doctorado')) else 0)\n",
    "\n",
    "m_postulantes_educacion.head()"
   ]
  },
  {
   "cell_type": "code",
   "execution_count": 47,
   "metadata": {},
   "outputs": [
    {
     "data": {
      "text/html": [
       "<div>\n",
       "<style scoped>\n",
       "    .dataframe tbody tr th:only-of-type {\n",
       "        vertical-align: middle;\n",
       "    }\n",
       "\n",
       "    .dataframe tbody tr th {\n",
       "        vertical-align: top;\n",
       "    }\n",
       "\n",
       "    .dataframe thead th {\n",
       "        text-align: right;\n",
       "    }\n",
       "</style>\n",
       "<table border=\"1\" class=\"dataframe\">\n",
       "  <thead>\n",
       "    <tr style=\"text-align: right;\">\n",
       "      <th></th>\n",
       "      <th>idpostulante</th>\n",
       "      <th>nombre</th>\n",
       "      <th>estado</th>\n",
       "      <th>secundario</th>\n",
       "      <th>terciario</th>\n",
       "      <th>universitario</th>\n",
       "      <th>Posgrado</th>\n",
       "    </tr>\n",
       "  </thead>\n",
       "  <tbody>\n",
       "    <tr>\n",
       "      <th>86118</th>\n",
       "      <td>0z5Dmrd</td>\n",
       "      <td>Universitario</td>\n",
       "      <td>Graduado</td>\n",
       "      <td>0</td>\n",
       "      <td>0</td>\n",
       "      <td>1</td>\n",
       "      <td>0</td>\n",
       "    </tr>\n",
       "    <tr>\n",
       "      <th>344316</th>\n",
       "      <td>0z5JW1r</td>\n",
       "      <td>Terciario/Técnico</td>\n",
       "      <td>Graduado</td>\n",
       "      <td>0</td>\n",
       "      <td>1</td>\n",
       "      <td>0</td>\n",
       "      <td>0</td>\n",
       "    </tr>\n",
       "    <tr>\n",
       "      <th>344317</th>\n",
       "      <td>0z5JW1r</td>\n",
       "      <td>Otro</td>\n",
       "      <td>Graduado</td>\n",
       "      <td>0</td>\n",
       "      <td>0</td>\n",
       "      <td>0</td>\n",
       "      <td>0</td>\n",
       "    </tr>\n",
       "    <tr>\n",
       "      <th>291559</th>\n",
       "      <td>0z5JW1r</td>\n",
       "      <td>Universitario</td>\n",
       "      <td>Abandonado</td>\n",
       "      <td>0</td>\n",
       "      <td>0</td>\n",
       "      <td>1</td>\n",
       "      <td>0</td>\n",
       "    </tr>\n",
       "    <tr>\n",
       "      <th>291098</th>\n",
       "      <td>0z5JW1r</td>\n",
       "      <td>Otro</td>\n",
       "      <td>Graduado</td>\n",
       "      <td>0</td>\n",
       "      <td>0</td>\n",
       "      <td>0</td>\n",
       "      <td>0</td>\n",
       "    </tr>\n",
       "  </tbody>\n",
       "</table>\n",
       "</div>"
      ],
      "text/plain": [
       "       idpostulante             nombre      estado  secundario  terciario  \\\n",
       "86118       0z5Dmrd      Universitario    Graduado           0          0   \n",
       "344316      0z5JW1r  Terciario/Técnico    Graduado           0          1   \n",
       "344317      0z5JW1r               Otro    Graduado           0          0   \n",
       "291559      0z5JW1r      Universitario  Abandonado           0          0   \n",
       "291098      0z5JW1r               Otro    Graduado           0          0   \n",
       "\n",
       "        universitario  Posgrado  \n",
       "86118               1         0  \n",
       "344316              0         0  \n",
       "344317              0         0  \n",
       "291559              1         0  \n",
       "291098              0         0  "
      ]
     },
     "execution_count": 47,
     "metadata": {},
     "output_type": "execute_result"
    }
   ],
   "source": [
    "m_postulantes_educacion.sort_values('idpostulante').head()"
   ]
  },
  {
   "cell_type": "code",
   "execution_count": 48,
   "metadata": {},
   "outputs": [
    {
     "data": {
      "text/plain": [
       "Graduado      721794\n",
       "En Curso      286282\n",
       "Abandonado     95117\n",
       "Name: estado, dtype: int64"
      ]
     },
     "execution_count": 48,
     "metadata": {},
     "output_type": "execute_result"
    }
   ],
   "source": [
    "m_postulantes_educacion.estado.value_counts()"
   ]
  },
  {
   "cell_type": "code",
   "execution_count": 49,
   "metadata": {},
   "outputs": [],
   "source": [
    "m_postulantes_educacion['estado'] = \\\n",
    "    m_postulantes_educacion['estado'].apply(lambda x: \\\n",
    "    1 if (x == 'Graduado') else 0)"
   ]
  },
  {
   "cell_type": "code",
   "execution_count": 50,
   "metadata": {},
   "outputs": [
    {
     "data": {
      "text/plain": [
       "1    721794\n",
       "0    381399\n",
       "Name: estado, dtype: int64"
      ]
     },
     "execution_count": 50,
     "metadata": {},
     "output_type": "execute_result"
    }
   ],
   "source": [
    "m_postulantes_educacion.estado.value_counts()"
   ]
  },
  {
   "cell_type": "code",
   "execution_count": 51,
   "metadata": {},
   "outputs": [
    {
     "data": {
      "text/html": [
       "<div>\n",
       "<style scoped>\n",
       "    .dataframe tbody tr th:only-of-type {\n",
       "        vertical-align: middle;\n",
       "    }\n",
       "\n",
       "    .dataframe tbody tr th {\n",
       "        vertical-align: top;\n",
       "    }\n",
       "\n",
       "    .dataframe thead th {\n",
       "        text-align: right;\n",
       "    }\n",
       "</style>\n",
       "<table border=\"1\" class=\"dataframe\">\n",
       "  <thead>\n",
       "    <tr style=\"text-align: right;\">\n",
       "      <th></th>\n",
       "      <th>idpostulante</th>\n",
       "      <th>nombre</th>\n",
       "      <th>estado</th>\n",
       "      <th>secundario</th>\n",
       "      <th>terciario</th>\n",
       "      <th>universitario</th>\n",
       "      <th>Posgrado</th>\n",
       "    </tr>\n",
       "  </thead>\n",
       "  <tbody>\n",
       "    <tr>\n",
       "      <th>0</th>\n",
       "      <td>NdJl</td>\n",
       "      <td>Posgrado</td>\n",
       "      <td>0</td>\n",
       "      <td>0</td>\n",
       "      <td>0</td>\n",
       "      <td>0</td>\n",
       "      <td>0</td>\n",
       "    </tr>\n",
       "    <tr>\n",
       "      <th>1</th>\n",
       "      <td>8BkL</td>\n",
       "      <td>Universitario</td>\n",
       "      <td>0</td>\n",
       "      <td>0</td>\n",
       "      <td>0</td>\n",
       "      <td>0</td>\n",
       "      <td>0</td>\n",
       "    </tr>\n",
       "    <tr>\n",
       "      <th>2</th>\n",
       "      <td>1d2B</td>\n",
       "      <td>Universitario</td>\n",
       "      <td>0</td>\n",
       "      <td>0</td>\n",
       "      <td>0</td>\n",
       "      <td>0</td>\n",
       "      <td>0</td>\n",
       "    </tr>\n",
       "    <tr>\n",
       "      <th>3</th>\n",
       "      <td>NPBx</td>\n",
       "      <td>Universitario</td>\n",
       "      <td>0</td>\n",
       "      <td>0</td>\n",
       "      <td>0</td>\n",
       "      <td>0</td>\n",
       "      <td>0</td>\n",
       "    </tr>\n",
       "    <tr>\n",
       "      <th>4</th>\n",
       "      <td>NPBx</td>\n",
       "      <td>Master</td>\n",
       "      <td>0</td>\n",
       "      <td>0</td>\n",
       "      <td>0</td>\n",
       "      <td>0</td>\n",
       "      <td>0</td>\n",
       "    </tr>\n",
       "  </tbody>\n",
       "</table>\n",
       "</div>"
      ],
      "text/plain": [
       "  idpostulante         nombre  estado  secundario  terciario  universitario  \\\n",
       "0         NdJl       Posgrado       0           0          0              0   \n",
       "1         8BkL  Universitario       0           0          0              0   \n",
       "2         1d2B  Universitario       0           0          0              0   \n",
       "3         NPBx  Universitario       0           0          0              0   \n",
       "4         NPBx         Master       0           0          0              0   \n",
       "\n",
       "   Posgrado  \n",
       "0         0  \n",
       "1         0  \n",
       "2         0  \n",
       "3         0  \n",
       "4         0  "
      ]
     },
     "execution_count": 51,
     "metadata": {},
     "output_type": "execute_result"
    }
   ],
   "source": [
    "m_postulantes_educacion['secundario'] = \\\n",
    "    m_postulantes_educacion['estado'] * \\\n",
    "    m_postulantes_educacion['secundario']\n",
    "\n",
    "m_postulantes_educacion['terciario'] = \\\n",
    "    m_postulantes_educacion['estado'] * \\\n",
    "    m_postulantes_educacion['terciario']\n",
    "\n",
    "m_postulantes_educacion['universitario'] = \\\n",
    "    m_postulantes_educacion['estado'] * \\\n",
    "    m_postulantes_educacion['universitario']\n",
    "\n",
    "m_postulantes_educacion['Posgrado'] = \\\n",
    "    m_postulantes_educacion['estado'] * \\\n",
    "    m_postulantes_educacion['Posgrado']\n",
    "\n",
    "m_postulantes_educacion.head()"
   ]
  },
  {
   "cell_type": "code",
   "execution_count": 58,
   "metadata": {},
   "outputs": [
    {
     "data": {
      "text/html": [
       "<div>\n",
       "<style scoped>\n",
       "    .dataframe tbody tr th:only-of-type {\n",
       "        vertical-align: middle;\n",
       "    }\n",
       "\n",
       "    .dataframe tbody tr th {\n",
       "        vertical-align: top;\n",
       "    }\n",
       "\n",
       "    .dataframe thead th {\n",
       "        text-align: right;\n",
       "    }\n",
       "</style>\n",
       "<table border=\"1\" class=\"dataframe\">\n",
       "  <thead>\n",
       "    <tr style=\"text-align: right;\">\n",
       "      <th></th>\n",
       "      <th>idpostulante</th>\n",
       "      <th>nombre</th>\n",
       "      <th>estado</th>\n",
       "      <th>secundario</th>\n",
       "      <th>terciario</th>\n",
       "      <th>universitario</th>\n",
       "      <th>Posgrado</th>\n",
       "    </tr>\n",
       "  </thead>\n",
       "  <tbody>\n",
       "    <tr>\n",
       "      <th>86118</th>\n",
       "      <td>0z5Dmrd</td>\n",
       "      <td>Universitario</td>\n",
       "      <td>1</td>\n",
       "      <td>0</td>\n",
       "      <td>0</td>\n",
       "      <td>1</td>\n",
       "      <td>0</td>\n",
       "    </tr>\n",
       "    <tr>\n",
       "      <th>344316</th>\n",
       "      <td>0z5JW1r</td>\n",
       "      <td>Terciario/Técnico</td>\n",
       "      <td>1</td>\n",
       "      <td>0</td>\n",
       "      <td>1</td>\n",
       "      <td>0</td>\n",
       "      <td>0</td>\n",
       "    </tr>\n",
       "    <tr>\n",
       "      <th>344317</th>\n",
       "      <td>0z5JW1r</td>\n",
       "      <td>Otro</td>\n",
       "      <td>1</td>\n",
       "      <td>0</td>\n",
       "      <td>0</td>\n",
       "      <td>0</td>\n",
       "      <td>0</td>\n",
       "    </tr>\n",
       "    <tr>\n",
       "      <th>291559</th>\n",
       "      <td>0z5JW1r</td>\n",
       "      <td>Universitario</td>\n",
       "      <td>0</td>\n",
       "      <td>0</td>\n",
       "      <td>0</td>\n",
       "      <td>0</td>\n",
       "      <td>0</td>\n",
       "    </tr>\n",
       "    <tr>\n",
       "      <th>291098</th>\n",
       "      <td>0z5JW1r</td>\n",
       "      <td>Otro</td>\n",
       "      <td>1</td>\n",
       "      <td>0</td>\n",
       "      <td>0</td>\n",
       "      <td>0</td>\n",
       "      <td>0</td>\n",
       "    </tr>\n",
       "  </tbody>\n",
       "</table>\n",
       "</div>"
      ],
      "text/plain": [
       "       idpostulante             nombre  estado  secundario  terciario  \\\n",
       "86118       0z5Dmrd      Universitario       1           0          0   \n",
       "344316      0z5JW1r  Terciario/Técnico       1           0          1   \n",
       "344317      0z5JW1r               Otro       1           0          0   \n",
       "291559      0z5JW1r      Universitario       0           0          0   \n",
       "291098      0z5JW1r               Otro       1           0          0   \n",
       "\n",
       "        universitario  Posgrado  \n",
       "86118               1         0  \n",
       "344316              0         0  \n",
       "344317              0         0  \n",
       "291559              0         0  \n",
       "291098              0         0  "
      ]
     },
     "execution_count": 58,
     "metadata": {},
     "output_type": "execute_result"
    }
   ],
   "source": [
    "m_postulantes_educacion.sort_values('idpostulante').head()"
   ]
  },
  {
   "cell_type": "code",
   "execution_count": 62,
   "metadata": {},
   "outputs": [
    {
     "data": {
      "text/html": [
       "<div>\n",
       "<style scoped>\n",
       "    .dataframe tbody tr th:only-of-type {\n",
       "        vertical-align: middle;\n",
       "    }\n",
       "\n",
       "    .dataframe tbody tr th {\n",
       "        vertical-align: top;\n",
       "    }\n",
       "\n",
       "    .dataframe thead th {\n",
       "        text-align: right;\n",
       "    }\n",
       "</style>\n",
       "<table border=\"1\" class=\"dataframe\">\n",
       "  <thead>\n",
       "    <tr style=\"text-align: right;\">\n",
       "      <th></th>\n",
       "      <th>secundario</th>\n",
       "      <th>terciario</th>\n",
       "      <th>universitario</th>\n",
       "      <th>Posgrado</th>\n",
       "    </tr>\n",
       "    <tr>\n",
       "      <th>idpostulante</th>\n",
       "      <th></th>\n",
       "      <th></th>\n",
       "      <th></th>\n",
       "      <th></th>\n",
       "    </tr>\n",
       "  </thead>\n",
       "  <tbody>\n",
       "    <tr>\n",
       "      <th>0z5Dmrd</th>\n",
       "      <td>0</td>\n",
       "      <td>0</td>\n",
       "      <td>1</td>\n",
       "      <td>0</td>\n",
       "    </tr>\n",
       "    <tr>\n",
       "      <th>0z5JW1r</th>\n",
       "      <td>1</td>\n",
       "      <td>1</td>\n",
       "      <td>0</td>\n",
       "      <td>0</td>\n",
       "    </tr>\n",
       "    <tr>\n",
       "      <th>0z5VvGv</th>\n",
       "      <td>1</td>\n",
       "      <td>0</td>\n",
       "      <td>0</td>\n",
       "      <td>0</td>\n",
       "    </tr>\n",
       "    <tr>\n",
       "      <th>0zB01pE</th>\n",
       "      <td>0</td>\n",
       "      <td>1</td>\n",
       "      <td>0</td>\n",
       "      <td>0</td>\n",
       "    </tr>\n",
       "    <tr>\n",
       "      <th>0zB026d</th>\n",
       "      <td>1</td>\n",
       "      <td>1</td>\n",
       "      <td>0</td>\n",
       "      <td>0</td>\n",
       "    </tr>\n",
       "  </tbody>\n",
       "</table>\n",
       "</div>"
      ],
      "text/plain": [
       "              secundario  terciario  universitario  Posgrado\n",
       "idpostulante                                                \n",
       "0z5Dmrd                0          0              1         0\n",
       "0z5JW1r                1          1              0         0\n",
       "0z5VvGv                1          0              0         0\n",
       "0zB01pE                0          1              0         0\n",
       "0zB026d                1          1              0         0"
      ]
     },
     "execution_count": 62,
     "metadata": {},
     "output_type": "execute_result"
    }
   ],
   "source": [
    "graduados = m_postulantes_educacion.groupby('idpostulante')\\\n",
    "    .agg({'secundario':'max','terciario':'max',\n",
    "        'universitario':'max','Posgrado':'max'})\n",
    "graduados.head()"
   ]
  },
  {
   "cell_type": "code",
   "execution_count": 64,
   "metadata": {},
   "outputs": [
    {
     "data": {
      "text/html": [
       "<div>\n",
       "<style scoped>\n",
       "    .dataframe tbody tr th:only-of-type {\n",
       "        vertical-align: middle;\n",
       "    }\n",
       "\n",
       "    .dataframe tbody tr th {\n",
       "        vertical-align: top;\n",
       "    }\n",
       "\n",
       "    .dataframe thead th {\n",
       "        text-align: right;\n",
       "    }\n",
       "</style>\n",
       "<table border=\"1\" class=\"dataframe\">\n",
       "  <thead>\n",
       "    <tr style=\"text-align: right;\">\n",
       "      <th></th>\n",
       "      <th>idpostulante</th>\n",
       "      <th>secundario</th>\n",
       "      <th>terciario</th>\n",
       "      <th>universitario</th>\n",
       "      <th>Posgrado</th>\n",
       "    </tr>\n",
       "  </thead>\n",
       "  <tbody>\n",
       "    <tr>\n",
       "      <th>0</th>\n",
       "      <td>0z5Dmrd</td>\n",
       "      <td>0</td>\n",
       "      <td>0</td>\n",
       "      <td>1</td>\n",
       "      <td>0</td>\n",
       "    </tr>\n",
       "    <tr>\n",
       "      <th>1</th>\n",
       "      <td>0z5JW1r</td>\n",
       "      <td>1</td>\n",
       "      <td>1</td>\n",
       "      <td>0</td>\n",
       "      <td>0</td>\n",
       "    </tr>\n",
       "    <tr>\n",
       "      <th>2</th>\n",
       "      <td>0z5VvGv</td>\n",
       "      <td>1</td>\n",
       "      <td>0</td>\n",
       "      <td>0</td>\n",
       "      <td>0</td>\n",
       "    </tr>\n",
       "    <tr>\n",
       "      <th>3</th>\n",
       "      <td>0zB01pE</td>\n",
       "      <td>0</td>\n",
       "      <td>1</td>\n",
       "      <td>0</td>\n",
       "      <td>0</td>\n",
       "    </tr>\n",
       "    <tr>\n",
       "      <th>4</th>\n",
       "      <td>0zB026d</td>\n",
       "      <td>1</td>\n",
       "      <td>1</td>\n",
       "      <td>0</td>\n",
       "      <td>0</td>\n",
       "    </tr>\n",
       "  </tbody>\n",
       "</table>\n",
       "</div>"
      ],
      "text/plain": [
       "  idpostulante  secundario  terciario  universitario  Posgrado\n",
       "0      0z5Dmrd           0          0              1         0\n",
       "1      0z5JW1r           1          1              0         0\n",
       "2      0z5VvGv           1          0              0         0\n",
       "3      0zB01pE           0          1              0         0\n",
       "4      0zB026d           1          1              0         0"
      ]
     },
     "execution_count": 64,
     "metadata": {},
     "output_type": "execute_result"
    }
   ],
   "source": [
    "graduados.reset_index(inplace=True)\n",
    "graduados.head()"
   ]
  },
  {
   "cell_type": "code",
   "execution_count": 83,
   "metadata": {},
   "outputs": [
    {
     "name": "stdout",
     "output_type": "stream",
     "text": [
      "<class 'pandas.core.frame.DataFrame'>\n",
      "RangeIndex: 447909 entries, 0 to 447908\n",
      "Data columns (total 5 columns):\n",
      "idpostulante     447909 non-null object\n",
      "secundario       447909 non-null int64\n",
      "terciario        447909 non-null int64\n",
      "universitario    447909 non-null int64\n",
      "Posgrado         447909 non-null int64\n",
      "dtypes: int64(4), object(1)\n",
      "memory usage: 17.1+ MB\n"
     ]
    }
   ],
   "source": [
    "graduados.info()"
   ]
  },
  {
   "cell_type": "markdown",
   "metadata": {},
   "source": [
    "Unimos (concat) todos los dataframes de sexo y edad de los postulantes y luego los unimos (outer join) con los dataframes de los niveles de educación de los postulantes previamente tratados."
   ]
  },
  {
   "cell_type": "code",
   "execution_count": 65,
   "metadata": {},
   "outputs": [],
   "source": [
    "m_postulantes_sexo_y_edad = pd.concat([postulantes_sexo_y_edad, \\\n",
    "                                      h15_postulantes_sexo_y_edad, \\\n",
    "                                      d15_postulantes_sexo_y_edad])"
   ]
  },
  {
   "cell_type": "code",
   "execution_count": 66,
   "metadata": {},
   "outputs": [
    {
     "data": {
      "text/plain": [
       "idpostulante       780020\n",
       "fechanacimiento    745747\n",
       "sexo               780020\n",
       "dtype: int64"
      ]
     },
     "execution_count": 66,
     "metadata": {},
     "output_type": "execute_result"
    }
   ],
   "source": [
    "m_postulantes_sexo_y_edad.count()"
   ]
  },
  {
   "cell_type": "code",
   "execution_count": 67,
   "metadata": {},
   "outputs": [
    {
     "data": {
      "text/plain": [
       "idpostulante       505382\n",
       "fechanacimiento    478699\n",
       "sexo               505382\n",
       "dtype: int64"
      ]
     },
     "execution_count": 67,
     "metadata": {},
     "output_type": "execute_result"
    }
   ],
   "source": [
    "m_postulantes_sexo_y_edad = m_postulantes_sexo_y_edad.drop_duplicates()\n",
    "m_postulantes_sexo_y_edad.count()"
   ]
  },
  {
   "cell_type": "code",
   "execution_count": 12,
   "metadata": {},
   "outputs": [],
   "source": [
    "#m_postulantes_sexo_y_edad = m_postulantes_sexo_y_edad.groupby(['idpostulante'])\\\n",
    "#    .apply(lambda x: x.loc[x.sexo != 'NO_DECLARA',:] if len(x)>1 else x)\\\n",
    "#    .reset_index(drop=True)"
   ]
  },
  {
   "cell_type": "code",
   "execution_count": 68,
   "metadata": {},
   "outputs": [
    {
     "data": {
      "text/plain": [
       "idpostulante       505382\n",
       "fechanacimiento    478699\n",
       "sexo               505382\n",
       "dtype: int64"
      ]
     },
     "execution_count": 68,
     "metadata": {},
     "output_type": "execute_result"
    }
   ],
   "source": [
    "m_postulantes_sexo_y_edad.count()"
   ]
  },
  {
   "cell_type": "code",
   "execution_count": 69,
   "metadata": {},
   "outputs": [
    {
     "data": {
      "text/plain": [
       "idpostulante       504407\n",
       "fechanacimiento    477724\n",
       "sexo               504407\n",
       "dtype: int64"
      ]
     },
     "execution_count": 69,
     "metadata": {},
     "output_type": "execute_result"
    }
   ],
   "source": [
    "m_postulantes_sexo_y_edad = m_postulantes_sexo_y_edad.drop_duplicates('idpostulante')\n",
    "m_postulantes_sexo_y_edad.count()"
   ]
  },
  {
   "cell_type": "code",
   "execution_count": 70,
   "metadata": {},
   "outputs": [
    {
     "data": {
      "text/plain": [
       "idpostulante       504407\n",
       "fechanacimiento    384151\n",
       "sexo               504407\n",
       "dtype: int64"
      ]
     },
     "execution_count": 70,
     "metadata": {},
     "output_type": "execute_result"
    }
   ],
   "source": [
    "m_postulantes_sexo_y_edad['fechanacimiento'] = \\\n",
    "    pd.to_datetime(postulantes_sexo_y_edad['fechanacimiento'], errors='coerce')\n",
    "m_postulantes_sexo_y_edad.count()"
   ]
  },
  {
   "cell_type": "code",
   "execution_count": 76,
   "metadata": {},
   "outputs": [
    {
     "data": {
      "text/html": [
       "<div>\n",
       "<style scoped>\n",
       "    .dataframe tbody tr th:only-of-type {\n",
       "        vertical-align: middle;\n",
       "    }\n",
       "\n",
       "    .dataframe tbody tr th {\n",
       "        vertical-align: top;\n",
       "    }\n",
       "\n",
       "    .dataframe thead th {\n",
       "        text-align: right;\n",
       "    }\n",
       "</style>\n",
       "<table border=\"1\" class=\"dataframe\">\n",
       "  <thead>\n",
       "    <tr style=\"text-align: right;\">\n",
       "      <th></th>\n",
       "      <th>idpostulante</th>\n",
       "      <th>fechanacimiento</th>\n",
       "      <th>sexo</th>\n",
       "      <th>edad</th>\n",
       "    </tr>\n",
       "  </thead>\n",
       "  <tbody>\n",
       "    <tr>\n",
       "      <th>0</th>\n",
       "      <td>NM5M</td>\n",
       "      <td>1970-12-03</td>\n",
       "      <td>FEM</td>\n",
       "      <td>47.0</td>\n",
       "    </tr>\n",
       "    <tr>\n",
       "      <th>1</th>\n",
       "      <td>5awk</td>\n",
       "      <td>1962-12-04</td>\n",
       "      <td>FEM</td>\n",
       "      <td>55.0</td>\n",
       "    </tr>\n",
       "    <tr>\n",
       "      <th>2</th>\n",
       "      <td>ZaO5</td>\n",
       "      <td>1978-08-10</td>\n",
       "      <td>FEM</td>\n",
       "      <td>39.0</td>\n",
       "    </tr>\n",
       "    <tr>\n",
       "      <th>3</th>\n",
       "      <td>NdJl</td>\n",
       "      <td>1969-05-09</td>\n",
       "      <td>MASC</td>\n",
       "      <td>49.0</td>\n",
       "    </tr>\n",
       "    <tr>\n",
       "      <th>4</th>\n",
       "      <td>eo2p</td>\n",
       "      <td>1981-02-16</td>\n",
       "      <td>MASC</td>\n",
       "      <td>37.0</td>\n",
       "    </tr>\n",
       "  </tbody>\n",
       "</table>\n",
       "</div>"
      ],
      "text/plain": [
       "  idpostulante fechanacimiento  sexo  edad\n",
       "0         NM5M      1970-12-03   FEM  47.0\n",
       "1         5awk      1962-12-04   FEM  55.0\n",
       "2         ZaO5      1978-08-10   FEM  39.0\n",
       "3         NdJl      1969-05-09  MASC  49.0\n",
       "4         eo2p      1981-02-16  MASC  37.0"
      ]
     },
     "execution_count": 76,
     "metadata": {},
     "output_type": "execute_result"
    }
   ],
   "source": [
    "def calcular_edad(fecha_nacimiento):\n",
    "    hoy = datetime.date.today()\n",
    "    edad = hoy.year - fecha_nacimiento.year - ((hoy.month, hoy.day)\\\n",
    "            < (fecha_nacimiento.month, fecha_nacimiento.day))\n",
    "    return np.NaN if ((edad > 100) | (edad < 16)) else edad\n",
    "\n",
    "m_postulantes_sexo_y_edad['edad'] = \\\n",
    "    m_postulantes_sexo_y_edad['fechanacimiento']\\\n",
    "    .apply(lambda x: calcular_edad(x))\n",
    "m_postulantes_sexo_y_edad.head()"
   ]
  },
  {
   "cell_type": "code",
   "execution_count": 77,
   "metadata": {},
   "outputs": [
    {
     "data": {
      "text/html": [
       "<div>\n",
       "<style scoped>\n",
       "    .dataframe tbody tr th:only-of-type {\n",
       "        vertical-align: middle;\n",
       "    }\n",
       "\n",
       "    .dataframe tbody tr th {\n",
       "        vertical-align: top;\n",
       "    }\n",
       "\n",
       "    .dataframe thead th {\n",
       "        text-align: right;\n",
       "    }\n",
       "</style>\n",
       "<table border=\"1\" class=\"dataframe\">\n",
       "  <thead>\n",
       "    <tr style=\"text-align: right;\">\n",
       "      <th></th>\n",
       "      <th>idpostulante</th>\n",
       "      <th>sexo</th>\n",
       "      <th>edad</th>\n",
       "    </tr>\n",
       "  </thead>\n",
       "  <tbody>\n",
       "    <tr>\n",
       "      <th>0</th>\n",
       "      <td>NM5M</td>\n",
       "      <td>FEM</td>\n",
       "      <td>47.0</td>\n",
       "    </tr>\n",
       "    <tr>\n",
       "      <th>1</th>\n",
       "      <td>5awk</td>\n",
       "      <td>FEM</td>\n",
       "      <td>55.0</td>\n",
       "    </tr>\n",
       "  </tbody>\n",
       "</table>\n",
       "</div>"
      ],
      "text/plain": [
       "  idpostulante sexo  edad\n",
       "0         NM5M  FEM  47.0\n",
       "1         5awk  FEM  55.0"
      ]
     },
     "execution_count": 77,
     "metadata": {},
     "output_type": "execute_result"
    }
   ],
   "source": [
    "import random\n",
    "edad_mediana = m_postulantes_sexo_y_edad['edad'].median()\n",
    "m_postulantes_sexo_y_edad['edad'].fillna(random.expovariate(1/edad_mediana),\\\n",
    "                                         inplace = True)\n",
    "m_postulantes_sexo_y_edad.drop(['fechanacimiento'], axis=1, inplace=True)\n",
    "m_postulantes_sexo_y_edad.head(2)"
   ]
  },
  {
   "cell_type": "code",
   "execution_count": 78,
   "metadata": {},
   "outputs": [
    {
     "data": {
      "text/plain": [
       "FEM           250875\n",
       "MASC          227589\n",
       "NO_DECLARA     25936\n",
       "0.0                7\n",
       "Name: sexo, dtype: int64"
      ]
     },
     "execution_count": 78,
     "metadata": {},
     "output_type": "execute_result"
    }
   ],
   "source": [
    "m_postulantes_sexo_y_edad.sexo.value_counts()"
   ]
  },
  {
   "cell_type": "code",
   "execution_count": 79,
   "metadata": {},
   "outputs": [
    {
     "data": {
      "text/html": [
       "<div>\n",
       "<style scoped>\n",
       "    .dataframe tbody tr th:only-of-type {\n",
       "        vertical-align: middle;\n",
       "    }\n",
       "\n",
       "    .dataframe tbody tr th {\n",
       "        vertical-align: top;\n",
       "    }\n",
       "\n",
       "    .dataframe thead th {\n",
       "        text-align: right;\n",
       "    }\n",
       "</style>\n",
       "<table border=\"1\" class=\"dataframe\">\n",
       "  <thead>\n",
       "    <tr style=\"text-align: right;\">\n",
       "      <th></th>\n",
       "      <th>idpostulante</th>\n",
       "      <th>sexo</th>\n",
       "      <th>edad</th>\n",
       "    </tr>\n",
       "  </thead>\n",
       "  <tbody>\n",
       "    <tr>\n",
       "      <th>0</th>\n",
       "      <td>NM5M</td>\n",
       "      <td>0</td>\n",
       "      <td>47.0</td>\n",
       "    </tr>\n",
       "    <tr>\n",
       "      <th>1</th>\n",
       "      <td>5awk</td>\n",
       "      <td>0</td>\n",
       "      <td>55.0</td>\n",
       "    </tr>\n",
       "    <tr>\n",
       "      <th>2</th>\n",
       "      <td>ZaO5</td>\n",
       "      <td>0</td>\n",
       "      <td>39.0</td>\n",
       "    </tr>\n",
       "    <tr>\n",
       "      <th>3</th>\n",
       "      <td>NdJl</td>\n",
       "      <td>1</td>\n",
       "      <td>49.0</td>\n",
       "    </tr>\n",
       "    <tr>\n",
       "      <th>4</th>\n",
       "      <td>eo2p</td>\n",
       "      <td>1</td>\n",
       "      <td>37.0</td>\n",
       "    </tr>\n",
       "  </tbody>\n",
       "</table>\n",
       "</div>"
      ],
      "text/plain": [
       "  idpostulante  sexo  edad\n",
       "0         NM5M     0  47.0\n",
       "1         5awk     0  55.0\n",
       "2         ZaO5     0  39.0\n",
       "3         NdJl     1  49.0\n",
       "4         eo2p     1  37.0"
      ]
     },
     "execution_count": 79,
     "metadata": {},
     "output_type": "execute_result"
    }
   ],
   "source": [
    "def categorizar_sexo(x):\n",
    "    if (x == 'FEM'):\n",
    "        return 0\n",
    "    if (x == 'MASC'):\n",
    "        return 1\n",
    "    return random.getrandbits(1)\n",
    "\n",
    "m_postulantes_sexo_y_edad['sexo'] = m_postulantes_sexo_y_edad['sexo']\\\n",
    "    .apply(lambda x: categorizar_sexo(x))\n",
    "\n",
    "m_postulantes_sexo_y_edad.head()"
   ]
  },
  {
   "cell_type": "code",
   "execution_count": 82,
   "metadata": {},
   "outputs": [
    {
     "name": "stdout",
     "output_type": "stream",
     "text": [
      "<class 'pandas.core.frame.DataFrame'>\n",
      "Int64Index: 504407 entries, 0 to 281384\n",
      "Data columns (total 3 columns):\n",
      "idpostulante    504407 non-null object\n",
      "sexo            504407 non-null int64\n",
      "edad            504407 non-null float64\n",
      "dtypes: float64(1), int64(1), object(1)\n",
      "memory usage: 15.4+ MB\n"
     ]
    }
   ],
   "source": [
    "m_postulantes_sexo_y_edad.info()"
   ]
  },
  {
   "cell_type": "code",
   "execution_count": 84,
   "metadata": {},
   "outputs": [
    {
     "data": {
      "text/plain": [
       "idpostulante     504407\n",
       "sexo             504407\n",
       "edad             504407\n",
       "secundario       447909\n",
       "terciario        447909\n",
       "universitario    447909\n",
       "Posgrado         447909\n",
       "dtype: int64"
      ]
     },
     "execution_count": 84,
     "metadata": {},
     "output_type": "execute_result"
    }
   ],
   "source": [
    "m_postulantes = pd.merge(m_postulantes_sexo_y_edad, graduados, \\\n",
    "                       on = 'idpostulante', how='left')\n",
    "m_postulantes.count()"
   ]
  },
  {
   "cell_type": "code",
   "execution_count": 86,
   "metadata": {},
   "outputs": [
    {
     "data": {
      "text/plain": [
       "idpostulante     504407\n",
       "sexo             504407\n",
       "edad             504407\n",
       "secundario       504407\n",
       "terciario        504407\n",
       "universitario    504407\n",
       "Posgrado         504407\n",
       "dtype: int64"
      ]
     },
     "execution_count": 86,
     "metadata": {},
     "output_type": "execute_result"
    }
   ],
   "source": [
    "m_postulantes['secundario'].fillna(1, inplace = True)\n",
    "m_postulantes['terciario'].fillna(0, inplace = True)\n",
    "m_postulantes['universitario'].fillna(0, inplace = True)\n",
    "m_postulantes['Posgrado'].fillna(0, inplace = True)\n",
    "m_postulantes.count()"
   ]
  },
  {
   "cell_type": "code",
   "execution_count": 89,
   "metadata": {},
   "outputs": [
    {
     "data": {
      "text/html": [
       "<div>\n",
       "<style scoped>\n",
       "    .dataframe tbody tr th:only-of-type {\n",
       "        vertical-align: middle;\n",
       "    }\n",
       "\n",
       "    .dataframe tbody tr th {\n",
       "        vertical-align: top;\n",
       "    }\n",
       "\n",
       "    .dataframe thead th {\n",
       "        text-align: right;\n",
       "    }\n",
       "</style>\n",
       "<table border=\"1\" class=\"dataframe\">\n",
       "  <thead>\n",
       "    <tr style=\"text-align: right;\">\n",
       "      <th></th>\n",
       "      <th>idpostulante</th>\n",
       "      <th>sexo</th>\n",
       "      <th>edad</th>\n",
       "      <th>secundario</th>\n",
       "      <th>terciario</th>\n",
       "      <th>universitario</th>\n",
       "      <th>Posgrado</th>\n",
       "    </tr>\n",
       "  </thead>\n",
       "  <tbody>\n",
       "    <tr>\n",
       "      <th>0</th>\n",
       "      <td>NM5M</td>\n",
       "      <td>0</td>\n",
       "      <td>47</td>\n",
       "      <td>1</td>\n",
       "      <td>0</td>\n",
       "      <td>0</td>\n",
       "      <td>0</td>\n",
       "    </tr>\n",
       "    <tr>\n",
       "      <th>1</th>\n",
       "      <td>5awk</td>\n",
       "      <td>0</td>\n",
       "      <td>55</td>\n",
       "      <td>0</td>\n",
       "      <td>1</td>\n",
       "      <td>1</td>\n",
       "      <td>0</td>\n",
       "    </tr>\n",
       "    <tr>\n",
       "      <th>2</th>\n",
       "      <td>ZaO5</td>\n",
       "      <td>0</td>\n",
       "      <td>39</td>\n",
       "      <td>0</td>\n",
       "      <td>1</td>\n",
       "      <td>0</td>\n",
       "      <td>0</td>\n",
       "    </tr>\n",
       "    <tr>\n",
       "      <th>3</th>\n",
       "      <td>NdJl</td>\n",
       "      <td>1</td>\n",
       "      <td>49</td>\n",
       "      <td>0</td>\n",
       "      <td>0</td>\n",
       "      <td>1</td>\n",
       "      <td>0</td>\n",
       "    </tr>\n",
       "    <tr>\n",
       "      <th>4</th>\n",
       "      <td>eo2p</td>\n",
       "      <td>1</td>\n",
       "      <td>37</td>\n",
       "      <td>1</td>\n",
       "      <td>0</td>\n",
       "      <td>1</td>\n",
       "      <td>1</td>\n",
       "    </tr>\n",
       "  </tbody>\n",
       "</table>\n",
       "</div>"
      ],
      "text/plain": [
       "  idpostulante  sexo  edad  secundario  terciario  universitario  Posgrado\n",
       "0         NM5M     0    47           1          0              0         0\n",
       "1         5awk     0    55           0          1              1         0\n",
       "2         ZaO5     0    39           0          1              0         0\n",
       "3         NdJl     1    49           0          0              1         0\n",
       "4         eo2p     1    37           1          0              1         1"
      ]
     },
     "execution_count": 89,
     "metadata": {},
     "output_type": "execute_result"
    }
   ],
   "source": [
    "m_postulantes.edad = m_postulantes.edad.astype(int)\n",
    "m_postulantes.secundario = m_postulantes.secundario.astype(int)\n",
    "m_postulantes.terciario = m_postulantes.terciario.astype(int)\n",
    "m_postulantes.universitario = m_postulantes.universitario.astype(int)\n",
    "m_postulantes.Posgrado = m_postulantes.Posgrado.astype(int)\n",
    "m_postulantes.head()"
   ]
  },
  {
   "cell_type": "markdown",
   "metadata": {},
   "source": [
    "### Merge de los avisos"
   ]
  },
  {
   "cell_type": "code",
   "execution_count": 90,
   "metadata": {},
   "outputs": [],
   "source": [
    "avisos_detalle = avisos_detalle.loc[:,['idaviso', 'titulo', \\\n",
    "    'nombre_zona', 'tipo_de_trabajo', 'nivel_laboral', 'nombre_area',\\\n",
    "    'denominacion_empresa']]\n",
    "h15_avisos_detalle = h15_avisos_detalle.loc[:,['idaviso', 'titulo', \\\n",
    "    'nombre_zona', 'tipo_de_trabajo', 'nivel_laboral', 'nombre_area',\\\n",
    "    'denominacion_empresa']]\n",
    "d15_avisos_detalle = d15_avisos_detalle.loc[:,['idaviso', 'titulo', \\\n",
    "    'nombre_zona', 'tipo_de_trabajo', 'nivel_laboral', 'nombre_area',\\\n",
    "    'denominacion_empresa']]\n",
    "m_avisos_detalle = m_avisos_detalle.loc[:,['idaviso', 'titulo', \\\n",
    "    'nombre_zona', 'tipo_de_trabajo', 'nivel_laboral', 'nombre_area',\\\n",
    "    'denominacion_empresa']]"
   ]
  },
  {
   "cell_type": "code",
   "execution_count": 91,
   "metadata": {},
   "outputs": [],
   "source": [
    "m_avisos = pd.concat([avisos_detalle, h15_avisos_detalle, \\\n",
    "                      d15_avisos_detalle, m_avisos_detalle])"
   ]
  },
  {
   "cell_type": "code",
   "execution_count": 92,
   "metadata": {},
   "outputs": [
    {
     "data": {
      "text/plain": [
       "idaviso                 45969\n",
       "titulo                  45969\n",
       "nombre_zona             45969\n",
       "tipo_de_trabajo         45969\n",
       "nivel_laboral           45634\n",
       "nombre_area             45969\n",
       "denominacion_empresa    45955\n",
       "dtype: int64"
      ]
     },
     "execution_count": 92,
     "metadata": {},
     "output_type": "execute_result"
    }
   ],
   "source": [
    "m_avisos.count()"
   ]
  },
  {
   "cell_type": "code",
   "execution_count": 93,
   "metadata": {},
   "outputs": [
    {
     "data": {
      "text/plain": [
       "idaviso                 25637\n",
       "titulo                  25637\n",
       "nombre_zona             25637\n",
       "tipo_de_trabajo         25637\n",
       "nivel_laboral           25302\n",
       "nombre_area             25637\n",
       "denominacion_empresa    25630\n",
       "dtype: int64"
      ]
     },
     "execution_count": 93,
     "metadata": {},
     "output_type": "execute_result"
    }
   ],
   "source": [
    "m_avisos = m_avisos.drop_duplicates()\n",
    "m_avisos.count()"
   ]
  },
  {
   "cell_type": "code",
   "execution_count": 94,
   "metadata": {},
   "outputs": [
    {
     "data": {
      "text/plain": [
       "idaviso                 25288\n",
       "titulo                  25288\n",
       "nombre_zona             25288\n",
       "tipo_de_trabajo         25288\n",
       "nivel_laboral           24953\n",
       "nombre_area             25288\n",
       "denominacion_empresa    25281\n",
       "dtype: int64"
      ]
     },
     "execution_count": 94,
     "metadata": {},
     "output_type": "execute_result"
    }
   ],
   "source": [
    "m_avisos = m_avisos.drop_duplicates('idaviso', keep='last')\n",
    "m_avisos.count()"
   ]
  },
  {
   "cell_type": "code",
   "execution_count": 95,
   "metadata": {},
   "outputs": [
    {
     "data": {
      "text/html": [
       "<div>\n",
       "<style scoped>\n",
       "    .dataframe tbody tr th:only-of-type {\n",
       "        vertical-align: middle;\n",
       "    }\n",
       "\n",
       "    .dataframe tbody tr th {\n",
       "        vertical-align: top;\n",
       "    }\n",
       "\n",
       "    .dataframe thead th {\n",
       "        text-align: right;\n",
       "    }\n",
       "</style>\n",
       "<table border=\"1\" class=\"dataframe\">\n",
       "  <thead>\n",
       "    <tr style=\"text-align: right;\">\n",
       "      <th></th>\n",
       "      <th>idaviso</th>\n",
       "      <th>titulo</th>\n",
       "      <th>nombre_zona</th>\n",
       "      <th>tipo_de_trabajo</th>\n",
       "      <th>nivel_laboral</th>\n",
       "      <th>nombre_area</th>\n",
       "      <th>denominacion_empresa</th>\n",
       "    </tr>\n",
       "  </thead>\n",
       "  <tbody>\n",
       "    <tr>\n",
       "      <th>0</th>\n",
       "      <td>8725750</td>\n",
       "      <td>VENDEDOR/A PROVINCIA DE SANTA FE</td>\n",
       "      <td>Gran Buenos Aires</td>\n",
       "      <td>Full-time</td>\n",
       "      <td>Senior / Semi-Senior</td>\n",
       "      <td>Comercial</td>\n",
       "      <td>VENTOR</td>\n",
       "    </tr>\n",
       "    <tr>\n",
       "      <th>2</th>\n",
       "      <td>1000150677</td>\n",
       "      <td>Chofer de taxi</td>\n",
       "      <td>Capital Federal</td>\n",
       "      <td>Full-time</td>\n",
       "      <td>Senior / Semi-Senior</td>\n",
       "      <td>Transporte</td>\n",
       "      <td>FAMITAX SRL</td>\n",
       "    </tr>\n",
       "  </tbody>\n",
       "</table>\n",
       "</div>"
      ],
      "text/plain": [
       "      idaviso                            titulo        nombre_zona  \\\n",
       "0     8725750  VENDEDOR/A PROVINCIA DE SANTA FE  Gran Buenos Aires   \n",
       "2  1000150677                    Chofer de taxi    Capital Federal   \n",
       "\n",
       "  tipo_de_trabajo         nivel_laboral nombre_area denominacion_empresa  \n",
       "0       Full-time  Senior / Semi-Senior   Comercial               VENTOR  \n",
       "2       Full-time  Senior / Semi-Senior  Transporte          FAMITAX SRL  "
      ]
     },
     "execution_count": 95,
     "metadata": {},
     "output_type": "execute_result"
    }
   ],
   "source": [
    "m_avisos.head(2)"
   ]
  },
  {
   "cell_type": "code",
   "execution_count": 96,
   "metadata": {},
   "outputs": [
    {
     "data": {
      "text/plain": [
       "Senior / Semi-Senior                    16975\n",
       "Junior                                   4152\n",
       "Otro                                     1977\n",
       "Jefe / Supervisor / Responsable          1527\n",
       "Gerencia / Alta Gerencia / Dirección      322\n",
       "Name: nivel_laboral, dtype: int64"
      ]
     },
     "execution_count": 96,
     "metadata": {},
     "output_type": "execute_result"
    }
   ],
   "source": [
    "m_avisos.nivel_laboral.value_counts()"
   ]
  },
  {
   "cell_type": "code",
   "execution_count": 97,
   "metadata": {},
   "outputs": [
    {
     "data": {
      "text/plain": [
       "idaviso                 25288\n",
       "titulo                  25288\n",
       "nombre_zona             25288\n",
       "tipo_de_trabajo         25288\n",
       "nivel_laboral           25288\n",
       "nombre_area             25288\n",
       "denominacion_empresa    25281\n",
       "dtype: int64"
      ]
     },
     "execution_count": 97,
     "metadata": {},
     "output_type": "execute_result"
    }
   ],
   "source": [
    "# Completo los NaNs del nivel laboral con \"Senior / Semi-Senior\"\n",
    "m_avisos['nivel_laboral'].fillna('Senior / Semi-Senior', inplace = True)\n",
    "m_avisos.count()"
   ]
  },
  {
   "cell_type": "code",
   "execution_count": 98,
   "metadata": {},
   "outputs": [],
   "source": [
    "def categorizar_nivel_laboral(x):\n",
    "    if((x == 'Jefe / Supervisor / Responsable') |\n",
    "      (x == 'Gerencia / Alta Gerencia / Dirección')):\n",
    "        return 1\n",
    "    return 0\n",
    "\n",
    "m_avisos['nivel_laboral'] = m_avisos['nivel_laboral']\\\n",
    "    .apply(lambda x: categorizar_nivel_laboral(x))"
   ]
  },
  {
   "cell_type": "code",
   "execution_count": 99,
   "metadata": {},
   "outputs": [
    {
     "data": {
      "text/plain": [
       "idaviso                 25288\n",
       "titulo                  25288\n",
       "nombre_zona             25288\n",
       "tipo_de_trabajo         25288\n",
       "nivel_laboral           25288\n",
       "nombre_area             25288\n",
       "denominacion_empresa    25288\n",
       "dtype: int64"
      ]
     },
     "execution_count": 99,
     "metadata": {},
     "output_type": "execute_result"
    }
   ],
   "source": [
    "# Completo los NaNs del nombre de la empresa con \"No declara\"\n",
    "m_avisos['denominacion_empresa'].fillna('No declara', inplace = True)\n",
    "m_avisos.count()"
   ]
  },
  {
   "cell_type": "code",
   "execution_count": 100,
   "metadata": {},
   "outputs": [
    {
     "data": {
      "text/html": [
       "<div>\n",
       "<style scoped>\n",
       "    .dataframe tbody tr th:only-of-type {\n",
       "        vertical-align: middle;\n",
       "    }\n",
       "\n",
       "    .dataframe tbody tr th {\n",
       "        vertical-align: top;\n",
       "    }\n",
       "\n",
       "    .dataframe thead th {\n",
       "        text-align: right;\n",
       "    }\n",
       "</style>\n",
       "<table border=\"1\" class=\"dataframe\">\n",
       "  <thead>\n",
       "    <tr style=\"text-align: right;\">\n",
       "      <th></th>\n",
       "      <th>idaviso</th>\n",
       "      <th>titulo</th>\n",
       "      <th>nombre_zona</th>\n",
       "      <th>tipo_de_trabajo</th>\n",
       "      <th>nivel_laboral</th>\n",
       "      <th>nombre_area</th>\n",
       "      <th>denominacion_empresa</th>\n",
       "    </tr>\n",
       "  </thead>\n",
       "  <tbody>\n",
       "    <tr>\n",
       "      <th>0</th>\n",
       "      <td>8725750</td>\n",
       "      <td>VENDEDOR/A PROVINCIA DE SANTA FE</td>\n",
       "      <td>Gran Buenos Aires</td>\n",
       "      <td>Full-time</td>\n",
       "      <td>0</td>\n",
       "      <td>Comercial</td>\n",
       "      <td>VENTOR</td>\n",
       "    </tr>\n",
       "    <tr>\n",
       "      <th>2</th>\n",
       "      <td>1000150677</td>\n",
       "      <td>Chofer de taxi</td>\n",
       "      <td>Capital Federal</td>\n",
       "      <td>Full-time</td>\n",
       "      <td>0</td>\n",
       "      <td>Transporte</td>\n",
       "      <td>FAMITAX SRL</td>\n",
       "    </tr>\n",
       "  </tbody>\n",
       "</table>\n",
       "</div>"
      ],
      "text/plain": [
       "      idaviso                            titulo        nombre_zona  \\\n",
       "0     8725750  VENDEDOR/A PROVINCIA DE SANTA FE  Gran Buenos Aires   \n",
       "2  1000150677                    Chofer de taxi    Capital Federal   \n",
       "\n",
       "  tipo_de_trabajo  nivel_laboral nombre_area denominacion_empresa  \n",
       "0       Full-time              0   Comercial               VENTOR  \n",
       "2       Full-time              0  Transporte          FAMITAX SRL  "
      ]
     },
     "execution_count": 100,
     "metadata": {},
     "output_type": "execute_result"
    }
   ],
   "source": [
    "m_avisos.head(2)"
   ]
  },
  {
   "cell_type": "code",
   "execution_count": 101,
   "metadata": {},
   "outputs": [
    {
     "data": {
      "text/plain": [
       "Full-time          22831\n",
       "Part-time           1746\n",
       "Teletrabajo          248\n",
       "Por Horas            125\n",
       "Pasantia             119\n",
       "Temporario            96\n",
       "Por Contrato          88\n",
       "Fines de Semana       28\n",
       "Primer empleo          6\n",
       "Voluntario             1\n",
       "Name: tipo_de_trabajo, dtype: int64"
      ]
     },
     "execution_count": 101,
     "metadata": {},
     "output_type": "execute_result"
    }
   ],
   "source": [
    "m_avisos.tipo_de_trabajo.value_counts()"
   ]
  },
  {
   "cell_type": "code",
   "execution_count": 102,
   "metadata": {},
   "outputs": [],
   "source": [
    "def categorizar_tipo_de_trabajo(x):\n",
    "    if(x == 'Full-time'):\n",
    "        return 1\n",
    "    return 0\n",
    "\n",
    "m_avisos['tipo_de_trabajo'] = m_avisos['tipo_de_trabajo']\\\n",
    "    .apply(lambda x: categorizar_tipo_de_trabajo(x))"
   ]
  },
  {
   "cell_type": "code",
   "execution_count": 37,
   "metadata": {},
   "outputs": [
    {
     "data": {
      "text/plain": [
       "pandas.core.series.Series"
      ]
     },
     "execution_count": 37,
     "metadata": {},
     "output_type": "execute_result"
    }
   ],
   "source": [
    "type(m_avisos.nombre_area)"
   ]
  },
  {
   "cell_type": "code",
   "execution_count": 103,
   "metadata": {},
   "outputs": [
    {
     "data": {
      "text/plain": [
       "Comercial / Negocios       10345\n",
       "Produccion / Ingenieria     3940\n",
       "No calificado               3932\n",
       "Sistemas                    2941\n",
       "Otros                       2095\n",
       "RRHH                         945\n",
       "Salud                        597\n",
       "Disenio                      242\n",
       "Educacion                    139\n",
       "Turismo                      112\n",
       "Name: nombre_area, dtype: int64"
      ]
     },
     "execution_count": 103,
     "metadata": {},
     "output_type": "execute_result"
    }
   ],
   "source": [
    "def categorizar_area(x):\n",
    "    if ((type(x) is str) == False):\n",
    "        return 'Otros'\n",
    "    if ((x == 'Programación') | (x == 'Soporte Técnico') |\n",
    "        (x == 'Tecnologia / Sistemas') |\n",
    "        (x == 'Sistemas') | (x == 'Redes') |\n",
    "        (x == 'Business Intelligence') | (x == 'Telecomunicaciones') |\n",
    "        (x == 'Tecnologías de la Información') |\n",
    "        (x == 'Seguridad Informática') | (x == 'Análisis Funcional') |\n",
    "        (x == 'Internet') | (x == 'Diseño Web') |\n",
    "        (x == 'Diseño Multimedia') | (x == 'Testing / QA / QC') |\n",
    "        (x == 'Data Warehousing') | (x == 'Multimedia') |\n",
    "        (x == 'Administración de Base de Datos')):\n",
    "        return 'Sistemas'\n",
    "    if ((x == 'Ventas') | (x == 'Comercial') | (x == 'Compras') |\n",
    "        (x == 'Administración') | (x == 'Contabilidad') |\n",
    "        (x == 'Marketing') | (x == 'Finanzas') | (x == 'Tesorería') |\n",
    "        (x == 'Créditos y Cobranzas') | (x == 'Legal') |\n",
    "        (x == 'Desarrollo de Negocios') | (x == 'Impuestos') |\n",
    "        (x == 'Auditoría') | (x == 'Control de Gestión') |\n",
    "        (x == 'Planeamiento comercial') | (x == 'Facturación') |\n",
    "        (x == 'Compras Internacionales/Importación') |\n",
    "        (x == 'Consultorías Comercio Exterior') | (x == 'Consultoria') |\n",
    "        (x == 'Análisis de Riesgos') | (x == 'E-commerce') |\n",
    "        (x == 'Ventas Internacionales/Exportación') |\n",
    "        (x == 'Comercio Exterior') | (x == 'Evaluación Económica') |\n",
    "        (x == 'Mercadotecnia Internacional') | \n",
    "        (x == 'Relaciones Institucionales/Publicas') |\n",
    "        (x == 'Planeamiento económico-financiero ') |\n",
    "        (x == 'Corporate Finance / Banca Inversión') |\n",
    "        (x == 'Cuentas Corrientes')):\n",
    "        return 'Comercial / Negocios'\n",
    "    if ((x == 'Salud') | (x == 'Medicina') | (x == 'Farmacéutica') |\n",
    "        (x == 'Medicina Laboral') | (x == 'Otras áreas técnicas en salud') |\n",
    "        (x == 'Fonoaudiología') | (x == 'Farmacia hospitalaria') |\n",
    "        (x == 'Prácticas cardiológicas') | (x == 'Odontología') |\n",
    "        (x == 'Otras Especialidades médicas') | (x == 'Clínica Médica') |\n",
    "        (x == 'Kinesiología / terapia ocupacional') |\n",
    "        (x == 'Auditoría Médica') | (x == 'Instrumentación quirúrgica') |\n",
    "        (x == 'Enfermería (ver Enfermería)') | (x == 'Psicología')):\n",
    "        return 'Salud'\n",
    "    if ((x == 'Producción') | (x == 'Logística') | (x == 'Construcción') |\n",
    "        (x == 'Ingeniería  Industrial') | (x == 'Ingeniería  Mecánica') |\n",
    "        (x == 'Ingeniería  Eléctrica y Electrónica ') |\n",
    "        (x == 'Distribución') | (x == 'Programación de producción') |\n",
    "        (x == 'Producto') | (x == 'Otras Ingenierias') | \n",
    "        (x == 'Mineria/Petroleo/Gas') | (x == 'Ingeniería Civil') |\n",
    "        (x == 'Ingeniería Oficina Técnica / Proyecto') |\n",
    "        (x == 'Dirección de Obra') | (x == 'Ingeniería Química') |\n",
    "        (x == 'Ingeniería Electromecánica') | (x == 'Seguridad e Higiene') |\n",
    "        (x == 'Ingeniería de Procesos') | (x == 'Organización y Métodos') |\n",
    "        (x == 'Ingeniería en Alimentos') | (x == 'Ingeniería  Automotriz') |\n",
    "        (x == 'Ingeniería Agrónoma') | (x == 'Operaciones') |\n",
    "        (x == 'Ingeniería de Producto ') | (x == 'Ingeniería  Metalurgica') |\n",
    "        (x == 'Planeamiento') | (x == 'Farmacia industrial') |\n",
    "        (x == 'Seguridad Industrial') | (x == 'Quimica') |\n",
    "        (x == 'Química') | (x == 'Ingeniería en Petróleo y Petroquímica') |\n",
    "        (x == 'Ingeniería Geológica') | (x == 'Instrumentación Minera') |\n",
    "        (x == 'Exploración Minera y Petroquimica') | (x == 'Infraestructura') |\n",
    "        (x == 'Ingeniería en Minas') | (x == 'Calidad') |\n",
    "        (x == 'Abastecimiento') | (x == 'Ingeniería de Ventas ') |\n",
    "        (x == 'Diseño Industrial')):\n",
    "        return 'Produccion / Ingenieria'\n",
    "    if ((x == 'Atención al Cliente') | (x == 'Mantenimiento') |\n",
    "        (x == 'Mantenimiento y Limpieza') | (x == 'Call Center') |\n",
    "        (x == 'Recepcionista') | (x == 'Oficios y Profesiones') |\n",
    "        (x == 'Almacén / Depósito / Expedición') | (x == 'Telemarketing') |\n",
    "        (x == 'Seguridad') | (x == 'Secretaria') | (x == 'Camareros') |\n",
    "        (x == 'Cadetería') | (x == 'Asistente') | (x == 'Data Entry') |\n",
    "        (x == 'Pasantía / Trainee') | (x == 'Caja') | (x == 'Back Office') |\n",
    "        (x == 'Promotoras/es') | (x == 'Telefonista')):\n",
    "        return 'No calificado'\n",
    "    if ((x == 'Recursos Humanos') | (x == 'Selección') |\n",
    "        (x == 'Administración de Personal') |\n",
    "        (x == 'Compensación y Planilla')):\n",
    "        return 'RRHH'\n",
    "    if ((x == 'Turismo') | (x == 'Hotelería')):\n",
    "        return 'Turismo'\n",
    "    if ((x == 'Educación/ Docentes') | (x == 'Educación') |\n",
    "        (x == 'Educación especial') | (x == 'Capacitación') |\n",
    "        (x == 'Bienestar Estudiantil')):\n",
    "        return 'Educacion'\n",
    "    if ((x == 'Arquitectura') | (x == 'Diseño Gráfico') |\n",
    "        (x == 'Diseño Textil e Indumentaria') | (x == 'Diseño') |\n",
    "        (x == 'Diseño de Interiores / Decoración') | (x == 'Urbanismo') |\n",
    "        (x == 'Diseño 3D')):\n",
    "        return 'Disenio'\n",
    "    return 'Otros'\n",
    "\n",
    "m_avisos['nombre_area'] = m_avisos['nombre_area']\\\n",
    "    .apply(lambda x: categorizar_area(x))\n",
    "m_avisos.nombre_area.value_counts()"
   ]
  },
  {
   "cell_type": "code",
   "execution_count": 104,
   "metadata": {},
   "outputs": [
    {
     "data": {
      "text/html": [
       "<div>\n",
       "<style scoped>\n",
       "    .dataframe tbody tr th:only-of-type {\n",
       "        vertical-align: middle;\n",
       "    }\n",
       "\n",
       "    .dataframe tbody tr th {\n",
       "        vertical-align: top;\n",
       "    }\n",
       "\n",
       "    .dataframe thead th {\n",
       "        text-align: right;\n",
       "    }\n",
       "</style>\n",
       "<table border=\"1\" class=\"dataframe\">\n",
       "  <thead>\n",
       "    <tr style=\"text-align: right;\">\n",
       "      <th></th>\n",
       "      <th>idaviso</th>\n",
       "      <th>titulo</th>\n",
       "      <th>nombre_zona</th>\n",
       "      <th>tipo_de_trabajo</th>\n",
       "      <th>nivel_laboral</th>\n",
       "      <th>nombre_area</th>\n",
       "      <th>denominacion_empresa</th>\n",
       "    </tr>\n",
       "  </thead>\n",
       "  <tbody>\n",
       "    <tr>\n",
       "      <th>0</th>\n",
       "      <td>8725750</td>\n",
       "      <td>VENDEDOR/A PROVINCIA DE SANTA FE</td>\n",
       "      <td>Gran Buenos Aires</td>\n",
       "      <td>1</td>\n",
       "      <td>0</td>\n",
       "      <td>Comercial / Negocios</td>\n",
       "      <td>VENTOR</td>\n",
       "    </tr>\n",
       "    <tr>\n",
       "      <th>2</th>\n",
       "      <td>1000150677</td>\n",
       "      <td>Chofer de taxi</td>\n",
       "      <td>Capital Federal</td>\n",
       "      <td>1</td>\n",
       "      <td>0</td>\n",
       "      <td>Otros</td>\n",
       "      <td>FAMITAX SRL</td>\n",
       "    </tr>\n",
       "    <tr>\n",
       "      <th>3</th>\n",
       "      <td>1000610287</td>\n",
       "      <td>CHOFER DE CAMIONETA BAHIA BLANCA - PUNTA ALTA</td>\n",
       "      <td>Gran Buenos Aires</td>\n",
       "      <td>1</td>\n",
       "      <td>0</td>\n",
       "      <td>Otros</td>\n",
       "      <td>Wurth Argentina S.A</td>\n",
       "    </tr>\n",
       "    <tr>\n",
       "      <th>4</th>\n",
       "      <td>1000872556</td>\n",
       "      <td>Operarios de Planta - Rubro Electrodomésticos</td>\n",
       "      <td>Gran Buenos Aires</td>\n",
       "      <td>1</td>\n",
       "      <td>0</td>\n",
       "      <td>Produccion / Ingenieria</td>\n",
       "      <td>ELECTRO OUTLET SRL</td>\n",
       "    </tr>\n",
       "    <tr>\n",
       "      <th>5</th>\n",
       "      <td>1001135716</td>\n",
       "      <td>Vendedor Viajante TUCUMAN/SANTIAGO DEL ESTERO</td>\n",
       "      <td>Gran Buenos Aires</td>\n",
       "      <td>1</td>\n",
       "      <td>0</td>\n",
       "      <td>Comercial / Negocios</td>\n",
       "      <td>Wurth Argentina S.A</td>\n",
       "    </tr>\n",
       "  </tbody>\n",
       "</table>\n",
       "</div>"
      ],
      "text/plain": [
       "      idaviso                                         titulo  \\\n",
       "0     8725750               VENDEDOR/A PROVINCIA DE SANTA FE   \n",
       "2  1000150677                                 Chofer de taxi   \n",
       "3  1000610287  CHOFER DE CAMIONETA BAHIA BLANCA - PUNTA ALTA   \n",
       "4  1000872556  Operarios de Planta - Rubro Electrodomésticos   \n",
       "5  1001135716  Vendedor Viajante TUCUMAN/SANTIAGO DEL ESTERO   \n",
       "\n",
       "         nombre_zona  tipo_de_trabajo  nivel_laboral              nombre_area  \\\n",
       "0  Gran Buenos Aires                1              0     Comercial / Negocios   \n",
       "2    Capital Federal                1              0                    Otros   \n",
       "3  Gran Buenos Aires                1              0                    Otros   \n",
       "4  Gran Buenos Aires                1              0  Produccion / Ingenieria   \n",
       "5  Gran Buenos Aires                1              0     Comercial / Negocios   \n",
       "\n",
       "  denominacion_empresa  \n",
       "0               VENTOR  \n",
       "2          FAMITAX SRL  \n",
       "3  Wurth Argentina S.A  \n",
       "4   ELECTRO OUTLET SRL  \n",
       "5  Wurth Argentina S.A  "
      ]
     },
     "execution_count": 104,
     "metadata": {},
     "output_type": "execute_result"
    }
   ],
   "source": [
    "m_avisos.head()"
   ]
  },
  {
   "cell_type": "code",
   "execution_count": 105,
   "metadata": {},
   "outputs": [],
   "source": [
    "del m_avisos['titulo']"
   ]
  },
  {
   "cell_type": "code",
   "execution_count": 106,
   "metadata": {},
   "outputs": [
    {
     "data": {
      "text/plain": [
       "Gran Buenos Aires              23017\n",
       "Capital Federal                 2183\n",
       "Buenos Aires (fuera de GBA)       57\n",
       "GBA Oeste                         10\n",
       "La Plata                           4\n",
       "Ciudad de Mendoza                  3\n",
       "Mendoza                            3\n",
       "Cordoba                            2\n",
       "Rosario                            2\n",
       "Santa Cruz                         1\n",
       "Santa Fe                           1\n",
       "Corrientes                         1\n",
       "San Juan                           1\n",
       "Catamarca                          1\n",
       "Tucuman                            1\n",
       "Neuquen                            1\n",
       "Name: nombre_zona, dtype: int64"
      ]
     },
     "execution_count": 106,
     "metadata": {},
     "output_type": "execute_result"
    }
   ],
   "source": [
    "m_avisos.nombre_zona.value_counts()"
   ]
  },
  {
   "cell_type": "code",
   "execution_count": 107,
   "metadata": {},
   "outputs": [
    {
     "data": {
      "text/plain": [
       "0    23105\n",
       "1     2183\n",
       "Name: nombre_zona, dtype: int64"
      ]
     },
     "execution_count": 107,
     "metadata": {},
     "output_type": "execute_result"
    }
   ],
   "source": [
    "def categorizar_zona(x):\n",
    "    if ((x == 'Capital Federal')):\n",
    "        return 1\n",
    "    return 0\n",
    "\n",
    "m_avisos['nombre_zona'] = m_avisos['nombre_zona']\\\n",
    "    .apply(lambda x: categorizar_zona(x))\n",
    "m_avisos.nombre_zona.value_counts()"
   ]
  },
  {
   "cell_type": "markdown",
   "metadata": {},
   "source": [
    "### Label encoding"
   ]
  },
  {
   "cell_type": "code",
   "execution_count": 108,
   "metadata": {},
   "outputs": [],
   "source": [
    "from sklearn.preprocessing import LabelEncoder\n",
    "from sklearn.pipeline import Pipeline\n",
    "\n",
    "class MultiColumnLabelEncoder:\n",
    "    def __init__(self,columns = None):\n",
    "        self.columns = columns # array of column names to encode\n",
    "\n",
    "    def fit(self,X,y=None):\n",
    "        return self # not relevant here\n",
    "\n",
    "    def transform(self,X):\n",
    "        '''\n",
    "        Transforms columns of X specified in self.columns using\n",
    "        LabelEncoder(). If no columns specified, transforms all\n",
    "        columns in X.\n",
    "        '''\n",
    "        output = X.copy()\n",
    "        if self.columns is not None:\n",
    "            for col in self.columns:\n",
    "                output[col] = LabelEncoder().fit_transform(output[col])\n",
    "        else:\n",
    "            for colname,col in output.iteritems():\n",
    "                output[colname] = LabelEncoder().fit_transform(col)\n",
    "        return output\n",
    "\n",
    "    def fit_transform(self,X,y=None):\n",
    "        return self.fit(X,y).transform(X)"
   ]
  },
  {
   "cell_type": "code",
   "execution_count": null,
   "metadata": {},
   "outputs": [],
   "source": [
    "#del m_avisos['denominacion_empresa']"
   ]
  },
  {
   "cell_type": "code",
   "execution_count": 109,
   "metadata": {},
   "outputs": [
    {
     "data": {
      "text/html": [
       "<div>\n",
       "<style scoped>\n",
       "    .dataframe tbody tr th:only-of-type {\n",
       "        vertical-align: middle;\n",
       "    }\n",
       "\n",
       "    .dataframe tbody tr th {\n",
       "        vertical-align: top;\n",
       "    }\n",
       "\n",
       "    .dataframe thead th {\n",
       "        text-align: right;\n",
       "    }\n",
       "</style>\n",
       "<table border=\"1\" class=\"dataframe\">\n",
       "  <thead>\n",
       "    <tr style=\"text-align: right;\">\n",
       "      <th></th>\n",
       "      <th>idaviso</th>\n",
       "      <th>nombre_zona</th>\n",
       "      <th>tipo_de_trabajo</th>\n",
       "      <th>nivel_laboral</th>\n",
       "      <th>nombre_area</th>\n",
       "      <th>denominacion_empresa</th>\n",
       "    </tr>\n",
       "  </thead>\n",
       "  <tbody>\n",
       "    <tr>\n",
       "      <th>0</th>\n",
       "      <td>8725750</td>\n",
       "      <td>0</td>\n",
       "      <td>1</td>\n",
       "      <td>0</td>\n",
       "      <td>0</td>\n",
       "      <td>4000</td>\n",
       "    </tr>\n",
       "    <tr>\n",
       "      <th>2</th>\n",
       "      <td>1000150677</td>\n",
       "      <td>1</td>\n",
       "      <td>1</td>\n",
       "      <td>0</td>\n",
       "      <td>4</td>\n",
       "      <td>1560</td>\n",
       "    </tr>\n",
       "    <tr>\n",
       "      <th>3</th>\n",
       "      <td>1000610287</td>\n",
       "      <td>0</td>\n",
       "      <td>1</td>\n",
       "      <td>0</td>\n",
       "      <td>4</td>\n",
       "      <td>4113</td>\n",
       "    </tr>\n",
       "    <tr>\n",
       "      <th>4</th>\n",
       "      <td>1000872556</td>\n",
       "      <td>0</td>\n",
       "      <td>1</td>\n",
       "      <td>0</td>\n",
       "      <td>5</td>\n",
       "      <td>1266</td>\n",
       "    </tr>\n",
       "    <tr>\n",
       "      <th>5</th>\n",
       "      <td>1001135716</td>\n",
       "      <td>0</td>\n",
       "      <td>1</td>\n",
       "      <td>0</td>\n",
       "      <td>0</td>\n",
       "      <td>4113</td>\n",
       "    </tr>\n",
       "  </tbody>\n",
       "</table>\n",
       "</div>"
      ],
      "text/plain": [
       "      idaviso  nombre_zona  tipo_de_trabajo  nivel_laboral  nombre_area  \\\n",
       "0     8725750            0                1              0            0   \n",
       "2  1000150677            1                1              0            4   \n",
       "3  1000610287            0                1              0            4   \n",
       "4  1000872556            0                1              0            5   \n",
       "5  1001135716            0                1              0            0   \n",
       "\n",
       "   denominacion_empresa  \n",
       "0                  4000  \n",
       "2                  1560  \n",
       "3                  4113  \n",
       "4                  1266  \n",
       "5                  4113  "
      ]
     },
     "execution_count": 109,
     "metadata": {},
     "output_type": "execute_result"
    }
   ],
   "source": [
    "avisos_encoding = MultiColumnLabelEncoder(columns = \\\n",
    "    ['nombre_area','denominacion_empresa']).fit_transform(m_avisos)\n",
    "avisos_encoding.head()"
   ]
  },
  {
   "cell_type": "markdown",
   "metadata": {},
   "source": [
    "### Merge de las postulaciones"
   ]
  },
  {
   "cell_type": "code",
   "execution_count": 110,
   "metadata": {},
   "outputs": [],
   "source": [
    "m_postulaciones = pd.concat([postulaciones, h15_postulaciones])"
   ]
  },
  {
   "cell_type": "code",
   "execution_count": 111,
   "metadata": {},
   "outputs": [
    {
     "data": {
      "text/plain": [
       "idaviso             8311264\n",
       "idpostulante        8311264\n",
       "fechapostulacion    8311264\n",
       "dtype: int64"
      ]
     },
     "execution_count": 111,
     "metadata": {},
     "output_type": "execute_result"
    }
   ],
   "source": [
    "m_postulaciones['fechapostulacion'] = \\\n",
    "    pd.to_datetime(m_postulaciones['fechapostulacion'], errors='coerce')\n",
    "m_postulaciones.count()"
   ]
  },
  {
   "cell_type": "code",
   "execution_count": 112,
   "metadata": {},
   "outputs": [
    {
     "data": {
      "text/html": [
       "<div>\n",
       "<style scoped>\n",
       "    .dataframe tbody tr th:only-of-type {\n",
       "        vertical-align: middle;\n",
       "    }\n",
       "\n",
       "    .dataframe tbody tr th {\n",
       "        vertical-align: top;\n",
       "    }\n",
       "\n",
       "    .dataframe thead th {\n",
       "        text-align: right;\n",
       "    }\n",
       "</style>\n",
       "<table border=\"1\" class=\"dataframe\">\n",
       "  <thead>\n",
       "    <tr style=\"text-align: right;\">\n",
       "      <th></th>\n",
       "      <th>idaviso</th>\n",
       "      <th>idpostulante</th>\n",
       "    </tr>\n",
       "  </thead>\n",
       "  <tbody>\n",
       "    <tr>\n",
       "      <th>0</th>\n",
       "      <td>1112257047</td>\n",
       "      <td>NM5M</td>\n",
       "    </tr>\n",
       "    <tr>\n",
       "      <th>1</th>\n",
       "      <td>1111920714</td>\n",
       "      <td>NM5M</td>\n",
       "    </tr>\n",
       "  </tbody>\n",
       "</table>\n",
       "</div>"
      ],
      "text/plain": [
       "      idaviso idpostulante\n",
       "0  1112257047         NM5M\n",
       "1  1111920714         NM5M"
      ]
     },
     "execution_count": 112,
     "metadata": {},
     "output_type": "execute_result"
    }
   ],
   "source": [
    "del m_postulaciones['fechapostulacion']\n",
    "m_postulaciones.head(2)"
   ]
  },
  {
   "cell_type": "code",
   "execution_count": 114,
   "metadata": {},
   "outputs": [
    {
     "data": {
      "text/plain": [
       "idpostulante     504407\n",
       "sexo             504407\n",
       "edad             504407\n",
       "secundario       504407\n",
       "terciario        504407\n",
       "universitario    504407\n",
       "Posgrado         504407\n",
       "dtype: int64"
      ]
     },
     "execution_count": 114,
     "metadata": {},
     "output_type": "execute_result"
    }
   ],
   "source": [
    "m_postulantes.count()"
   ]
  },
  {
   "cell_type": "code",
   "execution_count": 115,
   "metadata": {},
   "outputs": [],
   "source": [
    "merged = pd.merge(m_postulaciones, m_postulantes, \\\n",
    "                  on = 'idpostulante', how = 'inner')"
   ]
  },
  {
   "cell_type": "code",
   "execution_count": 116,
   "metadata": {},
   "outputs": [
    {
     "data": {
      "text/plain": [
       "idaviso          8311264\n",
       "idpostulante     8311264\n",
       "sexo             8311264\n",
       "edad             8311264\n",
       "secundario       8311264\n",
       "terciario        8311264\n",
       "universitario    8311264\n",
       "Posgrado         8311264\n",
       "dtype: int64"
      ]
     },
     "execution_count": 116,
     "metadata": {},
     "output_type": "execute_result"
    }
   ],
   "source": [
    "merged.count()"
   ]
  },
  {
   "cell_type": "code",
   "execution_count": 117,
   "metadata": {},
   "outputs": [
    {
     "data": {
      "text/plain": [
       "idaviso                 25288\n",
       "nombre_zona             25288\n",
       "tipo_de_trabajo         25288\n",
       "nivel_laboral           25288\n",
       "nombre_area             25288\n",
       "denominacion_empresa    25288\n",
       "dtype: int64"
      ]
     },
     "execution_count": 117,
     "metadata": {},
     "output_type": "execute_result"
    }
   ],
   "source": [
    "avisos_encoding.count()"
   ]
  },
  {
   "cell_type": "code",
   "execution_count": 118,
   "metadata": {},
   "outputs": [
    {
     "data": {
      "text/plain": [
       "idaviso                 7742942\n",
       "idpostulante            7742942\n",
       "sexo                    7742942\n",
       "edad                    7742942\n",
       "secundario              7742942\n",
       "terciario               7742942\n",
       "universitario           7742942\n",
       "Posgrado                7742942\n",
       "nombre_zona             7742942\n",
       "tipo_de_trabajo         7742942\n",
       "nivel_laboral           7742942\n",
       "nombre_area             7742942\n",
       "denominacion_empresa    7742942\n",
       "dtype: int64"
      ]
     },
     "execution_count": 118,
     "metadata": {},
     "output_type": "execute_result"
    }
   ],
   "source": [
    "merged2 = pd.merge(merged, avisos_encoding, on = 'idaviso', how = 'inner')\n",
    "merged2.count()"
   ]
  },
  {
   "cell_type": "code",
   "execution_count": 119,
   "metadata": {},
   "outputs": [
    {
     "data": {
      "text/html": [
       "<div>\n",
       "<style scoped>\n",
       "    .dataframe tbody tr th:only-of-type {\n",
       "        vertical-align: middle;\n",
       "    }\n",
       "\n",
       "    .dataframe tbody tr th {\n",
       "        vertical-align: top;\n",
       "    }\n",
       "\n",
       "    .dataframe thead th {\n",
       "        text-align: right;\n",
       "    }\n",
       "</style>\n",
       "<table border=\"1\" class=\"dataframe\">\n",
       "  <thead>\n",
       "    <tr style=\"text-align: right;\">\n",
       "      <th></th>\n",
       "      <th>idaviso</th>\n",
       "      <th>idpostulante</th>\n",
       "      <th>sexo</th>\n",
       "      <th>edad</th>\n",
       "      <th>secundario</th>\n",
       "      <th>terciario</th>\n",
       "      <th>universitario</th>\n",
       "      <th>Posgrado</th>\n",
       "      <th>nombre_zona</th>\n",
       "      <th>tipo_de_trabajo</th>\n",
       "      <th>nivel_laboral</th>\n",
       "      <th>nombre_area</th>\n",
       "      <th>denominacion_empresa</th>\n",
       "    </tr>\n",
       "  </thead>\n",
       "  <tbody>\n",
       "    <tr>\n",
       "      <th>0</th>\n",
       "      <td>1112257047</td>\n",
       "      <td>NM5M</td>\n",
       "      <td>0</td>\n",
       "      <td>47</td>\n",
       "      <td>1</td>\n",
       "      <td>0</td>\n",
       "      <td>0</td>\n",
       "      <td>0</td>\n",
       "      <td>0</td>\n",
       "      <td>0</td>\n",
       "      <td>0</td>\n",
       "      <td>3</td>\n",
       "      <td>1368</td>\n",
       "    </tr>\n",
       "    <tr>\n",
       "      <th>1</th>\n",
       "      <td>1112257047</td>\n",
       "      <td>1kJqGb</td>\n",
       "      <td>0</td>\n",
       "      <td>34</td>\n",
       "      <td>0</td>\n",
       "      <td>1</td>\n",
       "      <td>0</td>\n",
       "      <td>0</td>\n",
       "      <td>0</td>\n",
       "      <td>0</td>\n",
       "      <td>0</td>\n",
       "      <td>3</td>\n",
       "      <td>1368</td>\n",
       "    </tr>\n",
       "    <tr>\n",
       "      <th>2</th>\n",
       "      <td>1112257047</td>\n",
       "      <td>eOE9Rr</td>\n",
       "      <td>0</td>\n",
       "      <td>39</td>\n",
       "      <td>1</td>\n",
       "      <td>0</td>\n",
       "      <td>0</td>\n",
       "      <td>0</td>\n",
       "      <td>0</td>\n",
       "      <td>0</td>\n",
       "      <td>0</td>\n",
       "      <td>3</td>\n",
       "      <td>1368</td>\n",
       "    </tr>\n",
       "    <tr>\n",
       "      <th>3</th>\n",
       "      <td>1112257047</td>\n",
       "      <td>Zrx8Xz</td>\n",
       "      <td>0</td>\n",
       "      <td>39</td>\n",
       "      <td>0</td>\n",
       "      <td>1</td>\n",
       "      <td>0</td>\n",
       "      <td>0</td>\n",
       "      <td>0</td>\n",
       "      <td>0</td>\n",
       "      <td>0</td>\n",
       "      <td>3</td>\n",
       "      <td>1368</td>\n",
       "    </tr>\n",
       "    <tr>\n",
       "      <th>4</th>\n",
       "      <td>1112257047</td>\n",
       "      <td>ZrKNQY</td>\n",
       "      <td>0</td>\n",
       "      <td>33</td>\n",
       "      <td>0</td>\n",
       "      <td>0</td>\n",
       "      <td>1</td>\n",
       "      <td>0</td>\n",
       "      <td>0</td>\n",
       "      <td>0</td>\n",
       "      <td>0</td>\n",
       "      <td>3</td>\n",
       "      <td>1368</td>\n",
       "    </tr>\n",
       "  </tbody>\n",
       "</table>\n",
       "</div>"
      ],
      "text/plain": [
       "      idaviso idpostulante  sexo  edad  secundario  terciario  universitario  \\\n",
       "0  1112257047         NM5M     0    47           1          0              0   \n",
       "1  1112257047       1kJqGb     0    34           0          1              0   \n",
       "2  1112257047       eOE9Rr     0    39           1          0              0   \n",
       "3  1112257047       Zrx8Xz     0    39           0          1              0   \n",
       "4  1112257047       ZrKNQY     0    33           0          0              1   \n",
       "\n",
       "   Posgrado  nombre_zona  tipo_de_trabajo  nivel_laboral  nombre_area  \\\n",
       "0         0            0                0              0            3   \n",
       "1         0            0                0              0            3   \n",
       "2         0            0                0              0            3   \n",
       "3         0            0                0              0            3   \n",
       "4         0            0                0              0            3   \n",
       "\n",
       "   denominacion_empresa  \n",
       "0                  1368  \n",
       "1                  1368  \n",
       "2                  1368  \n",
       "3                  1368  \n",
       "4                  1368  "
      ]
     },
     "execution_count": 119,
     "metadata": {},
     "output_type": "execute_result"
    }
   ],
   "source": [
    "merged2.head()"
   ]
  },
  {
   "cell_type": "code",
   "execution_count": 120,
   "metadata": {},
   "outputs": [
    {
     "data": {
      "text/plain": [
       "idaviso                 7742942\n",
       "idpostulante            7742942\n",
       "sexo                    7742942\n",
       "edad                    7742942\n",
       "secundario              7742942\n",
       "terciario               7742942\n",
       "universitario           7742942\n",
       "Posgrado                7742942\n",
       "nombre_zona             7742942\n",
       "tipo_de_trabajo         7742942\n",
       "nivel_laboral           7742942\n",
       "nombre_area             7742942\n",
       "denominacion_empresa    7742942\n",
       "dtype: int64"
      ]
     },
     "execution_count": 120,
     "metadata": {},
     "output_type": "execute_result"
    }
   ],
   "source": [
    "merged2.drop_duplicates()\n",
    "merged2.count()"
   ]
  },
  {
   "cell_type": "code",
   "execution_count": null,
   "metadata": {},
   "outputs": [],
   "source": [
    "merged2.to_csv('./data/merged_encoding_03.csv', encoding='utf-8')\n",
    "avisos_encoding.to_csv('./data/avisos_encoding_03.csv', encoding='utf-8')\n",
    "m_postulantes.to_csv('./data/postulantes_encoding_03.csv', encoding='utf-8')"
   ]
  }
 ],
 "metadata": {
  "kernelspec": {
   "display_name": "Python 3",
   "language": "python",
   "name": "python3"
  },
  "language_info": {
   "codemirror_mode": {
    "name": "ipython",
    "version": 3
   },
   "file_extension": ".py",
   "mimetype": "text/x-python",
   "name": "python",
   "nbconvert_exporter": "python",
   "pygments_lexer": "ipython3",
   "version": "3.6.5"
  }
 },
 "nbformat": 4,
 "nbformat_minor": 2
}
