{
 "cells": [
  {
   "cell_type": "code",
   "execution_count": null,
   "metadata": {},
   "outputs": [],
   "source": [
    "import pandas as pd\n",
    "import numpy as np\n",
    "import datetime\n",
    "import sklearn"
   ]
  },
  {
   "cell_type": "code",
   "execution_count": null,
   "metadata": {},
   "outputs": [],
   "source": [
    "# Postulantes\n",
    "postulantes = pd.read_csv('./data/postulantes_encoding_02.csv',\\\n",
    "                          low_memory=False)\n",
    "\n",
    "# Avisos\n",
    "avisos = pd.read_csv('./data/avisos_encoding_02.csv', \\\n",
    "                     low_memory=False)\n",
    "\n",
    "# Transacciones\n",
    "merged = pd.read_csv('./data/merged_encoding_02.csv', \\\n",
    "                     low_memory=False)"
   ]
  },
  {
   "cell_type": "code",
   "execution_count": null,
   "metadata": {},
   "outputs": [],
   "source": [
    "postulantes.count()"
   ]
  },
  {
   "cell_type": "code",
   "execution_count": null,
   "metadata": {},
   "outputs": [],
   "source": [
    "del postulantes['Unnamed: 0']"
   ]
  },
  {
   "cell_type": "code",
   "execution_count": null,
   "metadata": {},
   "outputs": [],
   "source": [
    "postulantes.head()"
   ]
  },
  {
   "cell_type": "code",
   "execution_count": null,
   "metadata": {},
   "outputs": [],
   "source": [
    "avisos.count()"
   ]
  },
  {
   "cell_type": "code",
   "execution_count": null,
   "metadata": {},
   "outputs": [],
   "source": [
    "del avisos['Unnamed: 0']\n",
    "avisos.head()"
   ]
  },
  {
   "cell_type": "code",
   "execution_count": 8,
   "metadata": {},
   "outputs": [],
   "source": [
    "avisos_g = avisos\n",
    "while len(avisos_g) < 504407:\n",
    "    avisos_g = pd.concat([avisos_g, avisos])"
   ]
  },
  {
   "cell_type": "code",
   "execution_count": 9,
   "metadata": {},
   "outputs": [
    {
     "data": {
      "text/plain": [
       "idaviso                 505760\n",
       "nombre_zona             505760\n",
       "tipo_de_trabajo         505760\n",
       "nivel_laboral           505760\n",
       "nombre_area             505760\n",
       "denominacion_empresa    505760\n",
       "dtype: int64"
      ]
     },
     "execution_count": 9,
     "metadata": {},
     "output_type": "execute_result"
    }
   ],
   "source": [
    "avisos_g.count()"
   ]
  },
  {
   "cell_type": "code",
   "execution_count": 10,
   "metadata": {},
   "outputs": [
    {
     "data": {
      "text/plain": [
       "idaviso                 504407\n",
       "nombre_zona             504407\n",
       "tipo_de_trabajo         504407\n",
       "nivel_laboral           504407\n",
       "nombre_area             504407\n",
       "denominacion_empresa    504407\n",
       "dtype: int64"
      ]
     },
     "execution_count": 10,
     "metadata": {},
     "output_type": "execute_result"
    }
   ],
   "source": [
    "avisos_g = avisos_g[:504407]\n",
    "avisos_g = sklearn.utils.shuffle(avisos_g)\n",
    "avisos_g.count()"
   ]
  },
  {
   "cell_type": "code",
   "execution_count": 11,
   "metadata": {},
   "outputs": [],
   "source": [
    "avisos_g = avisos_g.reset_index().drop('index',axis=1)"
   ]
  },
  {
   "cell_type": "code",
   "execution_count": 12,
   "metadata": {},
   "outputs": [
    {
     "data": {
      "text/html": [
       "<div>\n",
       "<style scoped>\n",
       "    .dataframe tbody tr th:only-of-type {\n",
       "        vertical-align: middle;\n",
       "    }\n",
       "\n",
       "    .dataframe tbody tr th {\n",
       "        vertical-align: top;\n",
       "    }\n",
       "\n",
       "    .dataframe thead th {\n",
       "        text-align: right;\n",
       "    }\n",
       "</style>\n",
       "<table border=\"1\" class=\"dataframe\">\n",
       "  <thead>\n",
       "    <tr style=\"text-align: right;\">\n",
       "      <th></th>\n",
       "      <th>idpostulante</th>\n",
       "      <th>sexo</th>\n",
       "      <th>edad</th>\n",
       "      <th>estado</th>\n",
       "      <th>nivel_alcanzado</th>\n",
       "      <th>idaviso</th>\n",
       "      <th>nombre_zona</th>\n",
       "      <th>tipo_de_trabajo</th>\n",
       "      <th>nivel_laboral</th>\n",
       "      <th>nombre_area</th>\n",
       "      <th>denominacion_empresa</th>\n",
       "    </tr>\n",
       "  </thead>\n",
       "  <tbody>\n",
       "    <tr>\n",
       "      <th>0</th>\n",
       "      <td>NM5M</td>\n",
       "      <td>1</td>\n",
       "      <td>47.0</td>\n",
       "      <td>1</td>\n",
       "      <td>0.0</td>\n",
       "      <td>1112417729</td>\n",
       "      <td>1</td>\n",
       "      <td>1</td>\n",
       "      <td>1</td>\n",
       "      <td>0</td>\n",
       "      <td>2799</td>\n",
       "    </tr>\n",
       "    <tr>\n",
       "      <th>1</th>\n",
       "      <td>5awk</td>\n",
       "      <td>1</td>\n",
       "      <td>55.0</td>\n",
       "      <td>1</td>\n",
       "      <td>0.0</td>\n",
       "      <td>1112355585</td>\n",
       "      <td>1</td>\n",
       "      <td>1</td>\n",
       "      <td>0</td>\n",
       "      <td>0</td>\n",
       "      <td>2926</td>\n",
       "    </tr>\n",
       "    <tr>\n",
       "      <th>2</th>\n",
       "      <td>ZaO5</td>\n",
       "      <td>1</td>\n",
       "      <td>39.0</td>\n",
       "      <td>1</td>\n",
       "      <td>0.0</td>\n",
       "      <td>1111671997</td>\n",
       "      <td>1</td>\n",
       "      <td>0</td>\n",
       "      <td>0</td>\n",
       "      <td>0</td>\n",
       "      <td>2761</td>\n",
       "    </tr>\n",
       "    <tr>\n",
       "      <th>3</th>\n",
       "      <td>NdJl</td>\n",
       "      <td>2</td>\n",
       "      <td>49.0</td>\n",
       "      <td>0</td>\n",
       "      <td>1.0</td>\n",
       "      <td>1112355102</td>\n",
       "      <td>1</td>\n",
       "      <td>1</td>\n",
       "      <td>0</td>\n",
       "      <td>3</td>\n",
       "      <td>346</td>\n",
       "    </tr>\n",
       "    <tr>\n",
       "      <th>4</th>\n",
       "      <td>eo2p</td>\n",
       "      <td>2</td>\n",
       "      <td>37.0</td>\n",
       "      <td>1</td>\n",
       "      <td>1.0</td>\n",
       "      <td>1112344509</td>\n",
       "      <td>1</td>\n",
       "      <td>1</td>\n",
       "      <td>1</td>\n",
       "      <td>0</td>\n",
       "      <td>312</td>\n",
       "    </tr>\n",
       "  </tbody>\n",
       "</table>\n",
       "</div>"
      ],
      "text/plain": [
       "  idpostulante  sexo  edad  estado  nivel_alcanzado     idaviso  nombre_zona  \\\n",
       "0         NM5M     1  47.0       1              0.0  1112417729            1   \n",
       "1         5awk     1  55.0       1              0.0  1112355585            1   \n",
       "2         ZaO5     1  39.0       1              0.0  1111671997            1   \n",
       "3         NdJl     2  49.0       0              1.0  1112355102            1   \n",
       "4         eo2p     2  37.0       1              1.0  1112344509            1   \n",
       "\n",
       "   tipo_de_trabajo  nivel_laboral  nombre_area  denominacion_empresa  \n",
       "0                1              1            0                  2799  \n",
       "1                1              0            0                  2926  \n",
       "2                0              0            0                  2761  \n",
       "3                1              0            3                   346  \n",
       "4                1              1            0                   312  "
      ]
     },
     "execution_count": 12,
     "metadata": {},
     "output_type": "execute_result"
    }
   ],
   "source": [
    "a_y_p = pd.concat([postulantes, avisos_g], axis = 1)\n",
    "a_y_p.head()"
   ]
  },
  {
   "cell_type": "code",
   "execution_count": 13,
   "metadata": {},
   "outputs": [
    {
     "data": {
      "text/html": [
       "<div>\n",
       "<style scoped>\n",
       "    .dataframe tbody tr th:only-of-type {\n",
       "        vertical-align: middle;\n",
       "    }\n",
       "\n",
       "    .dataframe tbody tr th {\n",
       "        vertical-align: top;\n",
       "    }\n",
       "\n",
       "    .dataframe thead th {\n",
       "        text-align: right;\n",
       "    }\n",
       "</style>\n",
       "<table border=\"1\" class=\"dataframe\">\n",
       "  <thead>\n",
       "    <tr style=\"text-align: right;\">\n",
       "      <th></th>\n",
       "      <th>idaviso</th>\n",
       "      <th>idpostulante</th>\n",
       "      <th>sexo</th>\n",
       "      <th>edad</th>\n",
       "      <th>estado</th>\n",
       "      <th>nivel_alcanzado</th>\n",
       "      <th>nombre_zona</th>\n",
       "      <th>tipo_de_trabajo</th>\n",
       "      <th>nivel_laboral</th>\n",
       "      <th>nombre_area</th>\n",
       "      <th>denominacion_empresa</th>\n",
       "    </tr>\n",
       "  </thead>\n",
       "  <tbody>\n",
       "    <tr>\n",
       "      <th>0</th>\n",
       "      <td>1112257047</td>\n",
       "      <td>NM5M</td>\n",
       "      <td>1</td>\n",
       "      <td>47.0</td>\n",
       "      <td>1</td>\n",
       "      <td>0.0</td>\n",
       "      <td>1</td>\n",
       "      <td>0</td>\n",
       "      <td>0</td>\n",
       "      <td>3</td>\n",
       "      <td>1369</td>\n",
       "    </tr>\n",
       "    <tr>\n",
       "      <th>1</th>\n",
       "      <td>1112257047</td>\n",
       "      <td>1kJqGb</td>\n",
       "      <td>1</td>\n",
       "      <td>34.0</td>\n",
       "      <td>1</td>\n",
       "      <td>0.0</td>\n",
       "      <td>1</td>\n",
       "      <td>0</td>\n",
       "      <td>0</td>\n",
       "      <td>3</td>\n",
       "      <td>1369</td>\n",
       "    </tr>\n",
       "    <tr>\n",
       "      <th>2</th>\n",
       "      <td>1112257047</td>\n",
       "      <td>eOE9Rr</td>\n",
       "      <td>1</td>\n",
       "      <td>39.0</td>\n",
       "      <td>0</td>\n",
       "      <td>0.0</td>\n",
       "      <td>1</td>\n",
       "      <td>0</td>\n",
       "      <td>0</td>\n",
       "      <td>3</td>\n",
       "      <td>1369</td>\n",
       "    </tr>\n",
       "    <tr>\n",
       "      <th>3</th>\n",
       "      <td>1112257047</td>\n",
       "      <td>Zrx8Xz</td>\n",
       "      <td>1</td>\n",
       "      <td>39.0</td>\n",
       "      <td>1</td>\n",
       "      <td>0.0</td>\n",
       "      <td>1</td>\n",
       "      <td>0</td>\n",
       "      <td>0</td>\n",
       "      <td>3</td>\n",
       "      <td>1369</td>\n",
       "    </tr>\n",
       "    <tr>\n",
       "      <th>4</th>\n",
       "      <td>1112257047</td>\n",
       "      <td>ZrKNQY</td>\n",
       "      <td>1</td>\n",
       "      <td>32.0</td>\n",
       "      <td>1</td>\n",
       "      <td>0.0</td>\n",
       "      <td>1</td>\n",
       "      <td>0</td>\n",
       "      <td>0</td>\n",
       "      <td>3</td>\n",
       "      <td>1369</td>\n",
       "    </tr>\n",
       "  </tbody>\n",
       "</table>\n",
       "</div>"
      ],
      "text/plain": [
       "      idaviso idpostulante  sexo  edad  estado  nivel_alcanzado  nombre_zona  \\\n",
       "0  1112257047         NM5M     1  47.0       1              0.0            1   \n",
       "1  1112257047       1kJqGb     1  34.0       1              0.0            1   \n",
       "2  1112257047       eOE9Rr     1  39.0       0              0.0            1   \n",
       "3  1112257047       Zrx8Xz     1  39.0       1              0.0            1   \n",
       "4  1112257047       ZrKNQY     1  32.0       1              0.0            1   \n",
       "\n",
       "   tipo_de_trabajo  nivel_laboral  nombre_area  denominacion_empresa  \n",
       "0                0              0            3                  1369  \n",
       "1                0              0            3                  1369  \n",
       "2                0              0            3                  1369  \n",
       "3                0              0            3                  1369  \n",
       "4                0              0            3                  1369  "
      ]
     },
     "execution_count": 13,
     "metadata": {},
     "output_type": "execute_result"
    }
   ],
   "source": [
    "del merged['Unnamed: 0']\n",
    "merged.head()"
   ]
  },
  {
   "cell_type": "markdown",
   "metadata": {},
   "source": [
    "Excluimos las combinaciones de avisos y postulantes que estén en el data frame de postulaciones, de manera tal que nos queden las \"no postulaciones\"."
   ]
  },
  {
   "cell_type": "code",
   "execution_count": 14,
   "metadata": {},
   "outputs": [
    {
     "data": {
      "text/plain": [
       "idpostulante            504121\n",
       "sexo                    504121\n",
       "edad                    504121\n",
       "estado                  504121\n",
       "nivel_alcanzado         504121\n",
       "idaviso                 504121\n",
       "nombre_zona             504121\n",
       "tipo_de_trabajo         504121\n",
       "nivel_laboral           504121\n",
       "nombre_area             504121\n",
       "denominacion_empresa    504121\n",
       "dtype: int64"
      ]
     },
     "execution_count": 14,
     "metadata": {},
     "output_type": "execute_result"
    }
   ],
   "source": [
    "a_y_p = a_y_p.drop(pd.merge(a_y_p,merged,\\\n",
    "    how='inner',on=['idpostulante','idaviso']).index,axis=0)\n",
    "a_y_p.count()"
   ]
  },
  {
   "cell_type": "code",
   "execution_count": 15,
   "metadata": {},
   "outputs": [
    {
     "data": {
      "text/html": [
       "<div>\n",
       "<style scoped>\n",
       "    .dataframe tbody tr th:only-of-type {\n",
       "        vertical-align: middle;\n",
       "    }\n",
       "\n",
       "    .dataframe tbody tr th {\n",
       "        vertical-align: top;\n",
       "    }\n",
       "\n",
       "    .dataframe thead th {\n",
       "        text-align: right;\n",
       "    }\n",
       "</style>\n",
       "<table border=\"1\" class=\"dataframe\">\n",
       "  <thead>\n",
       "    <tr style=\"text-align: right;\">\n",
       "      <th></th>\n",
       "      <th>idpostulante</th>\n",
       "      <th>sexo</th>\n",
       "      <th>edad</th>\n",
       "      <th>estado</th>\n",
       "      <th>nivel_alcanzado</th>\n",
       "      <th>idaviso</th>\n",
       "      <th>nombre_zona</th>\n",
       "      <th>tipo_de_trabajo</th>\n",
       "      <th>nivel_laboral</th>\n",
       "      <th>nombre_area</th>\n",
       "      <th>denominacion_empresa</th>\n",
       "      <th>sepostulo</th>\n",
       "    </tr>\n",
       "  </thead>\n",
       "  <tbody>\n",
       "    <tr>\n",
       "      <th>286</th>\n",
       "      <td>85AMz</td>\n",
       "      <td>2</td>\n",
       "      <td>38.0</td>\n",
       "      <td>0</td>\n",
       "      <td>0.0</td>\n",
       "      <td>1111371931</td>\n",
       "      <td>1</td>\n",
       "      <td>1</td>\n",
       "      <td>0</td>\n",
       "      <td>7</td>\n",
       "      <td>3962</td>\n",
       "      <td>0</td>\n",
       "    </tr>\n",
       "    <tr>\n",
       "      <th>287</th>\n",
       "      <td>aXm1J</td>\n",
       "      <td>2</td>\n",
       "      <td>66.0</td>\n",
       "      <td>0</td>\n",
       "      <td>0.0</td>\n",
       "      <td>1111374387</td>\n",
       "      <td>1</td>\n",
       "      <td>1</td>\n",
       "      <td>0</td>\n",
       "      <td>0</td>\n",
       "      <td>529</td>\n",
       "      <td>0</td>\n",
       "    </tr>\n",
       "  </tbody>\n",
       "</table>\n",
       "</div>"
      ],
      "text/plain": [
       "    idpostulante  sexo  edad  estado  nivel_alcanzado     idaviso  \\\n",
       "286        85AMz     2  38.0       0              0.0  1111371931   \n",
       "287        aXm1J     2  66.0       0              0.0  1111374387   \n",
       "\n",
       "     nombre_zona  tipo_de_trabajo  nivel_laboral  nombre_area  \\\n",
       "286            1                1              0            7   \n",
       "287            1                1              0            0   \n",
       "\n",
       "     denominacion_empresa  sepostulo  \n",
       "286                  3962          0  \n",
       "287                   529          0  "
      ]
     },
     "execution_count": 15,
     "metadata": {},
     "output_type": "execute_result"
    }
   ],
   "source": [
    "a_y_p['sepostulo'] = 0\n",
    "a_y_p.head(2)"
   ]
  },
  {
   "cell_type": "code",
   "execution_count": 16,
   "metadata": {},
   "outputs": [
    {
     "data": {
      "text/plain": [
       "idaviso                 7742942\n",
       "idpostulante            7742942\n",
       "sexo                    7742942\n",
       "edad                    7742942\n",
       "estado                  7742942\n",
       "nivel_alcanzado         7742942\n",
       "nombre_zona             7742942\n",
       "tipo_de_trabajo         7742942\n",
       "nivel_laboral           7742942\n",
       "nombre_area             7742942\n",
       "denominacion_empresa    7742942\n",
       "sepostulo               7742942\n",
       "dtype: int64"
      ]
     },
     "execution_count": 16,
     "metadata": {},
     "output_type": "execute_result"
    }
   ],
   "source": [
    "merged['sepostulo'] = 1\n",
    "merged.count()"
   ]
  },
  {
   "cell_type": "code",
   "execution_count": 17,
   "metadata": {},
   "outputs": [
    {
     "data": {
      "text/plain": [
       "denominacion_empresa    8247063\n",
       "edad                    8247063\n",
       "estado                  8247063\n",
       "idaviso                 8247063\n",
       "idpostulante            8247063\n",
       "nivel_alcanzado         8247063\n",
       "nivel_laboral           8247063\n",
       "nombre_area             8247063\n",
       "nombre_zona             8247063\n",
       "sepostulo               8247063\n",
       "sexo                    8247063\n",
       "tipo_de_trabajo         8247063\n",
       "dtype: int64"
      ]
     },
     "execution_count": 17,
     "metadata": {},
     "output_type": "execute_result"
    }
   ],
   "source": [
    "train_data = pd.concat([a_y_p, merged])\n",
    "train_data.count()"
   ]
  },
  {
   "cell_type": "code",
   "execution_count": 18,
   "metadata": {},
   "outputs": [
    {
     "data": {
      "text/html": [
       "<div>\n",
       "<style scoped>\n",
       "    .dataframe tbody tr th:only-of-type {\n",
       "        vertical-align: middle;\n",
       "    }\n",
       "\n",
       "    .dataframe tbody tr th {\n",
       "        vertical-align: top;\n",
       "    }\n",
       "\n",
       "    .dataframe thead th {\n",
       "        text-align: right;\n",
       "    }\n",
       "</style>\n",
       "<table border=\"1\" class=\"dataframe\">\n",
       "  <thead>\n",
       "    <tr style=\"text-align: right;\">\n",
       "      <th></th>\n",
       "      <th>denominacion_empresa</th>\n",
       "      <th>edad</th>\n",
       "      <th>estado</th>\n",
       "      <th>idaviso</th>\n",
       "      <th>idpostulante</th>\n",
       "      <th>nivel_alcanzado</th>\n",
       "      <th>nivel_laboral</th>\n",
       "      <th>nombre_area</th>\n",
       "      <th>nombre_zona</th>\n",
       "      <th>sepostulo</th>\n",
       "      <th>sexo</th>\n",
       "      <th>tipo_de_trabajo</th>\n",
       "    </tr>\n",
       "  </thead>\n",
       "  <tbody>\n",
       "    <tr>\n",
       "      <th>286</th>\n",
       "      <td>3962</td>\n",
       "      <td>38.0</td>\n",
       "      <td>0</td>\n",
       "      <td>1111371931</td>\n",
       "      <td>85AMz</td>\n",
       "      <td>0.0</td>\n",
       "      <td>0</td>\n",
       "      <td>7</td>\n",
       "      <td>1</td>\n",
       "      <td>0</td>\n",
       "      <td>2</td>\n",
       "      <td>1</td>\n",
       "    </tr>\n",
       "    <tr>\n",
       "      <th>287</th>\n",
       "      <td>529</td>\n",
       "      <td>66.0</td>\n",
       "      <td>0</td>\n",
       "      <td>1111374387</td>\n",
       "      <td>aXm1J</td>\n",
       "      <td>0.0</td>\n",
       "      <td>0</td>\n",
       "      <td>0</td>\n",
       "      <td>1</td>\n",
       "      <td>0</td>\n",
       "      <td>2</td>\n",
       "      <td>1</td>\n",
       "    </tr>\n",
       "    <tr>\n",
       "      <th>288</th>\n",
       "      <td>2400</td>\n",
       "      <td>38.0</td>\n",
       "      <td>0</td>\n",
       "      <td>1112456302</td>\n",
       "      <td>6VEEO</td>\n",
       "      <td>1.0</td>\n",
       "      <td>0</td>\n",
       "      <td>3</td>\n",
       "      <td>1</td>\n",
       "      <td>0</td>\n",
       "      <td>2</td>\n",
       "      <td>1</td>\n",
       "    </tr>\n",
       "    <tr>\n",
       "      <th>289</th>\n",
       "      <td>3755</td>\n",
       "      <td>42.0</td>\n",
       "      <td>1</td>\n",
       "      <td>1112022845</td>\n",
       "      <td>ezqvj</td>\n",
       "      <td>1.0</td>\n",
       "      <td>0</td>\n",
       "      <td>2</td>\n",
       "      <td>1</td>\n",
       "      <td>0</td>\n",
       "      <td>2</td>\n",
       "      <td>1</td>\n",
       "    </tr>\n",
       "    <tr>\n",
       "      <th>290</th>\n",
       "      <td>513</td>\n",
       "      <td>35.0</td>\n",
       "      <td>0</td>\n",
       "      <td>1112456289</td>\n",
       "      <td>aXAaD</td>\n",
       "      <td>1.0</td>\n",
       "      <td>0</td>\n",
       "      <td>5</td>\n",
       "      <td>1</td>\n",
       "      <td>0</td>\n",
       "      <td>1</td>\n",
       "      <td>1</td>\n",
       "    </tr>\n",
       "  </tbody>\n",
       "</table>\n",
       "</div>"
      ],
      "text/plain": [
       "     denominacion_empresa  edad  estado     idaviso idpostulante  \\\n",
       "286                  3962  38.0       0  1111371931        85AMz   \n",
       "287                   529  66.0       0  1111374387        aXm1J   \n",
       "288                  2400  38.0       0  1112456302        6VEEO   \n",
       "289                  3755  42.0       1  1112022845        ezqvj   \n",
       "290                   513  35.0       0  1112456289        aXAaD   \n",
       "\n",
       "     nivel_alcanzado  nivel_laboral  nombre_area  nombre_zona  sepostulo  \\\n",
       "286              0.0              0            7            1          0   \n",
       "287              0.0              0            0            1          0   \n",
       "288              1.0              0            3            1          0   \n",
       "289              1.0              0            2            1          0   \n",
       "290              1.0              0            5            1          0   \n",
       "\n",
       "     sexo  tipo_de_trabajo  \n",
       "286     2                1  \n",
       "287     2                1  \n",
       "288     2                1  \n",
       "289     2                1  \n",
       "290     1                1  "
      ]
     },
     "execution_count": 18,
     "metadata": {},
     "output_type": "execute_result"
    }
   ],
   "source": [
    "train_data.head()"
   ]
  },
  {
   "cell_type": "code",
   "execution_count": 19,
   "metadata": {},
   "outputs": [],
   "source": [
    "from sklearn.model_selection import train_test_split\n",
    "from sklearn.metrics import accuracy_score\n",
    "from sklearn import preprocessing\n",
    "from sklearn.preprocessing import LabelEncoder\n",
    "from collections import defaultdict"
   ]
  },
  {
   "cell_type": "code",
   "execution_count": 20,
   "metadata": {},
   "outputs": [],
   "source": [
    "X = train_data[['denominacion_empresa','edad','estado','nivel_alcanzado'\\\n",
    "                ,'nivel_laboral','nombre_area','nombre_zona','sexo','tipo_de_trabajo']]\n",
    "Y = train_data['sepostulo']"
   ]
  },
  {
   "cell_type": "code",
   "execution_count": 21,
   "metadata": {},
   "outputs": [],
   "source": [
    "X_train, X_test, y_train, y_test = \\\n",
    "    train_test_split(X, Y, test_size=0.10, random_state=7506)"
   ]
  },
  {
   "cell_type": "code",
   "execution_count": 22,
   "metadata": {},
   "outputs": [
    {
     "name": "stdout",
     "output_type": "stream",
     "text": [
      "Tamaño de X:\t\t 8247063 \n",
      "Tamaño de X_train:\t 7422356 \n",
      "Tamaño de X_test:\t 824707 \n",
      "\n",
      "Tamaño de y:\t\t 8247063 \n",
      "Tamaño de y_train:\t 7422356 \n",
      "Tamaño de y_test:\t 824707\n"
     ]
    }
   ],
   "source": [
    "print(\"Tamaño de X:\\t\\t\", len(X), \"\\nTamaño de X_train:\\t\", \\\n",
    "      len(X_train), \"\\nTamaño de X_test:\\t\", len(X_test), \\\n",
    "      \"\\n\\nTamaño de y:\\t\\t\", len(Y), \"\\nTamaño de y_train:\\t\",\\\n",
    "      len(y_train), \"\\nTamaño de y_test:\\t\", len(y_test))"
   ]
  },
  {
   "cell_type": "code",
   "execution_count": 23,
   "metadata": {},
   "outputs": [],
   "source": [
    "import winsound\n",
    "def play_beep():\n",
    "    duration = 500  # millisecond\n",
    "    freq = 480  # Hz\n",
    "    winsound.Beep(freq, duration)\n",
    "play_beep()"
   ]
  },
  {
   "cell_type": "code",
   "execution_count": null,
   "metadata": {},
   "outputs": [],
   "source": [
    "# SVC\n",
    "from sklearn.svm import SVC\n",
    "\n",
    "svc = SVC(kernel=\"linear\", C=0.025)\n",
    "svc.fit(X_train, y_train)\n",
    "play_beep()"
   ]
  },
  {
   "cell_type": "code",
   "execution_count": null,
   "metadata": {},
   "outputs": [],
   "source": [
    "# Probamos la precisión con el set de prueba\n",
    "precision = round(svc.score(X_test, y_test) * 100, 2)\n",
    "play_beep()\n",
    "print(precision)"
   ]
  },
  {
   "cell_type": "code",
   "execution_count": null,
   "metadata": {},
   "outputs": [],
   "source": [
    "test_final = pd.read_csv('./data/test_final_100k.csv', low_memory=False)\n",
    "test_final.head()"
   ]
  },
  {
   "cell_type": "code",
   "execution_count": null,
   "metadata": {},
   "outputs": [],
   "source": [
    "a_predecir = pd.merge(test_final, postulantes, on = 'idpostulante', how = 'left')\n",
    "a_predecir.count()"
   ]
  },
  {
   "cell_type": "code",
   "execution_count": null,
   "metadata": {},
   "outputs": [],
   "source": [
    "a_predecir = pd.merge(a_predecir, avisos, on = 'idaviso', how = 'left')\n",
    "a_predecir.count()"
   ]
  },
  {
   "cell_type": "code",
   "execution_count": null,
   "metadata": {},
   "outputs": [],
   "source": [
    "a_predecir.head()"
   ]
  },
  {
   "cell_type": "code",
   "execution_count": null,
   "metadata": {},
   "outputs": [],
   "source": [
    "del a_predecir['id']\n",
    "del a_predecir['idaviso']\n",
    "del a_predecir['idpostulante']\n",
    "array_a_predecir = a_predecir.values"
   ]
  },
  {
   "cell_type": "code",
   "execution_count": null,
   "metadata": {},
   "outputs": [],
   "source": [
    "probabilidades = []\n",
    "predicciones = []\n",
    "for x in array_a_predecir:\n",
    "    #y_pred = lre.predict([x])\n",
    "    #predicciones.append(y_pred)\n",
    "    #print(\"Prediccion: \" + str(y_pred))\n",
    "    y_proba = svc.predict_proba([x])\n",
    "    #print(\"Probabilidad de Acierto: \" + str(round(y_proba[0][y_pred][0]* 100, 2))+\"%\")\n",
    "    probabilidades.append(y_proba)\n",
    "\n",
    "prob_post = []\n",
    "for p in probabilidades:\n",
    "    prob_post.append(p[0][1])\n",
    "\n",
    "submit5 = pd.concat([test_final, pd.DataFrame(data = prob_post, \\\n",
    "                                             columns = ['sepostulo'])],axis=1)\n",
    "del submit5['idaviso']\n",
    "del submit5['idpostulante']\n",
    "submit5.set_index('id', inplace = True)\n",
    "submit5.to_csv('./submits/submit_svc1.csv', encoding='utf-8')\n",
    "play_beep()"
   ]
  }
 ],
 "metadata": {
  "kernelspec": {
   "display_name": "Python 3",
   "language": "python",
   "name": "python3"
  },
  "language_info": {
   "codemirror_mode": {
    "name": "ipython",
    "version": 3
   },
   "file_extension": ".py",
   "mimetype": "text/x-python",
   "name": "python",
   "nbconvert_exporter": "python",
   "pygments_lexer": "ipython3",
   "version": "3.6.5"
  }
 },
 "nbformat": 4,
 "nbformat_minor": 2
}
